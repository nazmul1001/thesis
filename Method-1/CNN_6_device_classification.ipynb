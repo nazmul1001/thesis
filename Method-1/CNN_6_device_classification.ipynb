{
 "cells": [
  {
   "cell_type": "code",
   "execution_count": 1,
   "id": "094deb3d",
   "metadata": {},
   "outputs": [],
   "source": [
    "# import tensorflow as tf\n",
    "# from tensorflow.python.client import device_lib\n",
    "\n",
    "# print(\"Num GPUs Available: \", len(tf.config.list_physical_devices('GPU')))\n",
    "# device_lib.list_local_devices()\n"
   ]
  },
  {
   "cell_type": "code",
   "execution_count": 2,
   "id": "proud-amount",
   "metadata": {},
   "outputs": [],
   "source": [
    "import pandas as pd\n",
    "import matplotlib.pyplot as plt\n",
    "import numpy as np\n",
    "import os\n",
    "import tensorflow as tf\n",
    "from tensorflow.keras import layers\n",
    "from sklearn.preprocessing import StandardScaler, MinMaxScaler\n",
    "from tensorflow.keras.models import Sequential\n",
    "from sklearn.metrics import plot_confusion_matrix, ConfusionMatrixDisplay, confusion_matrix, classification_report"
   ]
  },
  {
   "cell_type": "code",
   "execution_count": 3,
   "id": "vocational-ballot",
   "metadata": {},
   "outputs": [
    {
     "data": {
      "text/plain": [
       "'D:\\\\Rostock-Masters\\\\Thesis\\\\Test'"
      ]
     },
     "execution_count": 3,
     "metadata": {},
     "output_type": "execute_result"
    }
   ],
   "source": [
    "data_dir = (r'D:\\Rostock-Masters\\Thesis\\Test')\n",
    "data_dir"
   ]
  },
  {
   "cell_type": "code",
   "execution_count": 4,
   "id": "flying-sperm",
   "metadata": {
    "scrolled": true
   },
   "outputs": [
    {
     "data": {
      "text/plain": [
       "WindowsPath('D:/Rostock-Masters/Thesis/Test')"
      ]
     },
     "execution_count": 4,
     "metadata": {},
     "output_type": "execute_result"
    }
   ],
   "source": [
    "import pathlib\n",
    "data_dir = pathlib.Path(data_dir)\n",
    "data_dir"
   ]
  },
  {
   "cell_type": "code",
   "execution_count": 5,
   "id": "chief-webcam",
   "metadata": {},
   "outputs": [],
   "source": [
    "file_name_dict = {\n",
    "    'Device_1' : list(data_dir.glob('Device_1/*.csv')),\n",
    "    'Device_2' : list(data_dir.glob('Device_2/*.csv')),\n",
    "    'Device_3' : list(data_dir.glob('Device_3/*.csv')),\n",
    "    'Device_4' : list(data_dir.glob('Device_4/*.csv')),\n",
    "    'Device_5' : list(data_dir.glob('Device_5/*.csv')),\n",
    "    'Device_6' : list(data_dir.glob('Device_6/*.csv'))\n",
    "}"
   ]
  },
  {
   "cell_type": "code",
   "execution_count": 6,
   "id": "arranged-reducing",
   "metadata": {},
   "outputs": [],
   "source": [
    "file_label_dict = {\n",
    "    'Device_1' : 0,\n",
    "    'Device_2' : 1,\n",
    "    'Device_3' : 2,\n",
    "    'Device_4' : 3,\n",
    "    'Device_5' : 4,\n",
    "    'Device_6' : 5,\n",
    "}"
   ]
  },
  {
   "cell_type": "code",
   "execution_count": 7,
   "id": "political-nickname",
   "metadata": {},
   "outputs": [
    {
     "data": {
      "text/plain": [
       "100"
      ]
     },
     "execution_count": 7,
     "metadata": {},
     "output_type": "execute_result"
    }
   ],
   "source": [
    "len(file_name_dict['Device_4'])"
   ]
  },
  {
   "cell_type": "code",
   "execution_count": 8,
   "id": "improving-slope",
   "metadata": {},
   "outputs": [
    {
     "data": {
      "text/plain": [
       "'D:\\\\Rostock-Masters\\\\Thesis\\\\Test\\\\device_3\\\\3_8_5_3_8_5-1.csv'"
      ]
     },
     "execution_count": 8,
     "metadata": {},
     "output_type": "execute_result"
    }
   ],
   "source": [
    "str(file_name_dict['Device_3'][0])"
   ]
  },
  {
   "cell_type": "markdown",
   "id": "superb-patent",
   "metadata": {},
   "source": [
    "### Classification"
   ]
  },
  {
   "cell_type": "code",
   "execution_count": 9,
   "id": "random-warehouse",
   "metadata": {},
   "outputs": [],
   "source": [
    "file_name_dict_2 = {\n",
    "    'Device_1' : list(data_dir.glob('Device_1/*.csv')),\n",
    "    'Device_2' : list(data_dir.glob('Device_2/*.csv'))\n",
    "}"
   ]
  },
  {
   "cell_type": "code",
   "execution_count": 10,
   "id": "aquatic-model",
   "metadata": {},
   "outputs": [],
   "source": [
    "file_label_dict_2 = {\n",
    "    'Device_1' : 0,\n",
    "    'Device_2' : 1\n",
    "}"
   ]
  },
  {
   "cell_type": "code",
   "execution_count": 11,
   "id": "affected-survival",
   "metadata": {
    "scrolled": true
   },
   "outputs": [
    {
     "data": {
      "text/html": [
       "<div>\n",
       "<style scoped>\n",
       "    .dataframe tbody tr th:only-of-type {\n",
       "        vertical-align: middle;\n",
       "    }\n",
       "\n",
       "    .dataframe tbody tr th {\n",
       "        vertical-align: top;\n",
       "    }\n",
       "\n",
       "    .dataframe thead th {\n",
       "        text-align: right;\n",
       "    }\n",
       "</style>\n",
       "<table border=\"1\" class=\"dataframe\">\n",
       "  <thead>\n",
       "    <tr style=\"text-align: right;\">\n",
       "      <th></th>\n",
       "      <th>time</th>\n",
       "      <th>voltage</th>\n",
       "    </tr>\n",
       "  </thead>\n",
       "  <tbody>\n",
       "    <tr>\n",
       "      <th>0</th>\n",
       "      <td>0.0</td>\n",
       "      <td>32.965541</td>\n",
       "    </tr>\n",
       "    <tr>\n",
       "      <th>1</th>\n",
       "      <td>0.5</td>\n",
       "      <td>32.914965</td>\n",
       "    </tr>\n",
       "    <tr>\n",
       "      <th>2</th>\n",
       "      <td>1.0</td>\n",
       "      <td>32.904850</td>\n",
       "    </tr>\n",
       "    <tr>\n",
       "      <th>3</th>\n",
       "      <td>1.5</td>\n",
       "      <td>32.864389</td>\n",
       "    </tr>\n",
       "    <tr>\n",
       "      <th>4</th>\n",
       "      <td>2.0</td>\n",
       "      <td>32.854273</td>\n",
       "    </tr>\n",
       "  </tbody>\n",
       "</table>\n",
       "</div>"
      ],
      "text/plain": [
       "   time    voltage\n",
       "0   0.0  32.965541\n",
       "1   0.5  32.914965\n",
       "2   1.0  32.904850\n",
       "3   1.5  32.864389\n",
       "4   2.0  32.854273"
      ]
     },
     "execution_count": 11,
     "metadata": {},
     "output_type": "execute_result"
    }
   ],
   "source": [
    "df= pd.read_csv('3_8_1_3_8_1-1.csv')\n",
    "df.columns = ['time', 'voltage']\n",
    "df.head()"
   ]
  },
  {
   "cell_type": "code",
   "execution_count": 12,
   "id": "varying-editor",
   "metadata": {
    "scrolled": false
   },
   "outputs": [
    {
     "data": {
      "text/html": [
       "<div>\n",
       "<style scoped>\n",
       "    .dataframe tbody tr th:only-of-type {\n",
       "        vertical-align: middle;\n",
       "    }\n",
       "\n",
       "    .dataframe tbody tr th {\n",
       "        vertical-align: top;\n",
       "    }\n",
       "\n",
       "    .dataframe thead th {\n",
       "        text-align: right;\n",
       "    }\n",
       "</style>\n",
       "<table border=\"1\" class=\"dataframe\">\n",
       "  <thead>\n",
       "    <tr style=\"text-align: right;\">\n",
       "      <th></th>\n",
       "      <th>time</th>\n",
       "      <th>voltage</th>\n",
       "      <th>MA</th>\n",
       "    </tr>\n",
       "  </thead>\n",
       "  <tbody>\n",
       "    <tr>\n",
       "      <th>0</th>\n",
       "      <td>0.0</td>\n",
       "      <td>32.965541</td>\n",
       "      <td>32.965541</td>\n",
       "    </tr>\n",
       "    <tr>\n",
       "      <th>1</th>\n",
       "      <td>0.5</td>\n",
       "      <td>32.914965</td>\n",
       "      <td>32.940253</td>\n",
       "    </tr>\n",
       "    <tr>\n",
       "      <th>2</th>\n",
       "      <td>1.0</td>\n",
       "      <td>32.904850</td>\n",
       "      <td>32.928452</td>\n",
       "    </tr>\n",
       "    <tr>\n",
       "      <th>3</th>\n",
       "      <td>1.5</td>\n",
       "      <td>32.864389</td>\n",
       "      <td>32.912436</td>\n",
       "    </tr>\n",
       "    <tr>\n",
       "      <th>4</th>\n",
       "      <td>2.0</td>\n",
       "      <td>32.854273</td>\n",
       "      <td>32.900804</td>\n",
       "    </tr>\n",
       "  </tbody>\n",
       "</table>\n",
       "</div>"
      ],
      "text/plain": [
       "   time    voltage         MA\n",
       "0   0.0  32.965541  32.965541\n",
       "1   0.5  32.914965  32.940253\n",
       "2   1.0  32.904850  32.928452\n",
       "3   1.5  32.864389  32.912436\n",
       "4   2.0  32.854273  32.900804"
      ]
     },
     "execution_count": 12,
     "metadata": {},
     "output_type": "execute_result"
    }
   ],
   "source": [
    "df['MA'] = df['voltage'].rolling(10,min_periods=0).mean()\n",
    "df.head()"
   ]
  },
  {
   "cell_type": "markdown",
   "id": "precise-inspection",
   "metadata": {},
   "source": [
    "### Preprocessing"
   ]
  },
  {
   "cell_type": "code",
   "execution_count": 14,
   "id": "announced-hygiene",
   "metadata": {},
   "outputs": [],
   "source": [
    "device_list, device_label = [],[]   #compressed\n",
    "\n",
    "for device_name, folder in file_name_dict.items():\n",
    "    for file in folder:\n",
    "        file_df = pd.read_csv(str(file))\n",
    "        file_df.columns = ['time', 'voltage']\n",
    "        \n",
    "        #Replacing originial values with moving average values\n",
    "        file_df['MA'] = file_df['voltage'].rolling(10,min_periods=0).mean()# moving average\n",
    "        file_df= file_df.drop('voltage',axis=1)\n",
    "        file_df.rename(columns={'MA':'voltage'},inplace=True)\n",
    "        \n",
    "        #Split and shift function\n",
    "        threshold = file_df['voltage'].diff().gt(1)\n",
    "        group = (threshold&~threshold.shift(fill_value=False)).cumsum().add(1)\n",
    "        time= lambda i: i['time'].groupby(group).apply(lambda j: j- j.iloc[0])\n",
    "        df_2 = (file_df.assign(bit=group,time=time).pivot(index='bit', columns='time', values='voltage'))\n",
    "        df_3 = df_2.copy()\n",
    "        df_3.reset_index(drop=True, inplace=True)\n",
    "        df_3 = df_3.rename_axis(None, axis=1)\n",
    "\n",
    "        #Compressing to  10 rows 100 columns\n",
    "        df_4=df_3.iloc[:10, :100]\n",
    "        \n",
    "        #Filling out empty cells\n",
    "        df_4= df_4.fillna(method='pad')\n",
    "        device_list.append(df_4)\n",
    "        device_label.append(file_label_dict[device_name])"
   ]
  },
  {
   "cell_type": "code",
   "execution_count": 15,
   "id": "answering-clothing",
   "metadata": {},
   "outputs": [],
   "source": [
    "# # #Saving files to folder\n",
    "# for i in range (len(device_list)):\n",
    "#         device_list[i].to_csv('after_MA/file-{}.csv'.format(i))"
   ]
  },
  {
   "cell_type": "code",
   "execution_count": 16,
   "id": "indian-simulation",
   "metadata": {
    "scrolled": true
   },
   "outputs": [
    {
     "data": {
      "text/html": [
       "<div>\n",
       "<style scoped>\n",
       "    .dataframe tbody tr th:only-of-type {\n",
       "        vertical-align: middle;\n",
       "    }\n",
       "\n",
       "    .dataframe tbody tr th {\n",
       "        vertical-align: top;\n",
       "    }\n",
       "\n",
       "    .dataframe thead th {\n",
       "        text-align: right;\n",
       "    }\n",
       "</style>\n",
       "<table border=\"1\" class=\"dataframe\">\n",
       "  <thead>\n",
       "    <tr style=\"text-align: right;\">\n",
       "      <th></th>\n",
       "      <th>0.0</th>\n",
       "      <th>0.5</th>\n",
       "      <th>1.0</th>\n",
       "      <th>1.5</th>\n",
       "      <th>2.0</th>\n",
       "      <th>2.5</th>\n",
       "      <th>3.0</th>\n",
       "      <th>3.5</th>\n",
       "      <th>4.0</th>\n",
       "      <th>4.5</th>\n",
       "      <th>...</th>\n",
       "      <th>45.0</th>\n",
       "      <th>45.5</th>\n",
       "      <th>46.0</th>\n",
       "      <th>46.5</th>\n",
       "      <th>47.0</th>\n",
       "      <th>47.5</th>\n",
       "      <th>48.0</th>\n",
       "      <th>48.5</th>\n",
       "      <th>49.0</th>\n",
       "      <th>49.5</th>\n",
       "    </tr>\n",
       "  </thead>\n",
       "  <tbody>\n",
       "    <tr>\n",
       "      <th>0</th>\n",
       "      <td>31.215606</td>\n",
       "      <td>31.210548</td>\n",
       "      <td>31.208862</td>\n",
       "      <td>31.197904</td>\n",
       "      <td>31.197399</td>\n",
       "      <td>31.183574</td>\n",
       "      <td>31.179480</td>\n",
       "      <td>31.159972</td>\n",
       "      <td>31.148171</td>\n",
       "      <td>31.128615</td>\n",
       "      <td>...</td>\n",
       "      <td>28.879999</td>\n",
       "      <td>28.111241</td>\n",
       "      <td>27.202893</td>\n",
       "      <td>26.407836</td>\n",
       "      <td>25.586479</td>\n",
       "      <td>24.800526</td>\n",
       "      <td>24.008503</td>\n",
       "      <td>23.209400</td>\n",
       "      <td>22.404227</td>\n",
       "      <td>21.782141</td>\n",
       "    </tr>\n",
       "    <tr>\n",
       "      <th>1</th>\n",
       "      <td>26.825595</td>\n",
       "      <td>27.934225</td>\n",
       "      <td>29.085338</td>\n",
       "      <td>30.257693</td>\n",
       "      <td>31.256067</td>\n",
       "      <td>31.861969</td>\n",
       "      <td>32.409203</td>\n",
       "      <td>32.794594</td>\n",
       "      <td>33.128396</td>\n",
       "      <td>33.423761</td>\n",
       "      <td>...</td>\n",
       "      <td>31.417911</td>\n",
       "      <td>31.389588</td>\n",
       "      <td>31.363288</td>\n",
       "      <td>31.336989</td>\n",
       "      <td>31.307655</td>\n",
       "      <td>31.278320</td>\n",
       "      <td>31.251009</td>\n",
       "      <td>31.221675</td>\n",
       "      <td>31.197399</td>\n",
       "      <td>31.168064</td>\n",
       "    </tr>\n",
       "    <tr>\n",
       "      <th>2</th>\n",
       "      <td>25.914213</td>\n",
       "      <td>26.991485</td>\n",
       "      <td>28.108207</td>\n",
       "      <td>29.280562</td>\n",
       "      <td>30.477194</td>\n",
       "      <td>31.504902</td>\n",
       "      <td>32.124965</td>\n",
       "      <td>32.688384</td>\n",
       "      <td>33.072763</td>\n",
       "      <td>33.418703</td>\n",
       "      <td>...</td>\n",
       "      <td>31.617181</td>\n",
       "      <td>31.585823</td>\n",
       "      <td>31.554466</td>\n",
       "      <td>31.523109</td>\n",
       "      <td>31.494786</td>\n",
       "      <td>31.464441</td>\n",
       "      <td>31.437130</td>\n",
       "      <td>31.407795</td>\n",
       "      <td>31.383519</td>\n",
       "      <td>31.355196</td>\n",
       "    </tr>\n",
       "    <tr>\n",
       "      <th>3</th>\n",
       "      <td>25.863637</td>\n",
       "      <td>26.987439</td>\n",
       "      <td>28.104161</td>\n",
       "      <td>29.290677</td>\n",
       "      <td>30.502482</td>\n",
       "      <td>31.547386</td>\n",
       "      <td>32.178576</td>\n",
       "      <td>32.745029</td>\n",
       "      <td>33.145592</td>\n",
       "      <td>33.491533</td>\n",
       "      <td>...</td>\n",
       "      <td>31.683941</td>\n",
       "      <td>31.647526</td>\n",
       "      <td>31.623250</td>\n",
       "      <td>31.585823</td>\n",
       "      <td>31.558512</td>\n",
       "      <td>31.522097</td>\n",
       "      <td>31.502879</td>\n",
       "      <td>31.465452</td>\n",
       "      <td>31.445222</td>\n",
       "      <td>31.405772</td>\n",
       "    </tr>\n",
       "    <tr>\n",
       "      <th>4</th>\n",
       "      <td>25.966812</td>\n",
       "      <td>27.041050</td>\n",
       "      <td>28.195198</td>\n",
       "      <td>29.364518</td>\n",
       "      <td>30.577335</td>\n",
       "      <td>31.619204</td>\n",
       "      <td>32.241290</td>\n",
       "      <td>32.812801</td>\n",
       "      <td>33.208307</td>\n",
       "      <td>33.551213</td>\n",
       "      <td>...</td>\n",
       "      <td>31.685964</td>\n",
       "      <td>31.657642</td>\n",
       "      <td>31.625273</td>\n",
       "      <td>31.596950</td>\n",
       "      <td>31.566604</td>\n",
       "      <td>31.543339</td>\n",
       "      <td>31.511982</td>\n",
       "      <td>31.485683</td>\n",
       "      <td>31.452302</td>\n",
       "      <td>31.430049</td>\n",
       "    </tr>\n",
       "    <tr>\n",
       "      <th>5</th>\n",
       "      <td>28.425825</td>\n",
       "      <td>29.490959</td>\n",
       "      <td>30.418526</td>\n",
       "      <td>30.969806</td>\n",
       "      <td>31.482648</td>\n",
       "      <td>31.846796</td>\n",
       "      <td>32.150253</td>\n",
       "      <td>32.431457</td>\n",
       "      <td>32.671188</td>\n",
       "      <td>32.889677</td>\n",
       "      <td>...</td>\n",
       "      <td>30.839319</td>\n",
       "      <td>30.812008</td>\n",
       "      <td>30.789755</td>\n",
       "      <td>30.760420</td>\n",
       "      <td>30.742213</td>\n",
       "      <td>30.718948</td>\n",
       "      <td>30.698718</td>\n",
       "      <td>30.674441</td>\n",
       "      <td>30.654211</td>\n",
       "      <td>30.631957</td>\n",
       "    </tr>\n",
       "    <tr>\n",
       "      <th>6</th>\n",
       "      <td>27.431498</td>\n",
       "      <td>28.444032</td>\n",
       "      <td>29.510178</td>\n",
       "      <td>30.455952</td>\n",
       "      <td>31.012290</td>\n",
       "      <td>31.533224</td>\n",
       "      <td>31.890292</td>\n",
       "      <td>32.199818</td>\n",
       "      <td>32.460791</td>\n",
       "      <td>32.705580</td>\n",
       "      <td>...</td>\n",
       "      <td>30.854492</td>\n",
       "      <td>30.829204</td>\n",
       "      <td>30.798858</td>\n",
       "      <td>30.777616</td>\n",
       "      <td>30.750305</td>\n",
       "      <td>30.716925</td>\n",
       "      <td>30.698718</td>\n",
       "      <td>30.667360</td>\n",
       "      <td>30.648141</td>\n",
       "      <td>30.622853</td>\n",
       "    </tr>\n",
       "    <tr>\n",
       "      <th>7</th>\n",
       "      <td>26.692074</td>\n",
       "      <td>27.777439</td>\n",
       "      <td>28.921471</td>\n",
       "      <td>30.090792</td>\n",
       "      <td>31.146822</td>\n",
       "      <td>31.760817</td>\n",
       "      <td>32.340420</td>\n",
       "      <td>32.732891</td>\n",
       "      <td>33.071751</td>\n",
       "      <td>33.382289</td>\n",
       "      <td>...</td>\n",
       "      <td>31.407795</td>\n",
       "      <td>31.379473</td>\n",
       "      <td>31.333954</td>\n",
       "      <td>31.317770</td>\n",
       "      <td>31.272251</td>\n",
       "      <td>31.251009</td>\n",
       "      <td>31.219652</td>\n",
       "      <td>31.193352</td>\n",
       "      <td>31.169076</td>\n",
       "      <td>31.137719</td>\n",
       "    </tr>\n",
       "    <tr>\n",
       "      <th>8</th>\n",
       "      <td>25.795865</td>\n",
       "      <td>26.868079</td>\n",
       "      <td>27.993905</td>\n",
       "      <td>29.155133</td>\n",
       "      <td>30.347719</td>\n",
       "      <td>31.432072</td>\n",
       "      <td>32.057193</td>\n",
       "      <td>32.649946</td>\n",
       "      <td>33.044440</td>\n",
       "      <td>33.400496</td>\n",
       "      <td>...</td>\n",
       "      <td>31.611111</td>\n",
       "      <td>31.581777</td>\n",
       "      <td>31.551432</td>\n",
       "      <td>31.520074</td>\n",
       "      <td>31.493775</td>\n",
       "      <td>31.461406</td>\n",
       "      <td>31.428026</td>\n",
       "      <td>31.397680</td>\n",
       "      <td>31.372392</td>\n",
       "      <td>31.343058</td>\n",
       "    </tr>\n",
       "    <tr>\n",
       "      <th>9</th>\n",
       "      <td>25.720000</td>\n",
       "      <td>26.826607</td>\n",
       "      <td>27.948386</td>\n",
       "      <td>29.138949</td>\n",
       "      <td>30.339627</td>\n",
       "      <td>31.449268</td>\n",
       "      <td>32.086527</td>\n",
       "      <td>32.690407</td>\n",
       "      <td>33.101085</td>\n",
       "      <td>33.452084</td>\n",
       "      <td>...</td>\n",
       "      <td>31.675849</td>\n",
       "      <td>31.644492</td>\n",
       "      <td>31.605042</td>\n",
       "      <td>31.577731</td>\n",
       "      <td>31.543339</td>\n",
       "      <td>31.517040</td>\n",
       "      <td>31.485683</td>\n",
       "      <td>31.453314</td>\n",
       "      <td>31.429037</td>\n",
       "      <td>31.398692</td>\n",
       "    </tr>\n",
       "  </tbody>\n",
       "</table>\n",
       "<p>10 rows × 100 columns</p>\n",
       "</div>"
      ],
      "text/plain": [
       "        0.0        0.5        1.0        1.5        2.0        2.5   \\\n",
       "0  31.215606  31.210548  31.208862  31.197904  31.197399  31.183574   \n",
       "1  26.825595  27.934225  29.085338  30.257693  31.256067  31.861969   \n",
       "2  25.914213  26.991485  28.108207  29.280562  30.477194  31.504902   \n",
       "3  25.863637  26.987439  28.104161  29.290677  30.502482  31.547386   \n",
       "4  25.966812  27.041050  28.195198  29.364518  30.577335  31.619204   \n",
       "5  28.425825  29.490959  30.418526  30.969806  31.482648  31.846796   \n",
       "6  27.431498  28.444032  29.510178  30.455952  31.012290  31.533224   \n",
       "7  26.692074  27.777439  28.921471  30.090792  31.146822  31.760817   \n",
       "8  25.795865  26.868079  27.993905  29.155133  30.347719  31.432072   \n",
       "9  25.720000  26.826607  27.948386  29.138949  30.339627  31.449268   \n",
       "\n",
       "        3.0        3.5        4.0        4.5   ...       45.0       45.5  \\\n",
       "0  31.179480  31.159972  31.148171  31.128615  ...  28.879999  28.111241   \n",
       "1  32.409203  32.794594  33.128396  33.423761  ...  31.417911  31.389588   \n",
       "2  32.124965  32.688384  33.072763  33.418703  ...  31.617181  31.585823   \n",
       "3  32.178576  32.745029  33.145592  33.491533  ...  31.683941  31.647526   \n",
       "4  32.241290  32.812801  33.208307  33.551213  ...  31.685964  31.657642   \n",
       "5  32.150253  32.431457  32.671188  32.889677  ...  30.839319  30.812008   \n",
       "6  31.890292  32.199818  32.460791  32.705580  ...  30.854492  30.829204   \n",
       "7  32.340420  32.732891  33.071751  33.382289  ...  31.407795  31.379473   \n",
       "8  32.057193  32.649946  33.044440  33.400496  ...  31.611111  31.581777   \n",
       "9  32.086527  32.690407  33.101085  33.452084  ...  31.675849  31.644492   \n",
       "\n",
       "        46.0       46.5       47.0       47.5       48.0       48.5  \\\n",
       "0  27.202893  26.407836  25.586479  24.800526  24.008503  23.209400   \n",
       "1  31.363288  31.336989  31.307655  31.278320  31.251009  31.221675   \n",
       "2  31.554466  31.523109  31.494786  31.464441  31.437130  31.407795   \n",
       "3  31.623250  31.585823  31.558512  31.522097  31.502879  31.465452   \n",
       "4  31.625273  31.596950  31.566604  31.543339  31.511982  31.485683   \n",
       "5  30.789755  30.760420  30.742213  30.718948  30.698718  30.674441   \n",
       "6  30.798858  30.777616  30.750305  30.716925  30.698718  30.667360   \n",
       "7  31.333954  31.317770  31.272251  31.251009  31.219652  31.193352   \n",
       "8  31.551432  31.520074  31.493775  31.461406  31.428026  31.397680   \n",
       "9  31.605042  31.577731  31.543339  31.517040  31.485683  31.453314   \n",
       "\n",
       "        49.0       49.5  \n",
       "0  22.404227  21.782141  \n",
       "1  31.197399  31.168064  \n",
       "2  31.383519  31.355196  \n",
       "3  31.445222  31.405772  \n",
       "4  31.452302  31.430049  \n",
       "5  30.654211  30.631957  \n",
       "6  30.648141  30.622853  \n",
       "7  31.169076  31.137719  \n",
       "8  31.372392  31.343058  \n",
       "9  31.429037  31.398692  \n",
       "\n",
       "[10 rows x 100 columns]"
      ]
     },
     "execution_count": 16,
     "metadata": {},
     "output_type": "execute_result"
    }
   ],
   "source": [
    "device_list[420]"
   ]
  },
  {
   "cell_type": "code",
   "execution_count": 17,
   "id": "appreciated-worse",
   "metadata": {},
   "outputs": [
    {
     "data": {
      "text/plain": [
       "600"
      ]
     },
     "execution_count": 17,
     "metadata": {},
     "output_type": "execute_result"
    }
   ],
   "source": [
    "len(device_list)"
   ]
  },
  {
   "cell_type": "code",
   "execution_count": 18,
   "id": "loving-kidney",
   "metadata": {},
   "outputs": [
    {
     "data": {
      "text/plain": [
       "600"
      ]
     },
     "execution_count": 18,
     "metadata": {},
     "output_type": "execute_result"
    }
   ],
   "source": [
    "len(device_label)"
   ]
  },
  {
   "cell_type": "code",
   "execution_count": 19,
   "id": "civilian-celebrity",
   "metadata": {
    "scrolled": true
   },
   "outputs": [
    {
     "data": {
      "text/plain": [
       "(10, 100)"
      ]
     },
     "execution_count": 19,
     "metadata": {},
     "output_type": "execute_result"
    }
   ],
   "source": [
    "device_list[120].shape"
   ]
  },
  {
   "cell_type": "code",
   "execution_count": 20,
   "id": "romantic-bedroom",
   "metadata": {},
   "outputs": [
    {
     "data": {
      "text/plain": [
       "{0, 1, 2, 3, 4, 5}"
      ]
     },
     "execution_count": 20,
     "metadata": {},
     "output_type": "execute_result"
    }
   ],
   "source": [
    "#Find unique values in device label\n",
    "device_label_set= set(device_label)\n",
    "device_label_set"
   ]
  },
  {
   "cell_type": "code",
   "execution_count": 21,
   "id": "underlying-franchise",
   "metadata": {},
   "outputs": [
    {
     "data": {
      "text/plain": [
       "[3, 3, 3, 3, 3, 4, 4, 4, 4, 4]"
      ]
     },
     "execution_count": 21,
     "metadata": {},
     "output_type": "execute_result"
    }
   ],
   "source": [
    "device_label[395:405]"
   ]
  },
  {
   "cell_type": "code",
   "execution_count": 22,
   "id": "different-assistant",
   "metadata": {},
   "outputs": [],
   "source": [
    "#Converting to numpy array\n",
    "X = np.array(device_list)\n",
    "y = np.array(device_label)"
   ]
  },
  {
   "cell_type": "code",
   "execution_count": 56,
   "id": "3a72b9d7",
   "metadata": {},
   "outputs": [
    {
     "data": {
      "image/png": "[encoded data removed]",
      "text/plain": [
       "<Figure size 1080x720 with 1 Axes>"
      ]
     },
     "metadata": {
      "needs_background": "light"
     },
     "output_type": "display_data"
    }
   ],
   "source": [
    "plt.figure(figsize = (15, 10))\n",
    "plt.imshow(np.squeeze(X[1]),cmap='gray' )# cmap='gray'\n",
    "plt.axis('off')\n",
    "plt.subplots_adjust(left=0.1,bottom=0.1,right=0.9,top=0.9,wspace=0.4,hspace=0.4)\n",
    "\n",
    "plt.savefig('time_series_greyscale.png', bbox_inches= 'tight',pad_inches = 0, dpi=300)\n",
    "plt.show()"
   ]
  },
  {
   "cell_type": "code",
   "execution_count": 23,
   "id": "opposed-highland",
   "metadata": {},
   "outputs": [],
   "source": [
    "#Train test split\n",
    "from sklearn.model_selection import train_test_split\n",
    "X_train, X_test, y_train, y_test = train_test_split(X, y, test_size= 0.30,random_state=42,stratify=y)"
   ]
  },
  {
   "cell_type": "code",
   "execution_count": 24,
   "id": "aggregate-charger",
   "metadata": {},
   "outputs": [
    {
     "data": {
      "text/plain": [
       "(420, 10, 100)"
      ]
     },
     "execution_count": 24,
     "metadata": {},
     "output_type": "execute_result"
    }
   ],
   "source": [
    "X_train.shape"
   ]
  },
  {
   "cell_type": "code",
   "execution_count": 25,
   "id": "divided-sampling",
   "metadata": {},
   "outputs": [
    {
     "data": {
      "text/plain": [
       "(180, 10, 100)"
      ]
     },
     "execution_count": 25,
     "metadata": {},
     "output_type": "execute_result"
    }
   ],
   "source": [
    "X_test.shape"
   ]
  },
  {
   "cell_type": "code",
   "execution_count": 26,
   "id": "meaningful-present",
   "metadata": {},
   "outputs": [
    {
     "data": {
      "text/plain": [
       "420"
      ]
     },
     "execution_count": 26,
     "metadata": {},
     "output_type": "execute_result"
    }
   ],
   "source": [
    "len(X_train)"
   ]
  },
  {
   "cell_type": "code",
   "execution_count": 27,
   "id": "bigger-indication",
   "metadata": {},
   "outputs": [],
   "source": [
    "#Adding 1 dimension\n",
    "X_train = X_train.reshape(X_train.shape[0],X_train.shape[1],X_train.shape[2],1)\n",
    "X_test = X_test.reshape(X_test.shape[0],X_test.shape[1],X_test.shape[2],1)"
   ]
  },
  {
   "cell_type": "code",
   "execution_count": 28,
   "id": "lesser-stereo",
   "metadata": {
    "scrolled": true
   },
   "outputs": [
    {
     "name": "stdout",
     "output_type": "stream",
     "text": [
      "Train tensor shape:  (420, 10, 100, 1)\n",
      "Test tensor shape:  (180, 10, 100, 1)\n",
      "Single image shape: (10, 100, 1)\n",
      "Train_labels shape: (420,)\n",
      "Test_labels shape: (180,)\n"
     ]
    }
   ],
   "source": [
    "#Print shapes\n",
    "print('Train tensor shape: ',X_train.shape)\n",
    "print('Test tensor shape: ',X_test.shape)\n",
    "print('Single image shape:', X_train[0].shape)\n",
    "print('Train_labels shape:', y_train.shape)\n",
    "print('Test_labels shape:', y_test.shape)"
   ]
  },
  {
   "cell_type": "code",
   "execution_count": 29,
   "id": "lesbian-currency",
   "metadata": {},
   "outputs": [],
   "source": [
    "#scaling data from 0 to 1\n",
    "X_train_scaled = X_train/36 #Max voltage value 36\n",
    "X_test_scaled = X_test/36"
   ]
  },
  {
   "cell_type": "code",
   "execution_count": 30,
   "id": "infrared-photography",
   "metadata": {},
   "outputs": [
    {
     "data": {
      "text/plain": [
       "(10, 100, 1)"
      ]
     },
     "execution_count": 30,
     "metadata": {},
     "output_type": "execute_result"
    }
   ],
   "source": [
    "X_train_scaled[101].shape"
   ]
  },
  {
   "cell_type": "code",
   "execution_count": 31,
   "id": "dental-dancing",
   "metadata": {},
   "outputs": [],
   "source": [
    "# X_train_scaled[419]"
   ]
  },
  {
   "cell_type": "code",
   "execution_count": 32,
   "id": "relative-anthony",
   "metadata": {},
   "outputs": [
    {
     "data": {
      "text/plain": [
       "array([0, 3, 2, 3, 2, 1, 1, 1, 5, 0, 5, 4, 0, 0, 2, 5, 1, 0, 2, 3])"
      ]
     },
     "execution_count": 32,
     "metadata": {},
     "output_type": "execute_result"
    }
   ],
   "source": [
    "y_test[5:25]"
   ]
  },
  {
   "cell_type": "code",
   "execution_count": 33,
   "id": "instant-newcastle",
   "metadata": {},
   "outputs": [
    {
     "name": "stdout",
     "output_type": "stream",
     "text": [
      "Model: \"sequential\"\n",
      "_________________________________________________________________\n",
      " Layer (type)                Output Shape              Param #   \n",
      "=================================================================\n",
      " conv2d (Conv2D)             (None, 10, 100, 8)        80        \n",
      "                                                                 \n",
      " max_pooling2d (MaxPooling2D  (None, 5, 50, 8)         0         \n",
      " )                                                               \n",
      "                                                                 \n",
      " conv2d_1 (Conv2D)           (None, 5, 50, 16)         1168      \n",
      "                                                                 \n",
      " max_pooling2d_1 (MaxPooling  (None, 2, 25, 16)        0         \n",
      " 2D)                                                             \n",
      "                                                                 \n",
      " conv2d_2 (Conv2D)           (None, 2, 25, 32)         4640      \n",
      "                                                                 \n",
      " max_pooling2d_2 (MaxPooling  (None, 1, 12, 32)        0         \n",
      " 2D)                                                             \n",
      "                                                                 \n",
      " flatten (Flatten)           (None, 384)               0         \n",
      "                                                                 \n",
      " dense (Dense)               (None, 64)                24640     \n",
      "                                                                 \n",
      " dense_1 (Dense)             (None, 128)               8320      \n",
      "                                                                 \n",
      " dense_2 (Dense)             (None, 6)                 774       \n",
      "                                                                 \n",
      "=================================================================\n",
      "Total params: 39,622\n",
      "Trainable params: 39,622\n",
      "Non-trainable params: 0\n",
      "_________________________________________________________________\n"
     ]
    }
   ],
   "source": [
    "#Set random seed\n",
    "tf.random.set_seed(42)\n",
    "model_2 = tf.keras.Sequential([\n",
    "    \n",
    "    tf.keras.layers.Conv2D(filters=8, kernel_size=3, strides=1, padding=\"same\", activation='relu',kernel_initializer='normal',\n",
    "                           input_shape=(X_train_scaled[0].shape)),\n",
    "    tf.keras.layers.MaxPool2D(pool_size=2),\n",
    "    \n",
    "    \n",
    "    tf.keras.layers.Conv2D(16,3, padding=\"same\", activation='relu',kernel_initializer='normal',),\n",
    "    tf.keras.layers.MaxPool2D(pool_size=2),\n",
    "    \n",
    "    tf.keras.layers.Conv2D(32,3, padding=\"same\", activation='relu',kernel_initializer='normal',),\n",
    "    tf.keras.layers.MaxPool2D(pool_size=2),\n",
    "    \n",
    "\n",
    "    \n",
    "    tf.keras.layers.Flatten(),\n",
    "    tf.keras.layers.Dense(64,activation='relu',kernel_initializer='normal',),\n",
    "    tf.keras.layers.Dense(128,activation='relu',kernel_initializer='normal',),\n",
    "    tf.keras.layers.Dense(6, activation= 'softmax') #Output layer\n",
    "\n",
    "])\n",
    "model_2.summary()"
   ]
  },
  {
   "cell_type": "code",
   "execution_count": 34,
   "id": "super-option",
   "metadata": {
    "scrolled": false
   },
   "outputs": [],
   "source": [
    "# tf.keras.utils.plot_model(model_2, show_shapes=True)"
   ]
  },
  {
   "cell_type": "code",
   "execution_count": 35,
   "id": "brilliant-physics",
   "metadata": {},
   "outputs": [
    {
     "name": "stdout",
     "output_type": "stream",
     "text": [
      "Epoch 1/300\n",
      "11/11 [==============================] - 8s 38ms/step - loss: 1.7920 - accuracy: 0.1399 - val_loss: 1.7936 - val_accuracy: 0.1071\n",
      "Epoch 2/300\n",
      "11/11 [==============================] - 0s 5ms/step - loss: 1.7914 - accuracy: 0.1815 - val_loss: 1.7942 - val_accuracy: 0.1071\n",
      "Epoch 3/300\n",
      "11/11 [==============================] - 0s 5ms/step - loss: 1.7912 - accuracy: 0.1815 - val_loss: 1.7957 - val_accuracy: 0.1071\n",
      "Epoch 4/300\n",
      "11/11 [==============================] - 0s 5ms/step - loss: 1.7911 - accuracy: 0.1815 - val_loss: 1.7994 - val_accuracy: 0.1071\n",
      "Epoch 5/300\n",
      "11/11 [==============================] - 0s 5ms/step - loss: 1.7908 - accuracy: 0.1815 - val_loss: 1.8010 - val_accuracy: 0.1071\n",
      "Epoch 6/300\n",
      "11/11 [==============================] - 0s 5ms/step - loss: 1.7904 - accuracy: 0.1815 - val_loss: 1.8028 - val_accuracy: 0.1071\n",
      "Epoch 7/300\n",
      "11/11 [==============================] - 0s 5ms/step - loss: 1.7920 - accuracy: 0.1815 - val_loss: 1.8059 - val_accuracy: 0.1071\n",
      "Epoch 8/300\n",
      "11/11 [==============================] - 0s 5ms/step - loss: 1.7907 - accuracy: 0.1815 - val_loss: 1.8067 - val_accuracy: 0.1071\n",
      "Epoch 9/300\n",
      "11/11 [==============================] - 0s 5ms/step - loss: 1.7904 - accuracy: 0.1815 - val_loss: 1.8060 - val_accuracy: 0.1071\n",
      "Epoch 10/300\n",
      "11/11 [==============================] - 0s 5ms/step - loss: 1.7902 - accuracy: 0.1815 - val_loss: 1.8062 - val_accuracy: 0.1071\n",
      "Epoch 11/300\n",
      "11/11 [==============================] - 0s 7ms/step - loss: 1.7902 - accuracy: 0.1815 - val_loss: 1.8041 - val_accuracy: 0.1071\n",
      "Epoch 12/300\n",
      "11/11 [==============================] - 0s 7ms/step - loss: 1.7902 - accuracy: 0.1815 - val_loss: 1.8052 - val_accuracy: 0.1071\n",
      "Epoch 13/300\n",
      "11/11 [==============================] - 0s 6ms/step - loss: 1.7903 - accuracy: 0.1815 - val_loss: 1.8045 - val_accuracy: 0.1071\n",
      "Epoch 14/300\n",
      "11/11 [==============================] - 0s 5ms/step - loss: 1.7902 - accuracy: 0.1815 - val_loss: 1.8047 - val_accuracy: 0.1071\n",
      "Epoch 15/300\n",
      "11/11 [==============================] - 0s 5ms/step - loss: 1.7902 - accuracy: 0.1815 - val_loss: 1.8062 - val_accuracy: 0.1071\n",
      "Epoch 16/300\n",
      "11/11 [==============================] - 0s 5ms/step - loss: 1.7901 - accuracy: 0.1815 - val_loss: 1.8060 - val_accuracy: 0.1071\n",
      "Epoch 17/300\n",
      "11/11 [==============================] - 0s 6ms/step - loss: 1.7902 - accuracy: 0.1815 - val_loss: 1.8087 - val_accuracy: 0.1071\n",
      "Epoch 18/300\n",
      "11/11 [==============================] - 0s 6ms/step - loss: 1.7902 - accuracy: 0.1815 - val_loss: 1.8065 - val_accuracy: 0.1071\n",
      "Epoch 19/300\n",
      "11/11 [==============================] - 0s 6ms/step - loss: 1.7901 - accuracy: 0.1815 - val_loss: 1.8084 - val_accuracy: 0.1071\n",
      "Epoch 20/300\n",
      "11/11 [==============================] - 0s 5ms/step - loss: 1.7899 - accuracy: 0.1815 - val_loss: 1.8092 - val_accuracy: 0.1071\n",
      "Epoch 21/300\n",
      "11/11 [==============================] - 0s 5ms/step - loss: 1.7900 - accuracy: 0.1815 - val_loss: 1.8089 - val_accuracy: 0.1071\n",
      "Epoch 22/300\n",
      "11/11 [==============================] - 0s 5ms/step - loss: 1.7906 - accuracy: 0.1815 - val_loss: 1.8084 - val_accuracy: 0.1071\n",
      "Epoch 23/300\n",
      "11/11 [==============================] - 0s 5ms/step - loss: 1.7901 - accuracy: 0.1815 - val_loss: 1.8100 - val_accuracy: 0.1071\n",
      "Epoch 24/300\n",
      "11/11 [==============================] - 0s 5ms/step - loss: 1.7902 - accuracy: 0.1815 - val_loss: 1.8078 - val_accuracy: 0.1071\n",
      "Epoch 25/300\n",
      "11/11 [==============================] - 0s 6ms/step - loss: 1.7908 - accuracy: 0.1815 - val_loss: 1.8107 - val_accuracy: 0.1071\n",
      "Epoch 26/300\n",
      "11/11 [==============================] - 0s 5ms/step - loss: 1.7902 - accuracy: 0.1815 - val_loss: 1.8105 - val_accuracy: 0.1071\n",
      "Epoch 27/300\n",
      "11/11 [==============================] - 0s 6ms/step - loss: 1.7899 - accuracy: 0.1815 - val_loss: 1.8068 - val_accuracy: 0.1071\n",
      "Epoch 28/300\n",
      "11/11 [==============================] - 0s 6ms/step - loss: 1.7901 - accuracy: 0.1815 - val_loss: 1.8068 - val_accuracy: 0.1071\n",
      "Epoch 29/300\n",
      "11/11 [==============================] - 0s 6ms/step - loss: 1.7903 - accuracy: 0.1815 - val_loss: 1.8053 - val_accuracy: 0.1071\n",
      "Epoch 30/300\n",
      "11/11 [==============================] - 0s 5ms/step - loss: 1.7901 - accuracy: 0.1815 - val_loss: 1.8055 - val_accuracy: 0.1071\n",
      "Epoch 31/300\n",
      "11/11 [==============================] - 0s 5ms/step - loss: 1.7900 - accuracy: 0.1815 - val_loss: 1.8058 - val_accuracy: 0.1071\n",
      "Epoch 32/300\n",
      "11/11 [==============================] - 0s 5ms/step - loss: 1.7901 - accuracy: 0.1815 - val_loss: 1.8063 - val_accuracy: 0.1071\n",
      "Epoch 33/300\n",
      "11/11 [==============================] - 0s 5ms/step - loss: 1.7904 - accuracy: 0.1815 - val_loss: 1.8089 - val_accuracy: 0.1071\n",
      "Epoch 34/300\n",
      "11/11 [==============================] - 0s 5ms/step - loss: 1.7903 - accuracy: 0.1815 - val_loss: 1.8083 - val_accuracy: 0.1071\n",
      "Epoch 35/300\n",
      "11/11 [==============================] - 0s 5ms/step - loss: 1.7905 - accuracy: 0.1815 - val_loss: 1.8049 - val_accuracy: 0.1071\n",
      "Epoch 36/300\n",
      "11/11 [==============================] - 0s 5ms/step - loss: 1.7902 - accuracy: 0.1815 - val_loss: 1.8068 - val_accuracy: 0.1071\n",
      "Epoch 37/300\n",
      "11/11 [==============================] - 0s 5ms/step - loss: 1.7900 - accuracy: 0.1815 - val_loss: 1.8066 - val_accuracy: 0.1071\n",
      "Epoch 38/300\n",
      "11/11 [==============================] - 0s 5ms/step - loss: 1.7903 - accuracy: 0.1815 - val_loss: 1.8057 - val_accuracy: 0.1071\n",
      "Epoch 39/300\n",
      "11/11 [==============================] - 0s 5ms/step - loss: 1.7899 - accuracy: 0.1815 - val_loss: 1.8073 - val_accuracy: 0.1071\n",
      "Epoch 40/300\n",
      "11/11 [==============================] - 0s 5ms/step - loss: 1.7900 - accuracy: 0.1815 - val_loss: 1.8084 - val_accuracy: 0.1071\n",
      "Epoch 41/300\n",
      "11/11 [==============================] - 0s 5ms/step - loss: 1.7900 - accuracy: 0.1815 - val_loss: 1.8084 - val_accuracy: 0.1071\n",
      "Epoch 42/300\n",
      "11/11 [==============================] - 0s 5ms/step - loss: 1.7903 - accuracy: 0.1815 - val_loss: 1.8063 - val_accuracy: 0.1071\n",
      "Epoch 43/300\n",
      "11/11 [==============================] - 0s 6ms/step - loss: 1.7901 - accuracy: 0.1815 - val_loss: 1.8083 - val_accuracy: 0.1071\n",
      "Epoch 44/300\n",
      "11/11 [==============================] - 0s 6ms/step - loss: 1.7901 - accuracy: 0.1815 - val_loss: 1.8075 - val_accuracy: 0.1071\n",
      "Epoch 45/300\n",
      "11/11 [==============================] - 0s 6ms/step - loss: 1.7901 - accuracy: 0.1815 - val_loss: 1.8083 - val_accuracy: 0.1071\n",
      "Epoch 46/300\n",
      "11/11 [==============================] - 0s 6ms/step - loss: 1.7901 - accuracy: 0.1815 - val_loss: 1.8070 - val_accuracy: 0.1071\n",
      "Epoch 47/300\n",
      "11/11 [==============================] - 0s 7ms/step - loss: 1.7900 - accuracy: 0.1815 - val_loss: 1.8085 - val_accuracy: 0.1071\n",
      "Epoch 48/300\n",
      "11/11 [==============================] - 0s 6ms/step - loss: 1.7899 - accuracy: 0.1815 - val_loss: 1.8091 - val_accuracy: 0.1071\n",
      "Epoch 49/300\n",
      "11/11 [==============================] - 0s 6ms/step - loss: 1.7901 - accuracy: 0.1815 - val_loss: 1.8106 - val_accuracy: 0.1071\n",
      "Epoch 50/300\n",
      "11/11 [==============================] - 0s 5ms/step - loss: 1.7898 - accuracy: 0.1815 - val_loss: 1.8091 - val_accuracy: 0.1071\n",
      "Epoch 51/300\n",
      "11/11 [==============================] - 0s 5ms/step - loss: 1.7901 - accuracy: 0.1815 - val_loss: 1.8073 - val_accuracy: 0.1071\n",
      "Epoch 52/300\n",
      "11/11 [==============================] - 0s 6ms/step - loss: 1.7899 - accuracy: 0.1815 - val_loss: 1.8082 - val_accuracy: 0.1071\n",
      "Epoch 53/300\n",
      "11/11 [==============================] - 0s 5ms/step - loss: 1.7902 - accuracy: 0.1815 - val_loss: 1.8066 - val_accuracy: 0.1071\n",
      "Epoch 54/300\n",
      "11/11 [==============================] - 0s 5ms/step - loss: 1.7898 - accuracy: 0.1815 - val_loss: 1.8081 - val_accuracy: 0.1071\n",
      "Epoch 55/300\n",
      "11/11 [==============================] - 0s 5ms/step - loss: 1.7898 - accuracy: 0.1815 - val_loss: 1.8088 - val_accuracy: 0.1071\n",
      "Epoch 56/300\n",
      "11/11 [==============================] - 0s 5ms/step - loss: 1.7898 - accuracy: 0.1815 - val_loss: 1.8089 - val_accuracy: 0.1071\n",
      "Epoch 57/300\n",
      "11/11 [==============================] - 0s 5ms/step - loss: 1.7895 - accuracy: 0.1815 - val_loss: 1.8093 - val_accuracy: 0.1071\n",
      "Epoch 58/300\n",
      "11/11 [==============================] - 0s 5ms/step - loss: 1.7893 - accuracy: 0.1815 - val_loss: 1.8070 - val_accuracy: 0.1071\n"
     ]
    },
    {
     "name": "stdout",
     "output_type": "stream",
     "text": [
      "Epoch 59/300\n",
      "11/11 [==============================] - 0s 5ms/step - loss: 1.7892 - accuracy: 0.1815 - val_loss: 1.8070 - val_accuracy: 0.1071\n",
      "Epoch 60/300\n",
      "11/11 [==============================] - 0s 5ms/step - loss: 1.7889 - accuracy: 0.1815 - val_loss: 1.8090 - val_accuracy: 0.1071\n",
      "Epoch 61/300\n",
      "11/11 [==============================] - 0s 5ms/step - loss: 1.7882 - accuracy: 0.1815 - val_loss: 1.8089 - val_accuracy: 0.1071\n",
      "Epoch 62/300\n",
      "11/11 [==============================] - 0s 5ms/step - loss: 1.7869 - accuracy: 0.1815 - val_loss: 1.8102 - val_accuracy: 0.1071\n",
      "Epoch 63/300\n",
      "11/11 [==============================] - 0s 6ms/step - loss: 1.7843 - accuracy: 0.1815 - val_loss: 1.8086 - val_accuracy: 0.1071\n",
      "Epoch 64/300\n",
      "11/11 [==============================] - 0s 6ms/step - loss: 1.7807 - accuracy: 0.1815 - val_loss: 1.8016 - val_accuracy: 0.1071\n",
      "Epoch 65/300\n",
      "11/11 [==============================] - 0s 6ms/step - loss: 1.7683 - accuracy: 0.1815 - val_loss: 1.7858 - val_accuracy: 0.1071\n",
      "Epoch 66/300\n",
      "11/11 [==============================] - 0s 6ms/step - loss: 1.7222 - accuracy: 0.2173 - val_loss: 1.7740 - val_accuracy: 0.1071\n",
      "Epoch 67/300\n",
      "11/11 [==============================] - 0s 6ms/step - loss: 1.6835 - accuracy: 0.2500 - val_loss: 1.6357 - val_accuracy: 0.2738\n",
      "Epoch 68/300\n",
      "11/11 [==============================] - 0s 5ms/step - loss: 1.5967 - accuracy: 0.3214 - val_loss: 1.5631 - val_accuracy: 0.3810\n",
      "Epoch 69/300\n",
      "11/11 [==============================] - 0s 5ms/step - loss: 1.4595 - accuracy: 0.3661 - val_loss: 1.3744 - val_accuracy: 0.3810\n",
      "Epoch 70/300\n",
      "11/11 [==============================] - 0s 5ms/step - loss: 1.3146 - accuracy: 0.3839 - val_loss: 1.2437 - val_accuracy: 0.4048\n",
      "Epoch 71/300\n",
      "11/11 [==============================] - 0s 5ms/step - loss: 1.2178 - accuracy: 0.4464 - val_loss: 1.1651 - val_accuracy: 0.5119\n",
      "Epoch 72/300\n",
      "11/11 [==============================] - 0s 5ms/step - loss: 1.2248 - accuracy: 0.4345 - val_loss: 1.1662 - val_accuracy: 0.4286\n",
      "Epoch 73/300\n",
      "11/11 [==============================] - 0s 5ms/step - loss: 1.1728 - accuracy: 0.4583 - val_loss: 1.1180 - val_accuracy: 0.5119\n",
      "Epoch 74/300\n",
      "11/11 [==============================] - 0s 5ms/step - loss: 1.1461 - accuracy: 0.4762 - val_loss: 1.1239 - val_accuracy: 0.5119\n",
      "Epoch 75/300\n",
      "11/11 [==============================] - 0s 5ms/step - loss: 1.1129 - accuracy: 0.4940 - val_loss: 1.0981 - val_accuracy: 0.4881\n",
      "Epoch 76/300\n",
      "11/11 [==============================] - 0s 5ms/step - loss: 1.1228 - accuracy: 0.4643 - val_loss: 1.0411 - val_accuracy: 0.6071\n",
      "Epoch 77/300\n",
      "11/11 [==============================] - 0s 5ms/step - loss: 1.1514 - accuracy: 0.4345 - val_loss: 1.1001 - val_accuracy: 0.4762\n",
      "Epoch 78/300\n",
      "11/11 [==============================] - 0s 5ms/step - loss: 1.0776 - accuracy: 0.5565 - val_loss: 1.0050 - val_accuracy: 0.5000\n",
      "Epoch 79/300\n",
      "11/11 [==============================] - 0s 6ms/step - loss: 1.1105 - accuracy: 0.4732 - val_loss: 1.2134 - val_accuracy: 0.3690\n",
      "Epoch 80/300\n",
      "11/11 [==============================] - 0s 6ms/step - loss: 1.1358 - accuracy: 0.4018 - val_loss: 1.1476 - val_accuracy: 0.4762\n",
      "Epoch 81/300\n",
      "11/11 [==============================] - 0s 7ms/step - loss: 1.1117 - accuracy: 0.4643 - val_loss: 1.1059 - val_accuracy: 0.4048\n",
      "Epoch 82/300\n",
      "11/11 [==============================] - 0s 7ms/step - loss: 1.1408 - accuracy: 0.4256 - val_loss: 1.0437 - val_accuracy: 0.5357\n",
      "Epoch 83/300\n",
      "11/11 [==============================] - 0s 7ms/step - loss: 1.1094 - accuracy: 0.4702 - val_loss: 1.0352 - val_accuracy: 0.4881\n",
      "Epoch 84/300\n",
      "11/11 [==============================] - 0s 7ms/step - loss: 1.1218 - accuracy: 0.4613 - val_loss: 0.9974 - val_accuracy: 0.5000\n",
      "Epoch 85/300\n",
      "11/11 [==============================] - 0s 6ms/step - loss: 1.0555 - accuracy: 0.5357 - val_loss: 1.0131 - val_accuracy: 0.5833\n",
      "Epoch 86/300\n",
      "11/11 [==============================] - 0s 7ms/step - loss: 1.0716 - accuracy: 0.4881 - val_loss: 0.9566 - val_accuracy: 0.4643\n",
      "Epoch 87/300\n",
      "11/11 [==============================] - 0s 7ms/step - loss: 1.0495 - accuracy: 0.5000 - val_loss: 0.9892 - val_accuracy: 0.4405\n",
      "Epoch 88/300\n",
      "11/11 [==============================] - 0s 6ms/step - loss: 1.0474 - accuracy: 0.5357 - val_loss: 0.9554 - val_accuracy: 0.4881\n",
      "Epoch 89/300\n",
      "11/11 [==============================] - 0s 6ms/step - loss: 1.0303 - accuracy: 0.5119 - val_loss: 1.0000 - val_accuracy: 0.5476\n",
      "Epoch 90/300\n",
      "11/11 [==============================] - 0s 6ms/step - loss: 1.0280 - accuracy: 0.5298 - val_loss: 0.9282 - val_accuracy: 0.4762\n",
      "Epoch 91/300\n",
      "11/11 [==============================] - 0s 5ms/step - loss: 1.0361 - accuracy: 0.5446 - val_loss: 0.9778 - val_accuracy: 0.4524\n",
      "Epoch 92/300\n",
      "11/11 [==============================] - 0s 5ms/step - loss: 1.0337 - accuracy: 0.5119 - val_loss: 0.9297 - val_accuracy: 0.5000\n",
      "Epoch 93/300\n",
      "11/11 [==============================] - 0s 5ms/step - loss: 1.0210 - accuracy: 0.5208 - val_loss: 0.9836 - val_accuracy: 0.5476\n",
      "Epoch 94/300\n",
      "11/11 [==============================] - 0s 6ms/step - loss: 1.0210 - accuracy: 0.4940 - val_loss: 0.9181 - val_accuracy: 0.4881\n",
      "Epoch 95/300\n",
      "11/11 [==============================] - 0s 5ms/step - loss: 1.0336 - accuracy: 0.5238 - val_loss: 1.0147 - val_accuracy: 0.5238\n",
      "Epoch 96/300\n",
      "11/11 [==============================] - 0s 5ms/step - loss: 1.0007 - accuracy: 0.5774 - val_loss: 0.9130 - val_accuracy: 0.4762\n",
      "Epoch 97/300\n",
      "11/11 [==============================] - 0s 5ms/step - loss: 1.0203 - accuracy: 0.5208 - val_loss: 0.9417 - val_accuracy: 0.5000\n",
      "Epoch 98/300\n",
      "11/11 [==============================] - 0s 5ms/step - loss: 1.0134 - accuracy: 0.5387 - val_loss: 0.9506 - val_accuracy: 0.5714\n",
      "Epoch 99/300\n",
      "11/11 [==============================] - 0s 5ms/step - loss: 1.0215 - accuracy: 0.5179 - val_loss: 0.9096 - val_accuracy: 0.5119\n",
      "Epoch 100/300\n",
      "11/11 [==============================] - 0s 5ms/step - loss: 1.0465 - accuracy: 0.5149 - val_loss: 0.9618 - val_accuracy: 0.4881\n",
      "Epoch 101/300\n",
      "11/11 [==============================] - 0s 5ms/step - loss: 0.9987 - accuracy: 0.5387 - val_loss: 0.9316 - val_accuracy: 0.5595\n",
      "Epoch 102/300\n",
      "11/11 [==============================] - 0s 6ms/step - loss: 0.9888 - accuracy: 0.5774 - val_loss: 0.9416 - val_accuracy: 0.4286\n",
      "Epoch 103/300\n",
      "11/11 [==============================] - 0s 6ms/step - loss: 1.0059 - accuracy: 0.5268 - val_loss: 0.9803 - val_accuracy: 0.5714\n",
      "Epoch 104/300\n",
      "11/11 [==============================] - 0s 6ms/step - loss: 1.0554 - accuracy: 0.4851 - val_loss: 0.9345 - val_accuracy: 0.5952\n",
      "Epoch 105/300\n",
      "11/11 [==============================] - 0s 6ms/step - loss: 1.0077 - accuracy: 0.5327 - val_loss: 0.9901 - val_accuracy: 0.4405\n",
      "Epoch 106/300\n",
      "11/11 [==============================] - 0s 5ms/step - loss: 1.0188 - accuracy: 0.4851 - val_loss: 1.0584 - val_accuracy: 0.4405\n",
      "Epoch 107/300\n",
      "11/11 [==============================] - 0s 5ms/step - loss: 1.0220 - accuracy: 0.5030 - val_loss: 0.9095 - val_accuracy: 0.5000\n",
      "Epoch 108/300\n",
      "11/11 [==============================] - 0s 5ms/step - loss: 0.9830 - accuracy: 0.5536 - val_loss: 0.9096 - val_accuracy: 0.5476\n",
      "Epoch 109/300\n",
      "11/11 [==============================] - 0s 5ms/step - loss: 0.9809 - accuracy: 0.5536 - val_loss: 0.9099 - val_accuracy: 0.5119\n",
      "Epoch 110/300\n",
      "11/11 [==============================] - 0s 5ms/step - loss: 0.9885 - accuracy: 0.5298 - val_loss: 0.8987 - val_accuracy: 0.5000\n",
      "Epoch 111/300\n",
      "11/11 [==============================] - 0s 5ms/step - loss: 1.0233 - accuracy: 0.5119 - val_loss: 0.9167 - val_accuracy: 0.4762\n",
      "Epoch 112/300\n",
      "11/11 [==============================] - 0s 5ms/step - loss: 0.9827 - accuracy: 0.4940 - val_loss: 0.8974 - val_accuracy: 0.5238\n",
      "Epoch 113/300\n",
      "11/11 [==============================] - 0s 5ms/step - loss: 0.9730 - accuracy: 0.5565 - val_loss: 0.9135 - val_accuracy: 0.4762\n",
      "Epoch 114/300\n",
      "11/11 [==============================] - 0s 5ms/step - loss: 0.9865 - accuracy: 0.5387 - val_loss: 0.9058 - val_accuracy: 0.5238\n",
      "Epoch 115/300\n",
      "11/11 [==============================] - 0s 5ms/step - loss: 0.9851 - accuracy: 0.5536 - val_loss: 0.8949 - val_accuracy: 0.5238\n",
      "Epoch 116/300\n",
      "11/11 [==============================] - 0s 5ms/step - loss: 0.9637 - accuracy: 0.5476 - val_loss: 0.8841 - val_accuracy: 0.5119\n",
      "Epoch 117/300\n",
      "11/11 [==============================] - 0s 5ms/step - loss: 0.9619 - accuracy: 0.5506 - val_loss: 0.8816 - val_accuracy: 0.6190\n",
      "Epoch 118/300\n",
      "11/11 [==============================] - 0s 5ms/step - loss: 0.9539 - accuracy: 0.5774 - val_loss: 0.9351 - val_accuracy: 0.4881\n",
      "Epoch 119/300\n",
      "11/11 [==============================] - 0s 5ms/step - loss: 0.9568 - accuracy: 0.5417 - val_loss: 0.9253 - val_accuracy: 0.5595\n",
      "Epoch 120/300\n",
      "11/11 [==============================] - 0s 5ms/step - loss: 0.9583 - accuracy: 0.5476 - val_loss: 0.8935 - val_accuracy: 0.5476\n",
      "Epoch 121/300\n",
      "11/11 [==============================] - 0s 5ms/step - loss: 0.9597 - accuracy: 0.5536 - val_loss: 0.8795 - val_accuracy: 0.5119\n",
      "Epoch 122/300\n",
      "11/11 [==============================] - 0s 6ms/step - loss: 0.9672 - accuracy: 0.5327 - val_loss: 0.8896 - val_accuracy: 0.5357\n",
      "Epoch 123/300\n",
      "11/11 [==============================] - 0s 6ms/step - loss: 0.9529 - accuracy: 0.5565 - val_loss: 0.8887 - val_accuracy: 0.5595\n",
      "Epoch 124/300\n",
      "11/11 [==============================] - 0s 6ms/step - loss: 1.0301 - accuracy: 0.4940 - val_loss: 0.8949 - val_accuracy: 0.5595\n",
      "Epoch 125/300\n",
      "11/11 [==============================] - 0s 5ms/step - loss: 0.9836 - accuracy: 0.5060 - val_loss: 0.9161 - val_accuracy: 0.5595\n",
      "Epoch 126/300\n",
      "11/11 [==============================] - 0s 6ms/step - loss: 0.9705 - accuracy: 0.5387 - val_loss: 0.9276 - val_accuracy: 0.5119\n",
      "Epoch 127/300\n",
      "11/11 [==============================] - 0s 6ms/step - loss: 0.9593 - accuracy: 0.5327 - val_loss: 0.9030 - val_accuracy: 0.5476\n",
      "Epoch 128/300\n",
      "11/11 [==============================] - 0s 6ms/step - loss: 0.9573 - accuracy: 0.5625 - val_loss: 0.9140 - val_accuracy: 0.4405\n",
      "Epoch 129/300\n",
      "11/11 [==============================] - 0s 6ms/step - loss: 0.9439 - accuracy: 0.5625 - val_loss: 0.8807 - val_accuracy: 0.5833\n",
      "Epoch 130/300\n",
      "11/11 [==============================] - 0s 6ms/step - loss: 0.9368 - accuracy: 0.5536 - val_loss: 0.8875 - val_accuracy: 0.4881\n",
      "Epoch 131/300\n",
      "11/11 [==============================] - 0s 5ms/step - loss: 0.9607 - accuracy: 0.5387 - val_loss: 0.9183 - val_accuracy: 0.5000\n",
      "Epoch 132/300\n",
      "11/11 [==============================] - 0s 5ms/step - loss: 0.9763 - accuracy: 0.4940 - val_loss: 0.8876 - val_accuracy: 0.5833\n",
      "Epoch 133/300\n",
      "11/11 [==============================] - 0s 5ms/step - loss: 0.9429 - accuracy: 0.5625 - val_loss: 0.8875 - val_accuracy: 0.5476\n",
      "Epoch 134/300\n",
      "11/11 [==============================] - 0s 5ms/step - loss: 0.9450 - accuracy: 0.5238 - val_loss: 0.8989 - val_accuracy: 0.6071\n",
      "Epoch 135/300\n",
      "11/11 [==============================] - 0s 5ms/step - loss: 0.9474 - accuracy: 0.5446 - val_loss: 0.8971 - val_accuracy: 0.4762\n",
      "Epoch 136/300\n",
      "11/11 [==============================] - 0s 5ms/step - loss: 0.9394 - accuracy: 0.5476 - val_loss: 0.9440 - val_accuracy: 0.3929\n",
      "Epoch 137/300\n",
      "11/11 [==============================] - 0s 5ms/step - loss: 0.9395 - accuracy: 0.5476 - val_loss: 0.9035 - val_accuracy: 0.5476\n",
      "Epoch 138/300\n",
      "11/11 [==============================] - 0s 5ms/step - loss: 0.9549 - accuracy: 0.5387 - val_loss: 0.9112 - val_accuracy: 0.4643\n",
      "Epoch 139/300\n",
      "11/11 [==============================] - 0s 5ms/step - loss: 0.9416 - accuracy: 0.5506 - val_loss: 0.8776 - val_accuracy: 0.5476\n",
      "Epoch 140/300\n",
      "11/11 [==============================] - 0s 5ms/step - loss: 0.9397 - accuracy: 0.5774 - val_loss: 0.8823 - val_accuracy: 0.5000\n",
      "Epoch 141/300\n",
      "11/11 [==============================] - 0s 5ms/step - loss: 0.9399 - accuracy: 0.5298 - val_loss: 0.8764 - val_accuracy: 0.5238\n",
      "Epoch 142/300\n",
      "11/11 [==============================] - 0s 5ms/step - loss: 0.9241 - accuracy: 0.5774 - val_loss: 0.8762 - val_accuracy: 0.5714\n",
      "Epoch 143/300\n",
      "11/11 [==============================] - 0s 5ms/step - loss: 0.9238 - accuracy: 0.5595 - val_loss: 0.8919 - val_accuracy: 0.5238\n",
      "Epoch 144/300\n",
      "11/11 [==============================] - 0s 5ms/step - loss: 0.9400 - accuracy: 0.5149 - val_loss: 0.8765 - val_accuracy: 0.5714\n",
      "Epoch 145/300\n",
      "11/11 [==============================] - 0s 5ms/step - loss: 0.9354 - accuracy: 0.5714 - val_loss: 0.8860 - val_accuracy: 0.5595\n",
      "Epoch 146/300\n",
      "11/11 [==============================] - 0s 6ms/step - loss: 0.9473 - accuracy: 0.5565 - val_loss: 0.8914 - val_accuracy: 0.5238\n",
      "Epoch 147/300\n",
      "11/11 [==============================] - 0s 6ms/step - loss: 0.9230 - accuracy: 0.5774 - val_loss: 0.9552 - val_accuracy: 0.4881\n",
      "Epoch 148/300\n",
      "11/11 [==============================] - 0s 6ms/step - loss: 0.9484 - accuracy: 0.5089 - val_loss: 0.8977 - val_accuracy: 0.4643\n",
      "Epoch 149/300\n",
      "11/11 [==============================] - 0s 5ms/step - loss: 0.9281 - accuracy: 0.5506 - val_loss: 0.8857 - val_accuracy: 0.5714\n",
      "Epoch 150/300\n",
      "11/11 [==============================] - 0s 5ms/step - loss: 0.9378 - accuracy: 0.5238 - val_loss: 1.0886 - val_accuracy: 0.4286\n",
      "Epoch 151/300\n",
      "11/11 [==============================] - 0s 6ms/step - loss: 0.9985 - accuracy: 0.4940 - val_loss: 0.8888 - val_accuracy: 0.5595\n",
      "Epoch 152/300\n",
      "11/11 [==============================] - 0s 5ms/step - loss: 0.9703 - accuracy: 0.5060 - val_loss: 0.8889 - val_accuracy: 0.5476\n",
      "Epoch 153/300\n",
      "11/11 [==============================] - 0s 6ms/step - loss: 0.9255 - accuracy: 0.5804 - val_loss: 0.8880 - val_accuracy: 0.5119\n",
      "Epoch 154/300\n",
      "11/11 [==============================] - 0s 6ms/step - loss: 0.9245 - accuracy: 0.5357 - val_loss: 0.8822 - val_accuracy: 0.5357\n",
      "Epoch 155/300\n",
      "11/11 [==============================] - 0s 7ms/step - loss: 0.9113 - accuracy: 0.5833 - val_loss: 0.9203 - val_accuracy: 0.4762\n",
      "Epoch 156/300\n",
      "11/11 [==============================] - 0s 7ms/step - loss: 0.9253 - accuracy: 0.5149 - val_loss: 0.8951 - val_accuracy: 0.4881\n",
      "Epoch 157/300\n",
      "11/11 [==============================] - 0s 6ms/step - loss: 0.9123 - accuracy: 0.5685 - val_loss: 0.8782 - val_accuracy: 0.6071\n",
      "Epoch 158/300\n",
      "11/11 [==============================] - 0s 6ms/step - loss: 0.9089 - accuracy: 0.5446 - val_loss: 0.8738 - val_accuracy: 0.5833\n",
      "Epoch 159/300\n",
      "11/11 [==============================] - 0s 7ms/step - loss: 0.9320 - accuracy: 0.5208 - val_loss: 0.8711 - val_accuracy: 0.6071\n",
      "Epoch 160/300\n",
      "11/11 [==============================] - 0s 6ms/step - loss: 0.9124 - accuracy: 0.5625 - val_loss: 0.9209 - val_accuracy: 0.4167\n",
      "Epoch 161/300\n",
      "11/11 [==============================] - 0s 6ms/step - loss: 0.9410 - accuracy: 0.5000 - val_loss: 0.9245 - val_accuracy: 0.4405\n",
      "Epoch 162/300\n",
      "11/11 [==============================] - 0s 6ms/step - loss: 0.9102 - accuracy: 0.5625 - val_loss: 0.9082 - val_accuracy: 0.4881\n",
      "Epoch 163/300\n",
      "11/11 [==============================] - 0s 5ms/step - loss: 0.9165 - accuracy: 0.5536 - val_loss: 0.8876 - val_accuracy: 0.5357\n",
      "Epoch 164/300\n",
      "11/11 [==============================] - 0s 5ms/step - loss: 0.9168 - accuracy: 0.5417 - val_loss: 0.8699 - val_accuracy: 0.5714\n",
      "Epoch 165/300\n",
      "11/11 [==============================] - 0s 5ms/step - loss: 0.9005 - accuracy: 0.5595 - val_loss: 0.8840 - val_accuracy: 0.5714\n",
      "Epoch 166/300\n",
      "11/11 [==============================] - 0s 5ms/step - loss: 0.9120 - accuracy: 0.5565 - val_loss: 0.8794 - val_accuracy: 0.5476\n",
      "Epoch 167/300\n",
      "11/11 [==============================] - 0s 5ms/step - loss: 0.9096 - accuracy: 0.5893 - val_loss: 0.8939 - val_accuracy: 0.5357\n",
      "Epoch 168/300\n",
      "11/11 [==============================] - 0s 5ms/step - loss: 0.9025 - accuracy: 0.5625 - val_loss: 0.8674 - val_accuracy: 0.5833\n",
      "Epoch 169/300\n",
      "11/11 [==============================] - 0s 5ms/step - loss: 0.9592 - accuracy: 0.5030 - val_loss: 0.8873 - val_accuracy: 0.5714\n",
      "Epoch 170/300\n",
      "11/11 [==============================] - 0s 5ms/step - loss: 0.9719 - accuracy: 0.5298 - val_loss: 0.9620 - val_accuracy: 0.4524\n",
      "Epoch 171/300\n",
      "11/11 [==============================] - 0s 5ms/step - loss: 0.9385 - accuracy: 0.5238 - val_loss: 0.8972 - val_accuracy: 0.4762\n",
      "Epoch 172/300\n",
      "11/11 [==============================] - 0s 5ms/step - loss: 0.9192 - accuracy: 0.5298 - val_loss: 0.8968 - val_accuracy: 0.4643\n",
      "Epoch 173/300\n"
     ]
    },
    {
     "name": "stdout",
     "output_type": "stream",
     "text": [
      "11/11 [==============================] - 0s 5ms/step - loss: 0.9002 - accuracy: 0.5625 - val_loss: 0.8793 - val_accuracy: 0.4881\n",
      "Epoch 174/300\n",
      "11/11 [==============================] - 0s 5ms/step - loss: 0.9053 - accuracy: 0.5506 - val_loss: 0.9481 - val_accuracy: 0.5952\n",
      "Epoch 175/300\n",
      "11/11 [==============================] - 0s 5ms/step - loss: 0.9501 - accuracy: 0.5149 - val_loss: 0.9243 - val_accuracy: 0.5714\n",
      "Epoch 176/300\n",
      "11/11 [==============================] - 0s 5ms/step - loss: 0.9229 - accuracy: 0.5238 - val_loss: 0.9212 - val_accuracy: 0.5714\n",
      "Epoch 177/300\n",
      "11/11 [==============================] - 0s 5ms/step - loss: 0.9173 - accuracy: 0.5565 - val_loss: 0.8814 - val_accuracy: 0.4881\n",
      "Epoch 178/300\n",
      "11/11 [==============================] - 0s 6ms/step - loss: 0.8971 - accuracy: 0.5804 - val_loss: 0.8672 - val_accuracy: 0.5000\n",
      "Epoch 179/300\n",
      "11/11 [==============================] - 0s 5ms/step - loss: 0.9017 - accuracy: 0.5774 - val_loss: 0.8881 - val_accuracy: 0.4762\n",
      "Epoch 180/300\n",
      "11/11 [==============================] - 0s 5ms/step - loss: 0.9027 - accuracy: 0.5298 - val_loss: 0.9571 - val_accuracy: 0.4048\n",
      "Epoch 181/300\n",
      "11/11 [==============================] - 0s 6ms/step - loss: 0.8957 - accuracy: 0.5417 - val_loss: 0.8834 - val_accuracy: 0.5238\n",
      "Epoch 182/300\n",
      "11/11 [==============================] - 0s 6ms/step - loss: 0.8890 - accuracy: 0.5625 - val_loss: 0.8804 - val_accuracy: 0.5595\n",
      "Epoch 183/300\n",
      "11/11 [==============================] - 0s 5ms/step - loss: 0.8888 - accuracy: 0.5685 - val_loss: 0.8749 - val_accuracy: 0.5476\n",
      "Epoch 184/300\n",
      "11/11 [==============================] - 0s 5ms/step - loss: 0.8933 - accuracy: 0.5565 - val_loss: 0.8891 - val_accuracy: 0.4762\n",
      "Epoch 185/300\n",
      "11/11 [==============================] - 0s 5ms/step - loss: 0.9155 - accuracy: 0.5714 - val_loss: 0.8813 - val_accuracy: 0.5357\n",
      "Epoch 186/300\n",
      "11/11 [==============================] - 0s 5ms/step - loss: 0.8993 - accuracy: 0.5417 - val_loss: 0.8675 - val_accuracy: 0.5476\n",
      "Epoch 187/300\n",
      "11/11 [==============================] - 0s 5ms/step - loss: 0.8833 - accuracy: 0.5833 - val_loss: 0.9549 - val_accuracy: 0.5952\n",
      "Epoch 188/300\n",
      "11/11 [==============================] - 0s 5ms/step - loss: 0.9148 - accuracy: 0.5119 - val_loss: 0.9577 - val_accuracy: 0.5714\n",
      "Epoch 189/300\n",
      "11/11 [==============================] - 0s 5ms/step - loss: 0.9001 - accuracy: 0.5565 - val_loss: 0.9763 - val_accuracy: 0.5833\n",
      "Epoch 190/300\n",
      "11/11 [==============================] - 0s 5ms/step - loss: 0.9313 - accuracy: 0.5149 - val_loss: 0.9007 - val_accuracy: 0.6190\n",
      "Epoch 191/300\n",
      "11/11 [==============================] - 0s 6ms/step - loss: 0.8936 - accuracy: 0.5476 - val_loss: 0.8762 - val_accuracy: 0.5595\n",
      "Epoch 192/300\n",
      "11/11 [==============================] - 0s 5ms/step - loss: 0.9142 - accuracy: 0.5208 - val_loss: 0.9329 - val_accuracy: 0.4524\n",
      "Epoch 193/300\n",
      "11/11 [==============================] - 0s 6ms/step - loss: 0.9088 - accuracy: 0.5625 - val_loss: 0.8961 - val_accuracy: 0.4762\n",
      "Epoch 194/300\n",
      "11/11 [==============================] - 0s 6ms/step - loss: 0.8787 - accuracy: 0.5982 - val_loss: 0.8718 - val_accuracy: 0.5595\n",
      "Epoch 195/300\n",
      "11/11 [==============================] - 0s 6ms/step - loss: 0.8663 - accuracy: 0.5655 - val_loss: 0.8969 - val_accuracy: 0.4405\n",
      "Epoch 196/300\n",
      "11/11 [==============================] - 0s 6ms/step - loss: 0.9261 - accuracy: 0.5000 - val_loss: 0.9429 - val_accuracy: 0.4048\n",
      "Epoch 197/300\n",
      "11/11 [==============================] - 0s 6ms/step - loss: 0.9046 - accuracy: 0.5030 - val_loss: 0.8831 - val_accuracy: 0.5357\n",
      "Epoch 198/300\n",
      "11/11 [==============================] - 0s 6ms/step - loss: 0.8816 - accuracy: 0.5446 - val_loss: 0.8808 - val_accuracy: 0.5000\n",
      "Epoch 199/300\n",
      "11/11 [==============================] - 0s 6ms/step - loss: 0.9100 - accuracy: 0.5327 - val_loss: 0.8752 - val_accuracy: 0.5357\n",
      "Epoch 200/300\n",
      "11/11 [==============================] - 0s 6ms/step - loss: 0.9099 - accuracy: 0.5327 - val_loss: 0.8927 - val_accuracy: 0.5595\n",
      "Epoch 201/300\n",
      "11/11 [==============================] - 0s 6ms/step - loss: 0.8915 - accuracy: 0.5565 - val_loss: 0.8856 - val_accuracy: 0.4881\n",
      "Epoch 202/300\n",
      "11/11 [==============================] - 0s 5ms/step - loss: 0.8814 - accuracy: 0.5387 - val_loss: 0.9926 - val_accuracy: 0.4405\n",
      "Epoch 203/300\n",
      "11/11 [==============================] - 0s 5ms/step - loss: 0.9519 - accuracy: 0.5149 - val_loss: 0.9432 - val_accuracy: 0.4048\n",
      "Epoch 204/300\n",
      "11/11 [==============================] - 0s 5ms/step - loss: 0.9216 - accuracy: 0.5268 - val_loss: 0.9467 - val_accuracy: 0.4405\n",
      "Epoch 205/300\n",
      "11/11 [==============================] - 0s 5ms/step - loss: 0.8797 - accuracy: 0.5565 - val_loss: 0.8809 - val_accuracy: 0.5238\n",
      "Epoch 206/300\n",
      "11/11 [==============================] - 0s 5ms/step - loss: 0.8660 - accuracy: 0.5685 - val_loss: 0.8768 - val_accuracy: 0.5476\n",
      "Epoch 207/300\n",
      "11/11 [==============================] - 0s 5ms/step - loss: 0.8691 - accuracy: 0.5685 - val_loss: 0.8838 - val_accuracy: 0.4881\n",
      "Epoch 208/300\n",
      "11/11 [==============================] - 0s 5ms/step - loss: 0.8787 - accuracy: 0.5417 - val_loss: 0.8938 - val_accuracy: 0.5119\n",
      "Epoch 209/300\n",
      "11/11 [==============================] - 0s 6ms/step - loss: 0.8739 - accuracy: 0.5536 - val_loss: 0.8848 - val_accuracy: 0.5476\n",
      "Epoch 210/300\n",
      "11/11 [==============================] - 0s 6ms/step - loss: 0.8832 - accuracy: 0.5685 - val_loss: 0.8711 - val_accuracy: 0.5238\n",
      "Epoch 211/300\n",
      "11/11 [==============================] - 0s 6ms/step - loss: 0.8538 - accuracy: 0.5952 - val_loss: 0.9338 - val_accuracy: 0.5357\n",
      "Epoch 212/300\n",
      "11/11 [==============================] - 0s 6ms/step - loss: 0.8877 - accuracy: 0.5446 - val_loss: 0.8946 - val_accuracy: 0.5000\n",
      "Epoch 213/300\n",
      "11/11 [==============================] - 0s 6ms/step - loss: 0.9259 - accuracy: 0.5536 - val_loss: 0.9911 - val_accuracy: 0.5714\n",
      "Epoch 214/300\n",
      "11/11 [==============================] - 0s 6ms/step - loss: 0.9145 - accuracy: 0.5298 - val_loss: 0.9802 - val_accuracy: 0.5833\n",
      "Epoch 215/300\n",
      "11/11 [==============================] - 0s 7ms/step - loss: 0.9127 - accuracy: 0.5387 - val_loss: 0.8698 - val_accuracy: 0.5476\n",
      "Epoch 216/300\n",
      "11/11 [==============================] - 0s 6ms/step - loss: 0.8848 - accuracy: 0.5506 - val_loss: 0.8786 - val_accuracy: 0.4762\n",
      "Epoch 217/300\n",
      "11/11 [==============================] - 0s 6ms/step - loss: 0.8692 - accuracy: 0.5476 - val_loss: 0.8646 - val_accuracy: 0.5595\n",
      "Epoch 218/300\n",
      "11/11 [==============================] - 0s 5ms/step - loss: 0.8639 - accuracy: 0.5804 - val_loss: 0.9325 - val_accuracy: 0.4167\n",
      "Epoch 219/300\n",
      "11/11 [==============================] - 0s 5ms/step - loss: 0.8853 - accuracy: 0.5565 - val_loss: 0.9978 - val_accuracy: 0.3690\n",
      "Epoch 220/300\n",
      "11/11 [==============================] - 0s 6ms/step - loss: 0.9509 - accuracy: 0.4613 - val_loss: 0.9228 - val_accuracy: 0.5000\n",
      "Epoch 221/300\n",
      "11/11 [==============================] - 0s 5ms/step - loss: 0.8869 - accuracy: 0.5744 - val_loss: 0.8681 - val_accuracy: 0.5595\n",
      "Epoch 222/300\n",
      "11/11 [==============================] - 0s 5ms/step - loss: 0.8627 - accuracy: 0.5446 - val_loss: 0.8780 - val_accuracy: 0.5000\n",
      "Epoch 223/300\n",
      "11/11 [==============================] - 0s 5ms/step - loss: 0.8732 - accuracy: 0.5298 - val_loss: 0.8779 - val_accuracy: 0.5238\n",
      "Epoch 224/300\n",
      "11/11 [==============================] - 0s 5ms/step - loss: 0.8829 - accuracy: 0.5268 - val_loss: 0.9162 - val_accuracy: 0.4286\n",
      "Epoch 225/300\n",
      "11/11 [==============================] - 0s 6ms/step - loss: 0.8714 - accuracy: 0.5298 - val_loss: 0.8781 - val_accuracy: 0.5238\n",
      "Epoch 226/300\n",
      "11/11 [==============================] - 0s 5ms/step - loss: 0.8623 - accuracy: 0.5714 - val_loss: 0.8993 - val_accuracy: 0.5952\n",
      "Epoch 227/300\n",
      "11/11 [==============================] - 0s 5ms/step - loss: 0.9070 - accuracy: 0.5417 - val_loss: 0.8815 - val_accuracy: 0.5595\n",
      "Epoch 228/300\n",
      "11/11 [==============================] - 0s 6ms/step - loss: 0.8567 - accuracy: 0.5685 - val_loss: 0.8736 - val_accuracy: 0.5238\n",
      "Epoch 229/300\n",
      "11/11 [==============================] - 0s 6ms/step - loss: 0.8614 - accuracy: 0.5625 - val_loss: 0.9075 - val_accuracy: 0.4762\n",
      "Epoch 230/300\n",
      "11/11 [==============================] - 0s 6ms/step - loss: 0.8596 - accuracy: 0.5476 - val_loss: 1.0907 - val_accuracy: 0.5476\n",
      "Epoch 231/300\n",
      "11/11 [==============================] - 0s 6ms/step - loss: 0.9315 - accuracy: 0.5179 - val_loss: 0.9177 - val_accuracy: 0.4286\n",
      "Epoch 232/300\n",
      "11/11 [==============================] - 0s 7ms/step - loss: 0.9055 - accuracy: 0.5387 - val_loss: 0.9330 - val_accuracy: 0.4167\n",
      "Epoch 233/300\n",
      "11/11 [==============================] - 0s 7ms/step - loss: 0.8824 - accuracy: 0.5298 - val_loss: 0.9525 - val_accuracy: 0.4167\n",
      "Epoch 234/300\n",
      "11/11 [==============================] - 0s 7ms/step - loss: 0.8949 - accuracy: 0.5387 - val_loss: 0.9556 - val_accuracy: 0.4286\n",
      "Epoch 235/300\n",
      "11/11 [==============================] - 0s 6ms/step - loss: 0.9001 - accuracy: 0.5060 - val_loss: 0.9065 - val_accuracy: 0.4643\n",
      "Epoch 236/300\n",
      "11/11 [==============================] - 0s 7ms/step - loss: 0.8692 - accuracy: 0.5208 - val_loss: 0.8587 - val_accuracy: 0.5476\n",
      "Epoch 237/300\n",
      "11/11 [==============================] - 0s 6ms/step - loss: 0.8703 - accuracy: 0.5744 - val_loss: 0.8801 - val_accuracy: 0.5000\n",
      "Epoch 238/300\n",
      "11/11 [==============================] - 0s 6ms/step - loss: 0.8610 - accuracy: 0.5565 - val_loss: 0.9163 - val_accuracy: 0.5000\n",
      "Epoch 239/300\n",
      "11/11 [==============================] - 0s 6ms/step - loss: 0.8828 - accuracy: 0.5357 - val_loss: 0.8911 - val_accuracy: 0.4405\n",
      "Epoch 240/300\n",
      "11/11 [==============================] - 0s 5ms/step - loss: 0.8569 - accuracy: 0.5417 - val_loss: 0.8705 - val_accuracy: 0.5476\n",
      "Epoch 241/300\n",
      "11/11 [==============================] - 0s 5ms/step - loss: 0.8529 - accuracy: 0.5417 - val_loss: 0.8576 - val_accuracy: 0.5357\n",
      "Epoch 242/300\n",
      "11/11 [==============================] - 0s 5ms/step - loss: 0.8513 - accuracy: 0.5893 - val_loss: 0.8813 - val_accuracy: 0.5476\n",
      "Epoch 243/300\n",
      "11/11 [==============================] - 0s 5ms/step - loss: 0.8445 - accuracy: 0.5863 - val_loss: 0.8837 - val_accuracy: 0.4881\n",
      "Epoch 244/300\n",
      "11/11 [==============================] - 0s 5ms/step - loss: 0.8601 - accuracy: 0.5714 - val_loss: 0.8800 - val_accuracy: 0.5595\n",
      "Epoch 245/300\n",
      "11/11 [==============================] - 0s 5ms/step - loss: 0.8500 - accuracy: 0.5595 - val_loss: 0.8615 - val_accuracy: 0.5476\n",
      "Epoch 246/300\n",
      "11/11 [==============================] - 0s 5ms/step - loss: 0.8634 - accuracy: 0.5625 - val_loss: 0.9051 - val_accuracy: 0.4286\n",
      "Epoch 247/300\n",
      "11/11 [==============================] - 0s 5ms/step - loss: 0.8932 - accuracy: 0.5565 - val_loss: 0.8745 - val_accuracy: 0.5595\n",
      "Epoch 248/300\n",
      "11/11 [==============================] - 0s 6ms/step - loss: 0.8459 - accuracy: 0.5625 - val_loss: 0.8615 - val_accuracy: 0.5357\n",
      "Epoch 249/300\n",
      "11/11 [==============================] - 0s 5ms/step - loss: 0.8760 - accuracy: 0.5595 - val_loss: 0.8754 - val_accuracy: 0.4881\n",
      "Epoch 250/300\n",
      "11/11 [==============================] - 0s 6ms/step - loss: 0.8753 - accuracy: 0.5744 - val_loss: 0.8745 - val_accuracy: 0.5000\n",
      "Epoch 251/300\n",
      "11/11 [==============================] - 0s 5ms/step - loss: 0.8654 - accuracy: 0.5595 - val_loss: 0.9212 - val_accuracy: 0.5595\n",
      "Epoch 252/300\n",
      "11/11 [==============================] - 0s 5ms/step - loss: 0.9458 - accuracy: 0.5476 - val_loss: 0.8907 - val_accuracy: 0.4405\n",
      "Epoch 253/300\n",
      "11/11 [==============================] - 0s 5ms/step - loss: 0.9389 - accuracy: 0.5268 - val_loss: 0.8974 - val_accuracy: 0.5000\n",
      "Epoch 254/300\n",
      "11/11 [==============================] - 0s 5ms/step - loss: 0.8814 - accuracy: 0.5060 - val_loss: 0.9170 - val_accuracy: 0.4524\n",
      "Epoch 255/300\n",
      "11/11 [==============================] - 0s 5ms/step - loss: 0.8853 - accuracy: 0.5417 - val_loss: 0.8911 - val_accuracy: 0.5238\n",
      "Epoch 256/300\n",
      "11/11 [==============================] - 0s 6ms/step - loss: 0.8561 - accuracy: 0.5595 - val_loss: 0.8768 - val_accuracy: 0.5476\n",
      "Epoch 257/300\n",
      "11/11 [==============================] - 0s 6ms/step - loss: 0.8530 - accuracy: 0.5833 - val_loss: 0.8805 - val_accuracy: 0.6190\n",
      "Epoch 258/300\n",
      "11/11 [==============================] - 0s 6ms/step - loss: 0.8823 - accuracy: 0.5744 - val_loss: 0.8757 - val_accuracy: 0.5595\n",
      "Epoch 259/300\n",
      "11/11 [==============================] - 0s 6ms/step - loss: 0.8766 - accuracy: 0.5536 - val_loss: 0.8702 - val_accuracy: 0.5119\n",
      "Epoch 260/300\n",
      "11/11 [==============================] - 0s 6ms/step - loss: 0.8631 - accuracy: 0.5744 - val_loss: 0.8925 - val_accuracy: 0.5238\n",
      "Epoch 261/300\n",
      "11/11 [==============================] - 0s 5ms/step - loss: 0.8631 - accuracy: 0.5923 - val_loss: 0.9187 - val_accuracy: 0.4286\n",
      "Epoch 262/300\n",
      "11/11 [==============================] - 0s 5ms/step - loss: 0.8528 - accuracy: 0.5714 - val_loss: 0.8668 - val_accuracy: 0.5595\n",
      "Epoch 263/300\n",
      "11/11 [==============================] - 0s 5ms/step - loss: 0.8642 - accuracy: 0.5476 - val_loss: 0.8721 - val_accuracy: 0.5119\n",
      "Epoch 264/300\n",
      "11/11 [==============================] - 0s 5ms/step - loss: 0.8560 - accuracy: 0.5655 - val_loss: 0.8786 - val_accuracy: 0.5595\n",
      "Epoch 265/300\n",
      "11/11 [==============================] - 0s 5ms/step - loss: 0.8754 - accuracy: 0.5506 - val_loss: 0.9107 - val_accuracy: 0.5714\n",
      "Epoch 266/300\n",
      "11/11 [==============================] - 0s 6ms/step - loss: 0.9407 - accuracy: 0.4702 - val_loss: 0.9017 - val_accuracy: 0.5238\n",
      "Epoch 267/300\n",
      "11/11 [==============================] - 0s 5ms/step - loss: 0.8720 - accuracy: 0.5357 - val_loss: 0.8908 - val_accuracy: 0.5714\n",
      "Epoch 268/300\n",
      "11/11 [==============================] - 0s 5ms/step - loss: 0.8634 - accuracy: 0.5536 - val_loss: 0.8641 - val_accuracy: 0.5357\n",
      "Epoch 269/300\n",
      "11/11 [==============================] - 0s 5ms/step - loss: 0.8557 - accuracy: 0.5417 - val_loss: 1.0357 - val_accuracy: 0.5476\n",
      "Epoch 270/300\n",
      "11/11 [==============================] - 0s 6ms/step - loss: 0.9442 - accuracy: 0.5119 - val_loss: 0.8945 - val_accuracy: 0.5476\n",
      "Epoch 271/300\n",
      "11/11 [==============================] - 0s 6ms/step - loss: 0.8755 - accuracy: 0.5000 - val_loss: 0.9199 - val_accuracy: 0.5714\n",
      "Epoch 272/300\n",
      "11/11 [==============================] - 0s 7ms/step - loss: 0.8787 - accuracy: 0.5060 - val_loss: 0.8857 - val_accuracy: 0.5714\n",
      "Epoch 273/300\n",
      "11/11 [==============================] - 0s 6ms/step - loss: 0.8523 - accuracy: 0.5625 - val_loss: 0.8846 - val_accuracy: 0.5595\n",
      "Epoch 274/300\n",
      "11/11 [==============================] - 0s 6ms/step - loss: 0.8543 - accuracy: 0.5685 - val_loss: 0.8883 - val_accuracy: 0.4881\n",
      "Epoch 275/300\n",
      "11/11 [==============================] - 0s 5ms/step - loss: 0.8539 - accuracy: 0.5536 - val_loss: 0.8881 - val_accuracy: 0.5238\n",
      "Epoch 276/300\n",
      "11/11 [==============================] - 0s 5ms/step - loss: 0.8557 - accuracy: 0.5298 - val_loss: 0.9023 - val_accuracy: 0.5357\n",
      "Epoch 277/300\n",
      "11/11 [==============================] - 0s 6ms/step - loss: 0.8617 - accuracy: 0.5625 - val_loss: 0.9238 - val_accuracy: 0.4762\n",
      "Epoch 278/300\n",
      "11/11 [==============================] - 0s 5ms/step - loss: 0.8586 - accuracy: 0.5476 - val_loss: 0.9229 - val_accuracy: 0.4524\n",
      "Epoch 279/300\n",
      "11/11 [==============================] - 0s 6ms/step - loss: 0.8617 - accuracy: 0.5625 - val_loss: 0.9580 - val_accuracy: 0.4167\n",
      "Epoch 280/300\n",
      "11/11 [==============================] - 0s 6ms/step - loss: 0.8661 - accuracy: 0.5119 - val_loss: 0.9025 - val_accuracy: 0.4762\n",
      "Epoch 281/300\n",
      "11/11 [==============================] - 0s 6ms/step - loss: 0.8583 - accuracy: 0.5506 - val_loss: 0.8636 - val_accuracy: 0.5238\n",
      "Epoch 282/300\n",
      "11/11 [==============================] - 0s 6ms/step - loss: 0.8536 - accuracy: 0.5565 - val_loss: 0.8719 - val_accuracy: 0.5238\n",
      "Epoch 283/300\n",
      "11/11 [==============================] - 0s 5ms/step - loss: 0.8745 - accuracy: 0.5565 - val_loss: 0.8578 - val_accuracy: 0.5595\n",
      "Epoch 284/300\n",
      "11/11 [==============================] - 0s 5ms/step - loss: 0.8608 - accuracy: 0.5565 - val_loss: 0.8651 - val_accuracy: 0.5714\n",
      "Epoch 285/300\n",
      "11/11 [==============================] - 0s 5ms/step - loss: 0.8442 - accuracy: 0.5804 - val_loss: 0.8660 - val_accuracy: 0.5595\n",
      "Epoch 286/300\n",
      "11/11 [==============================] - 0s 5ms/step - loss: 0.8735 - accuracy: 0.5417 - val_loss: 0.8695 - val_accuracy: 0.5476\n",
      "Epoch 287/300\n"
     ]
    },
    {
     "name": "stdout",
     "output_type": "stream",
     "text": [
      "11/11 [==============================] - 0s 5ms/step - loss: 0.8488 - accuracy: 0.5506 - val_loss: 0.9005 - val_accuracy: 0.5238\n",
      "Epoch 288/300\n",
      "11/11 [==============================] - 0s 5ms/step - loss: 0.8521 - accuracy: 0.5774 - val_loss: 0.9017 - val_accuracy: 0.4405\n",
      "Epoch 289/300\n",
      "11/11 [==============================] - 0s 5ms/step - loss: 0.8496 - accuracy: 0.5476 - val_loss: 0.8665 - val_accuracy: 0.5476\n",
      "Epoch 290/300\n",
      "11/11 [==============================] - 0s 6ms/step - loss: 0.8421 - accuracy: 0.5863 - val_loss: 0.8608 - val_accuracy: 0.5714\n",
      "Epoch 291/300\n",
      "11/11 [==============================] - 0s 6ms/step - loss: 0.8637 - accuracy: 0.5357 - val_loss: 0.9152 - val_accuracy: 0.5476\n",
      "Epoch 292/300\n",
      "11/11 [==============================] - 0s 6ms/step - loss: 0.8658 - accuracy: 0.5327 - val_loss: 0.8855 - val_accuracy: 0.5357\n",
      "Epoch 293/300\n",
      "11/11 [==============================] - 0s 6ms/step - loss: 0.9099 - accuracy: 0.5149 - val_loss: 0.8777 - val_accuracy: 0.6071\n",
      "Epoch 294/300\n",
      "11/11 [==============================] - 0s 6ms/step - loss: 0.8661 - accuracy: 0.5714 - val_loss: 0.8720 - val_accuracy: 0.4643\n",
      "Epoch 295/300\n",
      "11/11 [==============================] - 0s 5ms/step - loss: 0.8468 - accuracy: 0.5625 - val_loss: 0.8727 - val_accuracy: 0.5238\n",
      "Epoch 296/300\n",
      "11/11 [==============================] - 0s 5ms/step - loss: 0.8557 - accuracy: 0.5506 - val_loss: 0.8744 - val_accuracy: 0.5000\n",
      "Epoch 297/300\n",
      "11/11 [==============================] - 0s 5ms/step - loss: 0.8436 - accuracy: 0.5685 - val_loss: 0.8744 - val_accuracy: 0.5119\n",
      "Epoch 298/300\n",
      "11/11 [==============================] - 0s 5ms/step - loss: 0.8398 - accuracy: 0.5685 - val_loss: 0.8675 - val_accuracy: 0.5714\n",
      "Epoch 299/300\n",
      "11/11 [==============================] - 0s 5ms/step - loss: 0.8473 - accuracy: 0.5625 - val_loss: 0.8698 - val_accuracy: 0.5476\n",
      "Epoch 300/300\n",
      "11/11 [==============================] - 0s 5ms/step - loss: 0.9065 - accuracy: 0.5357 - val_loss: 0.8684 - val_accuracy: 0.5476\n"
     ]
    },
    {
     "data": {
      "text/plain": [
       "<keras.callbacks.History at 0x2bdd51301c0>"
      ]
     },
     "execution_count": 35,
     "metadata": {},
     "output_type": "execute_result"
    }
   ],
   "source": [
    "from tensorflow import keras\n",
    "opt = keras.optimizers.Adam(learning_rate=0.001)\n",
    "model_2.compile(optimizer=opt,\n",
    "              loss='sparse_categorical_crossentropy',\n",
    "                metrics= ['accuracy'])\n",
    "              \n",
    "history= model_2.fit(X_train_scaled, y_train, epochs=300, batch_size=32,validation_split=0.20, verbose=1, shuffle= True) #validation_split=0.33\n",
    "history"
   ]
  },
  {
   "cell_type": "code",
   "execution_count": 36,
   "id": "positive-cherry",
   "metadata": {},
   "outputs": [
    {
     "name": "stdout",
     "output_type": "stream",
     "text": [
      "Validation accuracy :  52.78571516275405 %\n"
     ]
    }
   ],
   "source": [
    "print('Validation accuracy : ', (np.mean(history.history['val_accuracy'][-50:]))*100, '%') # Mean of last 50 values"
   ]
  },
  {
   "cell_type": "code",
   "execution_count": 37,
   "id": "narrow-lounge",
   "metadata": {
    "scrolled": false
   },
   "outputs": [
    {
     "name": "stdout",
     "output_type": "stream",
     "text": [
      "6/6 [==============================] - 0s 2ms/step - loss: 0.8840 - accuracy: 0.5000\n",
      "Loss: 0.8840450644493103, Accuracy: 0.5\n",
      "Test accuracy :  50.0 %\n"
     ]
    }
   ],
   "source": [
    "loss, accuracy= model_2.evaluate(X_test_scaled, y_test)\n",
    "print(f'Loss: {loss}, Accuracy: {accuracy}')\n",
    "print('Test accuracy : ',accuracy*100,'%')"
   ]
  },
  {
   "cell_type": "code",
   "execution_count": 38,
   "id": "valid-complexity",
   "metadata": {},
   "outputs": [],
   "source": [
    "# model_2.save('6_device_saved_model.h5')"
   ]
  },
  {
   "cell_type": "code",
   "execution_count": 39,
   "id": "comic-notion",
   "metadata": {},
   "outputs": [
    {
     "name": "stdout",
     "output_type": "stream",
     "text": [
      "dict_keys(['loss', 'accuracy', 'val_loss', 'val_accuracy'])\n"
     ]
    }
   ],
   "source": [
    "print(history.history.keys())"
   ]
  },
  {
   "cell_type": "code",
   "execution_count": 40,
   "id": "bronze-details",
   "metadata": {
    "scrolled": true
   },
   "outputs": [
    {
     "data": {
      "image/png": "[encoded data removed]",
      "text/plain": [
       "<Figure size 576x360 with 1 Axes>"
      ]
     },
     "metadata": {
      "needs_background": "light"
     },
     "output_type": "display_data"
    }
   ],
   "source": [
    "pd.DataFrame(history.history).plot(figsize=(8,5))\n",
    "plt.xlabel('epoch')\n",
    "plt.ylabel('accuracy')\n",
    "# plt.savefig('6_acc_loss_56.pdf',bbox_inches = 'tight', pad_inches = 0, dpi= 100)\n",
    "plt.show()"
   ]
  },
  {
   "cell_type": "code",
   "execution_count": 41,
   "id": "threatened-camera",
   "metadata": {
    "scrolled": true
   },
   "outputs": [
    {
     "name": "stdout",
     "output_type": "stream",
     "text": [
      "6/6 [==============================] - 0s 2ms/step\n"
     ]
    }
   ],
   "source": [
    "np.set_printoptions(suppress=True)\n",
    "y_pred = model_2.predict(X_test_scaled)\n",
    "# y_pred[:10]"
   ]
  },
  {
   "cell_type": "code",
   "execution_count": 42,
   "id": "public-triple",
   "metadata": {},
   "outputs": [
    {
     "data": {
      "text/plain": [
       "[3, 4, 4, 5, 1, 0, 3, 3, 3, 4]"
      ]
     },
     "execution_count": 42,
     "metadata": {},
     "output_type": "execute_result"
    }
   ],
   "source": [
    "y_pred_class = [np.argmax(i) for i in y_pred]\n",
    "y_pred_class[:10]"
   ]
  },
  {
   "cell_type": "code",
   "execution_count": 43,
   "id": "apart-spyware",
   "metadata": {},
   "outputs": [
    {
     "data": {
      "text/plain": [
       "array([4, 2, 3, 5, 1, 0, 3, 2, 3, 2])"
      ]
     },
     "execution_count": 43,
     "metadata": {},
     "output_type": "execute_result"
    }
   ],
   "source": [
    "y_test[:10]"
   ]
  },
  {
   "cell_type": "code",
   "execution_count": 44,
   "id": "prescribed-thunder",
   "metadata": {
    "scrolled": true
   },
   "outputs": [
    {
     "data": {
      "image/png": "[encoded data removed]",
      "text/plain": [
       "<Figure size 360x360 with 2 Axes>"
      ]
     },
     "metadata": {
      "needs_background": "light"
     },
     "output_type": "display_data"
    }
   ],
   "source": [
    "#Confusion matrix\n",
    "import seaborn as sns\n",
    "cm=confusion_matrix(y_test,y_pred_class)\n",
    "#Plot\n",
    "disp=ConfusionMatrixDisplay(confusion_matrix=cm,display_labels=file_label_dict_2)\n",
    "fig, ax = plt.subplots(figsize=(5,5))\n",
    "sns.heatmap(cm, annot=True, linewidths=0.01,cmap=\"Greens\",linecolor=\"gray\", fmt= '.1f',ax=ax)\n",
    "# disp.plot(ax=ax)\n",
    "plt.xlabel(\"Predicted Label\")\n",
    "plt.ylabel(\"True Label\")\n",
    "plt.title(\"Confusion Matrix\")\n",
    "# plt.savefig('conf_6_device_class_56.pdf',bbox_inches = 'tight', pad_inches = 0, dpi= 100)\n",
    "plt.show()"
   ]
  },
  {
   "cell_type": "code",
   "execution_count": 45,
   "id": "desperate-tulsa",
   "metadata": {},
   "outputs": [
    {
     "name": "stdout",
     "output_type": "stream",
     "text": [
      "6/6 [==============================] - 0s 2ms/step - loss: 0.8840 - accuracy: 0.5000\n",
      "Loss: 0.8840450644493103, Accuracy: 0.5\n",
      "Test accuracy :  50.0 %\n"
     ]
    }
   ],
   "source": [
    "loss, accuracy= model_2.evaluate(X_test_scaled, y_test)\n",
    "print(f'Loss: {loss}, Accuracy: {accuracy}')\n",
    "print('Test accuracy : ',accuracy*100,'%')"
   ]
  },
  {
   "cell_type": "code",
   "execution_count": 46,
   "id": "saved-drive",
   "metadata": {},
   "outputs": [],
   "source": [
    "# clf_report= classification_report(y_test, y_pred_class)\n",
    "# print(clf_report)"
   ]
  },
  {
   "cell_type": "code",
   "execution_count": 47,
   "id": "religious-invalid",
   "metadata": {},
   "outputs": [
    {
     "name": "stderr",
     "output_type": "stream",
     "text": [
      "C:\\Users\\mail2\\anaconda3\\envs\\tensorflow-gpu\\lib\\site-packages\\sklearn\\metrics\\_classification.py:1318: UndefinedMetricWarning: Precision and F-score are ill-defined and being set to 0.0 in labels with no predicted samples. Use `zero_division` parameter to control this behavior.\n",
      "  _warn_prf(average, modifier, msg_start, len(result))\n",
      "C:\\Users\\mail2\\anaconda3\\envs\\tensorflow-gpu\\lib\\site-packages\\sklearn\\metrics\\_classification.py:1318: UndefinedMetricWarning: Precision and F-score are ill-defined and being set to 0.0 in labels with no predicted samples. Use `zero_division` parameter to control this behavior.\n",
      "  _warn_prf(average, modifier, msg_start, len(result))\n",
      "C:\\Users\\mail2\\anaconda3\\envs\\tensorflow-gpu\\lib\\site-packages\\sklearn\\metrics\\_classification.py:1318: UndefinedMetricWarning: Precision and F-score are ill-defined and being set to 0.0 in labels with no predicted samples. Use `zero_division` parameter to control this behavior.\n",
      "  _warn_prf(average, modifier, msg_start, len(result))\n"
     ]
    },
    {
     "data": {
      "image/png": "[encoded data removed]",
      "text/plain": [
       "<Figure size 432x432 with 2 Axes>"
      ]
     },
     "metadata": {
      "needs_background": "light"
     },
     "output_type": "display_data"
    }
   ],
   "source": [
    "clf_report= classification_report(y_test, y_pred_class,output_dict=True)\n",
    "\n",
    " #.iloc[:-1, :] to exclude support\n",
    "fig, ax = plt.subplots(figsize=(6,6))\n",
    "\n",
    "# sns.heatmap(pd.DataFrame(clf_report).iloc[:-1, :].T, annot=True, cmap=\"Blues\",linecolor=\"black\", fmt= '.2f')\n",
    "ax = sns.heatmap(pd.DataFrame(clf_report).iloc[:-1, :].T, annot=True,linewidths=0.01,linecolor=\"black\", fmt= '.2f')# cmap=\"Blues\",\n",
    "ax.set(xlabel=\"\", ylabel=\"\")\n",
    "ax.xaxis.tick_top()\n",
    "# plt.savefig('clf_6_device_class_56.pdf',bbox_inches = 'tight', pad_inches = 0, dpi= 100)\n",
    "plt.show()"
   ]
  }
 ],
 "metadata": {
  "kernelspec": {
   "display_name": "Python 3 (ipykernel)",
   "language": "python",
   "name": "python3"
  },
  "language_info": {
   "codemirror_mode": {
    "name": "ipython",
    "version": 3
   },
   "file_extension": ".py",
   "mimetype": "text/x-python",
   "name": "python",
   "nbconvert_exporter": "python",
   "pygments_lexer": "ipython3",
   "version": "3.8.0"
  }
 },
 "nbformat": 4,
 "nbformat_minor": 5
}
