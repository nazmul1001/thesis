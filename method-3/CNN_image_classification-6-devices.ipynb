{
 "cells": [
  {
   "cell_type": "code",
   "execution_count": 23,
   "id": "proud-amount",
   "metadata": {},
   "outputs": [],
   "source": [
    "import pandas as pd\n",
    "import matplotlib.pyplot as plt\n",
    "import matplotlib.ticker as ticker\n",
    "import numpy as np\n",
    "import pathlib\n",
    "import os\n",
    "import PIL\n",
    "import cv2\n",
    "import tensorflow as tf\n",
    "from tensorflow import keras\n",
    "from tensorflow.keras import layers\n",
    "from sklearn.preprocessing import StandardScaler, MinMaxScaler\n",
    "from tensorflow.keras.models import Sequential\n",
    "from sklearn.metrics import plot_confusion_matrix, ConfusionMatrixDisplay, confusion_matrix, classification_report"
   ]
  },
  {
   "cell_type": "code",
   "execution_count": 24,
   "id": "vocational-ballot",
   "metadata": {},
   "outputs": [
    {
     "data": {
      "text/plain": [
       "'D:\\\\Rostock-Masters\\\\Thesis\\\\Data\\\\images_2000'"
      ]
     },
     "execution_count": 24,
     "metadata": {},
     "output_type": "execute_result"
    }
   ],
   "source": [
    "data_dir = (r'D:\\Rostock-Masters\\Thesis\\Data\\images_2000')\n",
    "data_dir"
   ]
  },
  {
   "cell_type": "code",
   "execution_count": 25,
   "id": "flying-sperm",
   "metadata": {
    "scrolled": true
   },
   "outputs": [
    {
     "data": {
      "text/plain": [
       "WindowsPath('D:/Rostock-Masters/Thesis/Data/images_2000')"
      ]
     },
     "execution_count": 25,
     "metadata": {},
     "output_type": "execute_result"
    }
   ],
   "source": [
    "import pathlib\n",
    "data_dir = pathlib.Path(data_dir)\n",
    "data_dir"
   ]
  },
  {
   "cell_type": "code",
   "execution_count": 26,
   "id": "innocent-mention",
   "metadata": {},
   "outputs": [
    {
     "data": {
      "text/plain": [
       "101"
      ]
     },
     "execution_count": 26,
     "metadata": {},
     "output_type": "execute_result"
    }
   ],
   "source": [
    "image_count_1 = list(data_dir.glob('Device_5/*'))\n",
    "len(image_count_1)"
   ]
  },
  {
   "cell_type": "code",
   "execution_count": 27,
   "id": "victorian-alliance",
   "metadata": {},
   "outputs": [
    {
     "data": {
      "text/plain": [
       "[WindowsPath('D:/Rostock-Masters/Thesis/Data/images_2000/device_1/desktop.ini'),\n",
       " WindowsPath('D:/Rostock-Masters/Thesis/Data/images_2000/device_1/device_1-0.jpg'),\n",
       " WindowsPath('D:/Rostock-Masters/Thesis/Data/images_2000/device_1/device_1-1.jpg'),\n",
       " WindowsPath('D:/Rostock-Masters/Thesis/Data/images_2000/device_1/device_1-10.jpg'),\n",
       " WindowsPath('D:/Rostock-Masters/Thesis/Data/images_2000/device_1/device_1-11.jpg')]"
      ]
     },
     "execution_count": 27,
     "metadata": {},
     "output_type": "execute_result"
    }
   ],
   "source": [
    "Device_1 = list(data_dir.glob('Device_1/*'))\n",
    "Device_1[:5]"
   ]
  },
  {
   "cell_type": "code",
   "execution_count": 28,
   "id": "informational-manufacturer",
   "metadata": {},
   "outputs": [
    {
     "data": {
      "image/png": "[encoded data removed]",
      "text/plain": [
       "<PIL.JpegImagePlugin.JpegImageFile image mode=RGB size=55x54>"
      ]
     },
     "execution_count": 28,
     "metadata": {},
     "output_type": "execute_result"
    }
   ],
   "source": [
    "PIL.Image.open(str(Device_1[1]))"
   ]
  },
  {
   "cell_type": "code",
   "execution_count": 29,
   "id": "chief-webcam",
   "metadata": {},
   "outputs": [],
   "source": [
    "device_image_dict = {\n",
    "    'Device_1' : list(data_dir.glob('Device_1/*.jpg')),\n",
    "    'Device_2' : list(data_dir.glob('Device_2/*.jpg')),\n",
    "    'Device_3' : list(data_dir.glob('Device_3/*.jpg')),\n",
    "    'Device_4' : list(data_dir.glob('Device_4/*.jpg')),\n",
    "    'Device_5' : list(data_dir.glob('Device_5/*.jpg')),\n",
    "    'Device_6' : list(data_dir.glob('Device_6/*.jpg'))\n",
    "}"
   ]
  },
  {
   "cell_type": "code",
   "execution_count": 30,
   "id": "weekly-grant",
   "metadata": {
    "scrolled": true
   },
   "outputs": [
    {
     "data": {
      "text/plain": [
       "WindowsPath('D:/Rostock-Masters/Thesis/Data/images_2000/device_1/device_1-13.jpg')"
      ]
     },
     "execution_count": 30,
     "metadata": {},
     "output_type": "execute_result"
    }
   ],
   "source": [
    "device_image_dict['Device_1'][5]"
   ]
  },
  {
   "cell_type": "code",
   "execution_count": 31,
   "id": "universal-abortion",
   "metadata": {},
   "outputs": [
    {
     "data": {
      "image/png": "[encoded data removed]",
      "text/plain": [
       "<PIL.JpegImagePlugin.JpegImageFile image mode=RGB size=55x54>"
      ]
     },
     "execution_count": 31,
     "metadata": {},
     "output_type": "execute_result"
    }
   ],
   "source": [
    "PIL.Image.open(str(device_image_dict['Device_5'][60]))"
   ]
  },
  {
   "cell_type": "code",
   "execution_count": 32,
   "id": "arranged-reducing",
   "metadata": {},
   "outputs": [],
   "source": [
    "devices_label_dict = {\n",
    "    'Device_1' : 0,\n",
    "    'Device_2' : 1,\n",
    "    'Device_3' : 2,\n",
    "    'Device_4' : 3,\n",
    "    'Device_5' : 4,\n",
    "    'Device_6' : 5,\n",
    "}"
   ]
  },
  {
   "cell_type": "code",
   "execution_count": 33,
   "id": "political-nickname",
   "metadata": {},
   "outputs": [
    {
     "data": {
      "text/plain": [
       "100"
      ]
     },
     "execution_count": 33,
     "metadata": {},
     "output_type": "execute_result"
    }
   ],
   "source": [
    "len(device_image_dict['Device_4'])"
   ]
  },
  {
   "cell_type": "code",
   "execution_count": 34,
   "id": "improving-slope",
   "metadata": {},
   "outputs": [
    {
     "data": {
      "text/plain": [
       "'D:\\\\Rostock-Masters\\\\Thesis\\\\Data\\\\images_2000\\\\device_3\\\\device_3-0.jpg'"
      ]
     },
     "execution_count": 34,
     "metadata": {},
     "output_type": "execute_result"
    }
   ],
   "source": [
    "str(device_image_dict['Device_3'][0])"
   ]
  },
  {
   "cell_type": "markdown",
   "id": "superb-patent",
   "metadata": {},
   "source": [
    "### Classification"
   ]
  },
  {
   "cell_type": "code",
   "execution_count": 35,
   "id": "silver-acrobat",
   "metadata": {},
   "outputs": [],
   "source": [
    "##Plot some random images\n",
    "\n",
    "# plt.figure(figsize = (6, 6))\n",
    "\n",
    "# for i in range(12):\n",
    "#     plt.subplot(4, 4, i+1)\n",
    "#     image_2= cv2.imread (str(device_image_dict['Device_1'][i]))\n",
    "#     RGB_img = cv2.cvtColor(image_2, cv2.COLOR_BGR2RGB)\n",
    "#     plt.imshow (RGB_img)\n",
    "#     plt.axis('off')\n",
    "# plt.savefig('subplot_random_images.png', dpi= 100)    \n",
    "# plt.show()"
   ]
  },
  {
   "cell_type": "code",
   "execution_count": 36,
   "id": "damaged-uncle",
   "metadata": {},
   "outputs": [
    {
     "data": {
      "image/png": "[encoded data removed]",
      "text/plain": [
       "<PIL.JpegImagePlugin.JpegImageFile image mode=RGB size=55x54>"
      ]
     },
     "execution_count": 36,
     "metadata": {},
     "output_type": "execute_result"
    }
   ],
   "source": [
    "image_1= PIL.Image.open(str(device_image_dict['Device_4'][50]))\n",
    "image_1"
   ]
  },
  {
   "cell_type": "code",
   "execution_count": 37,
   "id": "italian-modeling",
   "metadata": {},
   "outputs": [
    {
     "data": {
      "image/png": "[encoded data removed]",
      "text/plain": [
       "<PIL.Image.Image image mode=RGB size=55x54>"
      ]
     },
     "execution_count": 37,
     "metadata": {},
     "output_type": "execute_result"
    }
   ],
   "source": [
    "#Reading with cv2\n",
    "image_2= cv2.imread (str(device_image_dict['Device_4'][50]))\n",
    "#Converting to RGB\n",
    "RGB_img = cv2.cvtColor(image_2, cv2.COLOR_BGR2RGB)\n",
    "#plotting RGB images\n",
    "image_3 = PIL.Image.fromarray(RGB_img)\n",
    "image_3"
   ]
  },
  {
   "cell_type": "code",
   "execution_count": 38,
   "id": "split-white",
   "metadata": {
    "scrolled": true
   },
   "outputs": [
    {
     "data": {
      "text/plain": [
       "array([[[253, 255, 254],\n",
       "        [253, 255, 254],\n",
       "        [255, 255, 254],\n",
       "        ...,\n",
       "        [255, 255, 255],\n",
       "        [255, 255, 255],\n",
       "        [255, 255, 255]],\n",
       "\n",
       "       [[253, 255, 254],\n",
       "        [253, 255, 254],\n",
       "        [255, 255, 254],\n",
       "        ...,\n",
       "        [255, 255, 255],\n",
       "        [255, 255, 255],\n",
       "        [255, 255, 255]],\n",
       "\n",
       "       [[251, 255, 255],\n",
       "        [253, 255, 255],\n",
       "        [253, 255, 255],\n",
       "        ...,\n",
       "        [255, 255, 255],\n",
       "        [255, 255, 255],\n",
       "        [255, 255, 255]],\n",
       "\n",
       "       ...,\n",
       "\n",
       "       [[255, 255, 255],\n",
       "        [255, 255, 255],\n",
       "        [255, 255, 255],\n",
       "        ...,\n",
       "        [255, 255, 255],\n",
       "        [255, 255, 255],\n",
       "        [255, 255, 255]],\n",
       "\n",
       "       [[255, 255, 255],\n",
       "        [255, 255, 255],\n",
       "        [255, 255, 255],\n",
       "        ...,\n",
       "        [255, 255, 255],\n",
       "        [255, 255, 255],\n",
       "        [255, 255, 255]],\n",
       "\n",
       "       [[255, 255, 255],\n",
       "        [255, 255, 255],\n",
       "        [255, 255, 255],\n",
       "        ...,\n",
       "        [255, 255, 255],\n",
       "        [255, 255, 255],\n",
       "        [255, 255, 255]]], dtype=uint8)"
      ]
     },
     "execution_count": 38,
     "metadata": {},
     "output_type": "execute_result"
    }
   ],
   "source": [
    "img = cv2.imread(str(device_image_dict['Device_5'][50]))\n",
    "img"
   ]
  },
  {
   "cell_type": "code",
   "execution_count": 39,
   "id": "loving-kidney",
   "metadata": {},
   "outputs": [
    {
     "name": "stdout",
     "output_type": "stream",
     "text": [
      "Device_1 : 100\n",
      "Device_2 : 100\n",
      "Device_3 : 100\n",
      "Device_4 : 100\n",
      "Device_5 : 100\n",
      "Device_6 : 100\n",
      "Total numbers of images are: 600\n"
     ]
    }
   ],
   "source": [
    "lst= []\n",
    "for device_name, images in device_image_dict.items():\n",
    "    print (device_name, ':',end = ' ')\n",
    "    print(len(images))\n",
    "    lst.append(len(images))\n",
    "print(f'Total numbers of images are: {sum(lst)}')"
   ]
  },
  {
   "cell_type": "code",
   "execution_count": 40,
   "id": "stylish-commodity",
   "metadata": {},
   "outputs": [],
   "source": [
    "# X, y = [],[]\n",
    "\n",
    "# for device_name, folder in device_image_dict.items():\n",
    "#     for image in folder:\n",
    "#         img = cv2.imread(str(image))\n",
    "#         resized_img = cv2.resize(img,(30,30))\n",
    "#         X.append(resized_img)\n",
    "#         y.append(devices_label_dict[device_name])"
   ]
  },
  {
   "cell_type": "markdown",
   "id": "fundamental-sitting",
   "metadata": {},
   "source": [
    "# Image shape"
   ]
  },
  {
   "cell_type": "code",
   "execution_count": 41,
   "id": "resident-documentation",
   "metadata": {},
   "outputs": [],
   "source": [
    "#Saving image data to a dataframe\n",
    "device_list, label_list = [],[]\n",
    "\n",
    "for device_name, folder in device_image_dict.items():\n",
    "    for image in folder:\n",
    "        img = cv2.imread(str(image))\n",
    "        resized_img = cv2.resize(img,(35,35))\n",
    "        flattened = resized_img.reshape(-1)\n",
    "        df_flat= pd.DataFrame(flattened.reshape(1,-1))\n",
    "        device_list.append(df_flat)\n",
    "        label_list.append(devices_label_dict[device_name])"
   ]
  },
  {
   "cell_type": "code",
   "execution_count": 42,
   "id": "compact-yukon",
   "metadata": {},
   "outputs": [
    {
     "data": {
      "text/html": [
       "<div>\n",
       "<style scoped>\n",
       "    .dataframe tbody tr th:only-of-type {\n",
       "        vertical-align: middle;\n",
       "    }\n",
       "\n",
       "    .dataframe tbody tr th {\n",
       "        vertical-align: top;\n",
       "    }\n",
       "\n",
       "    .dataframe thead th {\n",
       "        text-align: right;\n",
       "    }\n",
       "</style>\n",
       "<table border=\"1\" class=\"dataframe\">\n",
       "  <thead>\n",
       "    <tr style=\"text-align: right;\">\n",
       "      <th></th>\n",
       "      <th>0</th>\n",
       "      <th>1</th>\n",
       "      <th>2</th>\n",
       "      <th>3</th>\n",
       "      <th>4</th>\n",
       "      <th>5</th>\n",
       "      <th>6</th>\n",
       "      <th>7</th>\n",
       "      <th>8</th>\n",
       "      <th>9</th>\n",
       "      <th>...</th>\n",
       "      <th>3665</th>\n",
       "      <th>3666</th>\n",
       "      <th>3667</th>\n",
       "      <th>3668</th>\n",
       "      <th>3669</th>\n",
       "      <th>3670</th>\n",
       "      <th>3671</th>\n",
       "      <th>3672</th>\n",
       "      <th>3673</th>\n",
       "      <th>3674</th>\n",
       "    </tr>\n",
       "  </thead>\n",
       "  <tbody>\n",
       "    <tr>\n",
       "      <th>0</th>\n",
       "      <td>253</td>\n",
       "      <td>250</td>\n",
       "      <td>255</td>\n",
       "      <td>255</td>\n",
       "      <td>249</td>\n",
       "      <td>246</td>\n",
       "      <td>255</td>\n",
       "      <td>253</td>\n",
       "      <td>251</td>\n",
       "      <td>255</td>\n",
       "      <td>...</td>\n",
       "      <td>255</td>\n",
       "      <td>255</td>\n",
       "      <td>255</td>\n",
       "      <td>255</td>\n",
       "      <td>255</td>\n",
       "      <td>255</td>\n",
       "      <td>255</td>\n",
       "      <td>255</td>\n",
       "      <td>255</td>\n",
       "      <td>255</td>\n",
       "    </tr>\n",
       "  </tbody>\n",
       "</table>\n",
       "<p>1 rows × 3675 columns</p>\n",
       "</div>"
      ],
      "text/plain": [
       "   0     1     2     3     4     5     6     7     8     9     ...  3665  \\\n",
       "0   253   250   255   255   249   246   255   253   251   255  ...   255   \n",
       "\n",
       "   3666  3667  3668  3669  3670  3671  3672  3673  3674  \n",
       "0   255   255   255   255   255   255   255   255   255  \n",
       "\n",
       "[1 rows x 3675 columns]"
      ]
     },
     "execution_count": 42,
     "metadata": {},
     "output_type": "execute_result"
    }
   ],
   "source": [
    "device_list[300]"
   ]
  },
  {
   "cell_type": "code",
   "execution_count": 43,
   "id": "unlike-uganda",
   "metadata": {
    "scrolled": true
   },
   "outputs": [
    {
     "data": {
      "text/html": [
       "<div>\n",
       "<style scoped>\n",
       "    .dataframe tbody tr th:only-of-type {\n",
       "        vertical-align: middle;\n",
       "    }\n",
       "\n",
       "    .dataframe tbody tr th {\n",
       "        vertical-align: top;\n",
       "    }\n",
       "\n",
       "    .dataframe thead th {\n",
       "        text-align: right;\n",
       "    }\n",
       "</style>\n",
       "<table border=\"1\" class=\"dataframe\">\n",
       "  <thead>\n",
       "    <tr style=\"text-align: right;\">\n",
       "      <th></th>\n",
       "      <th>0</th>\n",
       "      <th>1</th>\n",
       "      <th>2</th>\n",
       "      <th>3</th>\n",
       "      <th>4</th>\n",
       "      <th>5</th>\n",
       "      <th>6</th>\n",
       "      <th>7</th>\n",
       "      <th>8</th>\n",
       "      <th>9</th>\n",
       "      <th>...</th>\n",
       "      <th>3665</th>\n",
       "      <th>3666</th>\n",
       "      <th>3667</th>\n",
       "      <th>3668</th>\n",
       "      <th>3669</th>\n",
       "      <th>3670</th>\n",
       "      <th>3671</th>\n",
       "      <th>3672</th>\n",
       "      <th>3673</th>\n",
       "      <th>3674</th>\n",
       "    </tr>\n",
       "  </thead>\n",
       "  <tbody>\n",
       "    <tr>\n",
       "      <th>0</th>\n",
       "      <td>250</td>\n",
       "      <td>251</td>\n",
       "      <td>255</td>\n",
       "      <td>253</td>\n",
       "      <td>253</td>\n",
       "      <td>255</td>\n",
       "      <td>252</td>\n",
       "      <td>249</td>\n",
       "      <td>248</td>\n",
       "      <td>255</td>\n",
       "      <td>...</td>\n",
       "      <td>255</td>\n",
       "      <td>255</td>\n",
       "      <td>255</td>\n",
       "      <td>255</td>\n",
       "      <td>255</td>\n",
       "      <td>255</td>\n",
       "      <td>255</td>\n",
       "      <td>255</td>\n",
       "      <td>255</td>\n",
       "      <td>255</td>\n",
       "    </tr>\n",
       "    <tr>\n",
       "      <th>1</th>\n",
       "      <td>228</td>\n",
       "      <td>250</td>\n",
       "      <td>255</td>\n",
       "      <td>253</td>\n",
       "      <td>253</td>\n",
       "      <td>239</td>\n",
       "      <td>255</td>\n",
       "      <td>255</td>\n",
       "      <td>239</td>\n",
       "      <td>255</td>\n",
       "      <td>...</td>\n",
       "      <td>255</td>\n",
       "      <td>255</td>\n",
       "      <td>255</td>\n",
       "      <td>255</td>\n",
       "      <td>255</td>\n",
       "      <td>255</td>\n",
       "      <td>255</td>\n",
       "      <td>255</td>\n",
       "      <td>255</td>\n",
       "      <td>255</td>\n",
       "    </tr>\n",
       "    <tr>\n",
       "      <th>2</th>\n",
       "      <td>251</td>\n",
       "      <td>253</td>\n",
       "      <td>254</td>\n",
       "      <td>246</td>\n",
       "      <td>246</td>\n",
       "      <td>250</td>\n",
       "      <td>250</td>\n",
       "      <td>255</td>\n",
       "      <td>252</td>\n",
       "      <td>248</td>\n",
       "      <td>...</td>\n",
       "      <td>255</td>\n",
       "      <td>255</td>\n",
       "      <td>255</td>\n",
       "      <td>255</td>\n",
       "      <td>255</td>\n",
       "      <td>255</td>\n",
       "      <td>255</td>\n",
       "      <td>255</td>\n",
       "      <td>255</td>\n",
       "      <td>255</td>\n",
       "    </tr>\n",
       "    <tr>\n",
       "      <th>3</th>\n",
       "      <td>242</td>\n",
       "      <td>250</td>\n",
       "      <td>255</td>\n",
       "      <td>254</td>\n",
       "      <td>252</td>\n",
       "      <td>244</td>\n",
       "      <td>255</td>\n",
       "      <td>254</td>\n",
       "      <td>247</td>\n",
       "      <td>245</td>\n",
       "      <td>...</td>\n",
       "      <td>255</td>\n",
       "      <td>255</td>\n",
       "      <td>255</td>\n",
       "      <td>255</td>\n",
       "      <td>255</td>\n",
       "      <td>255</td>\n",
       "      <td>255</td>\n",
       "      <td>255</td>\n",
       "      <td>255</td>\n",
       "      <td>255</td>\n",
       "    </tr>\n",
       "    <tr>\n",
       "      <th>4</th>\n",
       "      <td>253</td>\n",
       "      <td>244</td>\n",
       "      <td>255</td>\n",
       "      <td>238</td>\n",
       "      <td>251</td>\n",
       "      <td>241</td>\n",
       "      <td>238</td>\n",
       "      <td>254</td>\n",
       "      <td>247</td>\n",
       "      <td>247</td>\n",
       "      <td>...</td>\n",
       "      <td>255</td>\n",
       "      <td>255</td>\n",
       "      <td>255</td>\n",
       "      <td>255</td>\n",
       "      <td>255</td>\n",
       "      <td>255</td>\n",
       "      <td>255</td>\n",
       "      <td>255</td>\n",
       "      <td>255</td>\n",
       "      <td>255</td>\n",
       "    </tr>\n",
       "    <tr>\n",
       "      <th>...</th>\n",
       "      <td>...</td>\n",
       "      <td>...</td>\n",
       "      <td>...</td>\n",
       "      <td>...</td>\n",
       "      <td>...</td>\n",
       "      <td>...</td>\n",
       "      <td>...</td>\n",
       "      <td>...</td>\n",
       "      <td>...</td>\n",
       "      <td>...</td>\n",
       "      <td>...</td>\n",
       "      <td>...</td>\n",
       "      <td>...</td>\n",
       "      <td>...</td>\n",
       "      <td>...</td>\n",
       "      <td>...</td>\n",
       "      <td>...</td>\n",
       "      <td>...</td>\n",
       "      <td>...</td>\n",
       "      <td>...</td>\n",
       "      <td>...</td>\n",
       "    </tr>\n",
       "    <tr>\n",
       "      <th>595</th>\n",
       "      <td>233</td>\n",
       "      <td>248</td>\n",
       "      <td>255</td>\n",
       "      <td>253</td>\n",
       "      <td>254</td>\n",
       "      <td>246</td>\n",
       "      <td>255</td>\n",
       "      <td>255</td>\n",
       "      <td>240</td>\n",
       "      <td>252</td>\n",
       "      <td>...</td>\n",
       "      <td>255</td>\n",
       "      <td>255</td>\n",
       "      <td>255</td>\n",
       "      <td>255</td>\n",
       "      <td>255</td>\n",
       "      <td>255</td>\n",
       "      <td>255</td>\n",
       "      <td>255</td>\n",
       "      <td>255</td>\n",
       "      <td>255</td>\n",
       "    </tr>\n",
       "    <tr>\n",
       "      <th>596</th>\n",
       "      <td>230</td>\n",
       "      <td>245</td>\n",
       "      <td>255</td>\n",
       "      <td>253</td>\n",
       "      <td>252</td>\n",
       "      <td>249</td>\n",
       "      <td>253</td>\n",
       "      <td>252</td>\n",
       "      <td>243</td>\n",
       "      <td>249</td>\n",
       "      <td>...</td>\n",
       "      <td>255</td>\n",
       "      <td>255</td>\n",
       "      <td>255</td>\n",
       "      <td>255</td>\n",
       "      <td>255</td>\n",
       "      <td>255</td>\n",
       "      <td>255</td>\n",
       "      <td>255</td>\n",
       "      <td>255</td>\n",
       "      <td>255</td>\n",
       "    </tr>\n",
       "    <tr>\n",
       "      <th>597</th>\n",
       "      <td>226</td>\n",
       "      <td>247</td>\n",
       "      <td>255</td>\n",
       "      <td>252</td>\n",
       "      <td>254</td>\n",
       "      <td>249</td>\n",
       "      <td>254</td>\n",
       "      <td>253</td>\n",
       "      <td>240</td>\n",
       "      <td>250</td>\n",
       "      <td>...</td>\n",
       "      <td>255</td>\n",
       "      <td>255</td>\n",
       "      <td>255</td>\n",
       "      <td>255</td>\n",
       "      <td>255</td>\n",
       "      <td>255</td>\n",
       "      <td>255</td>\n",
       "      <td>255</td>\n",
       "      <td>255</td>\n",
       "      <td>255</td>\n",
       "    </tr>\n",
       "    <tr>\n",
       "      <th>598</th>\n",
       "      <td>245</td>\n",
       "      <td>249</td>\n",
       "      <td>249</td>\n",
       "      <td>251</td>\n",
       "      <td>251</td>\n",
       "      <td>255</td>\n",
       "      <td>249</td>\n",
       "      <td>255</td>\n",
       "      <td>252</td>\n",
       "      <td>248</td>\n",
       "      <td>...</td>\n",
       "      <td>255</td>\n",
       "      <td>255</td>\n",
       "      <td>255</td>\n",
       "      <td>255</td>\n",
       "      <td>255</td>\n",
       "      <td>255</td>\n",
       "      <td>255</td>\n",
       "      <td>255</td>\n",
       "      <td>255</td>\n",
       "      <td>255</td>\n",
       "    </tr>\n",
       "    <tr>\n",
       "      <th>599</th>\n",
       "      <td>255</td>\n",
       "      <td>255</td>\n",
       "      <td>249</td>\n",
       "      <td>250</td>\n",
       "      <td>247</td>\n",
       "      <td>255</td>\n",
       "      <td>244</td>\n",
       "      <td>251</td>\n",
       "      <td>255</td>\n",
       "      <td>239</td>\n",
       "      <td>...</td>\n",
       "      <td>255</td>\n",
       "      <td>255</td>\n",
       "      <td>255</td>\n",
       "      <td>255</td>\n",
       "      <td>255</td>\n",
       "      <td>255</td>\n",
       "      <td>255</td>\n",
       "      <td>255</td>\n",
       "      <td>255</td>\n",
       "      <td>255</td>\n",
       "    </tr>\n",
       "  </tbody>\n",
       "</table>\n",
       "<p>600 rows × 3675 columns</p>\n",
       "</div>"
      ],
      "text/plain": [
       "     0     1     2     3     4     5     6     7     8     9     ...  3665  \\\n",
       "0     250   251   255   253   253   255   252   249   248   255  ...   255   \n",
       "1     228   250   255   253   253   239   255   255   239   255  ...   255   \n",
       "2     251   253   254   246   246   250   250   255   252   248  ...   255   \n",
       "3     242   250   255   254   252   244   255   254   247   245  ...   255   \n",
       "4     253   244   255   238   251   241   238   254   247   247  ...   255   \n",
       "..    ...   ...   ...   ...   ...   ...   ...   ...   ...   ...  ...   ...   \n",
       "595   233   248   255   253   254   246   255   255   240   252  ...   255   \n",
       "596   230   245   255   253   252   249   253   252   243   249  ...   255   \n",
       "597   226   247   255   252   254   249   254   253   240   250  ...   255   \n",
       "598   245   249   249   251   251   255   249   255   252   248  ...   255   \n",
       "599   255   255   249   250   247   255   244   251   255   239  ...   255   \n",
       "\n",
       "     3666  3667  3668  3669  3670  3671  3672  3673  3674  \n",
       "0     255   255   255   255   255   255   255   255   255  \n",
       "1     255   255   255   255   255   255   255   255   255  \n",
       "2     255   255   255   255   255   255   255   255   255  \n",
       "3     255   255   255   255   255   255   255   255   255  \n",
       "4     255   255   255   255   255   255   255   255   255  \n",
       "..    ...   ...   ...   ...   ...   ...   ...   ...   ...  \n",
       "595   255   255   255   255   255   255   255   255   255  \n",
       "596   255   255   255   255   255   255   255   255   255  \n",
       "597   255   255   255   255   255   255   255   255   255  \n",
       "598   255   255   255   255   255   255   255   255   255  \n",
       "599   255   255   255   255   255   255   255   255   255  \n",
       "\n",
       "[600 rows x 3675 columns]"
      ]
     },
     "execution_count": 43,
     "metadata": {},
     "output_type": "execute_result"
    }
   ],
   "source": [
    "df_merged= pd.concat(device_list)\n",
    "df_merged= df_merged.reset_index(drop=True)\n",
    "df_merged"
   ]
  },
  {
   "cell_type": "code",
   "execution_count": 44,
   "id": "sticky-minimum",
   "metadata": {},
   "outputs": [
    {
     "data": {
      "text/html": [
       "<div>\n",
       "<style scoped>\n",
       "    .dataframe tbody tr th:only-of-type {\n",
       "        vertical-align: middle;\n",
       "    }\n",
       "\n",
       "    .dataframe tbody tr th {\n",
       "        vertical-align: top;\n",
       "    }\n",
       "\n",
       "    .dataframe thead th {\n",
       "        text-align: right;\n",
       "    }\n",
       "</style>\n",
       "<table border=\"1\" class=\"dataframe\">\n",
       "  <thead>\n",
       "    <tr style=\"text-align: right;\">\n",
       "      <th></th>\n",
       "      <th>0</th>\n",
       "      <th>1</th>\n",
       "      <th>2</th>\n",
       "      <th>3</th>\n",
       "      <th>4</th>\n",
       "      <th>5</th>\n",
       "      <th>6</th>\n",
       "      <th>7</th>\n",
       "      <th>8</th>\n",
       "      <th>9</th>\n",
       "      <th>...</th>\n",
       "      <th>3666</th>\n",
       "      <th>3667</th>\n",
       "      <th>3668</th>\n",
       "      <th>3669</th>\n",
       "      <th>3670</th>\n",
       "      <th>3671</th>\n",
       "      <th>3672</th>\n",
       "      <th>3673</th>\n",
       "      <th>3674</th>\n",
       "      <th>label</th>\n",
       "    </tr>\n",
       "  </thead>\n",
       "  <tbody>\n",
       "    <tr>\n",
       "      <th>0</th>\n",
       "      <td>255</td>\n",
       "      <td>255</td>\n",
       "      <td>244</td>\n",
       "      <td>251</td>\n",
       "      <td>253</td>\n",
       "      <td>251</td>\n",
       "      <td>244</td>\n",
       "      <td>253</td>\n",
       "      <td>255</td>\n",
       "      <td>247</td>\n",
       "      <td>...</td>\n",
       "      <td>255</td>\n",
       "      <td>255</td>\n",
       "      <td>255</td>\n",
       "      <td>255</td>\n",
       "      <td>255</td>\n",
       "      <td>255</td>\n",
       "      <td>255</td>\n",
       "      <td>255</td>\n",
       "      <td>255</td>\n",
       "      <td>3</td>\n",
       "    </tr>\n",
       "    <tr>\n",
       "      <th>1</th>\n",
       "      <td>240</td>\n",
       "      <td>254</td>\n",
       "      <td>254</td>\n",
       "      <td>251</td>\n",
       "      <td>245</td>\n",
       "      <td>250</td>\n",
       "      <td>254</td>\n",
       "      <td>250</td>\n",
       "      <td>249</td>\n",
       "      <td>254</td>\n",
       "      <td>...</td>\n",
       "      <td>255</td>\n",
       "      <td>255</td>\n",
       "      <td>255</td>\n",
       "      <td>255</td>\n",
       "      <td>255</td>\n",
       "      <td>255</td>\n",
       "      <td>255</td>\n",
       "      <td>255</td>\n",
       "      <td>255</td>\n",
       "      <td>3</td>\n",
       "    </tr>\n",
       "    <tr>\n",
       "      <th>2</th>\n",
       "      <td>234</td>\n",
       "      <td>254</td>\n",
       "      <td>254</td>\n",
       "      <td>253</td>\n",
       "      <td>246</td>\n",
       "      <td>255</td>\n",
       "      <td>253</td>\n",
       "      <td>249</td>\n",
       "      <td>254</td>\n",
       "      <td>248</td>\n",
       "      <td>...</td>\n",
       "      <td>255</td>\n",
       "      <td>255</td>\n",
       "      <td>255</td>\n",
       "      <td>255</td>\n",
       "      <td>255</td>\n",
       "      <td>255</td>\n",
       "      <td>255</td>\n",
       "      <td>255</td>\n",
       "      <td>255</td>\n",
       "      <td>5</td>\n",
       "    </tr>\n",
       "    <tr>\n",
       "      <th>3</th>\n",
       "      <td>254</td>\n",
       "      <td>251</td>\n",
       "      <td>255</td>\n",
       "      <td>255</td>\n",
       "      <td>252</td>\n",
       "      <td>255</td>\n",
       "      <td>247</td>\n",
       "      <td>254</td>\n",
       "      <td>249</td>\n",
       "      <td>244</td>\n",
       "      <td>...</td>\n",
       "      <td>255</td>\n",
       "      <td>255</td>\n",
       "      <td>255</td>\n",
       "      <td>255</td>\n",
       "      <td>255</td>\n",
       "      <td>255</td>\n",
       "      <td>255</td>\n",
       "      <td>255</td>\n",
       "      <td>255</td>\n",
       "      <td>1</td>\n",
       "    </tr>\n",
       "    <tr>\n",
       "      <th>4</th>\n",
       "      <td>244</td>\n",
       "      <td>251</td>\n",
       "      <td>255</td>\n",
       "      <td>246</td>\n",
       "      <td>248</td>\n",
       "      <td>251</td>\n",
       "      <td>255</td>\n",
       "      <td>255</td>\n",
       "      <td>251</td>\n",
       "      <td>255</td>\n",
       "      <td>...</td>\n",
       "      <td>255</td>\n",
       "      <td>255</td>\n",
       "      <td>255</td>\n",
       "      <td>255</td>\n",
       "      <td>255</td>\n",
       "      <td>255</td>\n",
       "      <td>255</td>\n",
       "      <td>255</td>\n",
       "      <td>255</td>\n",
       "      <td>1</td>\n",
       "    </tr>\n",
       "    <tr>\n",
       "      <th>...</th>\n",
       "      <td>...</td>\n",
       "      <td>...</td>\n",
       "      <td>...</td>\n",
       "      <td>...</td>\n",
       "      <td>...</td>\n",
       "      <td>...</td>\n",
       "      <td>...</td>\n",
       "      <td>...</td>\n",
       "      <td>...</td>\n",
       "      <td>...</td>\n",
       "      <td>...</td>\n",
       "      <td>...</td>\n",
       "      <td>...</td>\n",
       "      <td>...</td>\n",
       "      <td>...</td>\n",
       "      <td>...</td>\n",
       "      <td>...</td>\n",
       "      <td>...</td>\n",
       "      <td>...</td>\n",
       "      <td>...</td>\n",
       "      <td>...</td>\n",
       "    </tr>\n",
       "    <tr>\n",
       "      <th>595</th>\n",
       "      <td>239</td>\n",
       "      <td>250</td>\n",
       "      <td>255</td>\n",
       "      <td>243</td>\n",
       "      <td>249</td>\n",
       "      <td>251</td>\n",
       "      <td>255</td>\n",
       "      <td>255</td>\n",
       "      <td>251</td>\n",
       "      <td>255</td>\n",
       "      <td>...</td>\n",
       "      <td>255</td>\n",
       "      <td>255</td>\n",
       "      <td>255</td>\n",
       "      <td>255</td>\n",
       "      <td>255</td>\n",
       "      <td>255</td>\n",
       "      <td>255</td>\n",
       "      <td>255</td>\n",
       "      <td>255</td>\n",
       "      <td>5</td>\n",
       "    </tr>\n",
       "    <tr>\n",
       "      <th>596</th>\n",
       "      <td>249</td>\n",
       "      <td>253</td>\n",
       "      <td>254</td>\n",
       "      <td>246</td>\n",
       "      <td>250</td>\n",
       "      <td>254</td>\n",
       "      <td>251</td>\n",
       "      <td>252</td>\n",
       "      <td>249</td>\n",
       "      <td>255</td>\n",
       "      <td>...</td>\n",
       "      <td>255</td>\n",
       "      <td>255</td>\n",
       "      <td>255</td>\n",
       "      <td>255</td>\n",
       "      <td>255</td>\n",
       "      <td>255</td>\n",
       "      <td>255</td>\n",
       "      <td>255</td>\n",
       "      <td>255</td>\n",
       "      <td>2</td>\n",
       "    </tr>\n",
       "    <tr>\n",
       "      <th>597</th>\n",
       "      <td>255</td>\n",
       "      <td>249</td>\n",
       "      <td>254</td>\n",
       "      <td>252</td>\n",
       "      <td>253</td>\n",
       "      <td>250</td>\n",
       "      <td>248</td>\n",
       "      <td>255</td>\n",
       "      <td>247</td>\n",
       "      <td>255</td>\n",
       "      <td>...</td>\n",
       "      <td>255</td>\n",
       "      <td>255</td>\n",
       "      <td>255</td>\n",
       "      <td>255</td>\n",
       "      <td>255</td>\n",
       "      <td>255</td>\n",
       "      <td>255</td>\n",
       "      <td>255</td>\n",
       "      <td>255</td>\n",
       "      <td>2</td>\n",
       "    </tr>\n",
       "    <tr>\n",
       "      <th>598</th>\n",
       "      <td>242</td>\n",
       "      <td>244</td>\n",
       "      <td>255</td>\n",
       "      <td>254</td>\n",
       "      <td>253</td>\n",
       "      <td>243</td>\n",
       "      <td>255</td>\n",
       "      <td>255</td>\n",
       "      <td>240</td>\n",
       "      <td>247</td>\n",
       "      <td>...</td>\n",
       "      <td>255</td>\n",
       "      <td>255</td>\n",
       "      <td>255</td>\n",
       "      <td>255</td>\n",
       "      <td>255</td>\n",
       "      <td>255</td>\n",
       "      <td>255</td>\n",
       "      <td>255</td>\n",
       "      <td>255</td>\n",
       "      <td>0</td>\n",
       "    </tr>\n",
       "    <tr>\n",
       "      <th>599</th>\n",
       "      <td>255</td>\n",
       "      <td>255</td>\n",
       "      <td>255</td>\n",
       "      <td>255</td>\n",
       "      <td>255</td>\n",
       "      <td>255</td>\n",
       "      <td>255</td>\n",
       "      <td>255</td>\n",
       "      <td>255</td>\n",
       "      <td>255</td>\n",
       "      <td>...</td>\n",
       "      <td>255</td>\n",
       "      <td>252</td>\n",
       "      <td>241</td>\n",
       "      <td>255</td>\n",
       "      <td>255</td>\n",
       "      <td>247</td>\n",
       "      <td>254</td>\n",
       "      <td>254</td>\n",
       "      <td>249</td>\n",
       "      <td>2</td>\n",
       "    </tr>\n",
       "  </tbody>\n",
       "</table>\n",
       "<p>600 rows × 3676 columns</p>\n",
       "</div>"
      ],
      "text/plain": [
       "       0    1    2    3    4    5    6    7    8    9  ...  3666  3667  3668  \\\n",
       "0    255  255  244  251  253  251  244  253  255  247  ...   255   255   255   \n",
       "1    240  254  254  251  245  250  254  250  249  254  ...   255   255   255   \n",
       "2    234  254  254  253  246  255  253  249  254  248  ...   255   255   255   \n",
       "3    254  251  255  255  252  255  247  254  249  244  ...   255   255   255   \n",
       "4    244  251  255  246  248  251  255  255  251  255  ...   255   255   255   \n",
       "..   ...  ...  ...  ...  ...  ...  ...  ...  ...  ...  ...   ...   ...   ...   \n",
       "595  239  250  255  243  249  251  255  255  251  255  ...   255   255   255   \n",
       "596  249  253  254  246  250  254  251  252  249  255  ...   255   255   255   \n",
       "597  255  249  254  252  253  250  248  255  247  255  ...   255   255   255   \n",
       "598  242  244  255  254  253  243  255  255  240  247  ...   255   255   255   \n",
       "599  255  255  255  255  255  255  255  255  255  255  ...   255   252   241   \n",
       "\n",
       "     3669  3670  3671  3672  3673  3674  label  \n",
       "0     255   255   255   255   255   255      3  \n",
       "1     255   255   255   255   255   255      3  \n",
       "2     255   255   255   255   255   255      5  \n",
       "3     255   255   255   255   255   255      1  \n",
       "4     255   255   255   255   255   255      1  \n",
       "..    ...   ...   ...   ...   ...   ...    ...  \n",
       "595   255   255   255   255   255   255      5  \n",
       "596   255   255   255   255   255   255      2  \n",
       "597   255   255   255   255   255   255      2  \n",
       "598   255   255   255   255   255   255      0  \n",
       "599   255   255   247   254   254   249      2  \n",
       "\n",
       "[600 rows x 3676 columns]"
      ]
     },
     "execution_count": 44,
     "metadata": {},
     "output_type": "execute_result"
    }
   ],
   "source": [
    "#Merging, Adding label, shuffling\n",
    "df_with_label= df_merged\n",
    "df_with_label['label'] = label_list\n",
    "# df_with_label.to_csv('device_with_label.csv', index=False)\n",
    "df_1 = df_with_label.sample(frac = 1).reset_index(drop=True)\n",
    "df_1"
   ]
  },
  {
   "cell_type": "code",
   "execution_count": 46,
   "id": "martial-lebanon",
   "metadata": {},
   "outputs": [],
   "source": [
    "y= np.array(df_1.label)"
   ]
  },
  {
   "cell_type": "code",
   "execution_count": 47,
   "id": "olive-danger",
   "metadata": {},
   "outputs": [],
   "source": [
    "df_1.drop('label', axis=1,inplace= True)"
   ]
  },
  {
   "cell_type": "code",
   "execution_count": 48,
   "id": "portable-percentage",
   "metadata": {},
   "outputs": [
    {
     "data": {
      "text/plain": [
       "(600, 3675)"
      ]
     },
     "execution_count": 48,
     "metadata": {},
     "output_type": "execute_result"
    }
   ],
   "source": [
    "df_1.shape"
   ]
  },
  {
   "cell_type": "code",
   "execution_count": 49,
   "id": "female-receptor",
   "metadata": {},
   "outputs": [
    {
     "data": {
      "text/plain": [
       "(35, 35, 3)"
      ]
     },
     "execution_count": 49,
     "metadata": {},
     "output_type": "execute_result"
    }
   ],
   "source": [
    "resized_img.shape"
   ]
  },
  {
   "cell_type": "code",
   "execution_count": 50,
   "id": "toxic-jones",
   "metadata": {},
   "outputs": [
    {
     "data": {
      "text/plain": [
       "(600, 35, 35, 3)"
      ]
     },
     "execution_count": 50,
     "metadata": {},
     "output_type": "execute_result"
    }
   ],
   "source": [
    "X = np.array(df_1).reshape(df_1.shape[0],resized_img.shape[0],resized_img.shape[1],resized_img.shape[2])\n",
    "X.shape"
   ]
  },
  {
   "cell_type": "code",
   "execution_count": 51,
   "id": "diagnostic-union",
   "metadata": {},
   "outputs": [
    {
     "data": {
      "image/png": "[encoded data removed]",
      "text/plain": [
       "<PIL.Image.Image image mode=RGB size=35x35>"
      ]
     },
     "execution_count": 51,
     "metadata": {},
     "output_type": "execute_result"
    }
   ],
   "source": [
    "data = PIL.Image.fromarray(X[1])\n",
    "data"
   ]
  },
  {
   "cell_type": "code",
   "execution_count": 52,
   "id": "collected-pilot",
   "metadata": {},
   "outputs": [
    {
     "data": {
      "image/png": "[encoded data removed]",
      "text/plain": [
       "<Figure size 432x432 with 12 Axes>"
      ]
     },
     "metadata": {
      "needs_background": "light"
     },
     "output_type": "display_data"
    }
   ],
   "source": [
    "plt.figure(figsize = (6, 6))\n",
    "\n",
    "for i in range(12):\n",
    "    plt.subplot(4, 4, i+1).set_title(f'Device {y[i]}')\n",
    "    RGB_img = cv2.cvtColor(np.squeeze(X[i]), cv2.COLOR_BGR2RGB)\n",
    "    plt.imshow (RGB_img)\n",
    "    plt.axis('off')\n",
    "\n",
    "plt.tight_layout()\n",
    "plt.savefig('6_M2_image_random_subplot.png', dpi=300)"
   ]
  },
  {
   "cell_type": "code",
   "execution_count": 53,
   "id": "allied-examination",
   "metadata": {},
   "outputs": [
    {
     "data": {
      "text/plain": [
       "2"
      ]
     },
     "execution_count": 53,
     "metadata": {},
     "output_type": "execute_result"
    }
   ],
   "source": [
    "y[599]"
   ]
  },
  {
   "cell_type": "code",
   "execution_count": 54,
   "id": "secret-coordinate",
   "metadata": {},
   "outputs": [
    {
     "data": {
      "text/plain": [
       "(600, 35, 35, 3)"
      ]
     },
     "execution_count": 54,
     "metadata": {},
     "output_type": "execute_result"
    }
   ],
   "source": [
    "X.shape"
   ]
  },
  {
   "cell_type": "code",
   "execution_count": 55,
   "id": "international-permit",
   "metadata": {},
   "outputs": [
    {
     "data": {
      "text/plain": [
       "(600, 600)"
      ]
     },
     "execution_count": 55,
     "metadata": {},
     "output_type": "execute_result"
    }
   ],
   "source": [
    "len(X), len(y)"
   ]
  },
  {
   "cell_type": "code",
   "execution_count": 56,
   "id": "opposed-highland",
   "metadata": {},
   "outputs": [],
   "source": [
    "#Train test split\n",
    "from sklearn.model_selection import train_test_split\n",
    "X_train, X_test, y_train, y_test = train_test_split(X, y, test_size= 0.30,random_state=42, stratify= y)"
   ]
  },
  {
   "cell_type": "code",
   "execution_count": 57,
   "id": "aggregate-charger",
   "metadata": {},
   "outputs": [
    {
     "data": {
      "text/plain": [
       "(420, 35, 35, 3)"
      ]
     },
     "execution_count": 57,
     "metadata": {},
     "output_type": "execute_result"
    }
   ],
   "source": [
    "X_train.shape"
   ]
  },
  {
   "cell_type": "code",
   "execution_count": 58,
   "id": "divided-sampling",
   "metadata": {},
   "outputs": [
    {
     "data": {
      "text/plain": [
       "(180, 35, 35, 3)"
      ]
     },
     "execution_count": 58,
     "metadata": {},
     "output_type": "execute_result"
    }
   ],
   "source": [
    "X_test.shape"
   ]
  },
  {
   "cell_type": "code",
   "execution_count": 59,
   "id": "meaningful-present",
   "metadata": {},
   "outputs": [
    {
     "data": {
      "text/plain": [
       "420"
      ]
     },
     "execution_count": 59,
     "metadata": {},
     "output_type": "execute_result"
    }
   ],
   "source": [
    "len(X_train)"
   ]
  },
  {
   "cell_type": "code",
   "execution_count": 60,
   "id": "lesser-stereo",
   "metadata": {
    "scrolled": true
   },
   "outputs": [
    {
     "name": "stdout",
     "output_type": "stream",
     "text": [
      "Train tensor shape:  (420, 35, 35, 3)\n",
      "Test tensor shape:  (180, 35, 35, 3)\n",
      "Single image shape: (35, 35, 3)\n",
      "Train_labels shape: (420,)\n",
      "Test_labels shape: (180,)\n"
     ]
    }
   ],
   "source": [
    "#Print shapes\n",
    "print('Train tensor shape: ',X_train.shape)\n",
    "print('Test tensor shape: ',X_test.shape)\n",
    "print('Single image shape:', X_train[0].shape)\n",
    "print('Train_labels shape:', y_train.shape)\n",
    "print('Test_labels shape:', y_test.shape)"
   ]
  },
  {
   "cell_type": "code",
   "execution_count": 61,
   "id": "lesbian-currency",
   "metadata": {},
   "outputs": [],
   "source": [
    "#scaling data from 0 to 1\n",
    "X_train_scaled = X_train/255.0\n",
    "X_test_scaled = X_test/255.0"
   ]
  },
  {
   "cell_type": "code",
   "execution_count": 62,
   "id": "infrared-photography",
   "metadata": {},
   "outputs": [
    {
     "data": {
      "text/plain": [
       "(35, 35, 3)"
      ]
     },
     "execution_count": 62,
     "metadata": {},
     "output_type": "execute_result"
    }
   ],
   "source": [
    "X_train_scaled[101].shape"
   ]
  },
  {
   "cell_type": "code",
   "execution_count": 63,
   "id": "peaceful-shareware",
   "metadata": {},
   "outputs": [
    {
     "data": {
      "text/plain": [
       "array([1, 1, 1, 5, 0, 5, 4, 0, 0, 2], dtype=int64)"
      ]
     },
     "execution_count": 63,
     "metadata": {},
     "output_type": "execute_result"
    }
   ],
   "source": [
    "y_test[10:20]"
   ]
  },
  {
   "cell_type": "code",
   "execution_count": 64,
   "id": "spoken-majority",
   "metadata": {},
   "outputs": [
    {
     "name": "stdout",
     "output_type": "stream",
     "text": [
      "Model: \"sequential\"\n",
      "_________________________________________________________________\n",
      " Layer (type)                Output Shape              Param #   \n",
      "=================================================================\n",
      " conv2d (Conv2D)             (None, 35, 35, 8)         224       \n",
      "                                                                 \n",
      " max_pooling2d (MaxPooling2D  (None, 17, 17, 8)        0         \n",
      " )                                                               \n",
      "                                                                 \n",
      " conv2d_1 (Conv2D)           (None, 17, 17, 16)        1168      \n",
      "                                                                 \n",
      " max_pooling2d_1 (MaxPooling  (None, 8, 8, 16)         0         \n",
      " 2D)                                                             \n",
      "                                                                 \n",
      " dropout (Dropout)           (None, 8, 8, 16)          0         \n",
      "                                                                 \n",
      " conv2d_2 (Conv2D)           (None, 8, 8, 32)          4640      \n",
      "                                                                 \n",
      " max_pooling2d_2 (MaxPooling  (None, 4, 4, 32)         0         \n",
      " 2D)                                                             \n",
      "                                                                 \n",
      " dropout_1 (Dropout)         (None, 4, 4, 32)          0         \n",
      "                                                                 \n",
      " conv2d_3 (Conv2D)           (None, 4, 4, 64)          18496     \n",
      "                                                                 \n",
      " max_pooling2d_3 (MaxPooling  (None, 2, 2, 64)         0         \n",
      " 2D)                                                             \n",
      "                                                                 \n",
      " dropout_2 (Dropout)         (None, 2, 2, 64)          0         \n",
      "                                                                 \n",
      " flatten (Flatten)           (None, 256)               0         \n",
      "                                                                 \n",
      " dense (Dense)               (None, 128)               32896     \n",
      "                                                                 \n",
      " dropout_3 (Dropout)         (None, 128)               0         \n",
      "                                                                 \n",
      " dense_1 (Dense)             (None, 256)               33024     \n",
      "                                                                 \n",
      " dropout_4 (Dropout)         (None, 256)               0         \n",
      "                                                                 \n",
      " dense_2 (Dense)             (None, 7)                 1799      \n",
      "                                                                 \n",
      "=================================================================\n",
      "Total params: 92,247\n",
      "Trainable params: 92,247\n",
      "Non-trainable params: 0\n",
      "_________________________________________________________________\n"
     ]
    }
   ],
   "source": [
    "#Building a model\n",
    "tf.random.set_seed(42)\n",
    "model_2 = tf.keras.Sequential([\n",
    "\n",
    "    tf.keras.layers.Conv2D(filters=8, kernel_size=3, strides=1, padding=\"same\", activation='relu',kernel_initializer='he_normal',\n",
    "                           input_shape=(X_train_scaled[0].shape)),\n",
    "    tf.keras.layers.MaxPool2D(pool_size=2),\n",
    "    \n",
    "    tf.keras.layers.Conv2D(16,3, padding=\"same\", activation='relu',kernel_initializer='he_normal',),\n",
    "    tf.keras.layers.MaxPool2D(pool_size=2),\n",
    "    tf.keras.layers.Dropout(0.2),\n",
    "\n",
    "    tf.keras.layers.Conv2D(32,3, padding=\"same\",activation='relu',kernel_initializer='he_normal'),\n",
    "    tf.keras.layers.MaxPool2D(pool_size=2),\n",
    "    tf.keras.layers.Dropout(0.2),\n",
    "\n",
    "    tf.keras.layers.Conv2D(64,3, padding=\"same\",activation='relu',kernel_initializer='he_normal', ),\n",
    "    tf.keras.layers.MaxPool2D(pool_size=2),\n",
    "    tf.keras.layers.Dropout(0.2),\n",
    "\n",
    "    tf.keras.layers.Flatten(),\n",
    "    tf.keras.layers.Dense(128,kernel_initializer='normal',activation='relu'),\n",
    "    tf.keras.layers.Dropout(0.2),\n",
    "\n",
    "    tf.keras.layers.Dense(256,kernel_initializer='normal',activation='relu'),#kernel_initializer='normal'\n",
    "    tf.keras.layers.Dropout(0.2),\n",
    "    \n",
    "    tf.keras.layers.Dense(7, activation= 'softmax') #Output layer\n",
    "])\n",
    "model_2.compile(loss=\"sparse_categorical_crossentropy\",\n",
    "               optimizer=tf.keras.optimizers.Adam(learning_rate=0.001),\n",
    "               metrics=[\"accuracy\"])\n",
    "model_2.summary()"
   ]
  },
  {
   "cell_type": "code",
   "execution_count": 65,
   "id": "standing-mechanics",
   "metadata": {},
   "outputs": [
    {
     "name": "stdout",
     "output_type": "stream",
     "text": [
      "Epoch 1/200\n",
      "6/6 [==============================] - 40s 78ms/step - loss: 1.8948 - accuracy: 0.1726 - val_loss: 1.8500 - val_accuracy: 0.1071\n",
      "Epoch 2/200\n",
      "6/6 [==============================] - 0s 12ms/step - loss: 1.8585 - accuracy: 0.1369 - val_loss: 1.8295 - val_accuracy: 0.1786\n",
      "Epoch 3/200\n",
      "6/6 [==============================] - 0s 12ms/step - loss: 1.8274 - accuracy: 0.1845 - val_loss: 1.8443 - val_accuracy: 0.1667\n",
      "Epoch 4/200\n",
      "6/6 [==============================] - 0s 13ms/step - loss: 1.8339 - accuracy: 0.1667 - val_loss: 1.8530 - val_accuracy: 0.1667\n",
      "Epoch 5/200\n",
      "6/6 [==============================] - 0s 12ms/step - loss: 1.8071 - accuracy: 0.1964 - val_loss: 1.8365 - val_accuracy: 0.1310\n",
      "Epoch 6/200\n",
      "6/6 [==============================] - 0s 12ms/step - loss: 1.8142 - accuracy: 0.1637 - val_loss: 1.8264 - val_accuracy: 0.1071\n",
      "Epoch 7/200\n",
      "6/6 [==============================] - 0s 10ms/step - loss: 1.8050 - accuracy: 0.1875 - val_loss: 1.8322 - val_accuracy: 0.1071\n",
      "Epoch 8/200\n",
      "6/6 [==============================] - 0s 10ms/step - loss: 1.8260 - accuracy: 0.1667 - val_loss: 1.8336 - val_accuracy: 0.1667\n",
      "Epoch 9/200\n",
      "6/6 [==============================] - 0s 10ms/step - loss: 1.8036 - accuracy: 0.1905 - val_loss: 1.8256 - val_accuracy: 0.1190\n",
      "Epoch 10/200\n",
      "6/6 [==============================] - 0s 13ms/step - loss: 1.8033 - accuracy: 0.1905 - val_loss: 1.8183 - val_accuracy: 0.1310\n",
      "Epoch 11/200\n",
      "6/6 [==============================] - 0s 11ms/step - loss: 1.8038 - accuracy: 0.1786 - val_loss: 1.8140 - val_accuracy: 0.1786\n",
      "Epoch 12/200\n",
      "6/6 [==============================] - 0s 10ms/step - loss: 1.8090 - accuracy: 0.1577 - val_loss: 1.8155 - val_accuracy: 0.1071\n",
      "Epoch 13/200\n",
      "6/6 [==============================] - 0s 12ms/step - loss: 1.7866 - accuracy: 0.2292 - val_loss: 1.8136 - val_accuracy: 0.1071\n",
      "Epoch 14/200\n",
      "6/6 [==============================] - 0s 13ms/step - loss: 1.8044 - accuracy: 0.1786 - val_loss: 1.8134 - val_accuracy: 0.1548\n",
      "Epoch 15/200\n",
      "6/6 [==============================] - 0s 13ms/step - loss: 1.8150 - accuracy: 0.1786 - val_loss: 1.8252 - val_accuracy: 0.1667\n",
      "Epoch 16/200\n",
      "6/6 [==============================] - 0s 15ms/step - loss: 1.8022 - accuracy: 0.1667 - val_loss: 1.8264 - val_accuracy: 0.1667\n",
      "Epoch 17/200\n",
      "6/6 [==============================] - 0s 10ms/step - loss: 1.8009 - accuracy: 0.1905 - val_loss: 1.8263 - val_accuracy: 0.1429\n",
      "Epoch 18/200\n",
      "6/6 [==============================] - 0s 12ms/step - loss: 1.8012 - accuracy: 0.1369 - val_loss: 1.8185 - val_accuracy: 0.1190\n",
      "Epoch 19/200\n",
      "6/6 [==============================] - 0s 9ms/step - loss: 1.8127 - accuracy: 0.1458 - val_loss: 1.8240 - val_accuracy: 0.1310\n",
      "Epoch 20/200\n",
      "6/6 [==============================] - 0s 11ms/step - loss: 1.7999 - accuracy: 0.1726 - val_loss: 1.8257 - val_accuracy: 0.1071\n",
      "Epoch 21/200\n",
      "6/6 [==============================] - 0s 10ms/step - loss: 1.7981 - accuracy: 0.1786 - val_loss: 1.8221 - val_accuracy: 0.1071\n",
      "Epoch 22/200\n",
      "6/6 [==============================] - 0s 10ms/step - loss: 1.8059 - accuracy: 0.1905 - val_loss: 1.8189 - val_accuracy: 0.1071\n",
      "Epoch 23/200\n",
      "6/6 [==============================] - 0s 10ms/step - loss: 1.8015 - accuracy: 0.1726 - val_loss: 1.8201 - val_accuracy: 0.1429\n",
      "Epoch 24/200\n",
      "6/6 [==============================] - 0s 10ms/step - loss: 1.7997 - accuracy: 0.1756 - val_loss: 1.8175 - val_accuracy: 0.1310\n",
      "Epoch 25/200\n",
      "6/6 [==============================] - 0s 11ms/step - loss: 1.7903 - accuracy: 0.1786 - val_loss: 1.8219 - val_accuracy: 0.1548\n",
      "Epoch 26/200\n",
      "6/6 [==============================] - 0s 13ms/step - loss: 1.7902 - accuracy: 0.1994 - val_loss: 1.8211 - val_accuracy: 0.1429\n",
      "Epoch 27/200\n",
      "6/6 [==============================] - 0s 11ms/step - loss: 1.7913 - accuracy: 0.2024 - val_loss: 1.8113 - val_accuracy: 0.1548\n",
      "Epoch 28/200\n",
      "6/6 [==============================] - 0s 13ms/step - loss: 1.8072 - accuracy: 0.1637 - val_loss: 1.8083 - val_accuracy: 0.1310\n",
      "Epoch 29/200\n",
      "6/6 [==============================] - 0s 13ms/step - loss: 1.7933 - accuracy: 0.1845 - val_loss: 1.8085 - val_accuracy: 0.1667\n",
      "Epoch 30/200\n",
      "6/6 [==============================] - 0s 12ms/step - loss: 1.7939 - accuracy: 0.1935 - val_loss: 1.8150 - val_accuracy: 0.1071\n",
      "Epoch 31/200\n",
      "6/6 [==============================] - 0s 12ms/step - loss: 1.7985 - accuracy: 0.1905 - val_loss: 1.8216 - val_accuracy: 0.1071\n",
      "Epoch 32/200\n",
      "6/6 [==============================] - 0s 11ms/step - loss: 1.7969 - accuracy: 0.1726 - val_loss: 1.8210 - val_accuracy: 0.1190\n",
      "Epoch 33/200\n",
      "6/6 [==============================] - 0s 11ms/step - loss: 1.7962 - accuracy: 0.1756 - val_loss: 1.8179 - val_accuracy: 0.1429\n",
      "Epoch 34/200\n",
      "6/6 [==============================] - 0s 16ms/step - loss: 1.7976 - accuracy: 0.1815 - val_loss: 1.8122 - val_accuracy: 0.1429\n",
      "Epoch 35/200\n",
      "6/6 [==============================] - 0s 11ms/step - loss: 1.7946 - accuracy: 0.1726 - val_loss: 1.8070 - val_accuracy: 0.2262\n",
      "Epoch 36/200\n",
      "6/6 [==============================] - 0s 13ms/step - loss: 1.7962 - accuracy: 0.1875 - val_loss: 1.8182 - val_accuracy: 0.1429\n",
      "Epoch 37/200\n",
      "6/6 [==============================] - 0s 10ms/step - loss: 1.7928 - accuracy: 0.1726 - val_loss: 1.8175 - val_accuracy: 0.1310\n",
      "Epoch 38/200\n",
      "6/6 [==============================] - 0s 9ms/step - loss: 1.7978 - accuracy: 0.1726 - val_loss: 1.8141 - val_accuracy: 0.1310\n",
      "Epoch 39/200\n",
      "6/6 [==============================] - 0s 10ms/step - loss: 1.7975 - accuracy: 0.1607 - val_loss: 1.8224 - val_accuracy: 0.1190\n",
      "Epoch 40/200\n",
      "6/6 [==============================] - 0s 12ms/step - loss: 1.7935 - accuracy: 0.1786 - val_loss: 1.8238 - val_accuracy: 0.1310\n",
      "Epoch 41/200\n",
      "6/6 [==============================] - 0s 11ms/step - loss: 1.7967 - accuracy: 0.1875 - val_loss: 1.8198 - val_accuracy: 0.1548\n",
      "Epoch 42/200\n",
      "6/6 [==============================] - 0s 13ms/step - loss: 1.7882 - accuracy: 0.1845 - val_loss: 1.8172 - val_accuracy: 0.1071\n",
      "Epoch 43/200\n",
      "6/6 [==============================] - 0s 14ms/step - loss: 1.7866 - accuracy: 0.1935 - val_loss: 1.8195 - val_accuracy: 0.1310\n",
      "Epoch 44/200\n",
      "6/6 [==============================] - 0s 13ms/step - loss: 1.7806 - accuracy: 0.2173 - val_loss: 1.8217 - val_accuracy: 0.1667\n",
      "Epoch 45/200\n",
      "6/6 [==============================] - 0s 12ms/step - loss: 1.7802 - accuracy: 0.2113 - val_loss: 1.8294 - val_accuracy: 0.1190\n",
      "Epoch 46/200\n",
      "6/6 [==============================] - 0s 13ms/step - loss: 1.7878 - accuracy: 0.1786 - val_loss: 1.8331 - val_accuracy: 0.1190\n",
      "Epoch 47/200\n",
      "6/6 [==============================] - 0s 13ms/step - loss: 1.7920 - accuracy: 0.1935 - val_loss: 1.8370 - val_accuracy: 0.1310\n",
      "Epoch 48/200\n",
      "6/6 [==============================] - 0s 13ms/step - loss: 1.7789 - accuracy: 0.1964 - val_loss: 1.8266 - val_accuracy: 0.1429\n",
      "Epoch 49/200\n",
      "6/6 [==============================] - 0s 12ms/step - loss: 1.7919 - accuracy: 0.1548 - val_loss: 1.8257 - val_accuracy: 0.0952\n",
      "Epoch 50/200\n",
      "6/6 [==============================] - 0s 10ms/step - loss: 1.7749 - accuracy: 0.2083 - val_loss: 1.8192 - val_accuracy: 0.1429\n",
      "Epoch 51/200\n",
      "6/6 [==============================] - 0s 11ms/step - loss: 1.7899 - accuracy: 0.2024 - val_loss: 1.8154 - val_accuracy: 0.1429\n",
      "Epoch 52/200\n",
      "6/6 [==============================] - 0s 11ms/step - loss: 1.7856 - accuracy: 0.1786 - val_loss: 1.8259 - val_accuracy: 0.1667\n",
      "Epoch 53/200\n",
      "6/6 [==============================] - 0s 11ms/step - loss: 1.7701 - accuracy: 0.2262 - val_loss: 1.8279 - val_accuracy: 0.1071\n",
      "Epoch 54/200\n",
      "6/6 [==============================] - 0s 12ms/step - loss: 1.7643 - accuracy: 0.2292 - val_loss: 1.8359 - val_accuracy: 0.1071\n",
      "Epoch 55/200\n",
      "6/6 [==============================] - 0s 13ms/step - loss: 1.7842 - accuracy: 0.2232 - val_loss: 1.8467 - val_accuracy: 0.1071\n",
      "Epoch 56/200\n",
      "6/6 [==============================] - 0s 13ms/step - loss: 1.7735 - accuracy: 0.2024 - val_loss: 1.8395 - val_accuracy: 0.1429\n",
      "Epoch 57/200\n",
      "6/6 [==============================] - 0s 14ms/step - loss: 1.7606 - accuracy: 0.2411 - val_loss: 1.8430 - val_accuracy: 0.1071\n",
      "Epoch 58/200\n",
      "6/6 [==============================] - 0s 15ms/step - loss: 1.7580 - accuracy: 0.2083 - val_loss: 1.8485 - val_accuracy: 0.1310\n",
      "Epoch 59/200\n",
      "6/6 [==============================] - 0s 10ms/step - loss: 1.7760 - accuracy: 0.2083 - val_loss: 1.8539 - val_accuracy: 0.1548\n",
      "Epoch 60/200\n",
      "6/6 [==============================] - 0s 11ms/step - loss: 1.7617 - accuracy: 0.2113 - val_loss: 1.8663 - val_accuracy: 0.0952\n",
      "Epoch 61/200\n",
      "6/6 [==============================] - 0s 14ms/step - loss: 1.7719 - accuracy: 0.2143 - val_loss: 1.8427 - val_accuracy: 0.0952\n",
      "Epoch 62/200\n",
      "6/6 [==============================] - 0s 15ms/step - loss: 1.7490 - accuracy: 0.2440 - val_loss: 1.8417 - val_accuracy: 0.1310\n",
      "Epoch 63/200\n",
      "6/6 [==============================] - 0s 20ms/step - loss: 1.7522 - accuracy: 0.2619 - val_loss: 1.8492 - val_accuracy: 0.1310\n",
      "Epoch 64/200\n",
      "6/6 [==============================] - 0s 14ms/step - loss: 1.7502 - accuracy: 0.2470 - val_loss: 1.8532 - val_accuracy: 0.1429\n",
      "Epoch 65/200\n",
      "6/6 [==============================] - 0s 10ms/step - loss: 1.7482 - accuracy: 0.2351 - val_loss: 1.8409 - val_accuracy: 0.1786\n",
      "Epoch 66/200\n",
      "6/6 [==============================] - 0s 9ms/step - loss: 1.7496 - accuracy: 0.2262 - val_loss: 1.8696 - val_accuracy: 0.1310\n",
      "Epoch 67/200\n",
      "6/6 [==============================] - 0s 11ms/step - loss: 1.7221 - accuracy: 0.2470 - val_loss: 1.8516 - val_accuracy: 0.1429\n",
      "Epoch 68/200\n",
      "6/6 [==============================] - 0s 14ms/step - loss: 1.7162 - accuracy: 0.2827 - val_loss: 1.8418 - val_accuracy: 0.1548\n",
      "Epoch 69/200\n",
      "6/6 [==============================] - 0s 16ms/step - loss: 1.7304 - accuracy: 0.2351 - val_loss: 1.8303 - val_accuracy: 0.1429\n",
      "Epoch 70/200\n",
      "6/6 [==============================] - 0s 11ms/step - loss: 1.7165 - accuracy: 0.2649 - val_loss: 1.8187 - val_accuracy: 0.1548\n",
      "Epoch 71/200\n",
      "6/6 [==============================] - 0s 13ms/step - loss: 1.6864 - accuracy: 0.2976 - val_loss: 1.8343 - val_accuracy: 0.2143\n",
      "Epoch 72/200\n",
      "6/6 [==============================] - 0s 11ms/step - loss: 1.6759 - accuracy: 0.3155 - val_loss: 1.8150 - val_accuracy: 0.1786\n",
      "Epoch 73/200\n",
      "6/6 [==============================] - 0s 11ms/step - loss: 1.6738 - accuracy: 0.2857 - val_loss: 1.7943 - val_accuracy: 0.2024\n",
      "Epoch 74/200\n",
      "6/6 [==============================] - 0s 12ms/step - loss: 1.6456 - accuracy: 0.3036 - val_loss: 1.8383 - val_accuracy: 0.1667\n",
      "Epoch 75/200\n",
      "6/6 [==============================] - 0s 12ms/step - loss: 1.6507 - accuracy: 0.3036 - val_loss: 1.7679 - val_accuracy: 0.2738\n",
      "Epoch 76/200\n",
      "6/6 [==============================] - 0s 11ms/step - loss: 1.6292 - accuracy: 0.3155 - val_loss: 1.8239 - val_accuracy: 0.1667\n",
      "Epoch 77/200\n",
      "6/6 [==============================] - 0s 11ms/step - loss: 1.6194 - accuracy: 0.3185 - val_loss: 1.7563 - val_accuracy: 0.1786\n",
      "Epoch 78/200\n",
      "6/6 [==============================] - 0s 12ms/step - loss: 1.5857 - accuracy: 0.3065 - val_loss: 1.7899 - val_accuracy: 0.2381\n",
      "Epoch 79/200\n",
      "6/6 [==============================] - 0s 10ms/step - loss: 1.5759 - accuracy: 0.3423 - val_loss: 1.7416 - val_accuracy: 0.2143\n",
      "Epoch 80/200\n",
      "6/6 [==============================] - 0s 11ms/step - loss: 1.5801 - accuracy: 0.3125 - val_loss: 1.7499 - val_accuracy: 0.2024\n",
      "Epoch 81/200\n",
      "6/6 [==============================] - 0s 11ms/step - loss: 1.6212 - accuracy: 0.3065 - val_loss: 1.7464 - val_accuracy: 0.2024\n",
      "Epoch 82/200\n",
      "6/6 [==============================] - 0s 13ms/step - loss: 1.5738 - accuracy: 0.3125 - val_loss: 1.7272 - val_accuracy: 0.1905\n",
      "Epoch 83/200\n",
      "6/6 [==============================] - 0s 12ms/step - loss: 1.5620 - accuracy: 0.3512 - val_loss: 1.7397 - val_accuracy: 0.1786\n",
      "Epoch 84/200\n",
      "6/6 [==============================] - 0s 10ms/step - loss: 1.5339 - accuracy: 0.3214 - val_loss: 1.7676 - val_accuracy: 0.2262\n",
      "Epoch 85/200\n",
      "6/6 [==============================] - 0s 10ms/step - loss: 1.5316 - accuracy: 0.3631 - val_loss: 1.7303 - val_accuracy: 0.2262\n",
      "Epoch 86/200\n",
      "6/6 [==============================] - 0s 17ms/step - loss: 1.5458 - accuracy: 0.3333 - val_loss: 1.7231 - val_accuracy: 0.2381\n",
      "Epoch 87/200\n",
      "6/6 [==============================] - 0s 17ms/step - loss: 1.4784 - accuracy: 0.3810 - val_loss: 1.7105 - val_accuracy: 0.2500\n",
      "Epoch 88/200\n",
      "6/6 [==============================] - 0s 13ms/step - loss: 1.5059 - accuracy: 0.3571 - val_loss: 1.7224 - val_accuracy: 0.1786\n",
      "Epoch 89/200\n",
      "6/6 [==============================] - 0s 11ms/step - loss: 1.5131 - accuracy: 0.3363 - val_loss: 1.7416 - val_accuracy: 0.2143\n",
      "Epoch 90/200\n",
      "6/6 [==============================] - 0s 13ms/step - loss: 1.5026 - accuracy: 0.3631 - val_loss: 1.6966 - val_accuracy: 0.2500\n",
      "Epoch 91/200\n",
      "6/6 [==============================] - 0s 14ms/step - loss: 1.4898 - accuracy: 0.3720 - val_loss: 1.6915 - val_accuracy: 0.1905\n",
      "Epoch 92/200\n",
      "6/6 [==============================] - 0s 18ms/step - loss: 1.4433 - accuracy: 0.3869 - val_loss: 1.7225 - val_accuracy: 0.1905\n",
      "Epoch 93/200\n",
      "6/6 [==============================] - 0s 16ms/step - loss: 1.4640 - accuracy: 0.3810 - val_loss: 1.7290 - val_accuracy: 0.1786\n",
      "Epoch 94/200\n",
      "6/6 [==============================] - 0s 13ms/step - loss: 1.4482 - accuracy: 0.3958 - val_loss: 1.7127 - val_accuracy: 0.2262\n",
      "Epoch 95/200\n",
      "6/6 [==============================] - 0s 12ms/step - loss: 1.4319 - accuracy: 0.4286 - val_loss: 1.7037 - val_accuracy: 0.1786\n",
      "Epoch 96/200\n",
      "6/6 [==============================] - 0s 17ms/step - loss: 1.4362 - accuracy: 0.4167 - val_loss: 1.6820 - val_accuracy: 0.2143\n",
      "Epoch 97/200\n",
      "6/6 [==============================] - 0s 15ms/step - loss: 1.4345 - accuracy: 0.4048 - val_loss: 1.7198 - val_accuracy: 0.2500\n",
      "Epoch 98/200\n",
      "6/6 [==============================] - 0s 14ms/step - loss: 1.4509 - accuracy: 0.3988 - val_loss: 1.6869 - val_accuracy: 0.2143\n",
      "Epoch 99/200\n",
      "6/6 [==============================] - 0s 13ms/step - loss: 1.4200 - accuracy: 0.4464 - val_loss: 1.6978 - val_accuracy: 0.2381\n",
      "Epoch 100/200\n",
      "6/6 [==============================] - 0s 13ms/step - loss: 1.3640 - accuracy: 0.4226 - val_loss: 1.6860 - val_accuracy: 0.2262\n",
      "Epoch 101/200\n",
      "6/6 [==============================] - 0s 13ms/step - loss: 1.4194 - accuracy: 0.4048 - val_loss: 1.6744 - val_accuracy: 0.2619\n",
      "Epoch 102/200\n",
      "6/6 [==============================] - 0s 13ms/step - loss: 1.3594 - accuracy: 0.4435 - val_loss: 1.6898 - val_accuracy: 0.2381\n",
      "Epoch 103/200\n",
      "6/6 [==============================] - 0s 11ms/step - loss: 1.3660 - accuracy: 0.4554 - val_loss: 1.7107 - val_accuracy: 0.2024\n",
      "Epoch 104/200\n",
      "6/6 [==============================] - 0s 11ms/step - loss: 1.3754 - accuracy: 0.4077 - val_loss: 1.7018 - val_accuracy: 0.1786\n",
      "Epoch 105/200\n",
      "6/6 [==============================] - 0s 11ms/step - loss: 1.3621 - accuracy: 0.4464 - val_loss: 1.7315 - val_accuracy: 0.2262\n",
      "Epoch 106/200\n",
      "6/6 [==============================] - 0s 10ms/step - loss: 1.3672 - accuracy: 0.4613 - val_loss: 1.7221 - val_accuracy: 0.2143\n",
      "Epoch 107/200\n",
      "6/6 [==============================] - 0s 11ms/step - loss: 1.3558 - accuracy: 0.4345 - val_loss: 1.6968 - val_accuracy: 0.2262\n",
      "Epoch 108/200\n",
      "6/6 [==============================] - 0s 10ms/step - loss: 1.3243 - accuracy: 0.4792 - val_loss: 1.6806 - val_accuracy: 0.2024\n",
      "Epoch 109/200\n",
      "6/6 [==============================] - 0s 14ms/step - loss: 1.3144 - accuracy: 0.4613 - val_loss: 1.7148 - val_accuracy: 0.1786\n",
      "Epoch 110/200\n",
      "6/6 [==============================] - 0s 14ms/step - loss: 1.3664 - accuracy: 0.4405 - val_loss: 1.6854 - val_accuracy: 0.2143\n",
      "Epoch 111/200\n",
      "6/6 [==============================] - 0s 12ms/step - loss: 1.3513 - accuracy: 0.4554 - val_loss: 1.6576 - val_accuracy: 0.1905\n",
      "Epoch 112/200\n",
      "6/6 [==============================] - 0s 12ms/step - loss: 1.3428 - accuracy: 0.4464 - val_loss: 1.7318 - val_accuracy: 0.2857\n",
      "Epoch 113/200\n",
      "6/6 [==============================] - 0s 12ms/step - loss: 1.3265 - accuracy: 0.4821 - val_loss: 1.7158 - val_accuracy: 0.2262\n",
      "Epoch 114/200\n",
      "6/6 [==============================] - 0s 12ms/step - loss: 1.3207 - accuracy: 0.4554 - val_loss: 1.7138 - val_accuracy: 0.2143\n",
      "Epoch 115/200\n",
      "6/6 [==============================] - 0s 12ms/step - loss: 1.2876 - accuracy: 0.4464 - val_loss: 1.7082 - val_accuracy: 0.1786\n",
      "Epoch 116/200\n",
      "6/6 [==============================] - 0s 10ms/step - loss: 1.3233 - accuracy: 0.4583 - val_loss: 1.6689 - val_accuracy: 0.2262\n",
      "Epoch 117/200\n"
     ]
    },
    {
     "name": "stdout",
     "output_type": "stream",
     "text": [
      "6/6 [==============================] - 0s 13ms/step - loss: 1.3225 - accuracy: 0.4435 - val_loss: 1.6518 - val_accuracy: 0.2500\n",
      "Epoch 118/200\n",
      "6/6 [==============================] - 0s 15ms/step - loss: 1.2753 - accuracy: 0.4762 - val_loss: 1.6239 - val_accuracy: 0.2262\n",
      "Epoch 119/200\n",
      "6/6 [==============================] - 0s 14ms/step - loss: 1.2807 - accuracy: 0.5030 - val_loss: 1.6661 - val_accuracy: 0.2143\n",
      "Epoch 120/200\n",
      "6/6 [==============================] - 0s 14ms/step - loss: 1.2888 - accuracy: 0.4940 - val_loss: 1.6594 - val_accuracy: 0.2024\n",
      "Epoch 121/200\n",
      "6/6 [==============================] - 0s 17ms/step - loss: 1.2762 - accuracy: 0.5119 - val_loss: 1.6496 - val_accuracy: 0.2262\n",
      "Epoch 122/200\n",
      "6/6 [==============================] - 0s 13ms/step - loss: 1.3041 - accuracy: 0.4732 - val_loss: 1.6564 - val_accuracy: 0.2262\n",
      "Epoch 123/200\n",
      "6/6 [==============================] - 0s 11ms/step - loss: 1.2625 - accuracy: 0.4702 - val_loss: 1.6458 - val_accuracy: 0.2500\n",
      "Epoch 124/200\n",
      "6/6 [==============================] - 0s 11ms/step - loss: 1.2572 - accuracy: 0.4762 - val_loss: 1.6869 - val_accuracy: 0.2024\n",
      "Epoch 125/200\n",
      "6/6 [==============================] - 0s 10ms/step - loss: 1.2112 - accuracy: 0.5179 - val_loss: 1.6654 - val_accuracy: 0.2262\n",
      "Epoch 126/200\n",
      "6/6 [==============================] - 0s 12ms/step - loss: 1.2236 - accuracy: 0.5238 - val_loss: 1.6659 - val_accuracy: 0.2857\n",
      "Epoch 127/200\n",
      "6/6 [==============================] - 0s 12ms/step - loss: 1.2313 - accuracy: 0.5149 - val_loss: 1.6688 - val_accuracy: 0.2619\n",
      "Epoch 128/200\n",
      "6/6 [==============================] - 0s 13ms/step - loss: 1.1740 - accuracy: 0.5298 - val_loss: 1.6912 - val_accuracy: 0.2381\n",
      "Epoch 129/200\n",
      "6/6 [==============================] - 0s 13ms/step - loss: 1.2157 - accuracy: 0.5030 - val_loss: 1.7099 - val_accuracy: 0.2024\n",
      "Epoch 130/200\n",
      "6/6 [==============================] - 0s 11ms/step - loss: 1.1946 - accuracy: 0.4911 - val_loss: 1.6791 - val_accuracy: 0.2619\n",
      "Epoch 131/200\n",
      "6/6 [==============================] - 0s 10ms/step - loss: 1.1926 - accuracy: 0.5357 - val_loss: 1.6359 - val_accuracy: 0.2381\n",
      "Epoch 132/200\n",
      "6/6 [==============================] - 0s 12ms/step - loss: 1.1873 - accuracy: 0.5119 - val_loss: 1.6444 - val_accuracy: 0.2619\n",
      "Epoch 133/200\n",
      "6/6 [==============================] - 0s 13ms/step - loss: 1.2453 - accuracy: 0.4970 - val_loss: 1.7010 - val_accuracy: 0.2262\n",
      "Epoch 134/200\n",
      "6/6 [==============================] - 0s 10ms/step - loss: 1.2166 - accuracy: 0.4792 - val_loss: 1.6446 - val_accuracy: 0.2619\n",
      "Epoch 135/200\n",
      "6/6 [==============================] - 0s 10ms/step - loss: 1.2046 - accuracy: 0.5089 - val_loss: 1.6143 - val_accuracy: 0.2738\n",
      "Epoch 136/200\n",
      "6/6 [==============================] - 0s 11ms/step - loss: 1.1646 - accuracy: 0.5298 - val_loss: 1.6554 - val_accuracy: 0.2857\n",
      "Epoch 137/200\n",
      "6/6 [==============================] - 0s 13ms/step - loss: 1.1582 - accuracy: 0.5238 - val_loss: 1.6245 - val_accuracy: 0.2619\n",
      "Epoch 138/200\n",
      "6/6 [==============================] - 0s 12ms/step - loss: 1.1868 - accuracy: 0.4821 - val_loss: 1.6255 - val_accuracy: 0.2738\n",
      "Epoch 139/200\n",
      "6/6 [==============================] - 0s 13ms/step - loss: 1.1993 - accuracy: 0.5089 - val_loss: 1.6597 - val_accuracy: 0.2619\n",
      "Epoch 140/200\n",
      "6/6 [==============================] - 0s 11ms/step - loss: 1.2068 - accuracy: 0.5119 - val_loss: 1.6256 - val_accuracy: 0.2500\n",
      "Epoch 141/200\n",
      "6/6 [==============================] - 0s 13ms/step - loss: 1.1204 - accuracy: 0.5655 - val_loss: 1.6671 - val_accuracy: 0.2262\n",
      "Epoch 142/200\n",
      "6/6 [==============================] - 0s 17ms/step - loss: 1.1577 - accuracy: 0.5268 - val_loss: 1.6612 - val_accuracy: 0.1905\n",
      "Epoch 143/200\n",
      "6/6 [==============================] - 0s 10ms/step - loss: 1.1735 - accuracy: 0.5357 - val_loss: 1.6771 - val_accuracy: 0.2857\n",
      "Epoch 144/200\n",
      "6/6 [==============================] - 0s 14ms/step - loss: 1.1645 - accuracy: 0.5119 - val_loss: 1.7116 - val_accuracy: 0.2619\n",
      "Epoch 145/200\n",
      "6/6 [==============================] - 0s 11ms/step - loss: 1.1790 - accuracy: 0.4911 - val_loss: 1.6882 - val_accuracy: 0.2143\n",
      "Epoch 146/200\n",
      "6/6 [==============================] - 0s 16ms/step - loss: 1.0719 - accuracy: 0.5804 - val_loss: 1.6951 - val_accuracy: 0.2619\n",
      "Epoch 147/200\n",
      "6/6 [==============================] - 0s 17ms/step - loss: 1.1226 - accuracy: 0.5208 - val_loss: 1.6214 - val_accuracy: 0.2500\n",
      "Epoch 148/200\n",
      "6/6 [==============================] - 0s 12ms/step - loss: 1.1454 - accuracy: 0.5298 - val_loss: 1.7098 - val_accuracy: 0.2619\n",
      "Epoch 149/200\n",
      "6/6 [==============================] - 0s 13ms/step - loss: 1.1714 - accuracy: 0.5149 - val_loss: 1.6505 - val_accuracy: 0.2262\n",
      "Epoch 150/200\n",
      "6/6 [==============================] - 0s 14ms/step - loss: 1.1659 - accuracy: 0.4940 - val_loss: 1.6838 - val_accuracy: 0.3333\n",
      "Epoch 151/200\n",
      "6/6 [==============================] - 0s 11ms/step - loss: 1.1399 - accuracy: 0.5476 - val_loss: 1.6478 - val_accuracy: 0.2500\n",
      "Epoch 152/200\n",
      "6/6 [==============================] - 0s 13ms/step - loss: 1.1264 - accuracy: 0.5536 - val_loss: 1.6704 - val_accuracy: 0.2381\n",
      "Epoch 153/200\n",
      "6/6 [==============================] - 0s 11ms/step - loss: 1.1129 - accuracy: 0.5238 - val_loss: 1.6809 - val_accuracy: 0.2738\n",
      "Epoch 154/200\n",
      "6/6 [==============================] - 0s 12ms/step - loss: 1.0666 - accuracy: 0.5863 - val_loss: 1.6795 - val_accuracy: 0.3095\n",
      "Epoch 155/200\n",
      "6/6 [==============================] - 0s 11ms/step - loss: 1.0645 - accuracy: 0.5655 - val_loss: 1.6550 - val_accuracy: 0.2857\n",
      "Epoch 156/200\n",
      "6/6 [==============================] - 0s 11ms/step - loss: 1.1321 - accuracy: 0.5030 - val_loss: 1.6321 - val_accuracy: 0.2857\n",
      "Epoch 157/200\n",
      "6/6 [==============================] - 0s 10ms/step - loss: 1.0597 - accuracy: 0.5595 - val_loss: 1.6324 - val_accuracy: 0.2738\n",
      "Epoch 158/200\n",
      "6/6 [==============================] - 0s 12ms/step - loss: 1.1084 - accuracy: 0.5327 - val_loss: 1.6727 - val_accuracy: 0.2738\n",
      "Epoch 159/200\n",
      "6/6 [==============================] - 0s 11ms/step - loss: 1.0829 - accuracy: 0.5476 - val_loss: 1.7118 - val_accuracy: 0.2857\n",
      "Epoch 160/200\n",
      "6/6 [==============================] - 0s 12ms/step - loss: 1.1125 - accuracy: 0.5357 - val_loss: 1.6291 - val_accuracy: 0.2500\n",
      "Epoch 161/200\n",
      "6/6 [==============================] - 0s 11ms/step - loss: 1.0782 - accuracy: 0.5625 - val_loss: 1.7139 - val_accuracy: 0.2500\n",
      "Epoch 162/200\n",
      "6/6 [==============================] - 0s 11ms/step - loss: 1.0521 - accuracy: 0.5446 - val_loss: 1.7738 - val_accuracy: 0.2857\n",
      "Epoch 163/200\n",
      "6/6 [==============================] - 0s 13ms/step - loss: 1.0563 - accuracy: 0.5625 - val_loss: 1.6934 - val_accuracy: 0.2619\n",
      "Epoch 164/200\n",
      "6/6 [==============================] - 0s 14ms/step - loss: 1.0190 - accuracy: 0.5923 - val_loss: 1.7316 - val_accuracy: 0.2976\n",
      "Epoch 165/200\n",
      "6/6 [==============================] - 0s 14ms/step - loss: 1.0917 - accuracy: 0.5357 - val_loss: 1.6841 - val_accuracy: 0.3095\n",
      "Epoch 166/200\n",
      "6/6 [==============================] - 0s 13ms/step - loss: 1.0692 - accuracy: 0.5774 - val_loss: 1.6600 - val_accuracy: 0.2857\n",
      "Epoch 167/200\n",
      "6/6 [==============================] - 0s 13ms/step - loss: 1.0826 - accuracy: 0.5506 - val_loss: 1.6637 - val_accuracy: 0.3571\n",
      "Epoch 168/200\n",
      "6/6 [==============================] - 0s 12ms/step - loss: 1.0708 - accuracy: 0.5744 - val_loss: 1.6172 - val_accuracy: 0.3214\n",
      "Epoch 169/200\n",
      "6/6 [==============================] - 0s 12ms/step - loss: 1.0814 - accuracy: 0.5417 - val_loss: 1.6177 - val_accuracy: 0.3214\n",
      "Epoch 170/200\n",
      "6/6 [==============================] - 0s 12ms/step - loss: 1.0117 - accuracy: 0.5923 - val_loss: 1.5964 - val_accuracy: 0.3214\n",
      "Epoch 171/200\n",
      "6/6 [==============================] - 0s 11ms/step - loss: 1.0203 - accuracy: 0.5714 - val_loss: 1.6692 - val_accuracy: 0.3095\n",
      "Epoch 172/200\n",
      "6/6 [==============================] - 0s 11ms/step - loss: 1.0278 - accuracy: 0.5923 - val_loss: 1.7153 - val_accuracy: 0.2976\n",
      "Epoch 173/200\n",
      "6/6 [==============================] - 0s 11ms/step - loss: 1.0698 - accuracy: 0.5774 - val_loss: 1.6067 - val_accuracy: 0.3452\n",
      "Epoch 174/200\n",
      "6/6 [==============================] - 0s 18ms/step - loss: 1.0851 - accuracy: 0.5655 - val_loss: 1.6485 - val_accuracy: 0.3214\n"
     ]
    },
    {
     "name": "stdout",
     "output_type": "stream",
     "text": [
      "Epoch 175/200\n",
      "6/6 [==============================] - 0s 15ms/step - loss: 0.9904 - accuracy: 0.5952 - val_loss: 1.6368 - val_accuracy: 0.2976\n",
      "Epoch 176/200\n",
      "6/6 [==============================] - 0s 13ms/step - loss: 1.0424 - accuracy: 0.5714 - val_loss: 1.6865 - val_accuracy: 0.3333\n",
      "Epoch 177/200\n",
      "6/6 [==============================] - 0s 11ms/step - loss: 0.9708 - accuracy: 0.6250 - val_loss: 1.6668 - val_accuracy: 0.3095\n",
      "Epoch 178/200\n",
      "6/6 [==============================] - 0s 14ms/step - loss: 0.9922 - accuracy: 0.5952 - val_loss: 1.6796 - val_accuracy: 0.2619\n",
      "Epoch 179/200\n",
      "6/6 [==============================] - 0s 14ms/step - loss: 1.0078 - accuracy: 0.6012 - val_loss: 1.6966 - val_accuracy: 0.2738\n",
      "Epoch 180/200\n",
      "6/6 [==============================] - 0s 11ms/step - loss: 1.0090 - accuracy: 0.5804 - val_loss: 1.6445 - val_accuracy: 0.3214\n",
      "Epoch 181/200\n",
      "6/6 [==============================] - 0s 13ms/step - loss: 0.9904 - accuracy: 0.6101 - val_loss: 1.6766 - val_accuracy: 0.2738\n",
      "Epoch 182/200\n",
      "6/6 [==============================] - 0s 13ms/step - loss: 0.9631 - accuracy: 0.6042 - val_loss: 1.6372 - val_accuracy: 0.2857\n",
      "Epoch 183/200\n",
      "6/6 [==============================] - 0s 14ms/step - loss: 0.9346 - accuracy: 0.6310 - val_loss: 1.6210 - val_accuracy: 0.3095\n",
      "Epoch 184/200\n",
      "6/6 [==============================] - 0s 11ms/step - loss: 0.9363 - accuracy: 0.5982 - val_loss: 1.6812 - val_accuracy: 0.2738\n",
      "Epoch 185/200\n",
      "6/6 [==============================] - 0s 12ms/step - loss: 1.0141 - accuracy: 0.5774 - val_loss: 1.6459 - val_accuracy: 0.3095\n",
      "Epoch 186/200\n",
      "6/6 [==============================] - 0s 10ms/step - loss: 0.9919 - accuracy: 0.5804 - val_loss: 1.6347 - val_accuracy: 0.3095\n",
      "Epoch 187/200\n",
      "6/6 [==============================] - 0s 16ms/step - loss: 0.9614 - accuracy: 0.5893 - val_loss: 1.6004 - val_accuracy: 0.3214\n",
      "Epoch 188/200\n",
      "6/6 [==============================] - 0s 11ms/step - loss: 0.9949 - accuracy: 0.5804 - val_loss: 1.6459 - val_accuracy: 0.2619\n",
      "Epoch 189/200\n",
      "6/6 [==============================] - 0s 12ms/step - loss: 0.9587 - accuracy: 0.6071 - val_loss: 1.6633 - val_accuracy: 0.3095\n",
      "Epoch 190/200\n",
      "6/6 [==============================] - 0s 12ms/step - loss: 0.9420 - accuracy: 0.6161 - val_loss: 1.6531 - val_accuracy: 0.3571\n",
      "Epoch 191/200\n",
      "6/6 [==============================] - 0s 11ms/step - loss: 0.9543 - accuracy: 0.5952 - val_loss: 1.5931 - val_accuracy: 0.3333\n",
      "Epoch 192/200\n",
      "6/6 [==============================] - 0s 13ms/step - loss: 0.9332 - accuracy: 0.6071 - val_loss: 1.7226 - val_accuracy: 0.2857\n",
      "Epoch 193/200\n",
      "6/6 [==============================] - 0s 13ms/step - loss: 0.9644 - accuracy: 0.6399 - val_loss: 1.7502 - val_accuracy: 0.2738\n",
      "Epoch 194/200\n",
      "6/6 [==============================] - 0s 12ms/step - loss: 0.9210 - accuracy: 0.6488 - val_loss: 1.7314 - val_accuracy: 0.3214\n",
      "Epoch 195/200\n",
      "6/6 [==============================] - 0s 12ms/step - loss: 0.9368 - accuracy: 0.6161 - val_loss: 1.7335 - val_accuracy: 0.2857\n",
      "Epoch 196/200\n",
      "6/6 [==============================] - 0s 14ms/step - loss: 0.9480 - accuracy: 0.6190 - val_loss: 1.6930 - val_accuracy: 0.3095\n",
      "Epoch 197/200\n",
      "6/6 [==============================] - 0s 11ms/step - loss: 1.0510 - accuracy: 0.5804 - val_loss: 1.6736 - val_accuracy: 0.2857\n",
      "Epoch 198/200\n",
      "6/6 [==============================] - 0s 10ms/step - loss: 1.0147 - accuracy: 0.5952 - val_loss: 1.7267 - val_accuracy: 0.2738\n",
      "Epoch 199/200\n",
      "6/6 [==============================] - 0s 12ms/step - loss: 0.9693 - accuracy: 0.5982 - val_loss: 1.6310 - val_accuracy: 0.2619\n",
      "Epoch 200/200\n",
      "6/6 [==============================] - 0s 13ms/step - loss: 0.9421 - accuracy: 0.6220 - val_loss: 1.6702 - val_accuracy: 0.3452\n"
     ]
    },
    {
     "data": {
      "text/plain": [
       "<keras.callbacks.History at 0x13f883b9760>"
      ]
     },
     "execution_count": 65,
     "metadata": {},
     "output_type": "execute_result"
    }
   ],
   "source": [
    "model_2.compile(loss=\"sparse_categorical_crossentropy\",\n",
    "               optimizer=tf.keras.optimizers.Adam(learning_rate=0.001),\n",
    "               metrics=[\"accuracy\"])\n",
    "\n",
    "history= model_2.fit(X_train_scaled, y_train, epochs=200, batch_size=64, validation_split=0.20, shuffle = True) #validation_split=0.33\n",
    "history"
   ]
  },
  {
   "cell_type": "code",
   "execution_count": 66,
   "id": "danish-clark",
   "metadata": {},
   "outputs": [
    {
     "name": "stdout",
     "output_type": "stream",
     "text": [
      "Validation accuracy :  29.595238596200947 %\n"
     ]
    }
   ],
   "source": [
    "print('Validation accuracy : ', (np.mean(history.history['val_accuracy'][-50:]))*100, '%') # Mean of last 50 values"
   ]
  },
  {
   "cell_type": "code",
   "execution_count": 67,
   "id": "eastern-prospect",
   "metadata": {},
   "outputs": [],
   "source": [
    "# model_2.save('saved_model.h5')"
   ]
  },
  {
   "cell_type": "code",
   "execution_count": 68,
   "id": "narrow-lounge",
   "metadata": {
    "scrolled": true
   },
   "outputs": [
    {
     "name": "stdout",
     "output_type": "stream",
     "text": [
      "6/6 [==============================] - 0s 3ms/step - loss: 1.4840 - accuracy: 0.4056\n",
      "Loss: 1.4840368032455444, Accuracy: 0.4055555462837219\n",
      "Test accuracy :  40.55555462837219 %\n"
     ]
    }
   ],
   "source": [
    "loss, accuracy= model_2.evaluate(X_test_scaled, y_test)\n",
    "print(f'Loss: {loss}, Accuracy: {accuracy}')\n",
    "print('Test accuracy : ',accuracy*100,'%')"
   ]
  },
  {
   "cell_type": "code",
   "execution_count": 69,
   "id": "bronze-details",
   "metadata": {
    "scrolled": true
   },
   "outputs": [
    {
     "data": {
      "image/png": "[encoded data removed]",
      "text/plain": [
       "<Figure size 576x360 with 1 Axes>"
      ]
     },
     "metadata": {
      "needs_background": "light"
     },
     "output_type": "display_data"
    }
   ],
   "source": [
    "pd.DataFrame(history.history).plot(figsize=(8,5))\n",
    "plt.xlabel('epoch')\n",
    "plt.ylabel('accuracy')\n",
    "# plt.savefig('6_image_loss_accuracy_44.png', dpi= 100)\n",
    "plt.show()"
   ]
  },
  {
   "cell_type": "code",
   "execution_count": 70,
   "id": "threatened-camera",
   "metadata": {},
   "outputs": [
    {
     "name": "stdout",
     "output_type": "stream",
     "text": [
      "6/6 [==============================] - 0s 2ms/step\n"
     ]
    }
   ],
   "source": [
    "y_pred = model_2.predict(X_test_scaled)\n",
    "# y_pred[:10]"
   ]
  },
  {
   "cell_type": "code",
   "execution_count": 71,
   "id": "public-triple",
   "metadata": {},
   "outputs": [
    {
     "data": {
      "text/plain": [
       "[3, 3, 3, 2, 1, 0, 4, 5, 3, 3]"
      ]
     },
     "execution_count": 71,
     "metadata": {},
     "output_type": "execute_result"
    }
   ],
   "source": [
    "y_pred_class = [np.argmax(i) for i in y_pred]\n",
    "y_pred_class[:10]"
   ]
  },
  {
   "cell_type": "code",
   "execution_count": 72,
   "id": "apart-spyware",
   "metadata": {},
   "outputs": [
    {
     "data": {
      "text/plain": [
       "array([4, 2, 3, 5, 1, 0, 3, 2, 3, 2], dtype=int64)"
      ]
     },
     "execution_count": 72,
     "metadata": {},
     "output_type": "execute_result"
    }
   ],
   "source": [
    "y_test[:10]"
   ]
  },
  {
   "cell_type": "code",
   "execution_count": 73,
   "id": "rental-zambia",
   "metadata": {},
   "outputs": [
    {
     "name": "stdout",
     "output_type": "stream",
     "text": [
      "6/6 [==============================] - 0s 6ms/step - loss: 1.4840 - accuracy: 0.4056\n",
      "Loss: 1.4840368032455444, Accuracy: 0.4055555462837219\n",
      "Test accuracy :  40.55555462837219 %\n"
     ]
    }
   ],
   "source": [
    "loss, accuracy= model_2.evaluate(X_test_scaled, y_test)\n",
    "print(f'Loss: {loss}, Accuracy: {accuracy}')\n",
    "print('Test accuracy : ',accuracy*100,'%')"
   ]
  },
  {
   "cell_type": "code",
   "execution_count": 74,
   "id": "prescribed-thunder",
   "metadata": {},
   "outputs": [
    {
     "data": {
      "image/png": "[encoded data removed]",
      "text/plain": [
       "<Figure size 360x360 with 2 Axes>"
      ]
     },
     "metadata": {
      "needs_background": "light"
     },
     "output_type": "display_data"
    }
   ],
   "source": [
    "#Confusion matrix\n",
    "import seaborn as sns\n",
    "cm=confusion_matrix(y_test,y_pred_class)\n",
    "#Plot\n",
    "disp=ConfusionMatrixDisplay(confusion_matrix=cm,display_labels=devices_label_dict)\n",
    "fig, ax = plt.subplots(figsize=(5,5))\n",
    "sns.heatmap(cm, annot=True, linewidths=0.01,cmap=\"Greens\",linecolor=\"gray\", fmt= '.1f',ax=ax)\n",
    "# disp.plot(ax=ax)\n",
    "plt.xlabel(\"Predicted Label\")\n",
    "plt.ylabel(\"True Label\")\n",
    "plt.title(\"Confusion Matrix\")\n",
    "# plt.savefig('6_image_matrix-44.png',bbox_inches = 'tight', pad_inches = 0, dpi= 100)\n",
    "plt.show()"
   ]
  },
  {
   "cell_type": "code",
   "execution_count": 75,
   "id": "renewable-gazette",
   "metadata": {},
   "outputs": [
    {
     "data": {
      "image/png": "[encoded data removed]",
      "text/plain": [
       "<Figure size 432x432 with 2 Axes>"
      ]
     },
     "metadata": {
      "needs_background": "light"
     },
     "output_type": "display_data"
    }
   ],
   "source": [
    "clf_report= classification_report(y_test, y_pred_class,output_dict=True)\n",
    "\n",
    " #.iloc[:-1, :] to exclude support\n",
    "fig, ax = plt.subplots(figsize=(6,6))\n",
    "\n",
    "# sns.heatmap(pd.DataFrame(clf_report).iloc[:-1, :].T, annot=True, cmap=\"Blues\",linecolor=\"black\", fmt= '.2f')\n",
    "ax = sns.heatmap(pd.DataFrame(clf_report).iloc[:-1, :].T, annot=True,linewidths=0.01,linecolor=\"black\", fmt= '.2f')# cmap=\"Blues\",\n",
    "ax.set(xlabel=\"\", ylabel=\"\")\n",
    "ax.xaxis.tick_top()\n",
    "# plt.savefig('clf_report_6-M2_image_44.png',bbox_inches = 'tight', pad_inches = 0, dpi= 100)\n"
   ]
  }
 ],
 "metadata": {
  "kernelspec": {
   "display_name": "Python 3 (ipykernel)",
   "language": "python",
   "name": "python3"
  },
  "language_info": {
   "codemirror_mode": {
    "name": "ipython",
    "version": 3
   },
   "file_extension": ".py",
   "mimetype": "text/x-python",
   "name": "python",
   "nbconvert_exporter": "python",
   "pygments_lexer": "ipython3",
   "version": "3.8.0"
  }
 },
 "nbformat": 4,
 "nbformat_minor": 5
}
