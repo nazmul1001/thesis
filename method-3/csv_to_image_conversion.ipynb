{
 "cells": [
  {
   "cell_type": "code",
   "execution_count": 1,
   "id": "proud-amount",
   "metadata": {},
   "outputs": [],
   "source": [
    "import pandas as pd\n",
    "import matplotlib.pyplot as plt\n",
    "import matplotlib.ticker as ticker\n",
    "import numpy as np\n",
    "import pathlib\n",
    "import os\n",
    "import PIL\n",
    "import cv2\n",
    "import tensorflow as tf\n",
    "from tensorflow import keras\n",
    "from tensorflow.keras import layers\n",
    "from tensorflow.keras.models import Sequential"
   ]
  },
  {
   "cell_type": "markdown",
   "id": "fantastic-sister",
   "metadata": {},
   "source": [
    "### Read all 500 files"
   ]
  },
  {
   "cell_type": "code",
   "execution_count": 2,
   "id": "stylish-tulsa",
   "metadata": {},
   "outputs": [],
   "source": [
    "#path\n",
    "# (r'E:\\Rostock-Masters\\Thesis\\Test') # 100 files\n",
    "# (r'C:\\Users\\NAZMUL-LAPTOP\\Python\\Thesis\\read_files\\msmts-smartlab-2020-10-27') #500files"
   ]
  },
  {
   "cell_type": "code",
   "execution_count": 3,
   "id": "excess-sphere",
   "metadata": {},
   "outputs": [
    {
     "data": {
      "text/plain": [
       "WindowsPath('E:/Rostock-Masters/Thesis/Test')"
      ]
     },
     "execution_count": 3,
     "metadata": {},
     "output_type": "execute_result"
    }
   ],
   "source": [
    "data_dir_3 = (r'E:\\Rostock-Masters\\Thesis\\Test') # all 500 files\n",
    "data_dir_3 = pathlib.Path(data_dir_3)\n",
    "data_dir_3"
   ]
  },
  {
   "cell_type": "code",
   "execution_count": 4,
   "id": "synthetic-console",
   "metadata": {},
   "outputs": [],
   "source": [
    "file_name_dict_3 = {\n",
    "    'Device_1' : list(data_dir_3.glob('Device_1/*.csv')),\n",
    "    'Device_2' : list(data_dir_3.glob('Device_2/*.csv')),\n",
    "    'Device_3' : list(data_dir_3.glob('Device_3/*.csv')),\n",
    "    'Device_4' : list(data_dir_3.glob('Device_4/*.csv')),\n",
    "    'Device_5' : list(data_dir_3.glob('Device_5/*.csv')),\n",
    "    'Device_6' : list(data_dir_3.glob('Device_6/*.csv'))\n",
    "}"
   ]
  },
  {
   "cell_type": "code",
   "execution_count": 5,
   "id": "modular-physiology",
   "metadata": {},
   "outputs": [
    {
     "data": {
      "text/plain": [
       "100"
      ]
     },
     "execution_count": 5,
     "metadata": {},
     "output_type": "execute_result"
    }
   ],
   "source": [
    "len(file_name_dict_3['Device_1'])"
   ]
  },
  {
   "cell_type": "code",
   "execution_count": 6,
   "id": "interesting-algorithm",
   "metadata": {
    "scrolled": true
   },
   "outputs": [
    {
     "data": {
      "text/plain": [
       "WindowsPath('E:/Rostock-Masters/Thesis/Test/device_2/3_8_2_3_8_2-98.csv')"
      ]
     },
     "execution_count": 6,
     "metadata": {},
     "output_type": "execute_result"
    }
   ],
   "source": [
    "file_name_dict_3['Device_2'][98]"
   ]
  },
  {
   "cell_type": "code",
   "execution_count": 7,
   "id": "portable-disability",
   "metadata": {},
   "outputs": [
    {
     "data": {
      "text/plain": [
       "'E:\\\\Rostock-Masters\\\\Thesis\\\\Test\\\\device_1\\\\3_8_1_3_8_1-52.csv'"
      ]
     },
     "execution_count": 7,
     "metadata": {},
     "output_type": "execute_result"
    }
   ],
   "source": [
    "str(file_name_dict_3['Device_1'][48])"
   ]
  },
  {
   "cell_type": "code",
   "execution_count": 24,
   "id": "educated-favorite",
   "metadata": {},
   "outputs": [
    {
     "data": {
      "image/png": "[encoded data removed]",
      "text/plain": [
       "<Figure size 288x288 with 1 Axes>"
      ]
     },
     "metadata": {
      "needs_background": "light"
     },
     "output_type": "display_data"
    }
   ],
   "source": [
    "df_device_1 = pd.read_csv(str(file_name_dict_3['Device_1'][99]))\n",
    "df_device_1.columns = ['time', 'voltage']\n",
    "df_short= df_device_1.iloc[:1500, :]\n",
    "\n",
    "plt.figure(100,figsize=(4,4))\n",
    "plt.axis('off')\n",
    "plt.plot(df_short['time'], df_short['voltage'])\n",
    "# plt.savefig('reduced.png',bbox_inches = 'tight',dpi=100, pad_inches = 0)\n",
    "plt.tight_layout()\n",
    "plt.show()"
   ]
  },
  {
   "cell_type": "markdown",
   "id": "successful-pencil",
   "metadata": {},
   "source": [
    "### Function"
   ]
  },
  {
   "cell_type": "code",
   "execution_count": 10,
   "id": "cardiovascular-moisture",
   "metadata": {},
   "outputs": [],
   "source": [
    "def csv_plot(device, fold_name, img_name):\n",
    "    df_shortened_list = []\n",
    "    for csv_file in file_name_dict_3[device]:\n",
    "            csv_file_df = pd.read_csv(str(csv_file))\n",
    "            csv_file_df.columns = ['time', 'voltage']\n",
    "            df_short = csv_file_df.iloc[:2000, :]\n",
    "            df_shortened_list.append(df_short)\n",
    "            \n",
    "    #Saving plotted images\n",
    "    for j in range (len(df_shortened_list)):\n",
    "        plt.figure(100,figsize=(1,1))\n",
    "        plt.axis('off')\n",
    "        plt.plot(df_shortened_list[j]['time'], df_shortened_list[j]['voltage'])\n",
    "        plt.savefig(r'E:\\Rostock-Masters\\Thesis\\Data\\images_2000\\{}/{}-{}.jpg'.format(fold_name,img_name,j),bbox_inches = 'tight', pad_inches = 0)\n",
    "        plt.close()"
   ]
  },
  {
   "cell_type": "code",
   "execution_count": 11,
   "id": "ancient-gardening",
   "metadata": {
    "scrolled": true
   },
   "outputs": [],
   "source": [
    "csv_plot('Device_1', 'Device_1', 'device_1')"
   ]
  },
  {
   "cell_type": "code",
   "execution_count": 12,
   "id": "authorized-shame",
   "metadata": {},
   "outputs": [],
   "source": [
    "csv_plot('Device_2', 'Device_2', 'device_2')"
   ]
  },
  {
   "cell_type": "code",
   "execution_count": 13,
   "id": "criminal-consequence",
   "metadata": {},
   "outputs": [],
   "source": [
    "csv_plot('Device_3', 'Device_3', 'device_3')"
   ]
  },
  {
   "cell_type": "code",
   "execution_count": 14,
   "id": "finite-portable",
   "metadata": {},
   "outputs": [],
   "source": [
    "csv_plot('Device_4', 'Device_4', 'device_4')"
   ]
  },
  {
   "cell_type": "code",
   "execution_count": 15,
   "id": "public-healthcare",
   "metadata": {},
   "outputs": [],
   "source": [
    "csv_plot('Device_5', 'Device_5', 'device_5')"
   ]
  },
  {
   "cell_type": "code",
   "execution_count": 16,
   "id": "introductory-longitude",
   "metadata": {},
   "outputs": [],
   "source": [
    "csv_plot('Device_6', 'Device_6', 'device_6')"
   ]
  },
  {
   "cell_type": "markdown",
   "id": "elegant-equity",
   "metadata": {},
   "source": [
    "---------------------------------------------------------"
   ]
  }
 ],
 "metadata": {
  "kernelspec": {
   "display_name": "Python 3 (ipykernel)",
   "language": "python",
   "name": "python3"
  },
  "language_info": {
   "codemirror_mode": {
    "name": "ipython",
    "version": 3
   },
   "file_extension": ".py",
   "mimetype": "text/x-python",
   "name": "python",
   "nbconvert_exporter": "python",
   "pygments_lexer": "ipython3",
   "version": "3.8.0"
  }
 },
 "nbformat": 4,
 "nbformat_minor": 5
}
