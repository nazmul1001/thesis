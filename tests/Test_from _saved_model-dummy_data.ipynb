{
 "cells": [
  {
   "cell_type": "code",
   "execution_count": 51,
   "id": "proud-amount",
   "metadata": {},
   "outputs": [],
   "source": [
    "import pandas as pd\n",
    "import matplotlib.pyplot as plt\n",
    "import matplotlib.ticker as ticker\n",
    "import numpy as np\n",
    "import pathlib\n",
    "import os\n",
    "import PIL\n",
    "import cv2\n",
    "import tensorflow as tf\n",
    "from tensorflow import keras\n",
    "from tensorflow.keras import layers\n",
    "from sklearn.preprocessing import StandardScaler, MinMaxScaler\n",
    "from tensorflow.keras.models import Sequential\n",
    "from sklearn.metrics import plot_confusion_matrix, ConfusionMatrixDisplay, confusion_matrix, classification_report"
   ]
  },
  {
   "cell_type": "markdown",
   "id": "urban-electronics",
   "metadata": {},
   "source": [
    "## CSV to image conversion"
   ]
  },
  {
   "cell_type": "code",
   "execution_count": 52,
   "id": "varying-millennium",
   "metadata": {},
   "outputs": [
    {
     "data": {
      "text/plain": [
       "WindowsPath('D:/Rostock-Masters/Thesis/Data/test_data')"
      ]
     },
     "execution_count": 52,
     "metadata": {},
     "output_type": "execute_result"
    }
   ],
   "source": [
    "data_dir_2 = (r'D:\\Rostock-Masters\\Thesis\\Data\\test_data')\n",
    "data_dir_2 = pathlib.Path(data_dir_2)\n",
    "data_dir_2"
   ]
  },
  {
   "cell_type": "code",
   "execution_count": 53,
   "id": "ultimate-green",
   "metadata": {},
   "outputs": [],
   "source": [
    "file_name_dict_2 = {\n",
    "    'Device_1' : list(data_dir_2.glob('Device_1/*.csv')),\n",
    "    'Device_2' : list(data_dir_2.glob('Device_2/*.csv')),\n",
    "    'Device_3' : list(data_dir_2.glob('Device_3/*.csv')),\n",
    "    'Device_4' : list(data_dir_2.glob('Device_4/*.csv')),\n",
    "    'Device_5' : list(data_dir_2.glob('Device_5/*.csv')),\n",
    "    'Device_6' : list(data_dir_2.glob('Device_6/*.csv')),\n",
    "#     'Device_10' : list(data_dir_2.glob('Device_10/*.csv')),\n",
    "}"
   ]
  },
  {
   "cell_type": "code",
   "execution_count": 54,
   "id": "speaking-approval",
   "metadata": {},
   "outputs": [],
   "source": [
    "def csv_plot(device, fold_name, img_name):\n",
    "    df_shortened_list = []\n",
    "    for csv_file in file_name_dict_2[device]:\n",
    "            csv_file_df = pd.read_csv(str(csv_file))\n",
    "            csv_file_df.columns = ['time', 'voltage']\n",
    "            df_short = csv_file_df #csv_file_df.iloc[:2000, :]\n",
    "            df_shortened_list.append(df_short)\n",
    "            \n",
    "    #Saving plotted images\n",
    "    for j in range (len(df_shortened_list)):\n",
    "        plt.figure(100,figsize=(1,1))\n",
    "        plt.axis('off')\n",
    "        plt.plot(df_shortened_list[j]['time'], df_shortened_list[j]['voltage'])\n",
    "        plt.savefig(r'D:\\Rostock-Masters\\Thesis\\Data\\test_data_images\\{}/{}-{}.jpg'.format(fold_name,img_name,j),bbox_inches = 'tight', pad_inches = 0)\n",
    "        plt.close()"
   ]
  },
  {
   "cell_type": "code",
   "execution_count": 55,
   "id": "ethical-bleeding",
   "metadata": {},
   "outputs": [],
   "source": [
    "## save image to folder\n",
    "csv_plot('Device_1', 'Device_1', 'device_1')\n",
    "csv_plot('Device_2', 'Device_2', 'device_2')\n",
    "csv_plot('Device_3', 'Device_3', 'device_3')\n",
    "csv_plot('Device_4', 'Device_4', 'device_4')\n",
    "csv_plot('Device_5', 'Device_5', 'device_5')\n",
    "csv_plot('Device_6', 'Device_6', 'device_6')\n",
    "# csv_plot('Device_10', 'Device_10', 'device_10')"
   ]
  },
  {
   "cell_type": "markdown",
   "id": "interested-store",
   "metadata": {},
   "source": [
    "## Image processing"
   ]
  },
  {
   "cell_type": "code",
   "execution_count": 56,
   "id": "vocational-ballot",
   "metadata": {},
   "outputs": [
    {
     "data": {
      "text/plain": [
       "'D:\\\\Rostock-Masters\\\\Thesis\\\\Data\\\\test_data_images'"
      ]
     },
     "execution_count": 56,
     "metadata": {},
     "output_type": "execute_result"
    }
   ],
   "source": [
    "data_dir = (r'D:\\Rostock-Masters\\Thesis\\Data\\test_data_images')\n",
    "data_dir"
   ]
  },
  {
   "cell_type": "code",
   "execution_count": 57,
   "id": "flying-sperm",
   "metadata": {
    "scrolled": true
   },
   "outputs": [
    {
     "data": {
      "text/plain": [
       "WindowsPath('D:/Rostock-Masters/Thesis/Data/test_data_images')"
      ]
     },
     "execution_count": 57,
     "metadata": {},
     "output_type": "execute_result"
    }
   ],
   "source": [
    "data_dir = pathlib.Path(data_dir)\n",
    "data_dir"
   ]
  },
  {
   "cell_type": "code",
   "execution_count": 59,
   "id": "informational-manufacturer",
   "metadata": {},
   "outputs": [
    {
     "data": {
      "image/png": "[encoded data removed]",
      "text/plain": [
       "<PIL.JpegImagePlugin.JpegImageFile image mode=RGB size=55x54>"
      ]
     },
     "execution_count": 59,
     "metadata": {},
     "output_type": "execute_result"
    }
   ],
   "source": [
    "PIL.Image.open(str(Device_1[1]))"
   ]
  },
  {
   "cell_type": "code",
   "execution_count": 60,
   "id": "chief-webcam",
   "metadata": {},
   "outputs": [],
   "source": [
    "device_image_dict = {\n",
    "    'Device_1' : list(data_dir.glob('Device_1/*.jpg')),\n",
    "    'Device_2' : list(data_dir.glob('Device_2/*.jpg')),\n",
    "    'Device_3' : list(data_dir.glob('Device_3/*.jpg')),\n",
    "    'Device_4' : list(data_dir.glob('Device_4/*.jpg')),\n",
    "    'Device_5' : list(data_dir.glob('Device_5/*.jpg')),\n",
    "    'Device_6' : list(data_dir.glob('Device_6/*.jpg')),\n",
    "#     'Device_10' : list(data_dir.glob('Device_10/*.jpg'))\n",
    "}"
   ]
  },
  {
   "cell_type": "code",
   "execution_count": 61,
   "id": "weekly-grant",
   "metadata": {
    "scrolled": true
   },
   "outputs": [
    {
     "data": {
      "text/plain": [
       "WindowsPath('D:/Rostock-Masters/Thesis/Data/test_data_images/device_6/device_6-0.jpg')"
      ]
     },
     "execution_count": 61,
     "metadata": {},
     "output_type": "execute_result"
    }
   ],
   "source": [
    "device_image_dict['Device_6'][0]"
   ]
  },
  {
   "cell_type": "code",
   "execution_count": 62,
   "id": "universal-abortion",
   "metadata": {},
   "outputs": [
    {
     "data": {
      "image/png": "[encoded data removed]",
      "text/plain": [
       "<PIL.JpegImagePlugin.JpegImageFile image mode=RGB size=55x54>"
      ]
     },
     "execution_count": 62,
     "metadata": {},
     "output_type": "execute_result"
    }
   ],
   "source": [
    "PIL.Image.open(str(device_image_dict['Device_5'][12]))"
   ]
  },
  {
   "cell_type": "code",
   "execution_count": 63,
   "id": "arranged-reducing",
   "metadata": {},
   "outputs": [],
   "source": [
    "devices_label_dict = {\n",
    "    'Device_1' : 0,\n",
    "    'Device_2' : 1,\n",
    "    'Device_3' : 2,\n",
    "    'Device_4' : 3,\n",
    "    'Device_5' : 4,\n",
    "    'Device_6' : 5,\n",
    "#     'Device_10' : 10,\n",
    "}"
   ]
  },
  {
   "cell_type": "code",
   "execution_count": 64,
   "id": "political-nickname",
   "metadata": {},
   "outputs": [
    {
     "data": {
      "text/plain": [
       "31"
      ]
     },
     "execution_count": 64,
     "metadata": {},
     "output_type": "execute_result"
    }
   ],
   "source": [
    "len(device_image_dict['Device_6'])"
   ]
  },
  {
   "cell_type": "code",
   "execution_count": 65,
   "id": "improving-slope",
   "metadata": {},
   "outputs": [
    {
     "data": {
      "text/plain": [
       "'D:\\\\Rostock-Masters\\\\Thesis\\\\Data\\\\test_data_images\\\\device_3\\\\device_3-0.jpg'"
      ]
     },
     "execution_count": 65,
     "metadata": {},
     "output_type": "execute_result"
    }
   ],
   "source": [
    "str(device_image_dict['Device_3'][0])"
   ]
  },
  {
   "cell_type": "markdown",
   "id": "superb-patent",
   "metadata": {},
   "source": [
    "## Classification"
   ]
  },
  {
   "cell_type": "code",
   "execution_count": 66,
   "id": "italian-modeling",
   "metadata": {},
   "outputs": [
    {
     "data": {
      "image/png": "[encoded data removed]",
      "text/plain": [
       "<PIL.Image.Image image mode=RGB size=55x54>"
      ]
     },
     "execution_count": 66,
     "metadata": {},
     "output_type": "execute_result"
    }
   ],
   "source": [
    "#Reading with cv2\n",
    "image_2= cv2.imread (str(device_image_dict['Device_4'][20]))\n",
    "#Converting to RGB\n",
    "RGB_img = cv2.cvtColor(image_2, cv2.COLOR_BGR2RGB)\n",
    "#plotting RGB images\n",
    "image_3 = PIL.Image.fromarray(RGB_img)\n",
    "image_3"
   ]
  },
  {
   "cell_type": "markdown",
   "id": "cooperative-cuisine",
   "metadata": {},
   "source": [
    "### Image shape"
   ]
  },
  {
   "cell_type": "code",
   "execution_count": 67,
   "id": "resident-documentation",
   "metadata": {},
   "outputs": [],
   "source": [
    "#Saving image data to a dataframe\n",
    "device_list, label_list = [],[]\n",
    "\n",
    "for device_name, folder in device_image_dict.items():\n",
    "    for image in folder:\n",
    "        img = cv2.imread(str(image))\n",
    "        resized_img = cv2.resize(img,(35,35))\n",
    "        flattened = resized_img.reshape(-1)\n",
    "        df_flat= pd.DataFrame(flattened.reshape(1,-1))\n",
    "        device_list.append(df_flat)\n",
    "        label_list.append(devices_label_dict[device_name])"
   ]
  },
  {
   "cell_type": "code",
   "execution_count": 68,
   "id": "compact-yukon",
   "metadata": {},
   "outputs": [
    {
     "data": {
      "text/html": [
       "<div>\n",
       "<style scoped>\n",
       "    .dataframe tbody tr th:only-of-type {\n",
       "        vertical-align: middle;\n",
       "    }\n",
       "\n",
       "    .dataframe tbody tr th {\n",
       "        vertical-align: top;\n",
       "    }\n",
       "\n",
       "    .dataframe thead th {\n",
       "        text-align: right;\n",
       "    }\n",
       "</style>\n",
       "<table border=\"1\" class=\"dataframe\">\n",
       "  <thead>\n",
       "    <tr style=\"text-align: right;\">\n",
       "      <th></th>\n",
       "      <th>0</th>\n",
       "      <th>1</th>\n",
       "      <th>2</th>\n",
       "      <th>3</th>\n",
       "      <th>4</th>\n",
       "      <th>5</th>\n",
       "      <th>6</th>\n",
       "      <th>7</th>\n",
       "      <th>8</th>\n",
       "      <th>9</th>\n",
       "      <th>...</th>\n",
       "      <th>3665</th>\n",
       "      <th>3666</th>\n",
       "      <th>3667</th>\n",
       "      <th>3668</th>\n",
       "      <th>3669</th>\n",
       "      <th>3670</th>\n",
       "      <th>3671</th>\n",
       "      <th>3672</th>\n",
       "      <th>3673</th>\n",
       "      <th>3674</th>\n",
       "    </tr>\n",
       "  </thead>\n",
       "  <tbody>\n",
       "    <tr>\n",
       "      <th>0</th>\n",
       "      <td>241</td>\n",
       "      <td>244</td>\n",
       "      <td>254</td>\n",
       "      <td>254</td>\n",
       "      <td>251</td>\n",
       "      <td>255</td>\n",
       "      <td>255</td>\n",
       "      <td>250</td>\n",
       "      <td>236</td>\n",
       "      <td>255</td>\n",
       "      <td>...</td>\n",
       "      <td>235</td>\n",
       "      <td>254</td>\n",
       "      <td>253</td>\n",
       "      <td>248</td>\n",
       "      <td>254</td>\n",
       "      <td>253</td>\n",
       "      <td>250</td>\n",
       "      <td>255</td>\n",
       "      <td>254</td>\n",
       "      <td>253</td>\n",
       "    </tr>\n",
       "  </tbody>\n",
       "</table>\n",
       "<p>1 rows × 3675 columns</p>\n",
       "</div>"
      ],
      "text/plain": [
       "   0     1     2     3     4     5     6     7     8     9     ...  3665  \\\n",
       "0   241   244   254   254   251   255   255   250   236   255  ...   235   \n",
       "\n",
       "   3666  3667  3668  3669  3670  3671  3672  3673  3674  \n",
       "0   254   253   248   254   253   250   255   254   253  \n",
       "\n",
       "[1 rows x 3675 columns]"
      ]
     },
     "execution_count": 68,
     "metadata": {},
     "output_type": "execute_result"
    }
   ],
   "source": [
    "device_list[10]"
   ]
  },
  {
   "cell_type": "code",
   "execution_count": 69,
   "id": "unlike-uganda",
   "metadata": {
    "scrolled": true
   },
   "outputs": [
    {
     "data": {
      "text/html": [
       "<div>\n",
       "<style scoped>\n",
       "    .dataframe tbody tr th:only-of-type {\n",
       "        vertical-align: middle;\n",
       "    }\n",
       "\n",
       "    .dataframe tbody tr th {\n",
       "        vertical-align: top;\n",
       "    }\n",
       "\n",
       "    .dataframe thead th {\n",
       "        text-align: right;\n",
       "    }\n",
       "</style>\n",
       "<table border=\"1\" class=\"dataframe\">\n",
       "  <thead>\n",
       "    <tr style=\"text-align: right;\">\n",
       "      <th></th>\n",
       "      <th>0</th>\n",
       "      <th>1</th>\n",
       "      <th>2</th>\n",
       "      <th>3</th>\n",
       "      <th>4</th>\n",
       "      <th>5</th>\n",
       "      <th>6</th>\n",
       "      <th>7</th>\n",
       "      <th>8</th>\n",
       "      <th>9</th>\n",
       "      <th>...</th>\n",
       "      <th>3665</th>\n",
       "      <th>3666</th>\n",
       "      <th>3667</th>\n",
       "      <th>3668</th>\n",
       "      <th>3669</th>\n",
       "      <th>3670</th>\n",
       "      <th>3671</th>\n",
       "      <th>3672</th>\n",
       "      <th>3673</th>\n",
       "      <th>3674</th>\n",
       "    </tr>\n",
       "  </thead>\n",
       "  <tbody>\n",
       "    <tr>\n",
       "      <th>0</th>\n",
       "      <td>216</td>\n",
       "      <td>245</td>\n",
       "      <td>255</td>\n",
       "      <td>230</td>\n",
       "      <td>226</td>\n",
       "      <td>219</td>\n",
       "      <td>255</td>\n",
       "      <td>249</td>\n",
       "      <td>222</td>\n",
       "      <td>255</td>\n",
       "      <td>...</td>\n",
       "      <td>236</td>\n",
       "      <td>255</td>\n",
       "      <td>255</td>\n",
       "      <td>242</td>\n",
       "      <td>254</td>\n",
       "      <td>253</td>\n",
       "      <td>243</td>\n",
       "      <td>253</td>\n",
       "      <td>253</td>\n",
       "      <td>250</td>\n",
       "    </tr>\n",
       "    <tr>\n",
       "      <th>1</th>\n",
       "      <td>238</td>\n",
       "      <td>255</td>\n",
       "      <td>242</td>\n",
       "      <td>247</td>\n",
       "      <td>254</td>\n",
       "      <td>251</td>\n",
       "      <td>255</td>\n",
       "      <td>252</td>\n",
       "      <td>246</td>\n",
       "      <td>255</td>\n",
       "      <td>...</td>\n",
       "      <td>233</td>\n",
       "      <td>251</td>\n",
       "      <td>247</td>\n",
       "      <td>233</td>\n",
       "      <td>254</td>\n",
       "      <td>254</td>\n",
       "      <td>247</td>\n",
       "      <td>252</td>\n",
       "      <td>252</td>\n",
       "      <td>250</td>\n",
       "    </tr>\n",
       "    <tr>\n",
       "      <th>2</th>\n",
       "      <td>248</td>\n",
       "      <td>248</td>\n",
       "      <td>255</td>\n",
       "      <td>238</td>\n",
       "      <td>245</td>\n",
       "      <td>255</td>\n",
       "      <td>249</td>\n",
       "      <td>251</td>\n",
       "      <td>247</td>\n",
       "      <td>255</td>\n",
       "      <td>...</td>\n",
       "      <td>234</td>\n",
       "      <td>255</td>\n",
       "      <td>254</td>\n",
       "      <td>245</td>\n",
       "      <td>255</td>\n",
       "      <td>255</td>\n",
       "      <td>248</td>\n",
       "      <td>247</td>\n",
       "      <td>247</td>\n",
       "      <td>244</td>\n",
       "    </tr>\n",
       "    <tr>\n",
       "      <th>3</th>\n",
       "      <td>246</td>\n",
       "      <td>247</td>\n",
       "      <td>254</td>\n",
       "      <td>237</td>\n",
       "      <td>245</td>\n",
       "      <td>255</td>\n",
       "      <td>250</td>\n",
       "      <td>252</td>\n",
       "      <td>247</td>\n",
       "      <td>255</td>\n",
       "      <td>...</td>\n",
       "      <td>238</td>\n",
       "      <td>255</td>\n",
       "      <td>252</td>\n",
       "      <td>238</td>\n",
       "      <td>255</td>\n",
       "      <td>254</td>\n",
       "      <td>248</td>\n",
       "      <td>253</td>\n",
       "      <td>252</td>\n",
       "      <td>250</td>\n",
       "    </tr>\n",
       "    <tr>\n",
       "      <th>4</th>\n",
       "      <td>241</td>\n",
       "      <td>249</td>\n",
       "      <td>252</td>\n",
       "      <td>248</td>\n",
       "      <td>246</td>\n",
       "      <td>245</td>\n",
       "      <td>255</td>\n",
       "      <td>251</td>\n",
       "      <td>231</td>\n",
       "      <td>255</td>\n",
       "      <td>...</td>\n",
       "      <td>249</td>\n",
       "      <td>255</td>\n",
       "      <td>255</td>\n",
       "      <td>245</td>\n",
       "      <td>254</td>\n",
       "      <td>255</td>\n",
       "      <td>242</td>\n",
       "      <td>248</td>\n",
       "      <td>250</td>\n",
       "      <td>240</td>\n",
       "    </tr>\n",
       "    <tr>\n",
       "      <th>...</th>\n",
       "      <td>...</td>\n",
       "      <td>...</td>\n",
       "      <td>...</td>\n",
       "      <td>...</td>\n",
       "      <td>...</td>\n",
       "      <td>...</td>\n",
       "      <td>...</td>\n",
       "      <td>...</td>\n",
       "      <td>...</td>\n",
       "      <td>...</td>\n",
       "      <td>...</td>\n",
       "      <td>...</td>\n",
       "      <td>...</td>\n",
       "      <td>...</td>\n",
       "      <td>...</td>\n",
       "      <td>...</td>\n",
       "      <td>...</td>\n",
       "      <td>...</td>\n",
       "      <td>...</td>\n",
       "      <td>...</td>\n",
       "      <td>...</td>\n",
       "    </tr>\n",
       "    <tr>\n",
       "      <th>181</th>\n",
       "      <td>245</td>\n",
       "      <td>252</td>\n",
       "      <td>254</td>\n",
       "      <td>239</td>\n",
       "      <td>249</td>\n",
       "      <td>255</td>\n",
       "      <td>250</td>\n",
       "      <td>253</td>\n",
       "      <td>249</td>\n",
       "      <td>255</td>\n",
       "      <td>...</td>\n",
       "      <td>242</td>\n",
       "      <td>255</td>\n",
       "      <td>254</td>\n",
       "      <td>247</td>\n",
       "      <td>240</td>\n",
       "      <td>240</td>\n",
       "      <td>238</td>\n",
       "      <td>249</td>\n",
       "      <td>254</td>\n",
       "      <td>255</td>\n",
       "    </tr>\n",
       "    <tr>\n",
       "      <th>182</th>\n",
       "      <td>239</td>\n",
       "      <td>255</td>\n",
       "      <td>242</td>\n",
       "      <td>245</td>\n",
       "      <td>253</td>\n",
       "      <td>249</td>\n",
       "      <td>255</td>\n",
       "      <td>252</td>\n",
       "      <td>246</td>\n",
       "      <td>255</td>\n",
       "      <td>...</td>\n",
       "      <td>246</td>\n",
       "      <td>254</td>\n",
       "      <td>252</td>\n",
       "      <td>246</td>\n",
       "      <td>249</td>\n",
       "      <td>248</td>\n",
       "      <td>246</td>\n",
       "      <td>248</td>\n",
       "      <td>249</td>\n",
       "      <td>250</td>\n",
       "    </tr>\n",
       "    <tr>\n",
       "      <th>183</th>\n",
       "      <td>241</td>\n",
       "      <td>255</td>\n",
       "      <td>247</td>\n",
       "      <td>247</td>\n",
       "      <td>245</td>\n",
       "      <td>245</td>\n",
       "      <td>255</td>\n",
       "      <td>254</td>\n",
       "      <td>244</td>\n",
       "      <td>255</td>\n",
       "      <td>...</td>\n",
       "      <td>238</td>\n",
       "      <td>254</td>\n",
       "      <td>253</td>\n",
       "      <td>247</td>\n",
       "      <td>254</td>\n",
       "      <td>255</td>\n",
       "      <td>252</td>\n",
       "      <td>248</td>\n",
       "      <td>251</td>\n",
       "      <td>252</td>\n",
       "    </tr>\n",
       "    <tr>\n",
       "      <th>184</th>\n",
       "      <td>255</td>\n",
       "      <td>249</td>\n",
       "      <td>255</td>\n",
       "      <td>254</td>\n",
       "      <td>246</td>\n",
       "      <td>255</td>\n",
       "      <td>255</td>\n",
       "      <td>251</td>\n",
       "      <td>255</td>\n",
       "      <td>255</td>\n",
       "      <td>...</td>\n",
       "      <td>233</td>\n",
       "      <td>255</td>\n",
       "      <td>253</td>\n",
       "      <td>245</td>\n",
       "      <td>251</td>\n",
       "      <td>249</td>\n",
       "      <td>243</td>\n",
       "      <td>251</td>\n",
       "      <td>252</td>\n",
       "      <td>251</td>\n",
       "    </tr>\n",
       "    <tr>\n",
       "      <th>185</th>\n",
       "      <td>243</td>\n",
       "      <td>252</td>\n",
       "      <td>255</td>\n",
       "      <td>254</td>\n",
       "      <td>252</td>\n",
       "      <td>253</td>\n",
       "      <td>255</td>\n",
       "      <td>255</td>\n",
       "      <td>243</td>\n",
       "      <td>253</td>\n",
       "      <td>...</td>\n",
       "      <td>242</td>\n",
       "      <td>253</td>\n",
       "      <td>253</td>\n",
       "      <td>250</td>\n",
       "      <td>250</td>\n",
       "      <td>252</td>\n",
       "      <td>251</td>\n",
       "      <td>244</td>\n",
       "      <td>249</td>\n",
       "      <td>253</td>\n",
       "    </tr>\n",
       "  </tbody>\n",
       "</table>\n",
       "<p>186 rows × 3675 columns</p>\n",
       "</div>"
      ],
      "text/plain": [
       "     0     1     2     3     4     5     6     7     8     9     ...  3665  \\\n",
       "0     216   245   255   230   226   219   255   249   222   255  ...   236   \n",
       "1     238   255   242   247   254   251   255   252   246   255  ...   233   \n",
       "2     248   248   255   238   245   255   249   251   247   255  ...   234   \n",
       "3     246   247   254   237   245   255   250   252   247   255  ...   238   \n",
       "4     241   249   252   248   246   245   255   251   231   255  ...   249   \n",
       "..    ...   ...   ...   ...   ...   ...   ...   ...   ...   ...  ...   ...   \n",
       "181   245   252   254   239   249   255   250   253   249   255  ...   242   \n",
       "182   239   255   242   245   253   249   255   252   246   255  ...   246   \n",
       "183   241   255   247   247   245   245   255   254   244   255  ...   238   \n",
       "184   255   249   255   254   246   255   255   251   255   255  ...   233   \n",
       "185   243   252   255   254   252   253   255   255   243   253  ...   242   \n",
       "\n",
       "     3666  3667  3668  3669  3670  3671  3672  3673  3674  \n",
       "0     255   255   242   254   253   243   253   253   250  \n",
       "1     251   247   233   254   254   247   252   252   250  \n",
       "2     255   254   245   255   255   248   247   247   244  \n",
       "3     255   252   238   255   254   248   253   252   250  \n",
       "4     255   255   245   254   255   242   248   250   240  \n",
       "..    ...   ...   ...   ...   ...   ...   ...   ...   ...  \n",
       "181   255   254   247   240   240   238   249   254   255  \n",
       "182   254   252   246   249   248   246   248   249   250  \n",
       "183   254   253   247   254   255   252   248   251   252  \n",
       "184   255   253   245   251   249   243   251   252   251  \n",
       "185   253   253   250   250   252   251   244   249   253  \n",
       "\n",
       "[186 rows x 3675 columns]"
      ]
     },
     "execution_count": 69,
     "metadata": {},
     "output_type": "execute_result"
    }
   ],
   "source": [
    "df_merged= pd.concat(device_list)\n",
    "df_merged= df_merged.reset_index(drop=True)\n",
    "df_merged"
   ]
  },
  {
   "cell_type": "code",
   "execution_count": 70,
   "id": "sticky-minimum",
   "metadata": {},
   "outputs": [
    {
     "data": {
      "text/html": [
       "<div>\n",
       "<style scoped>\n",
       "    .dataframe tbody tr th:only-of-type {\n",
       "        vertical-align: middle;\n",
       "    }\n",
       "\n",
       "    .dataframe tbody tr th {\n",
       "        vertical-align: top;\n",
       "    }\n",
       "\n",
       "    .dataframe thead th {\n",
       "        text-align: right;\n",
       "    }\n",
       "</style>\n",
       "<table border=\"1\" class=\"dataframe\">\n",
       "  <thead>\n",
       "    <tr style=\"text-align: right;\">\n",
       "      <th></th>\n",
       "      <th>0</th>\n",
       "      <th>1</th>\n",
       "      <th>2</th>\n",
       "      <th>3</th>\n",
       "      <th>4</th>\n",
       "      <th>5</th>\n",
       "      <th>6</th>\n",
       "      <th>7</th>\n",
       "      <th>8</th>\n",
       "      <th>9</th>\n",
       "      <th>...</th>\n",
       "      <th>3666</th>\n",
       "      <th>3667</th>\n",
       "      <th>3668</th>\n",
       "      <th>3669</th>\n",
       "      <th>3670</th>\n",
       "      <th>3671</th>\n",
       "      <th>3672</th>\n",
       "      <th>3673</th>\n",
       "      <th>3674</th>\n",
       "      <th>label</th>\n",
       "    </tr>\n",
       "  </thead>\n",
       "  <tbody>\n",
       "    <tr>\n",
       "      <th>0</th>\n",
       "      <td>255</td>\n",
       "      <td>249</td>\n",
       "      <td>255</td>\n",
       "      <td>254</td>\n",
       "      <td>246</td>\n",
       "      <td>255</td>\n",
       "      <td>255</td>\n",
       "      <td>251</td>\n",
       "      <td>255</td>\n",
       "      <td>255</td>\n",
       "      <td>...</td>\n",
       "      <td>255</td>\n",
       "      <td>253</td>\n",
       "      <td>245</td>\n",
       "      <td>251</td>\n",
       "      <td>249</td>\n",
       "      <td>243</td>\n",
       "      <td>251</td>\n",
       "      <td>252</td>\n",
       "      <td>251</td>\n",
       "      <td>5</td>\n",
       "    </tr>\n",
       "    <tr>\n",
       "      <th>1</th>\n",
       "      <td>246</td>\n",
       "      <td>248</td>\n",
       "      <td>252</td>\n",
       "      <td>239</td>\n",
       "      <td>246</td>\n",
       "      <td>253</td>\n",
       "      <td>248</td>\n",
       "      <td>251</td>\n",
       "      <td>241</td>\n",
       "      <td>255</td>\n",
       "      <td>...</td>\n",
       "      <td>255</td>\n",
       "      <td>251</td>\n",
       "      <td>236</td>\n",
       "      <td>254</td>\n",
       "      <td>254</td>\n",
       "      <td>247</td>\n",
       "      <td>252</td>\n",
       "      <td>252</td>\n",
       "      <td>250</td>\n",
       "      <td>0</td>\n",
       "    </tr>\n",
       "    <tr>\n",
       "      <th>2</th>\n",
       "      <td>248</td>\n",
       "      <td>254</td>\n",
       "      <td>250</td>\n",
       "      <td>237</td>\n",
       "      <td>250</td>\n",
       "      <td>251</td>\n",
       "      <td>251</td>\n",
       "      <td>255</td>\n",
       "      <td>242</td>\n",
       "      <td>255</td>\n",
       "      <td>...</td>\n",
       "      <td>250</td>\n",
       "      <td>253</td>\n",
       "      <td>252</td>\n",
       "      <td>245</td>\n",
       "      <td>249</td>\n",
       "      <td>250</td>\n",
       "      <td>244</td>\n",
       "      <td>250</td>\n",
       "      <td>255</td>\n",
       "      <td>5</td>\n",
       "    </tr>\n",
       "    <tr>\n",
       "      <th>3</th>\n",
       "      <td>244</td>\n",
       "      <td>253</td>\n",
       "      <td>253</td>\n",
       "      <td>248</td>\n",
       "      <td>251</td>\n",
       "      <td>246</td>\n",
       "      <td>255</td>\n",
       "      <td>255</td>\n",
       "      <td>239</td>\n",
       "      <td>255</td>\n",
       "      <td>...</td>\n",
       "      <td>255</td>\n",
       "      <td>253</td>\n",
       "      <td>245</td>\n",
       "      <td>255</td>\n",
       "      <td>255</td>\n",
       "      <td>251</td>\n",
       "      <td>251</td>\n",
       "      <td>251</td>\n",
       "      <td>251</td>\n",
       "      <td>4</td>\n",
       "    </tr>\n",
       "    <tr>\n",
       "      <th>4</th>\n",
       "      <td>251</td>\n",
       "      <td>251</td>\n",
       "      <td>255</td>\n",
       "      <td>245</td>\n",
       "      <td>252</td>\n",
       "      <td>255</td>\n",
       "      <td>253</td>\n",
       "      <td>253</td>\n",
       "      <td>243</td>\n",
       "      <td>255</td>\n",
       "      <td>...</td>\n",
       "      <td>252</td>\n",
       "      <td>251</td>\n",
       "      <td>246</td>\n",
       "      <td>255</td>\n",
       "      <td>254</td>\n",
       "      <td>252</td>\n",
       "      <td>254</td>\n",
       "      <td>253</td>\n",
       "      <td>252</td>\n",
       "      <td>0</td>\n",
       "    </tr>\n",
       "    <tr>\n",
       "      <th>...</th>\n",
       "      <td>...</td>\n",
       "      <td>...</td>\n",
       "      <td>...</td>\n",
       "      <td>...</td>\n",
       "      <td>...</td>\n",
       "      <td>...</td>\n",
       "      <td>...</td>\n",
       "      <td>...</td>\n",
       "      <td>...</td>\n",
       "      <td>...</td>\n",
       "      <td>...</td>\n",
       "      <td>...</td>\n",
       "      <td>...</td>\n",
       "      <td>...</td>\n",
       "      <td>...</td>\n",
       "      <td>...</td>\n",
       "      <td>...</td>\n",
       "      <td>...</td>\n",
       "      <td>...</td>\n",
       "      <td>...</td>\n",
       "      <td>...</td>\n",
       "    </tr>\n",
       "    <tr>\n",
       "      <th>181</th>\n",
       "      <td>246</td>\n",
       "      <td>249</td>\n",
       "      <td>253</td>\n",
       "      <td>242</td>\n",
       "      <td>251</td>\n",
       "      <td>253</td>\n",
       "      <td>252</td>\n",
       "      <td>252</td>\n",
       "      <td>239</td>\n",
       "      <td>255</td>\n",
       "      <td>...</td>\n",
       "      <td>252</td>\n",
       "      <td>252</td>\n",
       "      <td>248</td>\n",
       "      <td>250</td>\n",
       "      <td>253</td>\n",
       "      <td>251</td>\n",
       "      <td>249</td>\n",
       "      <td>254</td>\n",
       "      <td>255</td>\n",
       "      <td>5</td>\n",
       "    </tr>\n",
       "    <tr>\n",
       "      <th>182</th>\n",
       "      <td>252</td>\n",
       "      <td>252</td>\n",
       "      <td>255</td>\n",
       "      <td>255</td>\n",
       "      <td>253</td>\n",
       "      <td>255</td>\n",
       "      <td>255</td>\n",
       "      <td>254</td>\n",
       "      <td>253</td>\n",
       "      <td>255</td>\n",
       "      <td>...</td>\n",
       "      <td>254</td>\n",
       "      <td>254</td>\n",
       "      <td>245</td>\n",
       "      <td>254</td>\n",
       "      <td>253</td>\n",
       "      <td>248</td>\n",
       "      <td>253</td>\n",
       "      <td>254</td>\n",
       "      <td>254</td>\n",
       "      <td>5</td>\n",
       "    </tr>\n",
       "    <tr>\n",
       "      <th>183</th>\n",
       "      <td>244</td>\n",
       "      <td>249</td>\n",
       "      <td>255</td>\n",
       "      <td>254</td>\n",
       "      <td>252</td>\n",
       "      <td>255</td>\n",
       "      <td>254</td>\n",
       "      <td>250</td>\n",
       "      <td>232</td>\n",
       "      <td>255</td>\n",
       "      <td>...</td>\n",
       "      <td>253</td>\n",
       "      <td>249</td>\n",
       "      <td>247</td>\n",
       "      <td>254</td>\n",
       "      <td>253</td>\n",
       "      <td>253</td>\n",
       "      <td>252</td>\n",
       "      <td>250</td>\n",
       "      <td>250</td>\n",
       "      <td>0</td>\n",
       "    </tr>\n",
       "    <tr>\n",
       "      <th>184</th>\n",
       "      <td>238</td>\n",
       "      <td>253</td>\n",
       "      <td>254</td>\n",
       "      <td>254</td>\n",
       "      <td>246</td>\n",
       "      <td>244</td>\n",
       "      <td>255</td>\n",
       "      <td>252</td>\n",
       "      <td>222</td>\n",
       "      <td>255</td>\n",
       "      <td>...</td>\n",
       "      <td>253</td>\n",
       "      <td>249</td>\n",
       "      <td>239</td>\n",
       "      <td>255</td>\n",
       "      <td>254</td>\n",
       "      <td>236</td>\n",
       "      <td>255</td>\n",
       "      <td>250</td>\n",
       "      <td>237</td>\n",
       "      <td>1</td>\n",
       "    </tr>\n",
       "    <tr>\n",
       "      <th>185</th>\n",
       "      <td>231</td>\n",
       "      <td>241</td>\n",
       "      <td>255</td>\n",
       "      <td>253</td>\n",
       "      <td>253</td>\n",
       "      <td>247</td>\n",
       "      <td>255</td>\n",
       "      <td>252</td>\n",
       "      <td>215</td>\n",
       "      <td>239</td>\n",
       "      <td>...</td>\n",
       "      <td>255</td>\n",
       "      <td>254</td>\n",
       "      <td>241</td>\n",
       "      <td>255</td>\n",
       "      <td>252</td>\n",
       "      <td>246</td>\n",
       "      <td>255</td>\n",
       "      <td>253</td>\n",
       "      <td>253</td>\n",
       "      <td>2</td>\n",
       "    </tr>\n",
       "  </tbody>\n",
       "</table>\n",
       "<p>186 rows × 3676 columns</p>\n",
       "</div>"
      ],
      "text/plain": [
       "       0    1    2    3    4    5    6    7    8    9  ...  3666  3667  3668  \\\n",
       "0    255  249  255  254  246  255  255  251  255  255  ...   255   253   245   \n",
       "1    246  248  252  239  246  253  248  251  241  255  ...   255   251   236   \n",
       "2    248  254  250  237  250  251  251  255  242  255  ...   250   253   252   \n",
       "3    244  253  253  248  251  246  255  255  239  255  ...   255   253   245   \n",
       "4    251  251  255  245  252  255  253  253  243  255  ...   252   251   246   \n",
       "..   ...  ...  ...  ...  ...  ...  ...  ...  ...  ...  ...   ...   ...   ...   \n",
       "181  246  249  253  242  251  253  252  252  239  255  ...   252   252   248   \n",
       "182  252  252  255  255  253  255  255  254  253  255  ...   254   254   245   \n",
       "183  244  249  255  254  252  255  254  250  232  255  ...   253   249   247   \n",
       "184  238  253  254  254  246  244  255  252  222  255  ...   253   249   239   \n",
       "185  231  241  255  253  253  247  255  252  215  239  ...   255   254   241   \n",
       "\n",
       "     3669  3670  3671  3672  3673  3674  label  \n",
       "0     251   249   243   251   252   251      5  \n",
       "1     254   254   247   252   252   250      0  \n",
       "2     245   249   250   244   250   255      5  \n",
       "3     255   255   251   251   251   251      4  \n",
       "4     255   254   252   254   253   252      0  \n",
       "..    ...   ...   ...   ...   ...   ...    ...  \n",
       "181   250   253   251   249   254   255      5  \n",
       "182   254   253   248   253   254   254      5  \n",
       "183   254   253   253   252   250   250      0  \n",
       "184   255   254   236   255   250   237      1  \n",
       "185   255   252   246   255   253   253      2  \n",
       "\n",
       "[186 rows x 3676 columns]"
      ]
     },
     "execution_count": 70,
     "metadata": {},
     "output_type": "execute_result"
    }
   ],
   "source": [
    "#Merging, Adding label, shuffling\n",
    "df_with_label= df_merged\n",
    "df_with_label['label'] = label_list\n",
    "df_1 = df_with_label.sample(frac = 1).reset_index(drop=True)\n",
    "# df_1.to_csv('device_with_label.csv', index=False)\n",
    "df_1"
   ]
  },
  {
   "cell_type": "code",
   "execution_count": 71,
   "id": "martial-lebanon",
   "metadata": {},
   "outputs": [
    {
     "data": {
      "text/plain": [
       "(186, 3675)"
      ]
     },
     "execution_count": 71,
     "metadata": {},
     "output_type": "execute_result"
    }
   ],
   "source": [
    "y = np.array(df_1.label)\n",
    "df_1.drop('label', axis=1,inplace= True)\n",
    "df_1.shape"
   ]
  },
  {
   "cell_type": "code",
   "execution_count": 72,
   "id": "female-receptor",
   "metadata": {},
   "outputs": [
    {
     "data": {
      "text/plain": [
       "(35, 35, 3)"
      ]
     },
     "execution_count": 72,
     "metadata": {},
     "output_type": "execute_result"
    }
   ],
   "source": [
    "resized_img.shape"
   ]
  },
  {
   "cell_type": "code",
   "execution_count": 73,
   "id": "toxic-jones",
   "metadata": {},
   "outputs": [
    {
     "data": {
      "text/plain": [
       "(186, 35, 35, 3)"
      ]
     },
     "execution_count": 73,
     "metadata": {},
     "output_type": "execute_result"
    }
   ],
   "source": [
    "X = np.array(df_1).reshape(df_1.shape[0],resized_img.shape[0],resized_img.shape[1],resized_img.shape[2])\n",
    "X.shape"
   ]
  },
  {
   "cell_type": "code",
   "execution_count": 74,
   "id": "diagnostic-union",
   "metadata": {},
   "outputs": [
    {
     "data": {
      "image/png": "[encoded data removed]",
      "text/plain": [
       "<PIL.Image.Image image mode=RGB size=35x35>"
      ]
     },
     "execution_count": 74,
     "metadata": {},
     "output_type": "execute_result"
    }
   ],
   "source": [
    "data = PIL.Image.fromarray(X[1])\n",
    "data"
   ]
  },
  {
   "cell_type": "code",
   "execution_count": 75,
   "id": "collected-pilot",
   "metadata": {},
   "outputs": [
    {
     "data": {
      "image/png": "[encoded data removed]",
      "text/plain": [
       "<Figure size 432x432 with 12 Axes>"
      ]
     },
     "metadata": {
      "needs_background": "light"
     },
     "output_type": "display_data"
    }
   ],
   "source": [
    "plt.figure(figsize = (6, 6))\n",
    "\n",
    "for i in range(12):\n",
    "    plt.subplot(4, 4, i+1).set_title(f'Device {y[i]}')\n",
    "    RGB_img = cv2.cvtColor(np.squeeze(X[i]), cv2.COLOR_BGR2RGB)\n",
    "    plt.imshow (RGB_img)\n",
    "    plt.axis('off')\n",
    "\n",
    "plt.tight_layout()\n",
    "# plt.savefig('6_M2_image_random_subplot.png', dpi=200)"
   ]
  },
  {
   "cell_type": "code",
   "execution_count": 76,
   "id": "secret-coordinate",
   "metadata": {},
   "outputs": [
    {
     "data": {
      "text/plain": [
       "(186, 35, 35, 3)"
      ]
     },
     "execution_count": 76,
     "metadata": {},
     "output_type": "execute_result"
    }
   ],
   "source": [
    "X.shape"
   ]
  },
  {
   "cell_type": "code",
   "execution_count": 77,
   "id": "international-permit",
   "metadata": {},
   "outputs": [
    {
     "data": {
      "text/plain": [
       "(186, 186)"
      ]
     },
     "execution_count": 77,
     "metadata": {},
     "output_type": "execute_result"
    }
   ],
   "source": [
    "len(X), len(y)"
   ]
  },
  {
   "cell_type": "code",
   "execution_count": 78,
   "id": "divided-sampling",
   "metadata": {},
   "outputs": [
    {
     "data": {
      "text/plain": [
       "(186, 35, 35, 3)"
      ]
     },
     "execution_count": 78,
     "metadata": {},
     "output_type": "execute_result"
    }
   ],
   "source": [
    "X_test = X\n",
    "X_test.shape"
   ]
  },
  {
   "cell_type": "code",
   "execution_count": 79,
   "id": "lesbian-currency",
   "metadata": {},
   "outputs": [],
   "source": [
    "#scaling data from 0 to 1\n",
    "X_test_scaled = X_test/255.0"
   ]
  },
  {
   "cell_type": "code",
   "execution_count": 80,
   "id": "african-pressure",
   "metadata": {},
   "outputs": [
    {
     "data": {
      "text/plain": [
       "(35, 35, 3)"
      ]
     },
     "execution_count": 80,
     "metadata": {},
     "output_type": "execute_result"
    }
   ],
   "source": [
    "X_test_scaled[150].shape"
   ]
  },
  {
   "cell_type": "code",
   "execution_count": 81,
   "id": "peaceful-shareware",
   "metadata": {},
   "outputs": [
    {
     "data": {
      "text/plain": [
       "array([5, 0, 5, 4, 0, 0, 3, 1, 0, 2, 5, 2, 1, 2, 3, 5, 5, 3, 2, 1, 1, 1,\n",
       "       4, 3, 0, 4, 0, 1, 2, 4, 5, 1, 2, 4, 3, 2, 0, 2, 5, 3, 3, 1, 1, 0,\n",
       "       1, 0, 2, 1, 1, 0, 5, 3, 0, 5, 4, 2, 0, 4, 4, 2, 5, 5, 2, 1, 3, 2,\n",
       "       2, 5, 2, 0, 3, 0, 5, 5, 0, 4, 5, 1, 3, 1, 4, 3, 3, 2, 4, 5, 2, 1,\n",
       "       3, 1, 0, 2, 5, 3, 4, 1, 2, 0, 4, 5, 3, 4, 5, 1, 4, 3, 4, 4, 3, 4,\n",
       "       2, 1, 3, 0, 5, 1, 4, 2, 3, 0, 3, 1, 0, 2, 0, 1, 5, 4, 5, 0, 3, 0,\n",
       "       4, 1, 4, 3, 5, 4, 5, 2, 3, 3, 4, 4, 1, 0, 5, 3, 1, 1, 5, 3, 2, 2,\n",
       "       4, 4, 3, 5, 4, 4, 2, 4, 2, 0, 1, 0, 1, 2, 3, 0, 3, 0, 0, 1, 4, 0,\n",
       "       2, 5, 5, 2, 3, 5, 5, 0, 1, 2], dtype=int64)"
      ]
     },
     "execution_count": 81,
     "metadata": {},
     "output_type": "execute_result"
    }
   ],
   "source": [
    "y_test = y\n",
    "y_test"
   ]
  },
  {
   "cell_type": "code",
   "execution_count": 82,
   "id": "brutal-turning",
   "metadata": {
    "scrolled": true
   },
   "outputs": [
    {
     "name": "stdout",
     "output_type": "stream",
     "text": [
      "Model: \"sequential\"\n",
      "_________________________________________________________________\n",
      " Layer (type)                Output Shape              Param #   \n",
      "=================================================================\n",
      " conv2d (Conv2D)             (None, 35, 35, 8)         224       \n",
      "                                                                 \n",
      " max_pooling2d (MaxPooling2D  (None, 17, 17, 8)        0         \n",
      " )                                                               \n",
      "                                                                 \n",
      " dropout (Dropout)           (None, 17, 17, 8)         0         \n",
      "                                                                 \n",
      " conv2d_1 (Conv2D)           (None, 17, 17, 16)        1168      \n",
      "                                                                 \n",
      " max_pooling2d_1 (MaxPooling  (None, 8, 8, 16)         0         \n",
      " 2D)                                                             \n",
      "                                                                 \n",
      " dropout_1 (Dropout)         (None, 8, 8, 16)          0         \n",
      "                                                                 \n",
      " conv2d_2 (Conv2D)           (None, 8, 8, 32)          4640      \n",
      "                                                                 \n",
      " max_pooling2d_2 (MaxPooling  (None, 4, 4, 32)         0         \n",
      " 2D)                                                             \n",
      "                                                                 \n",
      " dropout_2 (Dropout)         (None, 4, 4, 32)          0         \n",
      "                                                                 \n",
      " conv2d_3 (Conv2D)           (None, 4, 4, 64)          18496     \n",
      "                                                                 \n",
      " max_pooling2d_3 (MaxPooling  (None, 2, 2, 64)         0         \n",
      " 2D)                                                             \n",
      "                                                                 \n",
      " dropout_3 (Dropout)         (None, 2, 2, 64)          0         \n",
      "                                                                 \n",
      " flatten (Flatten)           (None, 256)               0         \n",
      "                                                                 \n",
      " dense (Dense)               (None, 128)               32896     \n",
      "                                                                 \n",
      " dropout_4 (Dropout)         (None, 128)               0         \n",
      "                                                                 \n",
      " dense_1 (Dense)             (None, 256)               33024     \n",
      "                                                                 \n",
      " dropout_5 (Dropout)         (None, 256)               0         \n",
      "                                                                 \n",
      " dense_2 (Dense)             (None, 6)                 1542      \n",
      "                                                                 \n",
      "=================================================================\n",
      "Total params: 91,990\n",
      "Trainable params: 91,990\n",
      "Non-trainable params: 0\n",
      "_________________________________________________________________\n"
     ]
    }
   ],
   "source": [
    "#Loading saved model\n",
    "s_model = keras.models.load_model('saved_model.h5')\n",
    "s_model.summary()"
   ]
  },
  {
   "cell_type": "code",
   "execution_count": 83,
   "id": "eastern-prospect",
   "metadata": {},
   "outputs": [],
   "source": [
    "# model_2.save('saved_model.h5')"
   ]
  },
  {
   "cell_type": "code",
   "execution_count": 84,
   "id": "super-option",
   "metadata": {
    "scrolled": false
   },
   "outputs": [],
   "source": [
    "# tf.keras.utils.plot_model(model_2, show_shapes=True)"
   ]
  },
  {
   "cell_type": "markdown",
   "id": "noted-saint",
   "metadata": {},
   "source": [
    "### Prediction"
   ]
  },
  {
   "cell_type": "code",
   "execution_count": 85,
   "id": "threatened-camera",
   "metadata": {},
   "outputs": [
    {
     "name": "stdout",
     "output_type": "stream",
     "text": [
      "6/6 [==============================] - 0s 68ms/step\n"
     ]
    }
   ],
   "source": [
    "y_pred = s_model.predict(X_test_scaled)\n",
    "# y_pred[:10]"
   ]
  },
  {
   "cell_type": "code",
   "execution_count": 86,
   "id": "upset-million",
   "metadata": {},
   "outputs": [
    {
     "name": "stdout",
     "output_type": "stream",
     "text": [
      "6/6 [==============================] - 0s 2ms/step\n"
     ]
    },
    {
     "data": {
      "text/plain": [
       "array([[0.00000026, 0.00000008, 0.        , 0.        , 0.        ,\n",
       "        0.99999964],\n",
       "       [0.99994683, 0.00000162, 0.00005149, 0.        , 0.        ,\n",
       "        0.        ],\n",
       "       [0.00000007, 0.00000002, 0.        , 0.        , 0.        ,\n",
       "        0.9999999 ],\n",
       "       [0.        , 0.        , 0.00000178, 0.00000009, 0.9999981 ,\n",
       "        0.        ],\n",
       "       [0.99998224, 0.00000039, 0.00001739, 0.        , 0.        ,\n",
       "        0.        ],\n",
       "       [0.99995136, 0.0000003 , 0.00004833, 0.        , 0.        ,\n",
       "        0.        ],\n",
       "       [0.        , 0.0000154 , 0.0000043 , 0.99998033, 0.        ,\n",
       "        0.00000001],\n",
       "       [0.00000079, 0.9998553 , 0.        , 0.00014019, 0.        ,\n",
       "        0.00000373],\n",
       "       [0.9999424 , 0.00000136, 0.00005623, 0.        , 0.        ,\n",
       "        0.        ],\n",
       "       [0.00007056, 0.        , 0.999894  , 0.00000351, 0.00003191,\n",
       "        0.        ],\n",
       "       [0.00000008, 0.00000002, 0.        , 0.        , 0.        ,\n",
       "        0.9999999 ],\n",
       "       [0.00007538, 0.        , 0.9999001 , 0.00000176, 0.00002282,\n",
       "        0.        ],\n",
       "       [0.00000122, 0.99984634, 0.        , 0.00014731, 0.        ,\n",
       "        0.00000514],\n",
       "       [0.0000312 , 0.        , 0.9999653 , 0.00000027, 0.00000316,\n",
       "        0.        ],\n",
       "       [0.        , 0.00000269, 0.00000329, 0.9999939 , 0.        ,\n",
       "        0.        ],\n",
       "       [0.08619586, 0.56018865, 0.02015023, 0.26724842, 0.00215871,\n",
       "        0.06405807],\n",
       "       [0.00004657, 0.00189775, 0.        , 0.00000175, 0.        ,\n",
       "        0.9980539 ],\n",
       "       [0.00001149, 0.00082779, 0.00028904, 0.99851567, 0.00005845,\n",
       "        0.00029759],\n",
       "       [0.00004485, 0.        , 0.99991834, 0.00000829, 0.00002852,\n",
       "        0.        ],\n",
       "       [0.00000017, 0.99910957, 0.        , 0.00088904, 0.        ,\n",
       "        0.00000129],\n",
       "       [0.00003274, 0.00000004, 0.00060208, 0.00082864, 0.9985259 ,\n",
       "        0.00001057],\n",
       "       [0.00000392, 0.9996086 , 0.00000001, 0.0003515 , 0.        ,\n",
       "        0.00003595],\n",
       "       [0.        , 0.        , 0.00000119, 0.00000006, 0.9999987 ,\n",
       "        0.        ],\n",
       "       [0.00000001, 0.00011393, 0.0000075 , 0.9998785 , 0.        ,\n",
       "        0.00000003],\n",
       "       [0.9998667 , 0.00002556, 0.00010777, 0.00000002, 0.        ,\n",
       "        0.        ],\n",
       "       [0.        , 0.        , 0.00000222, 0.00000009, 0.99999774,\n",
       "        0.        ],\n",
       "       [0.9999572 , 0.0000002 , 0.00004261, 0.        , 0.        ,\n",
       "        0.        ],\n",
       "       [0.00000021, 0.99935466, 0.        , 0.00064304, 0.        ,\n",
       "        0.00000208],\n",
       "       [0.00001313, 0.        , 0.9999832 , 0.00000026, 0.00000351,\n",
       "        0.        ],\n",
       "       [0.        , 0.        , 0.00000121, 0.00000005, 0.9999987 ,\n",
       "        0.        ],\n",
       "       [0.00000015, 0.00000005, 0.        , 0.        , 0.        ,\n",
       "        0.99999976],\n",
       "       [0.00000687, 0.9992993 , 0.00000004, 0.00064354, 0.        ,\n",
       "        0.0000501 ],\n",
       "       [0.00006253, 0.        , 0.99992955, 0.00000063, 0.00000727,\n",
       "        0.        ],\n",
       "       [0.00000008, 0.        , 0.00008053, 0.00001805, 0.9999013 ,\n",
       "        0.        ],\n",
       "       [0.        , 0.0000027 , 0.0000025 , 0.99999475, 0.        ,\n",
       "        0.        ],\n",
       "       [0.00011791, 0.00000001, 0.9998373 , 0.00001141, 0.00003335,\n",
       "        0.        ],\n",
       "       [0.9999809 , 0.0000004 , 0.00001872, 0.        , 0.        ,\n",
       "        0.        ],\n",
       "       [0.00047611, 0.00000063, 0.9990212 , 0.00028214, 0.00021991,\n",
       "        0.00000001],\n",
       "       [0.00000009, 0.00000003, 0.        , 0.        , 0.        ,\n",
       "        0.9999999 ],\n",
       "       [0.00001645, 0.0009895 , 0.00033629, 0.9981358 , 0.00008327,\n",
       "        0.00043877],\n",
       "       [0.00000002, 0.00012548, 0.00001299, 0.9998615 , 0.        ,\n",
       "        0.00000004],\n",
       "       [0.00000232, 0.9995882 , 0.00000001, 0.00038672, 0.        ,\n",
       "        0.00002284],\n",
       "       [0.00000034, 0.9997855 , 0.        , 0.00021227, 0.        ,\n",
       "        0.00000189],\n",
       "       [0.994327  , 0.00155832, 0.00362857, 0.00003012, 0.00015679,\n",
       "        0.00029917],\n",
       "       [0.00000437, 0.99964035, 0.00000001, 0.00031764, 0.        ,\n",
       "        0.00003755],\n",
       "       [0.99993026, 0.00000213, 0.00006757, 0.        , 0.        ,\n",
       "        0.        ],\n",
       "       [0.00144423, 0.00000292, 0.9981558 , 0.00010411, 0.00029299,\n",
       "        0.00000002],\n",
       "       [0.00000256, 0.9995639 , 0.00000001, 0.00041054, 0.        ,\n",
       "        0.00002306],\n",
       "       [0.00002079, 0.9988386 , 0.00000031, 0.00110072, 0.        ,\n",
       "        0.00003951],\n",
       "       [0.9995753 , 0.00017357, 0.00025069, 0.00000023, 0.00000001,\n",
       "        0.00000006],\n",
       "       [0.00000006, 0.00000002, 0.        , 0.        , 0.        ,\n",
       "        0.9999999 ],\n",
       "       [0.        , 0.0000033 , 0.0000028 , 0.9999938 , 0.        ,\n",
       "        0.        ],\n",
       "       [0.9999809 , 0.0000003 , 0.00001881, 0.        , 0.        ,\n",
       "        0.        ],\n",
       "       [0.00000011, 0.00000003, 0.        , 0.        , 0.        ,\n",
       "        0.9999999 ],\n",
       "       [0.        , 0.        , 0.00000106, 0.00000004, 0.9999989 ,\n",
       "        0.        ],\n",
       "       [0.00013037, 0.00000001, 0.99982977, 0.00001123, 0.00002865,\n",
       "        0.        ],\n",
       "       [0.9999138 , 0.00000703, 0.00007908, 0.00000001, 0.        ,\n",
       "        0.        ],\n",
       "       [0.08852813, 0.55872095, 0.02211776, 0.26800868, 0.00227001,\n",
       "        0.06035448],\n",
       "       [0.0000001 , 0.        , 0.00008442, 0.00001665, 0.9998988 ,\n",
       "        0.        ],\n",
       "       [0.00002005, 0.        , 0.999977  , 0.0000002 , 0.00000275,\n",
       "        0.        ],\n",
       "       [0.00000006, 0.00000002, 0.        , 0.        , 0.        ,\n",
       "        0.9999999 ],\n",
       "       [0.00000008, 0.00000002, 0.        , 0.        , 0.        ,\n",
       "        0.9999999 ],\n",
       "       [0.00001091, 0.        , 0.99998033, 0.00000033, 0.00000837,\n",
       "        0.        ],\n",
       "       [0.00000014, 0.9991424 , 0.        , 0.00085626, 0.        ,\n",
       "        0.00000124],\n",
       "       [0.        , 0.00000728, 0.00000558, 0.9999871 , 0.        ,\n",
       "        0.00000001],\n",
       "       [0.00001268, 0.        , 0.9999832 , 0.00000021, 0.00000391,\n",
       "        0.        ],\n",
       "       [0.00011492, 0.        , 0.9998678 , 0.00000175, 0.00001544,\n",
       "        0.        ],\n",
       "       [0.00006671, 0.0030456 , 0.        , 0.00000282, 0.        ,\n",
       "        0.9968849 ],\n",
       "       [0.00001005, 0.        , 0.9999838 , 0.00000033, 0.00000586,\n",
       "        0.        ],\n",
       "       [0.9999808 , 0.00000038, 0.00001886, 0.        , 0.        ,\n",
       "        0.        ],\n",
       "       [0.        , 0.00000198, 0.00000295, 0.999995  , 0.        ,\n",
       "        0.        ],\n",
       "       [0.99982846, 0.00003431, 0.00013716, 0.00000003, 0.        ,\n",
       "        0.00000001],\n",
       "       [0.00000029, 0.00000012, 0.        , 0.        , 0.        ,\n",
       "        0.9999995 ],\n",
       "       [0.0000001 , 0.00000003, 0.        , 0.        , 0.        ,\n",
       "        0.9999999 ],\n",
       "       [0.99985075, 0.00002186, 0.00012743, 0.00000002, 0.        ,\n",
       "        0.        ],\n",
       "       [0.        , 0.        , 0.00000045, 0.00000003, 0.9999995 ,\n",
       "        0.        ],\n",
       "       [0.00000013, 0.00000003, 0.        , 0.        , 0.        ,\n",
       "        0.9999999 ],\n",
       "       [0.00000022, 0.9993674 , 0.        , 0.00063026, 0.        ,\n",
       "        0.0000021 ],\n",
       "       [0.00000001, 0.00014657, 0.00000685, 0.9998466 , 0.        ,\n",
       "        0.00000003],\n",
       "       [0.00000055, 0.9992472 , 0.00000001, 0.00074868, 0.        ,\n",
       "        0.00000358],\n",
       "       [0.        , 0.        , 0.00000082, 0.00000006, 0.99999917,\n",
       "        0.        ],\n",
       "       [0.00000001, 0.00009951, 0.00000702, 0.9998934 , 0.        ,\n",
       "        0.00000002],\n",
       "       [0.00000001, 0.00011948, 0.00000765, 0.9998729 , 0.        ,\n",
       "        0.00000003],\n",
       "       [0.00017833, 0.00000001, 0.9997882 , 0.00000804, 0.0000255 ,\n",
       "        0.        ],\n",
       "       [0.00010343, 0.00000001, 0.00022187, 0.00002546, 0.9996482 ,\n",
       "        0.00000095],\n",
       "       [0.00000006, 0.00000002, 0.        , 0.        , 0.        ,\n",
       "        0.9999999 ],\n",
       "       [0.00001406, 0.        , 0.9999826 , 0.00000027, 0.00000312,\n",
       "        0.        ],\n",
       "       [0.00000041, 0.99945503, 0.        , 0.00054125, 0.        ,\n",
       "        0.00000334],\n",
       "       [0.00000036, 0.00466394, 0.00004422, 0.9952909 , 0.00000001,\n",
       "        0.00000056],\n",
       "       [0.0000005 , 0.99983287, 0.        , 0.00016423, 0.        ,\n",
       "        0.00000234],\n",
       "       [0.99986243, 0.00002244, 0.00011517, 0.00000002, 0.        ,\n",
       "        0.        ],\n",
       "       [0.00016992, 0.        , 0.9998097 , 0.00000131, 0.00001909,\n",
       "        0.        ],\n",
       "       [0.00000013, 0.00000004, 0.        , 0.        , 0.        ,\n",
       "        0.9999999 ],\n",
       "       [0.00000001, 0.00007088, 0.00000633, 0.99992275, 0.        ,\n",
       "        0.00000002],\n",
       "       [0.        , 0.        , 0.00000079, 0.00000003, 0.99999917,\n",
       "        0.        ],\n",
       "       [0.00000204, 0.9996761 , 0.00000001, 0.00030113, 0.        ,\n",
       "        0.00002077],\n",
       "       [0.00001663, 0.        , 0.99997926, 0.00000032, 0.00000375,\n",
       "        0.        ],\n",
       "       [0.99993825, 0.00000204, 0.00005967, 0.        , 0.        ,\n",
       "        0.        ],\n",
       "       [0.        , 0.        , 0.00000115, 0.00000004, 0.9999988 ,\n",
       "        0.        ],\n",
       "       [0.00005731, 0.00240782, 0.        , 0.00000255, 0.        ,\n",
       "        0.99753225],\n",
       "       [0.00000001, 0.00007269, 0.00000628, 0.99992096, 0.        ,\n",
       "        0.00000002],\n",
       "       [0.00000009, 0.        , 0.00008404, 0.0000153 , 0.9999006 ,\n",
       "        0.        ],\n",
       "       [0.00000007, 0.00000002, 0.        , 0.        , 0.        ,\n",
       "        0.9999999 ],\n",
       "       [0.00000041, 0.99948066, 0.        , 0.00051572, 0.        ,\n",
       "        0.00000331],\n",
       "       [0.        , 0.        , 0.00000031, 0.00000002, 0.99999964,\n",
       "        0.        ],\n",
       "       [0.        , 0.00008101, 0.00000501, 0.99991393, 0.        ,\n",
       "        0.00000002],\n",
       "       [0.        , 0.        , 0.00000061, 0.00000004, 0.9999994 ,\n",
       "        0.        ],\n",
       "       [0.        , 0.        , 0.00000034, 0.00000002, 0.99999964,\n",
       "        0.        ],\n",
       "       [0.0836561 , 0.5533725 , 0.02198144, 0.280749  , 0.00220332,\n",
       "        0.0580376 ],\n",
       "       [0.        , 0.        , 0.00000096, 0.00000005, 0.99999905,\n",
       "        0.        ],\n",
       "       [0.00035151, 0.00000038, 0.99924743, 0.00023562, 0.00016509,\n",
       "        0.        ],\n",
       "       [0.03776569, 0.8574802 , 0.00214678, 0.07856953, 0.0000525 ,\n",
       "        0.02398533],\n",
       "       [0.        , 0.0000358 , 0.0000075 , 0.9999567 , 0.        ,\n",
       "        0.00000002],\n",
       "       [0.9999778 , 0.00000039, 0.00002176, 0.        , 0.        ,\n",
       "        0.        ],\n",
       "       [0.00000006, 0.00000002, 0.        , 0.        , 0.        ,\n",
       "        0.9999999 ],\n",
       "       [0.00000067, 0.99981004, 0.        , 0.00018593, 0.        ,\n",
       "        0.00000331],\n",
       "       [0.        , 0.        , 0.00000053, 0.00000004, 0.9999994 ,\n",
       "        0.        ],\n",
       "       [0.00013779, 0.        , 0.99983585, 0.00000269, 0.00002357,\n",
       "        0.        ],\n",
       "       [0.00001042, 0.00464408, 0.00017033, 0.9950559 , 0.00000405,\n",
       "        0.00011522],\n",
       "       [0.9954984 , 0.00367029, 0.00078858, 0.00000645, 0.00000448,\n",
       "        0.00003182],\n",
       "       [0.00000001, 0.00008457, 0.00000775, 0.9999076 , 0.        ,\n",
       "        0.00000002],\n",
       "       [0.00000035, 0.9998061 , 0.        , 0.00019147, 0.        ,\n",
       "        0.00000197],\n",
       "       [0.99973196, 0.00008158, 0.00018627, 0.00000009, 0.00000001,\n",
       "        0.00000002],\n",
       "       [0.00005535, 0.        , 0.9998938 , 0.0000049 , 0.00004601,\n",
       "        0.        ],\n",
       "       [0.9942367 , 0.00184652, 0.003292  , 0.00003428, 0.00016084,\n",
       "        0.00042948],\n",
       "       [0.0000031 , 0.9995701 , 0.00000001, 0.00039958, 0.        ,\n",
       "        0.0000273 ],\n",
       "       [0.00000008, 0.00000003, 0.        , 0.        , 0.        ,\n",
       "        0.9999999 ],\n",
       "       [0.00000009, 0.        , 0.00006451, 0.00001532, 0.9999201 ,\n",
       "        0.        ],\n",
       "       [0.00000014, 0.00000004, 0.        , 0.        , 0.        ,\n",
       "        0.99999976],\n",
       "       [0.99995315, 0.00000091, 0.00004593, 0.        , 0.        ,\n",
       "        0.        ],\n",
       "       [0.        , 0.00000694, 0.00000388, 0.99998915, 0.        ,\n",
       "        0.00000001],\n",
       "       [0.9999192 , 0.00000311, 0.00007766, 0.        , 0.        ,\n",
       "        0.        ],\n",
       "       [0.00006867, 0.00000001, 0.00020269, 0.00001689, 0.9997112 ,\n",
       "        0.00000046],\n",
       "       [0.00000016, 0.999393  , 0.        , 0.00060535, 0.        ,\n",
       "        0.00000149],\n",
       "       [0.        , 0.        , 0.0000004 , 0.00000003, 0.9999995 ,\n",
       "        0.        ],\n",
       "       [0.00000001, 0.00004793, 0.00000841, 0.9999436 , 0.        ,\n",
       "        0.00000003],\n",
       "       [0.00000007, 0.00000002, 0.        , 0.        , 0.        ,\n",
       "        0.9999999 ],\n",
       "       [0.        , 0.        , 0.00000046, 0.00000003, 0.9999995 ,\n",
       "        0.        ],\n",
       "       [0.00005199, 0.00251168, 0.        , 0.00000175, 0.        ,\n",
       "        0.99743456],\n",
       "       [0.00005693, 0.        , 0.9999398 , 0.00000048, 0.00000276,\n",
       "        0.        ],\n",
       "       [0.        , 0.00000231, 0.00000217, 0.9999956 , 0.        ,\n",
       "        0.        ],\n",
       "       [0.00000001, 0.00009231, 0.00001307, 0.9998945 , 0.        ,\n",
       "        0.00000003],\n",
       "       [0.        , 0.        , 0.0000013 , 0.00000005, 0.9999987 ,\n",
       "        0.        ],\n",
       "       [0.        , 0.        , 0.00000177, 0.00000007, 0.9999982 ,\n",
       "        0.        ],\n",
       "       [0.00000172, 0.99987566, 0.        , 0.00011438, 0.        ,\n",
       "        0.00000819],\n",
       "       [0.99994123, 0.00000126, 0.00005743, 0.        , 0.        ,\n",
       "        0.        ],\n",
       "       [0.00000006, 0.00000002, 0.        , 0.        , 0.        ,\n",
       "        0.9999999 ],\n",
       "       [0.00000001, 0.00004809, 0.00000619, 0.99994576, 0.        ,\n",
       "        0.00000002],\n",
       "       [0.00000041, 0.99982303, 0.        , 0.00017441, 0.        ,\n",
       "        0.00000223],\n",
       "       [0.00000668, 0.99960643, 0.00000002, 0.00033991, 0.        ,\n",
       "        0.0000469 ],\n",
       "       [0.00000011, 0.00000003, 0.        , 0.        , 0.        ,\n",
       "        0.9999999 ],\n",
       "       [0.00001996, 0.00119643, 0.00039245, 0.9978357 , 0.00008749,\n",
       "        0.00046798],\n",
       "       [0.00021624, 0.00000001, 0.9997451 , 0.00000865, 0.00003004,\n",
       "        0.        ],\n",
       "       [0.0001962 , 0.00000001, 0.99977463, 0.00000797, 0.00002121,\n",
       "        0.        ],\n",
       "       [0.        , 0.        , 0.00000139, 0.00000005, 0.99999857,\n",
       "        0.        ],\n",
       "       [0.        , 0.        , 0.00000072, 0.00000002, 0.9999993 ,\n",
       "        0.        ],\n",
       "       [0.        , 0.00000527, 0.00000401, 0.9999907 , 0.        ,\n",
       "        0.00000001],\n",
       "       [0.00000011, 0.00000003, 0.        , 0.        , 0.        ,\n",
       "        0.9999999 ],\n",
       "       [0.        , 0.        , 0.00000045, 0.00000002, 0.9999995 ,\n",
       "        0.        ],\n",
       "       [0.        , 0.        , 0.00000186, 0.00000005, 0.9999981 ,\n",
       "        0.        ],\n",
       "       [0.00010346, 0.        , 0.99986446, 0.0000089 , 0.0000231 ,\n",
       "        0.        ],\n",
       "       [0.        , 0.        , 0.00000107, 0.00000003, 0.9999989 ,\n",
       "        0.        ],\n",
       "       [0.00644859, 0.00000183, 0.9931458 , 0.00004344, 0.00036033,\n",
       "        0.00000002],\n",
       "       [0.08416699, 0.5446846 , 0.0227213 , 0.2877443 , 0.00228455,\n",
       "        0.05839821],\n",
       "       [0.05576657, 0.83582276, 0.00196732, 0.06110211, 0.00007628,\n",
       "        0.04526494],\n",
       "       [0.9999808 , 0.00000024, 0.00001895, 0.        , 0.        ,\n",
       "        0.        ],\n",
       "       [0.0007125 , 0.99374443, 0.00002574, 0.00514014, 0.00000003,\n",
       "        0.00037711],\n",
       "       [0.0000215 , 0.        , 0.99997485, 0.0000003 , 0.00000337,\n",
       "        0.        ],\n",
       "       [0.        , 0.00001247, 0.00000635, 0.99998116, 0.        ,\n",
       "        0.00000001],\n",
       "       [0.9999808 , 0.00000017, 0.00001911, 0.        , 0.        ,\n",
       "        0.        ],\n",
       "       [0.00000001, 0.00006294, 0.00000758, 0.9999294 , 0.        ,\n",
       "        0.00000002],\n",
       "       [0.99989235, 0.00001109, 0.00009653, 0.00000001, 0.        ,\n",
       "        0.        ],\n",
       "       [0.9997136 , 0.00008096, 0.00020541, 0.0000001 , 0.00000001,\n",
       "        0.00000002],\n",
       "       [0.08386195, 0.5530156 , 0.02258974, 0.2827504 , 0.00219525,\n",
       "        0.05558709],\n",
       "       [0.        , 0.        , 0.0000011 , 0.00000003, 0.9999988 ,\n",
       "        0.        ],\n",
       "       [0.99056387, 0.00539735, 0.00395634, 0.00001306, 0.00002219,\n",
       "        0.00004716],\n",
       "       [0.00001174, 0.        , 0.9999831 , 0.00000028, 0.00000496,\n",
       "        0.        ],\n",
       "       [0.00000009, 0.00000003, 0.        , 0.        , 0.        ,\n",
       "        0.9999999 ],\n",
       "       [0.00000009, 0.00000002, 0.        , 0.        , 0.        ,\n",
       "        0.9999999 ],\n",
       "       [0.00001341, 0.        , 0.9999826 , 0.00000049, 0.00000346,\n",
       "        0.        ],\n",
       "       [0.00001536, 0.00092888, 0.00019384, 0.998804  , 0.00000749,\n",
       "        0.00005054],\n",
       "       [0.00000012, 0.00000004, 0.        , 0.        , 0.        ,\n",
       "        0.9999999 ],\n",
       "       [0.00004713, 0.00243479, 0.        , 0.00000189, 0.        ,\n",
       "        0.99751616],\n",
       "       [0.99997985, 0.00000037, 0.00001977, 0.        , 0.        ,\n",
       "        0.        ],\n",
       "       [0.00005659, 0.9988997 , 0.00000143, 0.00097815, 0.        ,\n",
       "        0.00006413],\n",
       "       [0.08609492, 0.5527446 , 0.0223835 , 0.28161165, 0.00213193,\n",
       "        0.05503335]], dtype=float32)"
      ]
     },
     "execution_count": 86,
     "metadata": {},
     "output_type": "execute_result"
    }
   ],
   "source": [
    "import sys\n",
    "np.set_printoptions(threshold=sys.maxsize, suppress=True)\n",
    "s_model.predict(X_test_scaled)"
   ]
  },
  {
   "cell_type": "code",
   "execution_count": 87,
   "id": "express-refrigerator",
   "metadata": {},
   "outputs": [
    {
     "name": "stdout",
     "output_type": "stream",
     "text": [
      "Anomaly detected\n",
      "The number of total abnormal observations are:  6\n"
     ]
    }
   ],
   "source": [
    "normal = []\n",
    "abnormal = []\n",
    "max_value_list= []\n",
    "for i in y_pred:\n",
    "    max_value= np.max(i)\n",
    "    max_value_list.append(max_value)\n",
    "    if max_value <=0.70:\n",
    "        abnormal.append(max_value)\n",
    "    else:\n",
    "        normal.append(max_value)\n",
    "print('Anomaly detected')\n",
    "print('The number of total abnormal observations are: ',len(abnormal))"
   ]
  },
  {
   "cell_type": "code",
   "execution_count": 90,
   "id": "uniform-identification",
   "metadata": {
    "scrolled": true
   },
   "outputs": [
    {
     "data": {
      "image/png": "[encoded data removed]",
      "text/plain": [
       "<Figure size 360x360 with 1 Axes>"
      ]
     },
     "metadata": {
      "needs_background": "light"
     },
     "output_type": "display_data"
    }
   ],
   "source": [
    "plt.figure(100,figsize=(5,5))\n",
    "norm_range= range(len(normal))\n",
    "abnorm_range= range(len(abnormal))\n",
    "\n",
    "plt.scatter(norm_range, normal, c='g')\n",
    "plt.scatter(abnorm_range, abnormal, c= 'red')\n",
    "plt.xlabel('Number of observation')\n",
    "plt.ylabel('Prediction score')\n",
    "plt.legend(['Normal', 'Abnormal'],bbox_to_anchor = (1 , 1))\n",
    "plt.savefig('anomaly_detection_dummy.pdf',bbox_inches = 'tight', pad_inches = 0, dpi= 100)\n",
    "plt.show()"
   ]
  },
  {
   "cell_type": "code",
   "execution_count": 91,
   "id": "presidential-slovenia",
   "metadata": {},
   "outputs": [
    {
     "data": {
      "text/plain": [
       "[0.83582276, 0.8574802, 0.99056387, 0.9931458, 0.99374443]"
      ]
     },
     "execution_count": 91,
     "metadata": {},
     "output_type": "execute_result"
    }
   ],
   "source": [
    "normal.sort(reverse= False)\n",
    "normal[:5]"
   ]
  },
  {
   "cell_type": "code",
   "execution_count": 92,
   "id": "blessed-bulletin",
   "metadata": {},
   "outputs": [
    {
     "data": {
      "text/plain": [
       "[0.5446846, 0.5527446, 0.5530156, 0.5533725, 0.55872095, 0.56018865]"
      ]
     },
     "execution_count": 92,
     "metadata": {},
     "output_type": "execute_result"
    }
   ],
   "source": [
    "abnormal.sort(reverse= False)\n",
    "abnormal[:10]"
   ]
  },
  {
   "cell_type": "code",
   "execution_count": 93,
   "id": "hungarian-firmware",
   "metadata": {},
   "outputs": [
    {
     "data": {
      "text/plain": [
       "array([ 0, 20, 40, 60, 80])"
      ]
     },
     "execution_count": 93,
     "metadata": {},
     "output_type": "execute_result"
    }
   ],
   "source": [
    "np.arange(0,100,20)"
   ]
  },
  {
   "cell_type": "code",
   "execution_count": 94,
   "id": "public-triple",
   "metadata": {},
   "outputs": [
    {
     "data": {
      "text/plain": [
       "[5, 0, 5, 4, 0, 0, 3, 1, 0, 2]"
      ]
     },
     "execution_count": 94,
     "metadata": {},
     "output_type": "execute_result"
    }
   ],
   "source": [
    "y_pred_class = [np.argmax(i) for i in y_pred]\n",
    "y_pred_class[:10]"
   ]
  },
  {
   "cell_type": "code",
   "execution_count": 95,
   "id": "apart-spyware",
   "metadata": {},
   "outputs": [
    {
     "data": {
      "text/plain": [
       "array([5, 2, 1, 2, 3, 5, 5, 3, 2, 1], dtype=int64)"
      ]
     },
     "execution_count": 95,
     "metadata": {},
     "output_type": "execute_result"
    }
   ],
   "source": [
    "y_test[10:20]"
   ]
  },
  {
   "cell_type": "code",
   "execution_count": 96,
   "id": "devoted-mexican",
   "metadata": {},
   "outputs": [
    {
     "data": {
      "text/plain": [
       "{0: 31, 1: 31, 2: 31, 3: 31, 4: 31, 5: 31}"
      ]
     },
     "execution_count": 96,
     "metadata": {},
     "output_type": "execute_result"
    }
   ],
   "source": [
    "unique, counts = np.unique(y_test, return_counts=True)\n",
    "dict(zip(unique, counts))"
   ]
  },
  {
   "cell_type": "code",
   "execution_count": 97,
   "id": "rental-zambia",
   "metadata": {},
   "outputs": [
    {
     "name": "stdout",
     "output_type": "stream",
     "text": [
      "6/6 [==============================] - 0s 3ms/step - loss: 0.1852 - accuracy: 0.1613\n",
      "Loss: 0.18517465889453888, Accuracy: 0.16129031777381897\n",
      "Test accuracy :  16.129031777381897 %\n"
     ]
    }
   ],
   "source": [
    "loss, accuracy= s_model.evaluate(X_test_scaled, y_test)\n",
    "print(f'Loss: {loss}, Accuracy: {accuracy}')\n",
    "print('Test accuracy : ',accuracy*100,'%')"
   ]
  }
 ],
 "metadata": {
  "kernelspec": {
   "display_name": "Python 3 (ipykernel)",
   "language": "python",
   "name": "python3"
  },
  "language_info": {
   "codemirror_mode": {
    "name": "ipython",
    "version": 3
   },
   "file_extension": ".py",
   "mimetype": "text/x-python",
   "name": "python",
   "nbconvert_exporter": "python",
   "pygments_lexer": "ipython3",
   "version": "3.8.0"
  }
 },
 "nbformat": 4,
 "nbformat_minor": 5
}
