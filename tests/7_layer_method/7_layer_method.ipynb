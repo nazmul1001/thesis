{
 "cells": [
  {
   "cell_type": "code",
   "execution_count": 225,
   "id": "proud-amount",
   "metadata": {},
   "outputs": [],
   "source": [
    "import pandas as pd\n",
    "import matplotlib.pyplot as plt\n",
    "import matplotlib.ticker as ticker\n",
    "import numpy as np\n",
    "import pathlib\n",
    "import os\n",
    "import PIL\n",
    "import cv2\n",
    "import tensorflow as tf\n",
    "from tensorflow import keras\n",
    "from tensorflow.keras import layers\n",
    "from sklearn.preprocessing import StandardScaler, MinMaxScaler\n",
    "from tensorflow.keras.models import Sequential\n",
    "from sklearn.metrics import plot_confusion_matrix, ConfusionMatrixDisplay, confusion_matrix, classification_report"
   ]
  },
  {
   "cell_type": "markdown",
   "id": "knowing-investor",
   "metadata": {},
   "source": [
    "### Processing"
   ]
  },
  {
   "cell_type": "code",
   "execution_count": 226,
   "id": "stylish-tulsa",
   "metadata": {},
   "outputs": [],
   "source": [
    "#path\n",
    "# (r'E:\\Rostock-Masters\\Thesis\\Test') # 100 files\n",
    "# (r'C:\\Users\\NAZMUL-LAPTOP\\Python\\Thesis\\read_files\\msmts-smartlab-2020-10-27') #500files"
   ]
  },
  {
   "cell_type": "code",
   "execution_count": 227,
   "id": "excess-sphere",
   "metadata": {},
   "outputs": [
    {
     "data": {
      "text/plain": [
       "WindowsPath('D:/Rostock-Masters/Thesis/Test')"
      ]
     },
     "execution_count": 227,
     "metadata": {},
     "output_type": "execute_result"
    }
   ],
   "source": [
    "data_dir_3 = (r'D:\\Rostock-Masters\\Thesis\\Test') #\n",
    "data_dir_3 = pathlib.Path(data_dir_3)\n",
    "data_dir_3"
   ]
  },
  {
   "cell_type": "code",
   "execution_count": 228,
   "id": "synthetic-console",
   "metadata": {},
   "outputs": [],
   "source": [
    "file_name_dict_3 = {\n",
    "    'Device_1' : list(data_dir_3.glob('Device_1/*.csv')),\n",
    "    'Device_2' : list(data_dir_3.glob('Device_2/*.csv')),\n",
    "    'Device_3' : list(data_dir_3.glob('Device_3/*.csv')),\n",
    "    'Device_4' : list(data_dir_3.glob('Device_4/*.csv')),\n",
    "    'Device_5' : list(data_dir_3.glob('Device_5/*.csv')),\n",
    "    'Device_6' : list(data_dir_3.glob('Device_6/*.csv')),\n",
    "    'Device_7' : list(data_dir_3.glob('Device_7/*.csv'))\n",
    "}"
   ]
  },
  {
   "cell_type": "code",
   "execution_count": 229,
   "id": "modular-physiology",
   "metadata": {},
   "outputs": [
    {
     "data": {
      "text/plain": [
       "100"
      ]
     },
     "execution_count": 229,
     "metadata": {},
     "output_type": "execute_result"
    }
   ],
   "source": [
    "len(file_name_dict_3['Device_1'])"
   ]
  },
  {
   "cell_type": "code",
   "execution_count": 230,
   "id": "interesting-algorithm",
   "metadata": {
    "scrolled": true
   },
   "outputs": [
    {
     "data": {
      "text/plain": [
       "WindowsPath('D:/Rostock-Masters/Thesis/Test/device_2/3_8_2_3_8_2-98.csv')"
      ]
     },
     "execution_count": 230,
     "metadata": {},
     "output_type": "execute_result"
    }
   ],
   "source": [
    "file_name_dict_3['Device_2'][98]"
   ]
  },
  {
   "cell_type": "code",
   "execution_count": 231,
   "id": "portable-disability",
   "metadata": {},
   "outputs": [
    {
     "data": {
      "text/plain": [
       "'D:\\\\Rostock-Masters\\\\Thesis\\\\Test\\\\device_1\\\\3_8_1_3_8_1-52.csv'"
      ]
     },
     "execution_count": 231,
     "metadata": {},
     "output_type": "execute_result"
    }
   ],
   "source": [
    "str(file_name_dict_3['Device_1'][48])"
   ]
  },
  {
   "cell_type": "code",
   "execution_count": 232,
   "id": "educated-favorite",
   "metadata": {},
   "outputs": [
    {
     "data": {
      "image/png": "[encoded data removed]",
      "text/plain": [
       "<Figure size 144x72 with 1 Axes>"
      ]
     },
     "metadata": {
      "needs_background": "light"
     },
     "output_type": "display_data"
    }
   ],
   "source": [
    "df_device_1 = pd.read_csv(str(file_name_dict_3['Device_1'][99]))\n",
    "df_device_1.columns = ['time', 'voltage']\n",
    "# df_short= df_device_1.iloc[:1500, :]\n",
    "\n",
    "plt.figure(100,figsize=(2,1))\n",
    "plt.axis('off')\n",
    "plt.plot(df_device_1['time'], df_device_1['voltage'])\n",
    "plt.savefig('reduced.png',bbox_inches = 'tight',dpi=100, pad_inches = 0)\n",
    "plt.tight_layout()\n",
    "plt.show()"
   ]
  },
  {
   "cell_type": "markdown",
   "id": "successful-pencil",
   "metadata": {},
   "source": [
    "### Function"
   ]
  },
  {
   "cell_type": "code",
   "execution_count": 234,
   "id": "cardiovascular-moisture",
   "metadata": {},
   "outputs": [],
   "source": [
    "def csv_plot(device, fold_name, img_name):\n",
    "    df_shortened_list = []\n",
    "    for csv_file in file_name_dict_3[device]:\n",
    "            csv_file_df = pd.read_csv(str(csv_file))\n",
    "            csv_file_df.columns = ['time', 'voltage']\n",
    "            df_short = csv_file_df #csv_file_df.iloc[:2000, :]\n",
    "            df_shortened_list.append(df_short)\n",
    "            \n",
    "    #Saving plotted images\n",
    "    for j in range (len(df_shortened_list)):\n",
    "        plt.figure(100,figsize=(1,1))\n",
    "        plt.axis('off')\n",
    "        plt.plot(df_shortened_list[j]['time'], df_shortened_list[j]['voltage'])\n",
    "        plt.savefig(r'D:\\Rostock-Masters\\Thesis\\Data\\full_images\\{}/{}-{}.jpg'.format(fold_name,img_name,j),bbox_inches = 'tight', pad_inches = 0)\n",
    "        plt.close()"
   ]
  },
  {
   "cell_type": "code",
   "execution_count": 235,
   "id": "royal-article",
   "metadata": {},
   "outputs": [],
   "source": [
    "## save image to folder\n",
    "# csv_plot('Device_1', 'Device_1', 'device_1')\n",
    "# csv_plot('Device_2', 'Device_2', 'device_2')\n",
    "# csv_plot('Device_3', 'Device_3', 'device_3')\n",
    "# csv_plot('Device_4', 'Device_4', 'device_4')\n",
    "# csv_plot('Device_5', 'Device_5', 'device_5')\n",
    "# csv_plot('Device_6', 'Device_6', 'device_6')\n",
    "csv_plot('Device_7', 'Device_7', 'device_7')"
   ]
  },
  {
   "cell_type": "markdown",
   "id": "tropical-metallic",
   "metadata": {},
   "source": [
    "-----------------------------------------------------------------------------------------------------------------------------------------"
   ]
  },
  {
   "cell_type": "markdown",
   "id": "composite-statistics",
   "metadata": {},
   "source": [
    "### CNN"
   ]
  },
  {
   "cell_type": "code",
   "execution_count": 236,
   "id": "vocational-ballot",
   "metadata": {},
   "outputs": [
    {
     "data": {
      "text/plain": [
       "'D:\\\\Rostock-Masters\\\\Thesis\\\\Data\\\\full_images'"
      ]
     },
     "execution_count": 236,
     "metadata": {},
     "output_type": "execute_result"
    }
   ],
   "source": [
    "data_dir = (r'D:\\Rostock-Masters\\Thesis\\Data\\full_images')\n",
    "data_dir"
   ]
  },
  {
   "cell_type": "code",
   "execution_count": 237,
   "id": "flying-sperm",
   "metadata": {
    "scrolled": true
   },
   "outputs": [
    {
     "data": {
      "text/plain": [
       "WindowsPath('D:/Rostock-Masters/Thesis/Data/full_images')"
      ]
     },
     "execution_count": 237,
     "metadata": {},
     "output_type": "execute_result"
    }
   ],
   "source": [
    "import pathlib\n",
    "data_dir = pathlib.Path(data_dir)\n",
    "data_dir"
   ]
  },
  {
   "cell_type": "code",
   "execution_count": 238,
   "id": "innocent-mention",
   "metadata": {},
   "outputs": [
    {
     "data": {
      "text/plain": [
       "101"
      ]
     },
     "execution_count": 238,
     "metadata": {},
     "output_type": "execute_result"
    }
   ],
   "source": [
    "image_count_1 = list(data_dir.glob('Device_5/*'))\n",
    "len(image_count_1)"
   ]
  },
  {
   "cell_type": "code",
   "execution_count": 239,
   "id": "victorian-alliance",
   "metadata": {},
   "outputs": [
    {
     "data": {
      "text/plain": [
       "[WindowsPath('D:/Rostock-Masters/Thesis/Data/full_images/device_1/desktop.ini'),\n",
       " WindowsPath('D:/Rostock-Masters/Thesis/Data/full_images/device_1/device_1-0.jpg'),\n",
       " WindowsPath('D:/Rostock-Masters/Thesis/Data/full_images/device_1/device_1-1.jpg'),\n",
       " WindowsPath('D:/Rostock-Masters/Thesis/Data/full_images/device_1/device_1-10.jpg'),\n",
       " WindowsPath('D:/Rostock-Masters/Thesis/Data/full_images/device_1/device_1-11.jpg')]"
      ]
     },
     "execution_count": 239,
     "metadata": {},
     "output_type": "execute_result"
    }
   ],
   "source": [
    "Device_1 = list(data_dir.glob('Device_1/*'))\n",
    "Device_1[:5]"
   ]
  },
  {
   "cell_type": "code",
   "execution_count": 240,
   "id": "informational-manufacturer",
   "metadata": {},
   "outputs": [
    {
     "data": {
      "image/png": "[encoded data removed]",
      "text/plain": [
       "<PIL.JpegImagePlugin.JpegImageFile image mode=RGB size=55x54>"
      ]
     },
     "execution_count": 240,
     "metadata": {},
     "output_type": "execute_result"
    }
   ],
   "source": [
    "PIL.Image.open(str(Device_1[1]))"
   ]
  },
  {
   "cell_type": "code",
   "execution_count": 241,
   "id": "chief-webcam",
   "metadata": {},
   "outputs": [],
   "source": [
    "device_image_dict = {\n",
    "    'Device_1' : list(data_dir.glob('Device_1/*.jpg')),\n",
    "    'Device_2' : list(data_dir.glob('Device_2/*.jpg')),\n",
    "    'Device_3' : list(data_dir.glob('Device_3/*.jpg')),\n",
    "    'Device_4' : list(data_dir.glob('Device_4/*.jpg')),\n",
    "    'Device_5' : list(data_dir.glob('Device_5/*.jpg')),\n",
    "    'Device_6' : list(data_dir.glob('Device_6/*.jpg')),\n",
    "    'Device_7' : list(data_dir.glob('Device_7/*.jpg')),\n",
    "}"
   ]
  },
  {
   "cell_type": "code",
   "execution_count": 242,
   "id": "weekly-grant",
   "metadata": {
    "scrolled": true
   },
   "outputs": [
    {
     "data": {
      "text/plain": [
       "WindowsPath('D:/Rostock-Masters/Thesis/Data/full_images/device_1/device_1-13.jpg')"
      ]
     },
     "execution_count": 242,
     "metadata": {},
     "output_type": "execute_result"
    }
   ],
   "source": [
    "device_image_dict['Device_1'][5]"
   ]
  },
  {
   "cell_type": "code",
   "execution_count": 243,
   "id": "universal-abortion",
   "metadata": {},
   "outputs": [
    {
     "data": {
      "image/png": "[encoded data removed]",
      "text/plain": [
       "<PIL.JpegImagePlugin.JpegImageFile image mode=RGB size=55x54>"
      ]
     },
     "execution_count": 243,
     "metadata": {},
     "output_type": "execute_result"
    }
   ],
   "source": [
    "PIL.Image.open(str(device_image_dict['Device_5'][60]))"
   ]
  },
  {
   "cell_type": "code",
   "execution_count": 244,
   "id": "arranged-reducing",
   "metadata": {},
   "outputs": [],
   "source": [
    "devices_label_dict = {\n",
    "    'Device_1' : 0,\n",
    "    'Device_2' : 1,\n",
    "    'Device_3' : 2,\n",
    "    'Device_4' : 3,\n",
    "    'Device_5' : 4,\n",
    "    'Device_6' : 5,\n",
    "    'Device_7' : 6,\n",
    "    \n",
    "}"
   ]
  },
  {
   "cell_type": "code",
   "execution_count": 245,
   "id": "political-nickname",
   "metadata": {},
   "outputs": [
    {
     "data": {
      "text/plain": [
       "100"
      ]
     },
     "execution_count": 245,
     "metadata": {},
     "output_type": "execute_result"
    }
   ],
   "source": [
    "len(device_image_dict['Device_4'])"
   ]
  },
  {
   "cell_type": "code",
   "execution_count": 246,
   "id": "improving-slope",
   "metadata": {},
   "outputs": [
    {
     "data": {
      "text/plain": [
       "'D:\\\\Rostock-Masters\\\\Thesis\\\\Data\\\\full_images\\\\device_3\\\\device_3-0.jpg'"
      ]
     },
     "execution_count": 246,
     "metadata": {},
     "output_type": "execute_result"
    }
   ],
   "source": [
    "str(device_image_dict['Device_3'][0])"
   ]
  },
  {
   "cell_type": "code",
   "execution_count": 251,
   "id": "loving-kidney",
   "metadata": {},
   "outputs": [
    {
     "name": "stdout",
     "output_type": "stream",
     "text": [
      "Device_1 : 100\n",
      "Device_2 : 100\n",
      "Device_3 : 100\n",
      "Device_4 : 100\n",
      "Device_5 : 100\n",
      "Device_6 : 100\n",
      "Device_7 : 61\n",
      "Total numbers of images are: 661\n"
     ]
    }
   ],
   "source": [
    "lst= []\n",
    "for device_name, images in device_image_dict.items():\n",
    "    print (device_name, ':',end = ' ')\n",
    "    print(len(images))\n",
    "    lst.append(len(images))\n",
    "print(f'Total numbers of images are: {sum(lst)}')"
   ]
  },
  {
   "cell_type": "markdown",
   "id": "fundamental-sitting",
   "metadata": {},
   "source": [
    "# Image shape"
   ]
  },
  {
   "cell_type": "code",
   "execution_count": 253,
   "id": "resident-documentation",
   "metadata": {},
   "outputs": [],
   "source": [
    "#Saving image data to a dataframe\n",
    "device_list, label_list = [],[]\n",
    "\n",
    "for device_name, folder in device_image_dict.items():\n",
    "    for image in folder:\n",
    "        img = cv2.imread(str(image))\n",
    "        resized_img = cv2.resize(img,(35,35))\n",
    "        flattened = resized_img.reshape(-1)\n",
    "        df_flat= pd.DataFrame(flattened.reshape(1,-1))\n",
    "        device_list.append(df_flat)\n",
    "        label_list.append(devices_label_dict[device_name])"
   ]
  },
  {
   "cell_type": "code",
   "execution_count": 254,
   "id": "compact-yukon",
   "metadata": {},
   "outputs": [
    {
     "data": {
      "text/html": [
       "<div>\n",
       "<style scoped>\n",
       "    .dataframe tbody tr th:only-of-type {\n",
       "        vertical-align: middle;\n",
       "    }\n",
       "\n",
       "    .dataframe tbody tr th {\n",
       "        vertical-align: top;\n",
       "    }\n",
       "\n",
       "    .dataframe thead th {\n",
       "        text-align: right;\n",
       "    }\n",
       "</style>\n",
       "<table border=\"1\" class=\"dataframe\">\n",
       "  <thead>\n",
       "    <tr style=\"text-align: right;\">\n",
       "      <th></th>\n",
       "      <th>0</th>\n",
       "      <th>1</th>\n",
       "      <th>2</th>\n",
       "      <th>3</th>\n",
       "      <th>4</th>\n",
       "      <th>5</th>\n",
       "      <th>6</th>\n",
       "      <th>7</th>\n",
       "      <th>8</th>\n",
       "      <th>9</th>\n",
       "      <th>...</th>\n",
       "      <th>3665</th>\n",
       "      <th>3666</th>\n",
       "      <th>3667</th>\n",
       "      <th>3668</th>\n",
       "      <th>3669</th>\n",
       "      <th>3670</th>\n",
       "      <th>3671</th>\n",
       "      <th>3672</th>\n",
       "      <th>3673</th>\n",
       "      <th>3674</th>\n",
       "    </tr>\n",
       "  </thead>\n",
       "  <tbody>\n",
       "    <tr>\n",
       "      <th>0</th>\n",
       "      <td>248</td>\n",
       "      <td>251</td>\n",
       "      <td>254</td>\n",
       "      <td>238</td>\n",
       "      <td>245</td>\n",
       "      <td>254</td>\n",
       "      <td>251</td>\n",
       "      <td>252</td>\n",
       "      <td>248</td>\n",
       "      <td>255</td>\n",
       "      <td>...</td>\n",
       "      <td>244</td>\n",
       "      <td>252</td>\n",
       "      <td>249</td>\n",
       "      <td>243</td>\n",
       "      <td>254</td>\n",
       "      <td>254</td>\n",
       "      <td>251</td>\n",
       "      <td>251</td>\n",
       "      <td>252</td>\n",
       "      <td>252</td>\n",
       "    </tr>\n",
       "  </tbody>\n",
       "</table>\n",
       "<p>1 rows × 3675 columns</p>\n",
       "</div>"
      ],
      "text/plain": [
       "   0     1     2     3     4     5     6     7     8     9     ...  3665  \\\n",
       "0   248   251   254   238   245   254   251   252   248   255  ...   244   \n",
       "\n",
       "   3666  3667  3668  3669  3670  3671  3672  3673  3674  \n",
       "0   252   249   243   254   254   251   251   252   252  \n",
       "\n",
       "[1 rows x 3675 columns]"
      ]
     },
     "execution_count": 254,
     "metadata": {},
     "output_type": "execute_result"
    }
   ],
   "source": [
    "device_list[300]"
   ]
  },
  {
   "cell_type": "code",
   "execution_count": 255,
   "id": "unlike-uganda",
   "metadata": {
    "scrolled": true
   },
   "outputs": [
    {
     "data": {
      "text/html": [
       "<div>\n",
       "<style scoped>\n",
       "    .dataframe tbody tr th:only-of-type {\n",
       "        vertical-align: middle;\n",
       "    }\n",
       "\n",
       "    .dataframe tbody tr th {\n",
       "        vertical-align: top;\n",
       "    }\n",
       "\n",
       "    .dataframe thead th {\n",
       "        text-align: right;\n",
       "    }\n",
       "</style>\n",
       "<table border=\"1\" class=\"dataframe\">\n",
       "  <thead>\n",
       "    <tr style=\"text-align: right;\">\n",
       "      <th></th>\n",
       "      <th>0</th>\n",
       "      <th>1</th>\n",
       "      <th>2</th>\n",
       "      <th>3</th>\n",
       "      <th>4</th>\n",
       "      <th>5</th>\n",
       "      <th>6</th>\n",
       "      <th>7</th>\n",
       "      <th>8</th>\n",
       "      <th>9</th>\n",
       "      <th>...</th>\n",
       "      <th>3665</th>\n",
       "      <th>3666</th>\n",
       "      <th>3667</th>\n",
       "      <th>3668</th>\n",
       "      <th>3669</th>\n",
       "      <th>3670</th>\n",
       "      <th>3671</th>\n",
       "      <th>3672</th>\n",
       "      <th>3673</th>\n",
       "      <th>3674</th>\n",
       "    </tr>\n",
       "  </thead>\n",
       "  <tbody>\n",
       "    <tr>\n",
       "      <th>0</th>\n",
       "      <td>241</td>\n",
       "      <td>254</td>\n",
       "      <td>255</td>\n",
       "      <td>231</td>\n",
       "      <td>246</td>\n",
       "      <td>254</td>\n",
       "      <td>249</td>\n",
       "      <td>253</td>\n",
       "      <td>248</td>\n",
       "      <td>255</td>\n",
       "      <td>...</td>\n",
       "      <td>231</td>\n",
       "      <td>254</td>\n",
       "      <td>251</td>\n",
       "      <td>236</td>\n",
       "      <td>255</td>\n",
       "      <td>252</td>\n",
       "      <td>245</td>\n",
       "      <td>247</td>\n",
       "      <td>246</td>\n",
       "      <td>244</td>\n",
       "    </tr>\n",
       "    <tr>\n",
       "      <th>1</th>\n",
       "      <td>250</td>\n",
       "      <td>249</td>\n",
       "      <td>254</td>\n",
       "      <td>243</td>\n",
       "      <td>248</td>\n",
       "      <td>255</td>\n",
       "      <td>252</td>\n",
       "      <td>254</td>\n",
       "      <td>241</td>\n",
       "      <td>255</td>\n",
       "      <td>...</td>\n",
       "      <td>250</td>\n",
       "      <td>255</td>\n",
       "      <td>254</td>\n",
       "      <td>250</td>\n",
       "      <td>254</td>\n",
       "      <td>253</td>\n",
       "      <td>250</td>\n",
       "      <td>255</td>\n",
       "      <td>254</td>\n",
       "      <td>252</td>\n",
       "    </tr>\n",
       "    <tr>\n",
       "      <th>2</th>\n",
       "      <td>241</td>\n",
       "      <td>255</td>\n",
       "      <td>254</td>\n",
       "      <td>250</td>\n",
       "      <td>255</td>\n",
       "      <td>251</td>\n",
       "      <td>255</td>\n",
       "      <td>252</td>\n",
       "      <td>234</td>\n",
       "      <td>255</td>\n",
       "      <td>...</td>\n",
       "      <td>239</td>\n",
       "      <td>253</td>\n",
       "      <td>247</td>\n",
       "      <td>234</td>\n",
       "      <td>253</td>\n",
       "      <td>253</td>\n",
       "      <td>246</td>\n",
       "      <td>251</td>\n",
       "      <td>251</td>\n",
       "      <td>249</td>\n",
       "    </tr>\n",
       "    <tr>\n",
       "      <th>3</th>\n",
       "      <td>245</td>\n",
       "      <td>253</td>\n",
       "      <td>251</td>\n",
       "      <td>243</td>\n",
       "      <td>255</td>\n",
       "      <td>254</td>\n",
       "      <td>250</td>\n",
       "      <td>253</td>\n",
       "      <td>241</td>\n",
       "      <td>250</td>\n",
       "      <td>...</td>\n",
       "      <td>232</td>\n",
       "      <td>255</td>\n",
       "      <td>252</td>\n",
       "      <td>239</td>\n",
       "      <td>247</td>\n",
       "      <td>246</td>\n",
       "      <td>238</td>\n",
       "      <td>250</td>\n",
       "      <td>252</td>\n",
       "      <td>251</td>\n",
       "    </tr>\n",
       "    <tr>\n",
       "      <th>4</th>\n",
       "      <td>243</td>\n",
       "      <td>248</td>\n",
       "      <td>255</td>\n",
       "      <td>250</td>\n",
       "      <td>246</td>\n",
       "      <td>250</td>\n",
       "      <td>255</td>\n",
       "      <td>254</td>\n",
       "      <td>236</td>\n",
       "      <td>255</td>\n",
       "      <td>...</td>\n",
       "      <td>247</td>\n",
       "      <td>250</td>\n",
       "      <td>250</td>\n",
       "      <td>237</td>\n",
       "      <td>253</td>\n",
       "      <td>253</td>\n",
       "      <td>241</td>\n",
       "      <td>248</td>\n",
       "      <td>249</td>\n",
       "      <td>239</td>\n",
       "    </tr>\n",
       "    <tr>\n",
       "      <th>...</th>\n",
       "      <td>...</td>\n",
       "      <td>...</td>\n",
       "      <td>...</td>\n",
       "      <td>...</td>\n",
       "      <td>...</td>\n",
       "      <td>...</td>\n",
       "      <td>...</td>\n",
       "      <td>...</td>\n",
       "      <td>...</td>\n",
       "      <td>...</td>\n",
       "      <td>...</td>\n",
       "      <td>...</td>\n",
       "      <td>...</td>\n",
       "      <td>...</td>\n",
       "      <td>...</td>\n",
       "      <td>...</td>\n",
       "      <td>...</td>\n",
       "      <td>...</td>\n",
       "      <td>...</td>\n",
       "      <td>...</td>\n",
       "      <td>...</td>\n",
       "    </tr>\n",
       "    <tr>\n",
       "      <th>656</th>\n",
       "      <td>251</td>\n",
       "      <td>247</td>\n",
       "      <td>254</td>\n",
       "      <td>240</td>\n",
       "      <td>243</td>\n",
       "      <td>254</td>\n",
       "      <td>251</td>\n",
       "      <td>251</td>\n",
       "      <td>246</td>\n",
       "      <td>255</td>\n",
       "      <td>...</td>\n",
       "      <td>232</td>\n",
       "      <td>255</td>\n",
       "      <td>255</td>\n",
       "      <td>241</td>\n",
       "      <td>254</td>\n",
       "      <td>251</td>\n",
       "      <td>244</td>\n",
       "      <td>253</td>\n",
       "      <td>254</td>\n",
       "      <td>252</td>\n",
       "    </tr>\n",
       "    <tr>\n",
       "      <th>657</th>\n",
       "      <td>244</td>\n",
       "      <td>242</td>\n",
       "      <td>253</td>\n",
       "      <td>235</td>\n",
       "      <td>225</td>\n",
       "      <td>202</td>\n",
       "      <td>228</td>\n",
       "      <td>217</td>\n",
       "      <td>177</td>\n",
       "      <td>238</td>\n",
       "      <td>...</td>\n",
       "      <td>241</td>\n",
       "      <td>255</td>\n",
       "      <td>253</td>\n",
       "      <td>240</td>\n",
       "      <td>255</td>\n",
       "      <td>255</td>\n",
       "      <td>249</td>\n",
       "      <td>246</td>\n",
       "      <td>246</td>\n",
       "      <td>246</td>\n",
       "    </tr>\n",
       "    <tr>\n",
       "      <th>658</th>\n",
       "      <td>243</td>\n",
       "      <td>255</td>\n",
       "      <td>249</td>\n",
       "      <td>237</td>\n",
       "      <td>252</td>\n",
       "      <td>254</td>\n",
       "      <td>250</td>\n",
       "      <td>254</td>\n",
       "      <td>249</td>\n",
       "      <td>255</td>\n",
       "      <td>...</td>\n",
       "      <td>236</td>\n",
       "      <td>253</td>\n",
       "      <td>250</td>\n",
       "      <td>236</td>\n",
       "      <td>254</td>\n",
       "      <td>252</td>\n",
       "      <td>244</td>\n",
       "      <td>252</td>\n",
       "      <td>252</td>\n",
       "      <td>250</td>\n",
       "    </tr>\n",
       "    <tr>\n",
       "      <th>659</th>\n",
       "      <td>244</td>\n",
       "      <td>250</td>\n",
       "      <td>255</td>\n",
       "      <td>247</td>\n",
       "      <td>241</td>\n",
       "      <td>247</td>\n",
       "      <td>255</td>\n",
       "      <td>253</td>\n",
       "      <td>240</td>\n",
       "      <td>255</td>\n",
       "      <td>...</td>\n",
       "      <td>253</td>\n",
       "      <td>252</td>\n",
       "      <td>247</td>\n",
       "      <td>252</td>\n",
       "      <td>252</td>\n",
       "      <td>249</td>\n",
       "      <td>255</td>\n",
       "      <td>250</td>\n",
       "      <td>249</td>\n",
       "      <td>253</td>\n",
       "    </tr>\n",
       "    <tr>\n",
       "      <th>660</th>\n",
       "      <td>241</td>\n",
       "      <td>255</td>\n",
       "      <td>247</td>\n",
       "      <td>239</td>\n",
       "      <td>254</td>\n",
       "      <td>254</td>\n",
       "      <td>249</td>\n",
       "      <td>253</td>\n",
       "      <td>249</td>\n",
       "      <td>255</td>\n",
       "      <td>...</td>\n",
       "      <td>236</td>\n",
       "      <td>250</td>\n",
       "      <td>247</td>\n",
       "      <td>232</td>\n",
       "      <td>255</td>\n",
       "      <td>253</td>\n",
       "      <td>245</td>\n",
       "      <td>253</td>\n",
       "      <td>254</td>\n",
       "      <td>252</td>\n",
       "    </tr>\n",
       "  </tbody>\n",
       "</table>\n",
       "<p>661 rows × 3675 columns</p>\n",
       "</div>"
      ],
      "text/plain": [
       "     0     1     2     3     4     5     6     7     8     9     ...  3665  \\\n",
       "0     241   254   255   231   246   254   249   253   248   255  ...   231   \n",
       "1     250   249   254   243   248   255   252   254   241   255  ...   250   \n",
       "2     241   255   254   250   255   251   255   252   234   255  ...   239   \n",
       "3     245   253   251   243   255   254   250   253   241   250  ...   232   \n",
       "4     243   248   255   250   246   250   255   254   236   255  ...   247   \n",
       "..    ...   ...   ...   ...   ...   ...   ...   ...   ...   ...  ...   ...   \n",
       "656   251   247   254   240   243   254   251   251   246   255  ...   232   \n",
       "657   244   242   253   235   225   202   228   217   177   238  ...   241   \n",
       "658   243   255   249   237   252   254   250   254   249   255  ...   236   \n",
       "659   244   250   255   247   241   247   255   253   240   255  ...   253   \n",
       "660   241   255   247   239   254   254   249   253   249   255  ...   236   \n",
       "\n",
       "     3666  3667  3668  3669  3670  3671  3672  3673  3674  \n",
       "0     254   251   236   255   252   245   247   246   244  \n",
       "1     255   254   250   254   253   250   255   254   252  \n",
       "2     253   247   234   253   253   246   251   251   249  \n",
       "3     255   252   239   247   246   238   250   252   251  \n",
       "4     250   250   237   253   253   241   248   249   239  \n",
       "..    ...   ...   ...   ...   ...   ...   ...   ...   ...  \n",
       "656   255   255   241   254   251   244   253   254   252  \n",
       "657   255   253   240   255   255   249   246   246   246  \n",
       "658   253   250   236   254   252   244   252   252   250  \n",
       "659   252   247   252   252   249   255   250   249   253  \n",
       "660   250   247   232   255   253   245   253   254   252  \n",
       "\n",
       "[661 rows x 3675 columns]"
      ]
     },
     "execution_count": 255,
     "metadata": {},
     "output_type": "execute_result"
    }
   ],
   "source": [
    "df_merged= pd.concat(device_list)\n",
    "df_merged= df_merged.reset_index(drop=True)\n",
    "df_merged"
   ]
  },
  {
   "cell_type": "code",
   "execution_count": 256,
   "id": "sticky-minimum",
   "metadata": {
    "scrolled": true
   },
   "outputs": [
    {
     "data": {
      "text/html": [
       "<div>\n",
       "<style scoped>\n",
       "    .dataframe tbody tr th:only-of-type {\n",
       "        vertical-align: middle;\n",
       "    }\n",
       "\n",
       "    .dataframe tbody tr th {\n",
       "        vertical-align: top;\n",
       "    }\n",
       "\n",
       "    .dataframe thead th {\n",
       "        text-align: right;\n",
       "    }\n",
       "</style>\n",
       "<table border=\"1\" class=\"dataframe\">\n",
       "  <thead>\n",
       "    <tr style=\"text-align: right;\">\n",
       "      <th></th>\n",
       "      <th>0</th>\n",
       "      <th>1</th>\n",
       "      <th>2</th>\n",
       "      <th>3</th>\n",
       "      <th>4</th>\n",
       "      <th>5</th>\n",
       "      <th>6</th>\n",
       "      <th>7</th>\n",
       "      <th>8</th>\n",
       "      <th>9</th>\n",
       "      <th>...</th>\n",
       "      <th>3666</th>\n",
       "      <th>3667</th>\n",
       "      <th>3668</th>\n",
       "      <th>3669</th>\n",
       "      <th>3670</th>\n",
       "      <th>3671</th>\n",
       "      <th>3672</th>\n",
       "      <th>3673</th>\n",
       "      <th>3674</th>\n",
       "      <th>label</th>\n",
       "    </tr>\n",
       "  </thead>\n",
       "  <tbody>\n",
       "    <tr>\n",
       "      <th>0</th>\n",
       "      <td>242</td>\n",
       "      <td>251</td>\n",
       "      <td>253</td>\n",
       "      <td>233</td>\n",
       "      <td>245</td>\n",
       "      <td>254</td>\n",
       "      <td>247</td>\n",
       "      <td>251</td>\n",
       "      <td>249</td>\n",
       "      <td>255</td>\n",
       "      <td>...</td>\n",
       "      <td>253</td>\n",
       "      <td>250</td>\n",
       "      <td>236</td>\n",
       "      <td>255</td>\n",
       "      <td>253</td>\n",
       "      <td>244</td>\n",
       "      <td>252</td>\n",
       "      <td>249</td>\n",
       "      <td>247</td>\n",
       "      <td>2</td>\n",
       "    </tr>\n",
       "    <tr>\n",
       "      <th>1</th>\n",
       "      <td>244</td>\n",
       "      <td>252</td>\n",
       "      <td>253</td>\n",
       "      <td>254</td>\n",
       "      <td>252</td>\n",
       "      <td>243</td>\n",
       "      <td>255</td>\n",
       "      <td>254</td>\n",
       "      <td>237</td>\n",
       "      <td>255</td>\n",
       "      <td>...</td>\n",
       "      <td>255</td>\n",
       "      <td>254</td>\n",
       "      <td>248</td>\n",
       "      <td>253</td>\n",
       "      <td>252</td>\n",
       "      <td>247</td>\n",
       "      <td>252</td>\n",
       "      <td>251</td>\n",
       "      <td>250</td>\n",
       "      <td>0</td>\n",
       "    </tr>\n",
       "    <tr>\n",
       "      <th>2</th>\n",
       "      <td>245</td>\n",
       "      <td>252</td>\n",
       "      <td>251</td>\n",
       "      <td>238</td>\n",
       "      <td>251</td>\n",
       "      <td>250</td>\n",
       "      <td>251</td>\n",
       "      <td>254</td>\n",
       "      <td>244</td>\n",
       "      <td>255</td>\n",
       "      <td>...</td>\n",
       "      <td>253</td>\n",
       "      <td>254</td>\n",
       "      <td>252</td>\n",
       "      <td>255</td>\n",
       "      <td>255</td>\n",
       "      <td>254</td>\n",
       "      <td>254</td>\n",
       "      <td>255</td>\n",
       "      <td>254</td>\n",
       "      <td>4</td>\n",
       "    </tr>\n",
       "    <tr>\n",
       "      <th>3</th>\n",
       "      <td>246</td>\n",
       "      <td>248</td>\n",
       "      <td>254</td>\n",
       "      <td>242</td>\n",
       "      <td>250</td>\n",
       "      <td>255</td>\n",
       "      <td>248</td>\n",
       "      <td>252</td>\n",
       "      <td>247</td>\n",
       "      <td>255</td>\n",
       "      <td>...</td>\n",
       "      <td>255</td>\n",
       "      <td>253</td>\n",
       "      <td>245</td>\n",
       "      <td>255</td>\n",
       "      <td>255</td>\n",
       "      <td>251</td>\n",
       "      <td>255</td>\n",
       "      <td>254</td>\n",
       "      <td>253</td>\n",
       "      <td>4</td>\n",
       "    </tr>\n",
       "    <tr>\n",
       "      <th>4</th>\n",
       "      <td>252</td>\n",
       "      <td>252</td>\n",
       "      <td>252</td>\n",
       "      <td>247</td>\n",
       "      <td>252</td>\n",
       "      <td>255</td>\n",
       "      <td>251</td>\n",
       "      <td>251</td>\n",
       "      <td>241</td>\n",
       "      <td>255</td>\n",
       "      <td>...</td>\n",
       "      <td>254</td>\n",
       "      <td>254</td>\n",
       "      <td>254</td>\n",
       "      <td>255</td>\n",
       "      <td>255</td>\n",
       "      <td>255</td>\n",
       "      <td>255</td>\n",
       "      <td>255</td>\n",
       "      <td>255</td>\n",
       "      <td>4</td>\n",
       "    </tr>\n",
       "    <tr>\n",
       "      <th>...</th>\n",
       "      <td>...</td>\n",
       "      <td>...</td>\n",
       "      <td>...</td>\n",
       "      <td>...</td>\n",
       "      <td>...</td>\n",
       "      <td>...</td>\n",
       "      <td>...</td>\n",
       "      <td>...</td>\n",
       "      <td>...</td>\n",
       "      <td>...</td>\n",
       "      <td>...</td>\n",
       "      <td>...</td>\n",
       "      <td>...</td>\n",
       "      <td>...</td>\n",
       "      <td>...</td>\n",
       "      <td>...</td>\n",
       "      <td>...</td>\n",
       "      <td>...</td>\n",
       "      <td>...</td>\n",
       "      <td>...</td>\n",
       "      <td>...</td>\n",
       "    </tr>\n",
       "    <tr>\n",
       "      <th>656</th>\n",
       "      <td>234</td>\n",
       "      <td>253</td>\n",
       "      <td>240</td>\n",
       "      <td>247</td>\n",
       "      <td>254</td>\n",
       "      <td>252</td>\n",
       "      <td>255</td>\n",
       "      <td>252</td>\n",
       "      <td>249</td>\n",
       "      <td>255</td>\n",
       "      <td>...</td>\n",
       "      <td>253</td>\n",
       "      <td>249</td>\n",
       "      <td>234</td>\n",
       "      <td>253</td>\n",
       "      <td>252</td>\n",
       "      <td>244</td>\n",
       "      <td>246</td>\n",
       "      <td>249</td>\n",
       "      <td>246</td>\n",
       "      <td>0</td>\n",
       "    </tr>\n",
       "    <tr>\n",
       "      <th>657</th>\n",
       "      <td>245</td>\n",
       "      <td>248</td>\n",
       "      <td>253</td>\n",
       "      <td>239</td>\n",
       "      <td>247</td>\n",
       "      <td>254</td>\n",
       "      <td>250</td>\n",
       "      <td>252</td>\n",
       "      <td>241</td>\n",
       "      <td>252</td>\n",
       "      <td>...</td>\n",
       "      <td>252</td>\n",
       "      <td>247</td>\n",
       "      <td>249</td>\n",
       "      <td>255</td>\n",
       "      <td>251</td>\n",
       "      <td>244</td>\n",
       "      <td>251</td>\n",
       "      <td>249</td>\n",
       "      <td>241</td>\n",
       "      <td>0</td>\n",
       "    </tr>\n",
       "    <tr>\n",
       "      <th>658</th>\n",
       "      <td>246</td>\n",
       "      <td>253</td>\n",
       "      <td>250</td>\n",
       "      <td>254</td>\n",
       "      <td>251</td>\n",
       "      <td>250</td>\n",
       "      <td>248</td>\n",
       "      <td>239</td>\n",
       "      <td>219</td>\n",
       "      <td>248</td>\n",
       "      <td>...</td>\n",
       "      <td>254</td>\n",
       "      <td>253</td>\n",
       "      <td>247</td>\n",
       "      <td>253</td>\n",
       "      <td>254</td>\n",
       "      <td>251</td>\n",
       "      <td>247</td>\n",
       "      <td>250</td>\n",
       "      <td>251</td>\n",
       "      <td>1</td>\n",
       "    </tr>\n",
       "    <tr>\n",
       "      <th>659</th>\n",
       "      <td>244</td>\n",
       "      <td>250</td>\n",
       "      <td>255</td>\n",
       "      <td>254</td>\n",
       "      <td>252</td>\n",
       "      <td>255</td>\n",
       "      <td>255</td>\n",
       "      <td>251</td>\n",
       "      <td>233</td>\n",
       "      <td>254</td>\n",
       "      <td>...</td>\n",
       "      <td>255</td>\n",
       "      <td>253</td>\n",
       "      <td>238</td>\n",
       "      <td>255</td>\n",
       "      <td>254</td>\n",
       "      <td>247</td>\n",
       "      <td>255</td>\n",
       "      <td>254</td>\n",
       "      <td>250</td>\n",
       "      <td>2</td>\n",
       "    </tr>\n",
       "    <tr>\n",
       "      <th>660</th>\n",
       "      <td>248</td>\n",
       "      <td>252</td>\n",
       "      <td>254</td>\n",
       "      <td>245</td>\n",
       "      <td>253</td>\n",
       "      <td>255</td>\n",
       "      <td>252</td>\n",
       "      <td>253</td>\n",
       "      <td>248</td>\n",
       "      <td>255</td>\n",
       "      <td>...</td>\n",
       "      <td>255</td>\n",
       "      <td>254</td>\n",
       "      <td>240</td>\n",
       "      <td>255</td>\n",
       "      <td>255</td>\n",
       "      <td>249</td>\n",
       "      <td>255</td>\n",
       "      <td>255</td>\n",
       "      <td>254</td>\n",
       "      <td>2</td>\n",
       "    </tr>\n",
       "  </tbody>\n",
       "</table>\n",
       "<p>661 rows × 3676 columns</p>\n",
       "</div>"
      ],
      "text/plain": [
       "       0    1    2    3    4    5    6    7    8    9  ...  3666  3667  3668  \\\n",
       "0    242  251  253  233  245  254  247  251  249  255  ...   253   250   236   \n",
       "1    244  252  253  254  252  243  255  254  237  255  ...   255   254   248   \n",
       "2    245  252  251  238  251  250  251  254  244  255  ...   253   254   252   \n",
       "3    246  248  254  242  250  255  248  252  247  255  ...   255   253   245   \n",
       "4    252  252  252  247  252  255  251  251  241  255  ...   254   254   254   \n",
       "..   ...  ...  ...  ...  ...  ...  ...  ...  ...  ...  ...   ...   ...   ...   \n",
       "656  234  253  240  247  254  252  255  252  249  255  ...   253   249   234   \n",
       "657  245  248  253  239  247  254  250  252  241  252  ...   252   247   249   \n",
       "658  246  253  250  254  251  250  248  239  219  248  ...   254   253   247   \n",
       "659  244  250  255  254  252  255  255  251  233  254  ...   255   253   238   \n",
       "660  248  252  254  245  253  255  252  253  248  255  ...   255   254   240   \n",
       "\n",
       "     3669  3670  3671  3672  3673  3674  label  \n",
       "0     255   253   244   252   249   247      2  \n",
       "1     253   252   247   252   251   250      0  \n",
       "2     255   255   254   254   255   254      4  \n",
       "3     255   255   251   255   254   253      4  \n",
       "4     255   255   255   255   255   255      4  \n",
       "..    ...   ...   ...   ...   ...   ...    ...  \n",
       "656   253   252   244   246   249   246      0  \n",
       "657   255   251   244   251   249   241      0  \n",
       "658   253   254   251   247   250   251      1  \n",
       "659   255   254   247   255   254   250      2  \n",
       "660   255   255   249   255   255   254      2  \n",
       "\n",
       "[661 rows x 3676 columns]"
      ]
     },
     "execution_count": 256,
     "metadata": {},
     "output_type": "execute_result"
    }
   ],
   "source": [
    "#Merging, Adding label, shuffling\n",
    "df_with_label= df_merged\n",
    "df_with_label['label'] = label_list\n",
    "# df_with_label.to_csv('device_with_label.csv', index=False)\n",
    "df_1 = df_with_label.sample(frac = 1).reset_index(drop=True)\n",
    "df_1"
   ]
  },
  {
   "cell_type": "code",
   "execution_count": 257,
   "id": "medieval-spain",
   "metadata": {},
   "outputs": [],
   "source": [
    "# b= resized_img.reshape(-1)\n",
    "# df = pd.DataFrame(b.reshape(1,-1))\n",
    "# df          "
   ]
  },
  {
   "cell_type": "code",
   "execution_count": 258,
   "id": "martial-lebanon",
   "metadata": {},
   "outputs": [],
   "source": [
    "y= np.array(df_1.label)"
   ]
  },
  {
   "cell_type": "code",
   "execution_count": 259,
   "id": "olive-danger",
   "metadata": {},
   "outputs": [],
   "source": [
    "df_1.drop('label', axis=1,inplace= True)"
   ]
  },
  {
   "cell_type": "code",
   "execution_count": 260,
   "id": "portable-percentage",
   "metadata": {},
   "outputs": [
    {
     "data": {
      "text/plain": [
       "(661, 3675)"
      ]
     },
     "execution_count": 260,
     "metadata": {},
     "output_type": "execute_result"
    }
   ],
   "source": [
    "df_1.shape"
   ]
  },
  {
   "cell_type": "code",
   "execution_count": 261,
   "id": "female-receptor",
   "metadata": {},
   "outputs": [
    {
     "data": {
      "text/plain": [
       "(35, 35, 3)"
      ]
     },
     "execution_count": 261,
     "metadata": {},
     "output_type": "execute_result"
    }
   ],
   "source": [
    "resized_img.shape"
   ]
  },
  {
   "cell_type": "code",
   "execution_count": 262,
   "id": "toxic-jones",
   "metadata": {},
   "outputs": [
    {
     "data": {
      "text/plain": [
       "(661, 35, 35, 3)"
      ]
     },
     "execution_count": 262,
     "metadata": {},
     "output_type": "execute_result"
    }
   ],
   "source": [
    "X = np.array(df_1).reshape(df_1.shape[0],resized_img.shape[0],resized_img.shape[1],resized_img.shape[2])\n",
    "X.shape"
   ]
  },
  {
   "cell_type": "code",
   "execution_count": 263,
   "id": "diagnostic-union",
   "metadata": {},
   "outputs": [
    {
     "data": {
      "image/png": "[encoded data removed]",
      "text/plain": [
       "<PIL.Image.Image image mode=RGB size=35x35>"
      ]
     },
     "execution_count": 263,
     "metadata": {},
     "output_type": "execute_result"
    }
   ],
   "source": [
    "data = PIL.Image.fromarray(X[1])\n",
    "data"
   ]
  },
  {
   "cell_type": "code",
   "execution_count": 292,
   "id": "collected-pilot",
   "metadata": {},
   "outputs": [
    {
     "data": {
      "image/png": "[encoded data removed]",
      "text/plain": [
       "<Figure size 432x432 with 12 Axes>"
      ]
     },
     "metadata": {
      "needs_background": "light"
     },
     "output_type": "display_data"
    }
   ],
   "source": [
    "plt.figure(figsize = (6, 6))\n",
    "\n",
    "for i in range(12):\n",
    "    plt.subplot(4, 4, i+1).set_title(f'{y[i]}')\n",
    "    RGB_img = cv2.cvtColor(np.squeeze(X[i]), cv2.COLOR_BGR2RGB)\n",
    "    plt.imshow (RGB_img)\n",
    "    plt.axis('off')\n",
    "\n",
    "plt.tight_layout()\n",
    "plt.savefig('7_layer_method_subplot.png', dpi=300)"
   ]
  },
  {
   "cell_type": "code",
   "execution_count": 265,
   "id": "allied-examination",
   "metadata": {},
   "outputs": [
    {
     "data": {
      "text/plain": [
       "2"
      ]
     },
     "execution_count": 265,
     "metadata": {},
     "output_type": "execute_result"
    }
   ],
   "source": [
    "y[599]"
   ]
  },
  {
   "cell_type": "code",
   "execution_count": 266,
   "id": "secret-coordinate",
   "metadata": {},
   "outputs": [
    {
     "data": {
      "text/plain": [
       "(661, 35, 35, 3)"
      ]
     },
     "execution_count": 266,
     "metadata": {},
     "output_type": "execute_result"
    }
   ],
   "source": [
    "X.shape"
   ]
  },
  {
   "cell_type": "code",
   "execution_count": 267,
   "id": "international-permit",
   "metadata": {},
   "outputs": [
    {
     "data": {
      "text/plain": [
       "(661, 661)"
      ]
     },
     "execution_count": 267,
     "metadata": {},
     "output_type": "execute_result"
    }
   ],
   "source": [
    "len(X), len(y)"
   ]
  },
  {
   "cell_type": "code",
   "execution_count": 268,
   "id": "opposed-highland",
   "metadata": {},
   "outputs": [],
   "source": [
    "#Train test split\n",
    "from sklearn.model_selection import train_test_split\n",
    "X_train, X_test, y_train, y_test = train_test_split(X, y, test_size= 0.10,random_state=42, stratify= y)"
   ]
  },
  {
   "cell_type": "code",
   "execution_count": 269,
   "id": "aggregate-charger",
   "metadata": {},
   "outputs": [
    {
     "data": {
      "text/plain": [
       "(594, 35, 35, 3)"
      ]
     },
     "execution_count": 269,
     "metadata": {},
     "output_type": "execute_result"
    }
   ],
   "source": [
    "X_train.shape"
   ]
  },
  {
   "cell_type": "code",
   "execution_count": 270,
   "id": "divided-sampling",
   "metadata": {},
   "outputs": [
    {
     "data": {
      "text/plain": [
       "(67, 35, 35, 3)"
      ]
     },
     "execution_count": 270,
     "metadata": {},
     "output_type": "execute_result"
    }
   ],
   "source": [
    "X_test.shape"
   ]
  },
  {
   "cell_type": "code",
   "execution_count": 271,
   "id": "meaningful-present",
   "metadata": {},
   "outputs": [
    {
     "data": {
      "text/plain": [
       "594"
      ]
     },
     "execution_count": 271,
     "metadata": {},
     "output_type": "execute_result"
    }
   ],
   "source": [
    "len(X_train)"
   ]
  },
  {
   "cell_type": "code",
   "execution_count": 272,
   "id": "lesser-stereo",
   "metadata": {
    "scrolled": true
   },
   "outputs": [
    {
     "name": "stdout",
     "output_type": "stream",
     "text": [
      "Train tensor shape:  (594, 35, 35, 3)\n",
      "Test tensor shape:  (67, 35, 35, 3)\n",
      "Single image shape: (35, 35, 3)\n",
      "Train_labels shape: (594,)\n",
      "Test_labels shape: (67,)\n"
     ]
    }
   ],
   "source": [
    "#Print shapes\n",
    "print('Train tensor shape: ',X_train.shape)\n",
    "print('Test tensor shape: ',X_test.shape)\n",
    "print('Single image shape:', X_train[0].shape)\n",
    "print('Train_labels shape:', y_train.shape)\n",
    "print('Test_labels shape:', y_test.shape)"
   ]
  },
  {
   "cell_type": "code",
   "execution_count": 273,
   "id": "lesbian-currency",
   "metadata": {},
   "outputs": [],
   "source": [
    "#scaling data from 0 to 1\n",
    "X_train_scaled = X_train/255.0\n",
    "X_test_scaled = X_test/255.0"
   ]
  },
  {
   "cell_type": "code",
   "execution_count": 274,
   "id": "infrared-photography",
   "metadata": {},
   "outputs": [
    {
     "data": {
      "text/plain": [
       "(35, 35, 3)"
      ]
     },
     "execution_count": 274,
     "metadata": {},
     "output_type": "execute_result"
    }
   ],
   "source": [
    "X_train_scaled[101].shape"
   ]
  },
  {
   "cell_type": "code",
   "execution_count": 275,
   "id": "peaceful-shareware",
   "metadata": {},
   "outputs": [
    {
     "data": {
      "text/plain": [
       "array([2, 3, 1, 3, 0, 3, 6, 2, 6, 5], dtype=int64)"
      ]
     },
     "execution_count": 275,
     "metadata": {},
     "output_type": "execute_result"
    }
   ],
   "source": [
    "y_test[10:20]"
   ]
  },
  {
   "cell_type": "code",
   "execution_count": 276,
   "id": "median-handle",
   "metadata": {},
   "outputs": [
    {
     "name": "stdout",
     "output_type": "stream",
     "text": [
      "Model: \"sequential_2\"\n",
      "_________________________________________________________________\n",
      " Layer (type)                Output Shape              Param #   \n",
      "=================================================================\n",
      " conv2d_8 (Conv2D)           (None, 35, 35, 8)         224       \n",
      "                                                                 \n",
      " max_pooling2d_8 (MaxPooling  (None, 17, 17, 8)        0         \n",
      " 2D)                                                             \n",
      "                                                                 \n",
      " conv2d_9 (Conv2D)           (None, 17, 17, 16)        1168      \n",
      "                                                                 \n",
      " max_pooling2d_9 (MaxPooling  (None, 8, 8, 16)         0         \n",
      " 2D)                                                             \n",
      "                                                                 \n",
      " dropout_10 (Dropout)        (None, 8, 8, 16)          0         \n",
      "                                                                 \n",
      " conv2d_10 (Conv2D)          (None, 8, 8, 32)          4640      \n",
      "                                                                 \n",
      " max_pooling2d_10 (MaxPoolin  (None, 4, 4, 32)         0         \n",
      " g2D)                                                            \n",
      "                                                                 \n",
      " dropout_11 (Dropout)        (None, 4, 4, 32)          0         \n",
      "                                                                 \n",
      " conv2d_11 (Conv2D)          (None, 4, 4, 64)          18496     \n",
      "                                                                 \n",
      " max_pooling2d_11 (MaxPoolin  (None, 2, 2, 64)         0         \n",
      " g2D)                                                            \n",
      "                                                                 \n",
      " dropout_12 (Dropout)        (None, 2, 2, 64)          0         \n",
      "                                                                 \n",
      " flatten_2 (Flatten)         (None, 256)               0         \n",
      "                                                                 \n",
      " dense_6 (Dense)             (None, 128)               32896     \n",
      "                                                                 \n",
      " dropout_13 (Dropout)        (None, 128)               0         \n",
      "                                                                 \n",
      " dense_7 (Dense)             (None, 256)               33024     \n",
      "                                                                 \n",
      " dropout_14 (Dropout)        (None, 256)               0         \n",
      "                                                                 \n",
      " dense_8 (Dense)             (None, 7)                 1799      \n",
      "                                                                 \n",
      "=================================================================\n",
      "Total params: 92,247\n",
      "Trainable params: 92,247\n",
      "Non-trainable params: 0\n",
      "_________________________________________________________________\n"
     ]
    }
   ],
   "source": [
    "#Building a model\n",
    "tf.random.set_seed(42)\n",
    "model_2 = tf.keras.Sequential([\n",
    "\n",
    "    tf.keras.layers.Conv2D(filters=8, kernel_size=3, strides=1, padding=\"same\", activation='relu',kernel_initializer='he_normal',\n",
    "                           input_shape=(X_train_scaled[0].shape)),\n",
    "    tf.keras.layers.MaxPool2D(pool_size=2),\n",
    "    \n",
    "    tf.keras.layers.Conv2D(16,3, padding=\"same\", activation='relu',kernel_initializer='he_normal',),\n",
    "    tf.keras.layers.MaxPool2D(pool_size=2),\n",
    "    tf.keras.layers.Dropout(0.2),\n",
    "\n",
    "    tf.keras.layers.Conv2D(32,3, padding=\"same\",activation='relu',kernel_initializer='he_normal'),\n",
    "    tf.keras.layers.MaxPool2D(pool_size=2),\n",
    "    tf.keras.layers.Dropout(0.2),\n",
    "\n",
    "    tf.keras.layers.Conv2D(64,3, padding=\"same\",activation='relu',kernel_initializer='he_normal', ),\n",
    "    tf.keras.layers.MaxPool2D(pool_size=2),\n",
    "    tf.keras.layers.Dropout(0.2),\n",
    "\n",
    "    tf.keras.layers.Flatten(),\n",
    "    tf.keras.layers.Dense(128,kernel_initializer='normal',activation='relu'),\n",
    "    tf.keras.layers.Dropout(0.2),\n",
    "\n",
    "    tf.keras.layers.Dense(256,kernel_initializer='normal',activation='relu'),#kernel_initializer='normal'\n",
    "    tf.keras.layers.Dropout(0.2),\n",
    "    \n",
    "    tf.keras.layers.Dense(7, activation= 'softmax') #Output layer\n",
    "])\n",
    "model_2.summary()"
   ]
  },
  {
   "cell_type": "code",
   "execution_count": 277,
   "id": "standing-mechanics",
   "metadata": {},
   "outputs": [
    {
     "name": "stdout",
     "output_type": "stream",
     "text": [
      "Epoch 1/200\n",
      "8/8 [==============================] - 1s 41ms/step - loss: 2.0150 - accuracy: 0.1389 - val_loss: 1.9301 - val_accuracy: 0.1681\n",
      "Epoch 2/200\n",
      "8/8 [==============================] - 0s 22ms/step - loss: 1.9499 - accuracy: 0.1579 - val_loss: 1.9369 - val_accuracy: 0.1849\n",
      "Epoch 3/200\n",
      "8/8 [==============================] - 0s 15ms/step - loss: 1.9445 - accuracy: 0.1495 - val_loss: 1.9268 - val_accuracy: 0.1765\n",
      "Epoch 4/200\n",
      "8/8 [==============================] - 0s 14ms/step - loss: 1.9393 - accuracy: 0.1579 - val_loss: 1.9223 - val_accuracy: 0.1513\n",
      "Epoch 5/200\n",
      "8/8 [==============================] - 0s 14ms/step - loss: 1.9287 - accuracy: 0.1642 - val_loss: 1.9196 - val_accuracy: 0.1008\n",
      "Epoch 6/200\n",
      "8/8 [==============================] - 0s 8ms/step - loss: 1.9408 - accuracy: 0.1642 - val_loss: 1.9235 - val_accuracy: 0.1008\n",
      "Epoch 7/200\n",
      "8/8 [==============================] - 0s 9ms/step - loss: 1.9249 - accuracy: 0.1789 - val_loss: 1.9235 - val_accuracy: 0.1008\n",
      "Epoch 8/200\n",
      "8/8 [==============================] - 0s 8ms/step - loss: 1.9282 - accuracy: 0.1558 - val_loss: 1.9182 - val_accuracy: 0.1092\n",
      "Epoch 9/200\n",
      "8/8 [==============================] - 0s 8ms/step - loss: 1.9257 - accuracy: 0.1853 - val_loss: 1.9088 - val_accuracy: 0.1261\n",
      "Epoch 10/200\n",
      "8/8 [==============================] - 0s 9ms/step - loss: 1.9254 - accuracy: 0.1768 - val_loss: 1.8994 - val_accuracy: 0.4538\n",
      "Epoch 11/200\n",
      "8/8 [==============================] - 0s 8ms/step - loss: 1.9168 - accuracy: 0.1811 - val_loss: 1.8825 - val_accuracy: 0.4790\n",
      "Epoch 12/200\n",
      "8/8 [==============================] - 0s 8ms/step - loss: 1.8850 - accuracy: 0.2379 - val_loss: 1.8375 - val_accuracy: 0.4118\n",
      "Epoch 13/200\n",
      "8/8 [==============================] - 0s 8ms/step - loss: 1.8445 - accuracy: 0.2611 - val_loss: 1.7383 - val_accuracy: 0.3277\n",
      "Epoch 14/200\n",
      "8/8 [==============================] - 0s 8ms/step - loss: 1.7203 - accuracy: 0.3158 - val_loss: 1.5701 - val_accuracy: 0.3277\n",
      "Epoch 15/200\n",
      "8/8 [==============================] - 0s 8ms/step - loss: 1.5628 - accuracy: 0.3242 - val_loss: 1.4985 - val_accuracy: 0.3193\n",
      "Epoch 16/200\n",
      "8/8 [==============================] - 0s 8ms/step - loss: 1.5080 - accuracy: 0.3516 - val_loss: 1.4899 - val_accuracy: 0.4202\n",
      "Epoch 17/200\n",
      "8/8 [==============================] - 0s 8ms/step - loss: 1.4431 - accuracy: 0.3516 - val_loss: 1.3792 - val_accuracy: 0.4034\n",
      "Epoch 18/200\n",
      "8/8 [==============================] - 0s 8ms/step - loss: 1.3876 - accuracy: 0.3832 - val_loss: 1.3606 - val_accuracy: 0.4790\n",
      "Epoch 19/200\n",
      "8/8 [==============================] - 0s 8ms/step - loss: 1.3556 - accuracy: 0.3937 - val_loss: 1.2337 - val_accuracy: 0.5714\n",
      "Epoch 20/200\n",
      "8/8 [==============================] - 0s 8ms/step - loss: 1.2757 - accuracy: 0.4695 - val_loss: 1.1196 - val_accuracy: 0.5210\n",
      "Epoch 21/200\n",
      "8/8 [==============================] - 0s 8ms/step - loss: 1.1807 - accuracy: 0.5200 - val_loss: 1.0214 - val_accuracy: 0.5798\n",
      "Epoch 22/200\n",
      "8/8 [==============================] - 0s 9ms/step - loss: 1.0825 - accuracy: 0.5537 - val_loss: 1.0100 - val_accuracy: 0.5210\n",
      "Epoch 23/200\n",
      "8/8 [==============================] - 0s 9ms/step - loss: 1.0596 - accuracy: 0.5768 - val_loss: 0.9297 - val_accuracy: 0.5630\n",
      "Epoch 24/200\n",
      "8/8 [==============================] - 0s 9ms/step - loss: 1.0008 - accuracy: 0.5895 - val_loss: 0.8783 - val_accuracy: 0.6387\n",
      "Epoch 25/200\n",
      "8/8 [==============================] - 0s 8ms/step - loss: 0.9287 - accuracy: 0.6126 - val_loss: 0.8256 - val_accuracy: 0.6050\n",
      "Epoch 26/200\n",
      "8/8 [==============================] - 0s 8ms/step - loss: 0.9088 - accuracy: 0.6253 - val_loss: 0.7691 - val_accuracy: 0.6639\n",
      "Epoch 27/200\n",
      "8/8 [==============================] - 0s 9ms/step - loss: 0.8440 - accuracy: 0.6421 - val_loss: 0.7402 - val_accuracy: 0.7899\n",
      "Epoch 28/200\n",
      "8/8 [==============================] - 0s 8ms/step - loss: 0.8653 - accuracy: 0.6526 - val_loss: 0.6908 - val_accuracy: 0.7395\n",
      "Epoch 29/200\n",
      "8/8 [==============================] - 0s 8ms/step - loss: 0.8257 - accuracy: 0.6653 - val_loss: 0.6630 - val_accuracy: 0.8151\n",
      "Epoch 30/200\n",
      "8/8 [==============================] - 0s 8ms/step - loss: 0.7347 - accuracy: 0.7053 - val_loss: 0.6456 - val_accuracy: 0.8319\n",
      "Epoch 31/200\n",
      "8/8 [==============================] - 0s 8ms/step - loss: 0.7399 - accuracy: 0.7263 - val_loss: 0.5982 - val_accuracy: 0.7395\n",
      "Epoch 32/200\n",
      "8/8 [==============================] - 0s 8ms/step - loss: 0.7039 - accuracy: 0.7474 - val_loss: 0.5268 - val_accuracy: 0.8487\n",
      "Epoch 33/200\n",
      "8/8 [==============================] - 0s 8ms/step - loss: 0.6672 - accuracy: 0.7726 - val_loss: 0.4868 - val_accuracy: 0.8739\n",
      "Epoch 34/200\n",
      "8/8 [==============================] - 0s 8ms/step - loss: 0.5960 - accuracy: 0.8126 - val_loss: 0.4975 - val_accuracy: 0.8655\n",
      "Epoch 35/200\n",
      "8/8 [==============================] - 0s 8ms/step - loss: 0.6616 - accuracy: 0.7432 - val_loss: 0.5333 - val_accuracy: 0.7899\n",
      "Epoch 36/200\n",
      "8/8 [==============================] - 0s 8ms/step - loss: 0.6435 - accuracy: 0.7558 - val_loss: 0.4851 - val_accuracy: 0.8908\n",
      "Epoch 37/200\n",
      "8/8 [==============================] - 0s 8ms/step - loss: 0.6206 - accuracy: 0.7832 - val_loss: 0.6440 - val_accuracy: 0.6975\n",
      "Epoch 38/200\n",
      "8/8 [==============================] - 0s 8ms/step - loss: 0.5817 - accuracy: 0.7937 - val_loss: 0.4442 - val_accuracy: 0.8739\n",
      "Epoch 39/200\n",
      "8/8 [==============================] - 0s 8ms/step - loss: 0.5023 - accuracy: 0.8337 - val_loss: 0.4067 - val_accuracy: 0.8908\n",
      "Epoch 40/200\n",
      "8/8 [==============================] - 0s 8ms/step - loss: 0.5157 - accuracy: 0.8316 - val_loss: 0.4106 - val_accuracy: 0.8824\n",
      "Epoch 41/200\n",
      "8/8 [==============================] - 0s 8ms/step - loss: 0.5056 - accuracy: 0.8442 - val_loss: 0.3989 - val_accuracy: 0.8908\n",
      "Epoch 42/200\n",
      "8/8 [==============================] - 0s 8ms/step - loss: 0.5304 - accuracy: 0.7979 - val_loss: 0.3739 - val_accuracy: 0.8992\n",
      "Epoch 43/200\n",
      "8/8 [==============================] - 0s 9ms/step - loss: 0.4623 - accuracy: 0.8421 - val_loss: 0.3683 - val_accuracy: 0.8992\n",
      "Epoch 44/200\n",
      "8/8 [==============================] - 0s 8ms/step - loss: 0.4502 - accuracy: 0.8526 - val_loss: 0.3571 - val_accuracy: 0.8739\n",
      "Epoch 45/200\n",
      "8/8 [==============================] - 0s 8ms/step - loss: 0.4203 - accuracy: 0.8547 - val_loss: 0.3692 - val_accuracy: 0.8739\n",
      "Epoch 46/200\n",
      "8/8 [==============================] - 0s 9ms/step - loss: 0.4120 - accuracy: 0.8674 - val_loss: 0.3700 - val_accuracy: 0.8824\n",
      "Epoch 47/200\n",
      "8/8 [==============================] - 0s 9ms/step - loss: 0.4109 - accuracy: 0.8589 - val_loss: 0.3578 - val_accuracy: 0.8824\n",
      "Epoch 48/200\n",
      "8/8 [==============================] - 0s 8ms/step - loss: 0.4026 - accuracy: 0.8547 - val_loss: 0.3631 - val_accuracy: 0.8992\n",
      "Epoch 49/200\n",
      "8/8 [==============================] - 0s 8ms/step - loss: 0.4132 - accuracy: 0.8505 - val_loss: 0.4358 - val_accuracy: 0.8739\n",
      "Epoch 50/200\n",
      "8/8 [==============================] - 0s 8ms/step - loss: 0.4528 - accuracy: 0.8442 - val_loss: 0.3529 - val_accuracy: 0.9244\n",
      "Epoch 51/200\n",
      "8/8 [==============================] - 0s 8ms/step - loss: 0.4096 - accuracy: 0.8716 - val_loss: 0.3394 - val_accuracy: 0.9076\n",
      "Epoch 52/200\n",
      "8/8 [==============================] - 0s 8ms/step - loss: 0.3991 - accuracy: 0.8611 - val_loss: 0.3492 - val_accuracy: 0.9328\n",
      "Epoch 53/200\n",
      "8/8 [==============================] - 0s 9ms/step - loss: 0.3652 - accuracy: 0.8821 - val_loss: 0.3303 - val_accuracy: 0.9328\n",
      "Epoch 54/200\n",
      "8/8 [==============================] - 0s 8ms/step - loss: 0.3716 - accuracy: 0.8716 - val_loss: 0.3646 - val_accuracy: 0.9076\n",
      "Epoch 55/200\n",
      "8/8 [==============================] - 0s 8ms/step - loss: 0.3958 - accuracy: 0.8674 - val_loss: 0.3225 - val_accuracy: 0.9580\n",
      "Epoch 56/200\n",
      "8/8 [==============================] - 0s 8ms/step - loss: 0.3614 - accuracy: 0.8800 - val_loss: 0.3148 - val_accuracy: 0.9076\n",
      "Epoch 57/200\n",
      "8/8 [==============================] - 0s 8ms/step - loss: 0.3659 - accuracy: 0.8758 - val_loss: 0.3165 - val_accuracy: 0.9328\n",
      "Epoch 58/200\n",
      "8/8 [==============================] - 0s 8ms/step - loss: 0.3146 - accuracy: 0.8947 - val_loss: 0.3100 - val_accuracy: 0.9412\n",
      "Epoch 59/200\n",
      "8/8 [==============================] - 0s 8ms/step - loss: 0.3231 - accuracy: 0.8926 - val_loss: 0.3127 - val_accuracy: 0.9412\n",
      "Epoch 60/200\n",
      "8/8 [==============================] - 0s 8ms/step - loss: 0.3205 - accuracy: 0.8968 - val_loss: 0.2938 - val_accuracy: 0.9412\n",
      "Epoch 61/200\n",
      "8/8 [==============================] - 0s 8ms/step - loss: 0.3247 - accuracy: 0.8989 - val_loss: 0.3076 - val_accuracy: 0.9328\n",
      "Epoch 62/200\n",
      "8/8 [==============================] - 0s 8ms/step - loss: 0.2901 - accuracy: 0.8989 - val_loss: 0.2976 - val_accuracy: 0.9496\n",
      "Epoch 63/200\n",
      "8/8 [==============================] - 0s 8ms/step - loss: 0.3443 - accuracy: 0.8863 - val_loss: 0.3044 - val_accuracy: 0.9412\n",
      "Epoch 64/200\n",
      "8/8 [==============================] - 0s 8ms/step - loss: 0.3241 - accuracy: 0.8821 - val_loss: 0.2948 - val_accuracy: 0.9328\n",
      "Epoch 65/200\n",
      "8/8 [==============================] - 0s 8ms/step - loss: 0.2861 - accuracy: 0.9074 - val_loss: 0.2952 - val_accuracy: 0.9496\n",
      "Epoch 66/200\n",
      "8/8 [==============================] - 0s 8ms/step - loss: 0.3252 - accuracy: 0.8968 - val_loss: 0.3064 - val_accuracy: 0.9496\n",
      "Epoch 67/200\n",
      "8/8 [==============================] - 0s 9ms/step - loss: 0.3246 - accuracy: 0.8926 - val_loss: 0.3511 - val_accuracy: 0.8992\n",
      "Epoch 68/200\n",
      "8/8 [==============================] - 0s 9ms/step - loss: 0.2872 - accuracy: 0.9032 - val_loss: 0.3108 - val_accuracy: 0.9328\n",
      "Epoch 69/200\n",
      "8/8 [==============================] - 0s 8ms/step - loss: 0.3409 - accuracy: 0.8758 - val_loss: 0.3400 - val_accuracy: 0.9328\n",
      "Epoch 70/200\n",
      "8/8 [==============================] - 0s 8ms/step - loss: 0.2934 - accuracy: 0.9011 - val_loss: 0.2969 - val_accuracy: 0.9496\n",
      "Epoch 71/200\n",
      "8/8 [==============================] - 0s 8ms/step - loss: 0.3268 - accuracy: 0.8842 - val_loss: 0.3243 - val_accuracy: 0.9580\n",
      "Epoch 72/200\n",
      "8/8 [==============================] - 0s 8ms/step - loss: 0.3138 - accuracy: 0.9095 - val_loss: 0.2980 - val_accuracy: 0.9412\n",
      "Epoch 73/200\n",
      "8/8 [==============================] - 0s 8ms/step - loss: 0.2678 - accuracy: 0.9074 - val_loss: 0.3019 - val_accuracy: 0.9496\n",
      "Epoch 74/200\n",
      "8/8 [==============================] - 0s 8ms/step - loss: 0.3143 - accuracy: 0.8926 - val_loss: 0.2901 - val_accuracy: 0.9496\n",
      "Epoch 75/200\n",
      "8/8 [==============================] - 0s 8ms/step - loss: 0.2844 - accuracy: 0.9137 - val_loss: 0.2918 - val_accuracy: 0.9496\n",
      "Epoch 76/200\n",
      "8/8 [==============================] - 0s 8ms/step - loss: 0.2939 - accuracy: 0.8947 - val_loss: 0.2895 - val_accuracy: 0.9496\n",
      "Epoch 77/200\n",
      "8/8 [==============================] - 0s 9ms/step - loss: 0.2832 - accuracy: 0.9179 - val_loss: 0.2859 - val_accuracy: 0.9496\n",
      "Epoch 78/200\n",
      "8/8 [==============================] - 0s 8ms/step - loss: 0.2900 - accuracy: 0.8989 - val_loss: 0.2996 - val_accuracy: 0.9328\n",
      "Epoch 79/200\n",
      "8/8 [==============================] - 0s 9ms/step - loss: 0.2575 - accuracy: 0.9263 - val_loss: 0.2939 - val_accuracy: 0.9580\n",
      "Epoch 80/200\n",
      "8/8 [==============================] - 0s 9ms/step - loss: 0.2533 - accuracy: 0.9179 - val_loss: 0.2884 - val_accuracy: 0.9496\n",
      "Epoch 81/200\n",
      "8/8 [==============================] - 0s 9ms/step - loss: 0.2517 - accuracy: 0.9221 - val_loss: 0.2951 - val_accuracy: 0.9580\n",
      "Epoch 82/200\n",
      "8/8 [==============================] - 0s 8ms/step - loss: 0.2845 - accuracy: 0.9032 - val_loss: 0.2907 - val_accuracy: 0.9580\n",
      "Epoch 83/200\n",
      "8/8 [==============================] - 0s 8ms/step - loss: 0.2610 - accuracy: 0.9074 - val_loss: 0.3114 - val_accuracy: 0.9412\n",
      "Epoch 84/200\n",
      "8/8 [==============================] - 0s 8ms/step - loss: 0.2802 - accuracy: 0.9032 - val_loss: 0.2892 - val_accuracy: 0.9496\n",
      "Epoch 85/200\n",
      "8/8 [==============================] - 0s 8ms/step - loss: 0.2501 - accuracy: 0.9158 - val_loss: 0.2853 - val_accuracy: 0.9496\n",
      "Epoch 86/200\n",
      "8/8 [==============================] - 0s 8ms/step - loss: 0.2702 - accuracy: 0.9053 - val_loss: 0.3060 - val_accuracy: 0.9412\n",
      "Epoch 87/200\n",
      "8/8 [==============================] - 0s 8ms/step - loss: 0.2606 - accuracy: 0.9158 - val_loss: 0.2947 - val_accuracy: 0.9496\n",
      "Epoch 88/200\n",
      "8/8 [==============================] - 0s 8ms/step - loss: 0.2485 - accuracy: 0.9137 - val_loss: 0.3037 - val_accuracy: 0.9496\n",
      "Epoch 89/200\n",
      "8/8 [==============================] - 0s 8ms/step - loss: 0.2593 - accuracy: 0.9179 - val_loss: 0.3169 - val_accuracy: 0.9496\n",
      "Epoch 90/200\n",
      "8/8 [==============================] - 0s 8ms/step - loss: 0.2828 - accuracy: 0.9095 - val_loss: 0.2962 - val_accuracy: 0.9496\n",
      "Epoch 91/200\n",
      "8/8 [==============================] - 0s 8ms/step - loss: 0.2366 - accuracy: 0.9263 - val_loss: 0.3193 - val_accuracy: 0.9244\n",
      "Epoch 92/200\n",
      "8/8 [==============================] - 0s 8ms/step - loss: 0.2285 - accuracy: 0.9221 - val_loss: 0.3023 - val_accuracy: 0.9496\n",
      "Epoch 93/200\n",
      "8/8 [==============================] - 0s 8ms/step - loss: 0.2507 - accuracy: 0.9200 - val_loss: 0.3219 - val_accuracy: 0.9328\n",
      "Epoch 94/200\n",
      "8/8 [==============================] - 0s 8ms/step - loss: 0.2345 - accuracy: 0.9200 - val_loss: 0.2983 - val_accuracy: 0.9496\n",
      "Epoch 95/200\n",
      "8/8 [==============================] - 0s 8ms/step - loss: 0.2343 - accuracy: 0.9179 - val_loss: 0.3237 - val_accuracy: 0.9496\n",
      "Epoch 96/200\n",
      "8/8 [==============================] - 0s 8ms/step - loss: 0.2363 - accuracy: 0.9221 - val_loss: 0.3143 - val_accuracy: 0.9496\n",
      "Epoch 97/200\n",
      "8/8 [==============================] - 0s 8ms/step - loss: 0.2672 - accuracy: 0.9200 - val_loss: 0.3039 - val_accuracy: 0.9412\n",
      "Epoch 98/200\n",
      "8/8 [==============================] - 0s 8ms/step - loss: 0.2366 - accuracy: 0.9179 - val_loss: 0.3045 - val_accuracy: 0.9496\n",
      "Epoch 99/200\n",
      "8/8 [==============================] - 0s 8ms/step - loss: 0.2416 - accuracy: 0.9305 - val_loss: 0.3142 - val_accuracy: 0.9496\n",
      "Epoch 100/200\n",
      "8/8 [==============================] - 0s 8ms/step - loss: 0.2311 - accuracy: 0.9200 - val_loss: 0.2916 - val_accuracy: 0.9496\n",
      "Epoch 101/200\n",
      "8/8 [==============================] - 0s 8ms/step - loss: 0.2295 - accuracy: 0.9263 - val_loss: 0.3207 - val_accuracy: 0.9496\n",
      "Epoch 102/200\n",
      "8/8 [==============================] - 0s 8ms/step - loss: 0.2431 - accuracy: 0.9200 - val_loss: 0.3122 - val_accuracy: 0.9496\n",
      "Epoch 103/200\n",
      "8/8 [==============================] - 0s 8ms/step - loss: 0.2409 - accuracy: 0.9200 - val_loss: 0.2995 - val_accuracy: 0.9496\n",
      "Epoch 104/200\n",
      "8/8 [==============================] - 0s 8ms/step - loss: 0.2328 - accuracy: 0.9263 - val_loss: 0.3101 - val_accuracy: 0.9496\n",
      "Epoch 105/200\n",
      "8/8 [==============================] - 0s 10ms/step - loss: 0.2468 - accuracy: 0.9221 - val_loss: 0.2958 - val_accuracy: 0.9496\n",
      "Epoch 106/200\n",
      "8/8 [==============================] - 0s 9ms/step - loss: 0.2262 - accuracy: 0.9326 - val_loss: 0.2984 - val_accuracy: 0.9496\n",
      "Epoch 107/200\n",
      "8/8 [==============================] - 0s 10ms/step - loss: 0.2168 - accuracy: 0.9347 - val_loss: 0.3000 - val_accuracy: 0.9580\n",
      "Epoch 108/200\n",
      "8/8 [==============================] - 0s 12ms/step - loss: 0.2274 - accuracy: 0.9305 - val_loss: 0.2999 - val_accuracy: 0.9496\n",
      "Epoch 109/200\n",
      "8/8 [==============================] - 0s 9ms/step - loss: 0.2012 - accuracy: 0.9411 - val_loss: 0.3055 - val_accuracy: 0.9496\n",
      "Epoch 110/200\n",
      "8/8 [==============================] - 0s 8ms/step - loss: 0.2128 - accuracy: 0.9326 - val_loss: 0.3112 - val_accuracy: 0.9496\n",
      "Epoch 111/200\n",
      "8/8 [==============================] - 0s 9ms/step - loss: 0.2217 - accuracy: 0.9326 - val_loss: 0.2946 - val_accuracy: 0.9496\n",
      "Epoch 112/200\n",
      "8/8 [==============================] - 0s 8ms/step - loss: 0.2173 - accuracy: 0.9368 - val_loss: 0.3222 - val_accuracy: 0.9496\n",
      "Epoch 113/200\n",
      "8/8 [==============================] - 0s 8ms/step - loss: 0.2167 - accuracy: 0.9284 - val_loss: 0.3238 - val_accuracy: 0.9496\n",
      "Epoch 114/200\n",
      "8/8 [==============================] - 0s 8ms/step - loss: 0.2054 - accuracy: 0.9411 - val_loss: 0.3237 - val_accuracy: 0.9496\n",
      "Epoch 115/200\n",
      "8/8 [==============================] - 0s 8ms/step - loss: 0.2170 - accuracy: 0.9411 - val_loss: 0.3047 - val_accuracy: 0.9580\n",
      "Epoch 116/200\n",
      "8/8 [==============================] - 0s 8ms/step - loss: 0.2076 - accuracy: 0.9347 - val_loss: 0.3180 - val_accuracy: 0.9580\n",
      "Epoch 117/200\n"
     ]
    },
    {
     "name": "stdout",
     "output_type": "stream",
     "text": [
      "8/8 [==============================] - 0s 8ms/step - loss: 0.2040 - accuracy: 0.9326 - val_loss: 0.3213 - val_accuracy: 0.9580\n",
      "Epoch 118/200\n",
      "8/8 [==============================] - 0s 8ms/step - loss: 0.2161 - accuracy: 0.9305 - val_loss: 0.3206 - val_accuracy: 0.9496\n",
      "Epoch 119/200\n",
      "8/8 [==============================] - 0s 8ms/step - loss: 0.1982 - accuracy: 0.9368 - val_loss: 0.3341 - val_accuracy: 0.9496\n",
      "Epoch 120/200\n",
      "8/8 [==============================] - 0s 8ms/step - loss: 0.1958 - accuracy: 0.9432 - val_loss: 0.3305 - val_accuracy: 0.9496\n",
      "Epoch 121/200\n",
      "8/8 [==============================] - 0s 8ms/step - loss: 0.2487 - accuracy: 0.9263 - val_loss: 0.3153 - val_accuracy: 0.9496\n",
      "Epoch 122/200\n",
      "8/8 [==============================] - 0s 8ms/step - loss: 0.1892 - accuracy: 0.9326 - val_loss: 0.3148 - val_accuracy: 0.9496\n",
      "Epoch 123/200\n",
      "8/8 [==============================] - 0s 8ms/step - loss: 0.2004 - accuracy: 0.9389 - val_loss: 0.3152 - val_accuracy: 0.9580\n",
      "Epoch 124/200\n",
      "8/8 [==============================] - 0s 8ms/step - loss: 0.2224 - accuracy: 0.9263 - val_loss: 0.3305 - val_accuracy: 0.9496\n",
      "Epoch 125/200\n",
      "8/8 [==============================] - 0s 9ms/step - loss: 0.2064 - accuracy: 0.9368 - val_loss: 0.3329 - val_accuracy: 0.9580\n",
      "Epoch 126/200\n",
      "8/8 [==============================] - 0s 9ms/step - loss: 0.1905 - accuracy: 0.9347 - val_loss: 0.3003 - val_accuracy: 0.9496\n",
      "Epoch 127/200\n",
      "8/8 [==============================] - 0s 8ms/step - loss: 0.2081 - accuracy: 0.9284 - val_loss: 0.3039 - val_accuracy: 0.9496\n",
      "Epoch 128/200\n",
      "8/8 [==============================] - 0s 8ms/step - loss: 0.2134 - accuracy: 0.9305 - val_loss: 0.3133 - val_accuracy: 0.9496\n",
      "Epoch 129/200\n",
      "8/8 [==============================] - 0s 8ms/step - loss: 0.1804 - accuracy: 0.9432 - val_loss: 0.3206 - val_accuracy: 0.9496\n",
      "Epoch 130/200\n",
      "8/8 [==============================] - 0s 8ms/step - loss: 0.2163 - accuracy: 0.9284 - val_loss: 0.2972 - val_accuracy: 0.9580\n",
      "Epoch 131/200\n",
      "8/8 [==============================] - 0s 8ms/step - loss: 0.2435 - accuracy: 0.9284 - val_loss: 0.3194 - val_accuracy: 0.9496\n",
      "Epoch 132/200\n",
      "8/8 [==============================] - 0s 8ms/step - loss: 0.2173 - accuracy: 0.9284 - val_loss: 0.3495 - val_accuracy: 0.9580\n",
      "Epoch 133/200\n",
      "8/8 [==============================] - 0s 8ms/step - loss: 0.2237 - accuracy: 0.9221 - val_loss: 0.3072 - val_accuracy: 0.9496\n",
      "Epoch 134/200\n",
      "8/8 [==============================] - 0s 8ms/step - loss: 0.2055 - accuracy: 0.9368 - val_loss: 0.3038 - val_accuracy: 0.9496\n",
      "Epoch 135/200\n",
      "8/8 [==============================] - 0s 8ms/step - loss: 0.2037 - accuracy: 0.9389 - val_loss: 0.3260 - val_accuracy: 0.9580\n",
      "Epoch 136/200\n",
      "8/8 [==============================] - 0s 8ms/step - loss: 0.2088 - accuracy: 0.9326 - val_loss: 0.3146 - val_accuracy: 0.9496\n",
      "Epoch 137/200\n",
      "8/8 [==============================] - 0s 8ms/step - loss: 0.1861 - accuracy: 0.9347 - val_loss: 0.3243 - val_accuracy: 0.9496\n",
      "Epoch 138/200\n",
      "8/8 [==============================] - 0s 8ms/step - loss: 0.1780 - accuracy: 0.9453 - val_loss: 0.3308 - val_accuracy: 0.9496\n",
      "Epoch 139/200\n",
      "8/8 [==============================] - 0s 8ms/step - loss: 0.2208 - accuracy: 0.9263 - val_loss: 0.3333 - val_accuracy: 0.9496\n",
      "Epoch 140/200\n",
      "8/8 [==============================] - 0s 8ms/step - loss: 0.1822 - accuracy: 0.9305 - val_loss: 0.3393 - val_accuracy: 0.9496\n",
      "Epoch 141/200\n",
      "8/8 [==============================] - 0s 8ms/step - loss: 0.1980 - accuracy: 0.9389 - val_loss: 0.3160 - val_accuracy: 0.9496\n",
      "Epoch 142/200\n",
      "8/8 [==============================] - 0s 8ms/step - loss: 0.2140 - accuracy: 0.9368 - val_loss: 0.3154 - val_accuracy: 0.9496\n",
      "Epoch 143/200\n",
      "8/8 [==============================] - 0s 8ms/step - loss: 0.1961 - accuracy: 0.9474 - val_loss: 0.3325 - val_accuracy: 0.9496\n",
      "Epoch 144/200\n",
      "8/8 [==============================] - 0s 8ms/step - loss: 0.1849 - accuracy: 0.9432 - val_loss: 0.3140 - val_accuracy: 0.9496\n",
      "Epoch 145/200\n",
      "8/8 [==============================] - 0s 8ms/step - loss: 0.1885 - accuracy: 0.9432 - val_loss: 0.3141 - val_accuracy: 0.9496\n",
      "Epoch 146/200\n",
      "8/8 [==============================] - 0s 8ms/step - loss: 0.2023 - accuracy: 0.9347 - val_loss: 0.3237 - val_accuracy: 0.9580\n",
      "Epoch 147/200\n",
      "8/8 [==============================] - 0s 7ms/step - loss: 0.2033 - accuracy: 0.9389 - val_loss: 0.3193 - val_accuracy: 0.9496\n",
      "Epoch 148/200\n",
      "8/8 [==============================] - 0s 8ms/step - loss: 0.1956 - accuracy: 0.9432 - val_loss: 0.3200 - val_accuracy: 0.9496\n",
      "Epoch 149/200\n",
      "8/8 [==============================] - 0s 8ms/step - loss: 0.2017 - accuracy: 0.9368 - val_loss: 0.3305 - val_accuracy: 0.9496\n",
      "Epoch 150/200\n",
      "8/8 [==============================] - 0s 8ms/step - loss: 0.1823 - accuracy: 0.9432 - val_loss: 0.3165 - val_accuracy: 0.9496\n",
      "Epoch 151/200\n",
      "8/8 [==============================] - 0s 8ms/step - loss: 0.1815 - accuracy: 0.9453 - val_loss: 0.3242 - val_accuracy: 0.9496\n",
      "Epoch 152/200\n",
      "8/8 [==============================] - 0s 7ms/step - loss: 0.1821 - accuracy: 0.9495 - val_loss: 0.3361 - val_accuracy: 0.9496\n",
      "Epoch 153/200\n",
      "8/8 [==============================] - 0s 8ms/step - loss: 0.1604 - accuracy: 0.9516 - val_loss: 0.3307 - val_accuracy: 0.9496\n",
      "Epoch 154/200\n",
      "8/8 [==============================] - 0s 8ms/step - loss: 0.1807 - accuracy: 0.9453 - val_loss: 0.3316 - val_accuracy: 0.9496\n",
      "Epoch 155/200\n",
      "8/8 [==============================] - 0s 8ms/step - loss: 0.1973 - accuracy: 0.9453 - val_loss: 0.3375 - val_accuracy: 0.9496\n",
      "Epoch 156/200\n",
      "8/8 [==============================] - 0s 8ms/step - loss: 0.1884 - accuracy: 0.9411 - val_loss: 0.3470 - val_accuracy: 0.9580\n",
      "Epoch 157/200\n",
      "8/8 [==============================] - 0s 8ms/step - loss: 0.1689 - accuracy: 0.9474 - val_loss: 0.3289 - val_accuracy: 0.9580\n",
      "Epoch 158/200\n",
      "8/8 [==============================] - 0s 8ms/step - loss: 0.2169 - accuracy: 0.9326 - val_loss: 0.3329 - val_accuracy: 0.9496\n",
      "Epoch 159/200\n",
      "8/8 [==============================] - 0s 8ms/step - loss: 0.1829 - accuracy: 0.9368 - val_loss: 0.3498 - val_accuracy: 0.9580\n",
      "Epoch 160/200\n",
      "8/8 [==============================] - 0s 8ms/step - loss: 0.1906 - accuracy: 0.9368 - val_loss: 0.3177 - val_accuracy: 0.9580\n",
      "Epoch 161/200\n",
      "8/8 [==============================] - 0s 8ms/step - loss: 0.2053 - accuracy: 0.9347 - val_loss: 0.3227 - val_accuracy: 0.9496\n",
      "Epoch 162/200\n",
      "8/8 [==============================] - 0s 8ms/step - loss: 0.1916 - accuracy: 0.9453 - val_loss: 0.3158 - val_accuracy: 0.9496\n",
      "Epoch 163/200\n",
      "8/8 [==============================] - 0s 8ms/step - loss: 0.1694 - accuracy: 0.9432 - val_loss: 0.3004 - val_accuracy: 0.9496\n",
      "Epoch 164/200\n",
      "8/8 [==============================] - 0s 8ms/step - loss: 0.1826 - accuracy: 0.9474 - val_loss: 0.3201 - val_accuracy: 0.9496\n",
      "Epoch 165/200\n",
      "8/8 [==============================] - 0s 8ms/step - loss: 0.1848 - accuracy: 0.9432 - val_loss: 0.3150 - val_accuracy: 0.9496\n",
      "Epoch 166/200\n",
      "8/8 [==============================] - 0s 7ms/step - loss: 0.1837 - accuracy: 0.9432 - val_loss: 0.2988 - val_accuracy: 0.9580\n",
      "Epoch 167/200\n",
      "8/8 [==============================] - 0s 8ms/step - loss: 0.2197 - accuracy: 0.9284 - val_loss: 0.3383 - val_accuracy: 0.9496\n",
      "Epoch 168/200\n",
      "8/8 [==============================] - 0s 8ms/step - loss: 0.2029 - accuracy: 0.9432 - val_loss: 0.3246 - val_accuracy: 0.9580\n",
      "Epoch 169/200\n",
      "8/8 [==============================] - 0s 8ms/step - loss: 0.1895 - accuracy: 0.9389 - val_loss: 0.3167 - val_accuracy: 0.9496\n",
      "Epoch 170/200\n",
      "8/8 [==============================] - 0s 8ms/step - loss: 0.1996 - accuracy: 0.9347 - val_loss: 0.3184 - val_accuracy: 0.9580\n",
      "Epoch 171/200\n",
      "8/8 [==============================] - 0s 8ms/step - loss: 0.1784 - accuracy: 0.9474 - val_loss: 0.3276 - val_accuracy: 0.9496\n",
      "Epoch 172/200\n",
      "8/8 [==============================] - 0s 8ms/step - loss: 0.1839 - accuracy: 0.9432 - val_loss: 0.3224 - val_accuracy: 0.9328\n",
      "Epoch 173/200\n",
      "8/8 [==============================] - 0s 8ms/step - loss: 0.1834 - accuracy: 0.9432 - val_loss: 0.3168 - val_accuracy: 0.9496\n",
      "Epoch 174/200\n",
      "8/8 [==============================] - 0s 8ms/step - loss: 0.1712 - accuracy: 0.9432 - val_loss: 0.3194 - val_accuracy: 0.9496\n",
      "Epoch 175/200\n",
      "8/8 [==============================] - 0s 8ms/step - loss: 0.1708 - accuracy: 0.9453 - val_loss: 0.3269 - val_accuracy: 0.9496\n",
      "Epoch 176/200\n",
      "8/8 [==============================] - 0s 8ms/step - loss: 0.1733 - accuracy: 0.9453 - val_loss: 0.3292 - val_accuracy: 0.9496\n",
      "Epoch 177/200\n",
      "8/8 [==============================] - 0s 8ms/step - loss: 0.1691 - accuracy: 0.9558 - val_loss: 0.3228 - val_accuracy: 0.9496\n",
      "Epoch 178/200\n",
      "8/8 [==============================] - 0s 8ms/step - loss: 0.1905 - accuracy: 0.9326 - val_loss: 0.3203 - val_accuracy: 0.9496\n",
      "Epoch 179/200\n",
      "8/8 [==============================] - 0s 8ms/step - loss: 0.1573 - accuracy: 0.9495 - val_loss: 0.3215 - val_accuracy: 0.9496\n",
      "Epoch 180/200\n",
      "8/8 [==============================] - 0s 8ms/step - loss: 0.1947 - accuracy: 0.9453 - val_loss: 0.3335 - val_accuracy: 0.9496\n",
      "Epoch 181/200\n",
      "8/8 [==============================] - 0s 8ms/step - loss: 0.1679 - accuracy: 0.9474 - val_loss: 0.3353 - val_accuracy: 0.9496\n",
      "Epoch 182/200\n",
      "8/8 [==============================] - 0s 8ms/step - loss: 0.2159 - accuracy: 0.9453 - val_loss: 0.3371 - val_accuracy: 0.9496\n",
      "Epoch 183/200\n",
      "8/8 [==============================] - 0s 8ms/step - loss: 0.1917 - accuracy: 0.9411 - val_loss: 0.3465 - val_accuracy: 0.9580\n",
      "Epoch 184/200\n",
      "8/8 [==============================] - 0s 8ms/step - loss: 0.2059 - accuracy: 0.9411 - val_loss: 0.3104 - val_accuracy: 0.9580\n",
      "Epoch 185/200\n",
      "8/8 [==============================] - 0s 8ms/step - loss: 0.1779 - accuracy: 0.9474 - val_loss: 0.2803 - val_accuracy: 0.9580\n",
      "Epoch 186/200\n",
      "8/8 [==============================] - 0s 8ms/step - loss: 0.1873 - accuracy: 0.9432 - val_loss: 0.3205 - val_accuracy: 0.9580\n",
      "Epoch 187/200\n",
      "8/8 [==============================] - 0s 8ms/step - loss: 0.1788 - accuracy: 0.9411 - val_loss: 0.3256 - val_accuracy: 0.9496\n",
      "Epoch 188/200\n",
      "8/8 [==============================] - 0s 8ms/step - loss: 0.1737 - accuracy: 0.9495 - val_loss: 0.2996 - val_accuracy: 0.9580\n",
      "Epoch 189/200\n",
      "8/8 [==============================] - 0s 8ms/step - loss: 0.1956 - accuracy: 0.9411 - val_loss: 0.3020 - val_accuracy: 0.9580\n",
      "Epoch 190/200\n",
      "8/8 [==============================] - 0s 8ms/step - loss: 0.1525 - accuracy: 0.9537 - val_loss: 0.3127 - val_accuracy: 0.9580\n",
      "Epoch 191/200\n",
      "8/8 [==============================] - 0s 8ms/step - loss: 0.1496 - accuracy: 0.9558 - val_loss: 0.3236 - val_accuracy: 0.9496\n",
      "Epoch 192/200\n",
      "8/8 [==============================] - 0s 8ms/step - loss: 0.1849 - accuracy: 0.9474 - val_loss: 0.3323 - val_accuracy: 0.9580\n",
      "Epoch 193/200\n",
      "8/8 [==============================] - 0s 8ms/step - loss: 0.1665 - accuracy: 0.9495 - val_loss: 0.3268 - val_accuracy: 0.9496\n",
      "Epoch 194/200\n",
      "8/8 [==============================] - 0s 8ms/step - loss: 0.1714 - accuracy: 0.9432 - val_loss: 0.2982 - val_accuracy: 0.9580\n",
      "Epoch 195/200\n",
      "8/8 [==============================] - 0s 8ms/step - loss: 0.1879 - accuracy: 0.9432 - val_loss: 0.3493 - val_accuracy: 0.9496\n",
      "Epoch 196/200\n",
      "8/8 [==============================] - 0s 8ms/step - loss: 0.1936 - accuracy: 0.9453 - val_loss: 0.3204 - val_accuracy: 0.9580\n",
      "Epoch 197/200\n",
      "8/8 [==============================] - 0s 8ms/step - loss: 0.2001 - accuracy: 0.9411 - val_loss: 0.3177 - val_accuracy: 0.9496\n",
      "Epoch 198/200\n",
      "8/8 [==============================] - 0s 8ms/step - loss: 0.1996 - accuracy: 0.9411 - val_loss: 0.3262 - val_accuracy: 0.9496\n",
      "Epoch 199/200\n",
      "8/8 [==============================] - 0s 8ms/step - loss: 0.1822 - accuracy: 0.9453 - val_loss: 0.3075 - val_accuracy: 0.9580\n",
      "Epoch 200/200\n",
      "8/8 [==============================] - 0s 7ms/step - loss: 0.1693 - accuracy: 0.9474 - val_loss: 0.2895 - val_accuracy: 0.9580\n"
     ]
    },
    {
     "data": {
      "text/plain": [
       "<keras.callbacks.History at 0x21057b794c0>"
      ]
     },
     "execution_count": 277,
     "metadata": {},
     "output_type": "execute_result"
    }
   ],
   "source": [
    "model_2.compile(loss=\"sparse_categorical_crossentropy\",\n",
    "               optimizer=tf.keras.optimizers.Adam(learning_rate=0.001),\n",
    "               metrics=[\"accuracy\"])\n",
    "\n",
    "history= model_2.fit(X_train_scaled, y_train, epochs=200, batch_size=64, validation_split=0.20, shuffle = True) #validation_split=0.33\n",
    "history"
   ]
  },
  {
   "cell_type": "code",
   "execution_count": 278,
   "id": "danish-clark",
   "metadata": {},
   "outputs": [
    {
     "name": "stdout",
     "output_type": "stream",
     "text": [
      "Validation accuracy :  95.24369776248932 %\n"
     ]
    }
   ],
   "source": [
    "print('Validation accuracy : ', (np.mean(history.history['val_accuracy'][-50:]))*100, '%') # Mean of last 50 values"
   ]
  },
  {
   "cell_type": "code",
   "execution_count": 279,
   "id": "eastern-prospect",
   "metadata": {},
   "outputs": [],
   "source": [
    "# model_2.save('7_layer_saved_model.h5')"
   ]
  },
  {
   "cell_type": "code",
   "execution_count": 280,
   "id": "narrow-lounge",
   "metadata": {
    "scrolled": true
   },
   "outputs": [
    {
     "name": "stdout",
     "output_type": "stream",
     "text": [
      "3/3 [==============================] - 0s 2ms/step - loss: 0.1560 - accuracy: 0.9552\n",
      "Loss: 0.15598048269748688, Accuracy: 0.9552238583564758\n",
      "Test accuracy :  95.52238583564758 %\n"
     ]
    }
   ],
   "source": [
    "loss, accuracy= model_2.evaluate(X_test_scaled, y_test)\n",
    "print(f'Loss: {loss}, Accuracy: {accuracy}')\n",
    "print('Test accuracy : ',accuracy*100,'%')"
   ]
  },
  {
   "cell_type": "markdown",
   "id": "smaller-bedroom",
   "metadata": {},
   "source": [
    "#### Note\n",
    "1. 30x30 image size gives accuracy of 88-98%\n",
    "2. 40x40 image size gives accuracy of 98.88%\n",
    "3. 35x35 image gives accuracy of 96.66 - 98%"
   ]
  },
  {
   "cell_type": "code",
   "execution_count": 281,
   "id": "bronze-details",
   "metadata": {
    "scrolled": true
   },
   "outputs": [
    {
     "data": {
      "image/png": "[encoded data removed]",
      "text/plain": [
       "<Figure size 576x360 with 1 Axes>"
      ]
     },
     "metadata": {
      "needs_background": "light"
     },
     "output_type": "display_data"
    }
   ],
   "source": [
    "pd.DataFrame(history.history).plot(figsize=(8,5))\n",
    "plt.xlabel('epoch')\n",
    "plt.ylabel('accuracy')\n",
    "# plt.savefig('full_img_acc_loss.pdf', bbox_inches = 'tight', pad_inches = 0, dpi= 100)\n",
    "plt.show()"
   ]
  },
  {
   "cell_type": "code",
   "execution_count": 282,
   "id": "threatened-camera",
   "metadata": {},
   "outputs": [
    {
     "name": "stdout",
     "output_type": "stream",
     "text": [
      "3/3 [==============================] - 0s 2ms/step\n"
     ]
    }
   ],
   "source": [
    "y_pred = model_2.predict(X_test_scaled)\n",
    "# y_pred[:10]"
   ]
  },
  {
   "cell_type": "code",
   "execution_count": 283,
   "id": "olive-heath",
   "metadata": {},
   "outputs": [
    {
     "data": {
      "text/plain": [
       "array([[9.93388216e-09, 9.02164519e-01, 8.14973777e-09, 1.45244685e-05,\n",
       "        2.14099682e-10, 1.64587334e-06, 9.78193507e-02],\n",
       "       [9.99996543e-01, 1.70748740e-06, 1.00503871e-06, 8.59802138e-14,\n",
       "        1.78647860e-11, 8.16845215e-07, 3.65722030e-08],\n",
       "       [4.10975503e-07, 2.54846582e-05, 1.39121203e-05, 2.21036917e-05,\n",
       "        9.95238224e-06, 3.71009818e-08, 9.99928117e-01],\n",
       "       [2.34308658e-07, 4.76320565e-07, 1.18649751e-12, 1.45060353e-11,\n",
       "        8.45304549e-10, 9.99998927e-01, 3.58195763e-07],\n",
       "       [2.74551530e-06, 8.57074916e-01, 2.85625651e-06, 6.35785749e-04,\n",
       "        2.96148812e-07, 1.69535662e-04, 1.42113835e-01],\n",
       "       [2.35292916e-07, 1.43309819e-06, 8.68782303e-12, 2.45850229e-10,\n",
       "        5.83891513e-09, 9.99994636e-01, 3.69778763e-06],\n",
       "       [8.86888856e-08, 9.08450663e-01, 5.07697138e-08, 6.50102447e-06,\n",
       "        5.08124820e-10, 6.07985248e-06, 9.15367082e-02],\n",
       "       [5.58737447e-08, 7.01800618e-09, 1.08817017e-04, 1.81829193e-04,\n",
       "        9.99390960e-01, 3.73326836e-09, 3.18386941e-04],\n",
       "       [9.99948978e-01, 2.36026972e-05, 1.10391875e-05, 2.45474353e-11,\n",
       "        1.91176563e-09, 1.56622664e-05, 7.18454487e-07],\n",
       "       [9.99822438e-01, 7.62731215e-05, 4.16131807e-05, 4.98735331e-10,\n",
       "        3.94990316e-08, 5.94212870e-05, 2.97740200e-07],\n",
       "       [1.84364442e-03, 1.54556092e-05, 8.32608104e-01, 1.46220782e-06,\n",
       "        1.04864768e-04, 9.02957709e-07, 1.65425494e-01],\n",
       "       [2.19443681e-08, 1.39809959e-03, 7.11263795e-07, 8.83363247e-01,\n",
       "        5.53612772e-05, 1.49786592e-05, 1.15167573e-01],\n",
       "       [7.50005924e-08, 9.07396138e-01, 4.49178401e-08, 6.38767460e-06,\n",
       "        4.50860294e-10, 5.25209362e-06, 9.25921351e-02],\n",
       "       [5.54759882e-09, 4.92578489e-04, 3.05411533e-07, 9.23921764e-01,\n",
       "        4.54292676e-05, 4.11236670e-06, 7.55358338e-02],\n",
       "       [9.99989629e-01, 4.48537457e-06, 3.77370111e-06, 8.13899349e-13,\n",
       "        8.95460997e-11, 1.75923060e-06, 2.79575772e-07],\n",
       "       [2.55719734e-09, 2.76937993e-04, 1.93784743e-07, 9.33630228e-01,\n",
       "        4.51109081e-05, 1.92211883e-06, 6.60455674e-02],\n",
       "       [3.89203569e-03, 5.80106025e-05, 7.99267113e-01, 5.22852770e-06,\n",
       "        2.23153649e-04, 3.88562330e-06, 1.96550593e-01],\n",
       "       [9.97147989e-03, 1.16247778e-04, 8.23530614e-01, 3.94092012e-06,\n",
       "        1.06454740e-04, 5.71428200e-06, 1.66265592e-01],\n",
       "       [1.11988685e-08, 3.43846565e-04, 6.20161629e-08, 3.85751738e-03,\n",
       "        2.14872543e-05, 2.80169817e-03, 9.92975354e-01],\n",
       "       [2.84996617e-07, 5.62015089e-07, 9.71465638e-13, 1.03749483e-11,\n",
       "        5.17777987e-10, 9.99998927e-01, 2.51218609e-07],\n",
       "       [3.30625731e-08, 4.66936756e-09, 7.17717412e-05, 1.68442188e-04,\n",
       "        9.99497652e-01, 2.14506257e-09, 2.62143352e-04],\n",
       "       [8.48334381e-08, 1.97728994e-07, 2.50286283e-13, 4.49375433e-12,\n",
       "        3.08722242e-10, 9.99999523e-01, 1.92830768e-07],\n",
       "       [7.92044048e-08, 1.76460819e-08, 1.02715421e-04, 4.07291256e-04,\n",
       "        9.99014974e-01, 6.75941436e-09, 4.74924105e-04],\n",
       "       [1.17246396e-04, 2.76508563e-05, 3.48199951e-03, 1.45942029e-02,\n",
       "        9.74199831e-01, 5.62359673e-05, 7.52283633e-03],\n",
       "       [6.00675605e-07, 8.66086602e-01, 6.64323238e-07, 4.54624649e-04,\n",
       "        7.01370411e-08, 5.18994893e-05, 1.33405551e-01],\n",
       "       [7.75717712e-09, 6.45759632e-04, 3.67755177e-07, 9.19257104e-01,\n",
       "        4.61054660e-05, 5.65533310e-06, 8.00450519e-02],\n",
       "       [6.41728093e-08, 1.32488198e-08, 9.66643129e-05, 3.25490924e-04,\n",
       "        9.99160409e-01, 4.96453767e-09, 4.17331874e-04],\n",
       "       [1.44702184e-03, 1.05498148e-05, 8.19118142e-01, 1.32809737e-06,\n",
       "        1.25802791e-04, 7.31697753e-07, 1.79296345e-01],\n",
       "       [7.34007557e-08, 9.83237505e-01, 1.28877502e-07, 2.64360078e-05,\n",
       "        2.50795429e-09, 1.67101257e-06, 1.67340804e-02],\n",
       "       [9.99997854e-01, 9.18013541e-07, 4.48962879e-07, 3.71822358e-14,\n",
       "        9.94345405e-12, 7.43960527e-07, 1.81897946e-08],\n",
       "       [1.20187224e-07, 8.85478199e-01, 1.10409225e-07, 9.83667996e-05,\n",
       "        6.47937037e-09, 1.67692669e-05, 1.14406437e-01],\n",
       "       [6.25461682e-09, 2.36174019e-04, 3.51051881e-08, 2.69901892e-03,\n",
       "        1.60180280e-05, 2.51160678e-03, 9.94537055e-01],\n",
       "       [6.46818421e-08, 8.89408103e-09, 1.14426082e-04, 2.03882490e-04,\n",
       "        9.99330759e-01, 4.34909575e-09, 3.50813585e-04],\n",
       "       [5.96480956e-03, 7.34962377e-05, 8.33596408e-01, 3.91835874e-06,\n",
       "        1.27636653e-04, 3.92909760e-06, 1.60229936e-01],\n",
       "       [1.54115751e-01, 4.26542610e-02, 7.94819474e-01, 3.79900535e-04,\n",
       "        9.40314378e-04, 3.98669217e-04, 6.69166539e-03],\n",
       "       [9.99977231e-01, 8.94543155e-06, 3.32097420e-06, 5.05862800e-12,\n",
       "        5.86822924e-10, 1.03335778e-05, 1.94481387e-07],\n",
       "       [6.52870913e-09, 1.14109469e-06, 2.28777067e-12, 3.46118467e-10,\n",
       "        1.21636408e-08, 9.99996901e-01, 1.92246262e-06],\n",
       "       [6.98214748e-08, 9.33834876e-09, 1.25199964e-04, 2.23402851e-04,\n",
       "        9.99286234e-01, 4.82451368e-09, 3.65167914e-04],\n",
       "       [3.86156002e-03, 4.98712252e-05, 8.18620503e-01, 3.84001623e-06,\n",
       "        1.64215482e-04, 3.02990247e-06, 1.77297041e-01],\n",
       "       [3.63386121e-09, 3.98919161e-04, 2.17519002e-07, 9.26519036e-01,\n",
       "        3.87576947e-05, 3.02806325e-06, 7.30399787e-02],\n",
       "       [1.39854164e-08, 2.27760919e-03, 3.15464035e-07, 8.83504093e-01,\n",
       "        3.94021481e-05, 2.58944128e-05, 1.14152730e-01],\n",
       "       [1.40249938e-07, 1.83881070e-06, 1.95707964e-11, 1.05560116e-09,\n",
       "        1.90806766e-08, 9.99976873e-01, 2.10405415e-05],\n",
       "       [6.54329710e-08, 8.89855027e-01, 5.59008946e-08, 4.90694438e-05,\n",
       "        2.30433228e-09, 8.74318357e-06, 1.10087015e-01],\n",
       "       [5.17422798e-08, 1.00756630e-08, 8.45527902e-05, 2.89371790e-04,\n",
       "        9.99256670e-01, 3.91610078e-09, 3.69284302e-04],\n",
       "       [3.50863729e-08, 3.76870837e-08, 1.72458957e-14, 4.70531925e-13,\n",
       "        5.24505474e-11, 9.99999881e-01, 2.50303724e-08],\n",
       "       [1.38358978e-08, 1.26984622e-03, 3.58978070e-07, 8.84383678e-01,\n",
       "        6.57958008e-05, 2.05788856e-05, 1.14259779e-01],\n",
       "       [9.61635355e-03, 1.66179758e-04, 8.00266862e-01, 7.25145946e-06,\n",
       "        1.77166366e-04, 8.85365716e-06, 1.89757302e-01],\n",
       "       [5.61228859e-08, 7.36547046e-09, 1.07993284e-04, 1.92093736e-04,\n",
       "        9.99378800e-01, 3.74659059e-09, 3.21041851e-04],\n",
       "       [1.24745219e-08, 3.61659506e-04, 6.18557223e-08, 2.95789284e-03,\n",
       "        2.13814837e-05, 3.43203195e-03, 9.93226945e-01],\n",
       "       [9.99970675e-01, 1.18751987e-05, 6.20822129e-06, 1.07422083e-11,\n",
       "        1.05165976e-09, 1.07870001e-05, 3.86835552e-07],\n",
       "       [1.59682224e-06, 8.60704243e-01, 1.65660811e-06, 5.38220047e-04,\n",
       "        1.77212470e-07, 1.24890750e-04, 1.38629124e-01],\n",
       "       [3.50860553e-03, 1.41987966e-05, 8.45940113e-01, 4.24829807e-07,\n",
       "        2.82722249e-05, 6.30822626e-07, 1.50507793e-01],\n",
       "       [1.71362672e-07, 1.08476956e-06, 4.12912629e-12, 1.12878554e-10,\n",
       "        2.82933676e-09, 9.99996424e-01, 2.31072590e-06],\n",
       "       [6.91864872e-03, 8.73449535e-05, 8.15828919e-01, 3.71014835e-06,\n",
       "        1.14471783e-04, 4.42010560e-06, 1.77042544e-01],\n",
       "       [8.43674073e-08, 2.80102370e-07, 4.54650532e-13, 1.03310346e-11,\n",
       "        5.57296820e-10, 9.99999285e-01, 3.61855626e-07],\n",
       "       [8.31604297e-09, 8.55390856e-04, 3.43545906e-07, 9.11480248e-01,\n",
       "        3.71189417e-05, 7.14227372e-06, 8.76198038e-02],\n",
       "       [5.27160395e-08, 6.63341737e-09, 1.06312727e-04, 1.74704313e-04,\n",
       "        9.99405622e-01, 3.39092754e-09, 3.13376804e-04],\n",
       "       [1.36156686e-07, 1.81377311e-06, 1.87176316e-11, 1.02323539e-09,\n",
       "        1.84083593e-08, 9.99979138e-01, 1.89748826e-05],\n",
       "       [4.22258308e-05, 7.48626376e-03, 5.51496749e-04, 8.48881483e-01,\n",
       "        1.50983799e-02, 4.26172832e-04, 1.27513945e-01],\n",
       "       [9.99789774e-01, 9.79927572e-05, 5.08344347e-05, 5.80661075e-10,\n",
       "        4.09095513e-08, 6.09920680e-05, 3.78213173e-07],\n",
       "       [8.79434124e-03, 1.08583961e-04, 8.12691927e-01, 4.37418112e-06,\n",
       "        1.25312959e-04, 5.89234924e-06, 1.78269535e-01],\n",
       "       [6.87707624e-09, 9.14915930e-04, 2.75721447e-07, 9.08900499e-01,\n",
       "        2.80997920e-05, 7.30731244e-06, 9.01489034e-02],\n",
       "       [1.40282710e-08, 1.18631218e-03, 5.06946947e-07, 8.93429518e-01,\n",
       "        4.53603825e-05, 1.05011950e-05, 1.05327763e-01],\n",
       "       [9.99997497e-01, 1.16117042e-06, 6.50550589e-07, 5.23356179e-14,\n",
       "        1.27866277e-11, 7.38646747e-07, 2.31462973e-08],\n",
       "       [6.66605526e-09, 9.03891087e-01, 5.63994318e-09, 1.29467326e-05,\n",
       "        1.46302234e-10, 1.12135535e-06, 9.60948989e-02],\n",
       "       [1.94773719e-07, 8.81163180e-01, 1.75407976e-07, 1.11662266e-04,\n",
       "        1.02449542e-08, 2.33741175e-05, 1.18701421e-01],\n",
       "       [9.99995589e-01, 1.89910804e-06, 1.33656022e-06, 2.35030284e-13,\n",
       "        1.28102140e-10, 1.22989343e-06, 8.09610434e-10]], dtype=float32)"
      ]
     },
     "execution_count": 283,
     "metadata": {},
     "output_type": "execute_result"
    }
   ],
   "source": [
    "import sys\n",
    "# np.set_printoptions(threshold=sys.maxsize, suppress=True)\n",
    "y_pred"
   ]
  },
  {
   "cell_type": "code",
   "execution_count": 284,
   "id": "sonic-citation",
   "metadata": {},
   "outputs": [
    {
     "data": {
      "text/plain": [
       "array([9.9999654e-01, 1.7074874e-06, 1.0050387e-06, 8.5980214e-14,\n",
       "       1.7864786e-11, 8.1684522e-07, 3.6572203e-08], dtype=float32)"
      ]
     },
     "execution_count": 284,
     "metadata": {},
     "output_type": "execute_result"
    }
   ],
   "source": [
    "y_pred[1]"
   ]
  },
  {
   "cell_type": "code",
   "execution_count": 285,
   "id": "minus-consideration",
   "metadata": {},
   "outputs": [],
   "source": [
    "# for i in y_pred:\n",
    "#     max_value= np.max(i)\n",
    "#     if max_value <=0.10:\n",
    "#         print('Anomaly detected')"
   ]
  },
  {
   "cell_type": "code",
   "execution_count": 286,
   "id": "public-triple",
   "metadata": {},
   "outputs": [
    {
     "data": {
      "text/plain": [
       "[1, 0, 6, 5, 1, 5, 1, 4, 0, 0]"
      ]
     },
     "execution_count": 286,
     "metadata": {},
     "output_type": "execute_result"
    }
   ],
   "source": [
    "y_pred_class = [np.argmax(i) for i in y_pred]\n",
    "y_pred_class[:10]"
   ]
  },
  {
   "cell_type": "code",
   "execution_count": 287,
   "id": "apart-spyware",
   "metadata": {},
   "outputs": [
    {
     "data": {
      "text/plain": [
       "array([1, 0, 6, 5, 1, 5, 1, 4, 0, 0], dtype=int64)"
      ]
     },
     "execution_count": 287,
     "metadata": {},
     "output_type": "execute_result"
    }
   ],
   "source": [
    "y_test[:10]"
   ]
  },
  {
   "cell_type": "code",
   "execution_count": 288,
   "id": "rental-zambia",
   "metadata": {},
   "outputs": [
    {
     "name": "stdout",
     "output_type": "stream",
     "text": [
      "3/3 [==============================] - 0s 2ms/step - loss: 0.1560 - accuracy: 0.9552\n",
      "Loss: 0.15598048269748688, Accuracy: 0.9552238583564758\n",
      "Test accuracy :  95.52238583564758 %\n"
     ]
    }
   ],
   "source": [
    "loss, accuracy= model_2.evaluate(X_test_scaled, y_test)\n",
    "print(f'Loss: {loss}, Accuracy: {accuracy}')\n",
    "print('Test accuracy : ',accuracy*100,'%')"
   ]
  },
  {
   "cell_type": "code",
   "execution_count": 289,
   "id": "prescribed-thunder",
   "metadata": {},
   "outputs": [
    {
     "data": {
      "image/png": "[encoded data removed]",
      "text/plain": [
       "<Figure size 360x360 with 2 Axes>"
      ]
     },
     "metadata": {
      "needs_background": "light"
     },
     "output_type": "display_data"
    }
   ],
   "source": [
    "#Confusion matrix\n",
    "import seaborn as sns\n",
    "cm=confusion_matrix(y_test,y_pred_class)\n",
    "#Plot\n",
    "disp=ConfusionMatrixDisplay(confusion_matrix=cm,display_labels=devices_label_dict)\n",
    "fig, ax = plt.subplots(figsize=(5,5))\n",
    "sns.heatmap(cm, annot=True, linewidths=0.01,cmap=\"Greens\",linecolor=\"gray\", fmt= '.1f',ax=ax)\n",
    "# disp.plot(ax=ax)\n",
    "plt.xlabel(\"Predicted Label\")\n",
    "plt.ylabel(\"True Label\")\n",
    "plt.title(\"Confusion Matrix\")\n",
    "# plt.savefig('conf_m_full_img.pdf',bbox_inches = 'tight', pad_inches = 0, dpi= 100)\n",
    "plt.show()"
   ]
  },
  {
   "cell_type": "code",
   "execution_count": 290,
   "id": "renewable-gazette",
   "metadata": {},
   "outputs": [
    {
     "data": {
      "image/png": "[encoded data removed]",
      "text/plain": [
       "<Figure size 432x432 with 2 Axes>"
      ]
     },
     "metadata": {
      "needs_background": "light"
     },
     "output_type": "display_data"
    }
   ],
   "source": [
    "clf_report= classification_report(y_test, y_pred_class,output_dict=True)\n",
    "\n",
    " #.iloc[:-1, :] to exclude support\n",
    "fig, ax = plt.subplots(figsize=(6,6))\n",
    "\n",
    "# sns.heatmap(pd.DataFrame(clf_report).iloc[:-1, :].T, annot=True, cmap=\"Blues\",linecolor=\"black\", fmt= '.2f')\n",
    "ax = sns.heatmap(pd.DataFrame(clf_report).iloc[:-1, :].T, annot=True,linewidths=0.01,linecolor=\"black\", fmt= '.2f')# cmap=\"Blues\",\n",
    "ax.set(xlabel=\"\", ylabel=\"\")\n",
    "ax.xaxis.tick_top()\n",
    "# plt.savefig('clf_full_img.pdf',bbox_inches = 'tight', pad_inches = 0, dpi= 100)\n"
   ]
  },
  {
   "cell_type": "code",
   "execution_count": 291,
   "id": "05e9268d",
   "metadata": {},
   "outputs": [],
   "source": [
    "# import tensorflow as tf\n",
    "# from tensorflow.python.client import device_lib\n",
    "\n",
    "# print(\"Num GPUs Available: \", len(tf.config.list_physical_devices('GPU')))\n",
    "# device_lib.list_local_devices()\n"
   ]
  }
 ],
 "metadata": {
  "kernelspec": {
   "display_name": "Python 3 (ipykernel)",
   "language": "python",
   "name": "python3"
  },
  "language_info": {
   "codemirror_mode": {
    "name": "ipython",
    "version": 3
   },
   "file_extension": ".py",
   "mimetype": "text/x-python",
   "name": "python",
   "nbconvert_exporter": "python",
   "pygments_lexer": "ipython3",
   "version": "3.8.0"
  }
 },
 "nbformat": 4,
 "nbformat_minor": 5
}
